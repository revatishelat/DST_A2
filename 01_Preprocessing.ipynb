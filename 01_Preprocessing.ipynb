{
 "cells": [
  {
   "cell_type": "code",
   "execution_count": 9,
   "id": "33c9fc7f",
   "metadata": {
    "scrolled": true
   },
   "outputs": [],
   "source": [
    "#!pip install pandas\n",
    "#!pip install nltk"
   ]
  },
  {
   "cell_type": "code",
   "execution_count": 10,
   "id": "f4fc8ff3",
   "metadata": {},
   "outputs": [
    {
     "name": "stderr",
     "output_type": "stream",
     "text": [
      "[nltk_data] Downloading package wordnet to\n",
      "[nltk_data]     C:\\Users\\abbie\\AppData\\Roaming\\nltk_data...\n",
      "[nltk_data]   Package wordnet is already up-to-date!\n",
      "[nltk_data] Downloading package punkt to\n",
      "[nltk_data]     C:\\Users\\abbie\\AppData\\Roaming\\nltk_data...\n",
      "[nltk_data]   Package punkt is already up-to-date!\n",
      "[nltk_data] Downloading package stopwords to\n",
      "[nltk_data]     C:\\Users\\abbie\\AppData\\Roaming\\nltk_data...\n",
      "[nltk_data]   Package stopwords is already up-to-date!\n"
     ]
    }
   ],
   "source": [
    "import pandas as pd\n",
    "import nltk\n",
    "from nltk.stem import WordNetLemmatizer\n",
    "nltk.download('wordnet')\n",
    "nltk.download('punkt')\n",
    "nltk.download('stopwords')\n",
    "from nltk.stem import WordNetLemmatizer\n",
    "en_stop = set(nltk.corpus.stopwords.words('english'))"
   ]
  },
  {
   "cell_type": "code",
   "execution_count": 11,
   "id": "ae5a381c",
   "metadata": {},
   "outputs": [],
   "source": [
    "df_labels = pd.read_csv('medical_tc_labels.csv')\n",
    "df_train = pd.read_csv('medical_tc_train.csv')\n",
    "df_test = pd.read_csv('medical_tc_train.csv')"
   ]
  },
  {
   "cell_type": "code",
   "execution_count": 12,
   "id": "b430de0a",
   "metadata": {},
   "outputs": [],
   "source": [
    "df_train['medical_abstract'] = df_train['medical_abstract'].str.lower()\n",
    "df_test['medical_abstract'] = df_test['medical_abstract'].str.lower()"
   ]
  },
  {
   "cell_type": "code",
   "execution_count": 13,
   "id": "2baf8fc7",
   "metadata": {},
   "outputs": [],
   "source": [
    "doc_sample = df_train['medical_abstract'][0]\n",
    "doc_sample_tok = nltk.word_tokenize(doc_sample)\n",
    "#print(doc_sample_tok)"
   ]
  },
  {
   "cell_type": "code",
   "execution_count": 14,
   "id": "1110b921",
   "metadata": {},
   "outputs": [],
   "source": [
    "doc_sample_proc = [tok for tok in doc_sample_tok if len(tok) > 2]\n",
    "#print(doc_sample_proc)"
   ]
  },
  {
   "cell_type": "code",
   "execution_count": 15,
   "id": "d19d8101",
   "metadata": {},
   "outputs": [],
   "source": [
    "doc_sample_proc = [tok for tok in doc_sample_proc if tok not in en_stop]\n",
    "#print(doc_sample_proc)"
   ]
  },
  {
   "cell_type": "code",
   "execution_count": 16,
   "id": "e334ad57",
   "metadata": {},
   "outputs": [],
   "source": [
    "lemmatizer = WordNetLemmatizer()\n",
    "doc_sample_lem = [lemmatizer.lemmatize(tok) for tok in doc_sample_proc]\n",
    "#print(doc_sample_lem)"
   ]
  },
  {
   "cell_type": "code",
   "execution_count": 17,
   "id": "6914d0a4",
   "metadata": {},
   "outputs": [],
   "source": [
    "#Need to check for special characters too\n",
    "import re"
   ]
  },
  {
   "cell_type": "code",
   "execution_count": 18,
   "id": "63752b6d",
   "metadata": {},
   "outputs": [],
   "source": [
    "docy = df_train['medical_abstract'][9]\n",
    "#print(docy)"
   ]
  },
  {
   "cell_type": "code",
   "execution_count": 19,
   "id": "c51c9cca",
   "metadata": {
    "scrolled": false
   },
   "outputs": [],
   "source": [
    "docy_clean = re.sub(r'\\b[^a-zA-Z]+\\b', ' ', docy)\n",
    "#print(docy_clean)"
   ]
  },
  {
   "cell_type": "code",
   "execution_count": 20,
   "id": "2a04ddd2",
   "metadata": {},
   "outputs": [],
   "source": [
    "def preprocess(data):\n",
    "    data_proc = []\n",
    "    for doc in data['medical_abstract']:\n",
    "        #lowercases document\n",
    "        doc = doc.lower()\n",
    "        #removes any non-letter characters\n",
    "        doc = re.sub(r'\\b[^a-zA-Z]+\\b', ' ', doc)\n",
    "        #tokenize\n",
    "        toks = nltk.word_tokenize(doc)\n",
    "        #remove tokens of lenth <= 1 (can be varied)\n",
    "        toks = [tok for tok in toks if len(tok) > 1]\n",
    "        #remove stopwords\n",
    "        toks = [tok for tok in toks if tok not in en_stop]\n",
    "        #lemmatize\n",
    "        toks = [WordNetLemmatizer().lemmatize(tok) for tok in toks]\n",
    "        data_proc.append(toks)\n",
    "    return data_proc\n"
   ]
  },
  {
   "cell_type": "code",
   "execution_count": 21,
   "id": "9c1a9746",
   "metadata": {},
   "outputs": [],
   "source": [
    "df_train_proc = preprocess(df_train)"
   ]
  },
  {
   "cell_type": "code",
   "execution_count": 22,
   "id": "94524ea3",
   "metadata": {},
   "outputs": [],
   "source": [
    "#Cell for comparison\n",
    "#docx = df_train['medical_abstract'][10]\n",
    "#print(docx)\n",
    "#docx_proc = df_train_proc[10]\n",
    "#print(docx_proc)"
   ]
  },
  {
   "cell_type": "code",
   "execution_count": 23,
   "id": "f7b6dcac",
   "metadata": {},
   "outputs": [
    {
     "name": "stdout",
     "output_type": "stream",
     "text": [
      "['sodium', 'sensitive', 'sodium', 'retaining', 'hypertension', 'difference', 'sodium', 'sensitive', 'sodium', 'retaining', 'hypertension', 'theoretically', 'considered', 'using', 'water', 'tank', 'model', 'body', 'fluid', 'volume', 'blood', 'pressure', 'regulation', 'outlet', 'valve', 'attached', 'tank', 'base', 'area', 'corresponding', 'reciprocal', 'total', 'peripheral', 'resistance', 'tpr', 'water', 'poured', 'tank', 'rate', 'corresponding', 'amount', 'na', 'intake', 'equilibrium', 'achieved', 'certain', 'water', 'level', 'volume', 'output', 'outlet', 'represent', 'mean', 'arterial', 'pressure', 'map', 'cardiac', 'output', 'co', 'urinary', 'na', 'excretion', 'height', 'outlet', 'tank', 'bottom', 'size', 'cross', 'sectional', 'area', 'outlet', 'correspond', 'intercept', 'slope', 'renal', 'function', 'pressure', 'natriuresis', 'curve', 'respectively', 'nonsodium', 'sensitive', 'hypertension', 'due', 'shift', 'curve', 'toward', 'higher', 'blood', 'pressure', 'level', 'elevated', 'height', 'outlet', 'without', 'change', 'slope', 'size', 'outlet', 'sodium', 'sensitive', 'hypertension', 'due', 'depressed', 'slope', 'curve', 'reduced', 'outlet', 'size', 'map', 'water', 'level', 'also', 'co', 'water', 'volume', 'increased', 'resulting', 'sodium', 'retaining', 'hypertension', 'tpr', 'reciprocal', 'base', 'area', 'remained', 'unchanged', 'co', 'relatively', 'unchanged', 'resulting', 'nonsodium', 'retaining', 'hypertension', 'tpr', 'elevated', 'thus', 'map', 'sensitivity', 'sodium', 'intake', 'determined', 'renal', 'function', 'curve', 'since', 'body', 'fluid', 'volume', 'determined', 'renal', 'function', 'curve', 'tpr', 'however', 'change', 'tpr', 'development', 'hypertension', 'major', 'factor', 'determining', 'whether', 'body', 'fluid', 'volume', 'change', 'small', 'amount', 'large', 'amount', 'therefore', 'sodium', 'sensitivity', 'blood', 'pressure', 'sodium', 'retention', 'must', 'considered', 'separately']\n"
     ]
    }
   ],
   "source": [
    "docx_proc = df_train_proc[10]\n",
    "print(docx_proc)"
   ]
  }
 ],
 "metadata": {
  "kernelspec": {
   "display_name": "Python 3 (ipykernel)",
   "language": "python",
   "name": "python3"
  },
  "language_info": {
   "codemirror_mode": {
    "name": "ipython",
    "version": 3
   },
   "file_extension": ".py",
   "mimetype": "text/x-python",
   "name": "python",
   "nbconvert_exporter": "python",
   "pygments_lexer": "ipython3",
   "version": "3.9.7"
  }
 },
 "nbformat": 4,
 "nbformat_minor": 5
}
