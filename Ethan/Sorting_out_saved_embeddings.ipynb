{
  "nbformat": 4,
  "nbformat_minor": 0,
  "metadata": {
    "colab": {
      "provenance": [],
      "mount_file_id": "1jWdT4E8vNAinruv09EjDhhoTt80BG22S",
      "authorship_tag": "ABX9TyPmNK/51g/cg9ao8WOAavgX",
      "include_colab_link": true
    },
    "kernelspec": {
      "name": "python3",
      "display_name": "Python 3"
    },
    "language_info": {
      "name": "python"
    }
  },
  "cells": [
    {
      "cell_type": "markdown",
      "metadata": {
        "id": "view-in-github",
        "colab_type": "text"
      },
      "source": [
        "<a href=\"https://colab.research.google.com/github/revatishelat/DST_A2/blob/main/Ethan/Sorting_out_saved_embeddings.ipynb\" target=\"_parent\"><img src=\"https://colab.research.google.com/assets/colab-badge.svg\" alt=\"Open In Colab\"/></a>"
      ]
    },
    {
      "cell_type": "code",
      "source": [
        "import numpy as np\n",
        "import pandas as pd"
      ],
      "metadata": {
        "id": "3l32dx87npEC"
      },
      "execution_count": 16,
      "outputs": []
    },
    {
      "cell_type": "code",
      "source": [
        "url = 'https://raw.githubusercontent.com/sebischair/Medical-Abstracts-TC-Corpus/main/medical_tc_train.csv'\n",
        "df_train = pd.read_csv(url)"
      ],
      "metadata": {
        "id": "HNRwbYPirr80"
      },
      "execution_count": 17,
      "outputs": []
    },
    {
      "cell_type": "markdown",
      "source": [
        "## Loading training data\n",
        "\n",
        "11550 examples"
      ],
      "metadata": {
        "id": "38JWAIEuqaqw"
      }
    },
    {
      "cell_type": "code",
      "source": [
        "first_5950 = np.load('/content/drive/MyDrive/University/Bristol/Year 4/features_TEST5950.npy')"
      ],
      "metadata": {
        "id": "f2MisEgdqdz2"
      },
      "execution_count": 6,
      "outputs": []
    },
    {
      "cell_type": "code",
      "source": [
        "# Check\n",
        "first_5950.shape"
      ],
      "metadata": {
        "colab": {
          "base_uri": "https://localhost:8080/"
        },
        "id": "tbzo6fUiq12e",
        "outputId": "ffb60167-a634-40b3-eb71-b8cf03261343"
      },
      "execution_count": 7,
      "outputs": [
        {
          "output_type": "execute_result",
          "data": {
            "text/plain": [
              "(5950, 768)"
            ]
          },
          "metadata": {},
          "execution_count": 7
        }
      ]
    },
    {
      "cell_type": "code",
      "source": [
        "features = first_5950"
      ],
      "metadata": {
        "id": "-kV9CPU_rNdj"
      },
      "execution_count": 9,
      "outputs": []
    },
    {
      "cell_type": "code",
      "source": [
        "step=350\n",
        "\n",
        "for i in range(5950, 11550, step):\n",
        "  features_temp = np.load(f'/content/drive/MyDrive/University/Bristol/Year 4/features_TEST{i+step}.npy')\n",
        "  features = np.vstack((features, features_temp))"
      ],
      "metadata": {
        "id": "cXF8Q8Jmq39P"
      },
      "execution_count": 10,
      "outputs": []
    },
    {
      "cell_type": "code",
      "source": [
        "features.shape"
      ],
      "metadata": {
        "colab": {
          "base_uri": "https://localhost:8080/"
        },
        "id": "6cd9oD9mrXhO",
        "outputId": "9354d73c-3a4c-433c-cd97-8ab4339cb513"
      },
      "execution_count": 14,
      "outputs": [
        {
          "output_type": "execute_result",
          "data": {
            "text/plain": [
              "(11550, 768)"
            ]
          },
          "metadata": {},
          "execution_count": 14
        }
      ]
    },
    {
      "cell_type": "code",
      "source": [
        "np.save('/content/drive/MyDrive/University/Bristol/Year 4/clean_embeddings/features_train.npy', features)"
      ],
      "metadata": {
        "id": "oPTiAeQtr4V9"
      },
      "execution_count": 22,
      "outputs": []
    },
    {
      "cell_type": "markdown",
      "source": [
        "## Now the test data\n",
        "\n",
        "2888 examples"
      ],
      "metadata": {
        "id": "pK91p6_asKZV"
      }
    },
    {
      "cell_type": "code",
      "source": [
        "step=350\n",
        "\n",
        "for i in range(0, 2800, step):\n",
        "  features_temp = np.load(f'/content/drive/MyDrive/University/Bristol/Year 4/features_REAL_TEST{i+step}.npy')\n",
        "  if i == 0:\n",
        "    features = features_temp\n",
        "  else:\n",
        "    features = np.vstack((features, features_temp))"
      ],
      "metadata": {
        "id": "Nipi4FlPsL3N"
      },
      "execution_count": 23,
      "outputs": []
    },
    {
      "cell_type": "code",
      "source": [
        "last_88 = np.load(f'/content/drive/MyDrive/University/Bristol/Year 4/features_REAL_TEST2888.npy')"
      ],
      "metadata": {
        "id": "yVhMM6vssdbN"
      },
      "execution_count": 24,
      "outputs": []
    },
    {
      "cell_type": "code",
      "source": [
        "last_88.shape"
      ],
      "metadata": {
        "colab": {
          "base_uri": "https://localhost:8080/"
        },
        "id": "J5_5j6kDsi7q",
        "outputId": "d042c203-f22f-4807-d1c9-76291d40485a"
      },
      "execution_count": 25,
      "outputs": [
        {
          "output_type": "execute_result",
          "data": {
            "text/plain": [
              "(88, 768)"
            ]
          },
          "metadata": {},
          "execution_count": 25
        }
      ]
    },
    {
      "cell_type": "code",
      "source": [
        "features = np.vstack((features, last_88))"
      ],
      "metadata": {
        "id": "g8v0IA-pskbC"
      },
      "execution_count": 26,
      "outputs": []
    },
    {
      "cell_type": "code",
      "source": [
        "features.shape"
      ],
      "metadata": {
        "colab": {
          "base_uri": "https://localhost:8080/"
        },
        "id": "kPbZsZFssm__",
        "outputId": "25c70a9f-4e5b-466f-e637-7e6d3258c158"
      },
      "execution_count": 27,
      "outputs": [
        {
          "output_type": "execute_result",
          "data": {
            "text/plain": [
              "(2888, 768)"
            ]
          },
          "metadata": {},
          "execution_count": 27
        }
      ]
    },
    {
      "cell_type": "code",
      "source": [
        "np.save('/content/drive/MyDrive/University/Bristol/Year 4/clean_embeddings/features_test.npy', features)"
      ],
      "metadata": {
        "id": "3XJTTK8Msn7x"
      },
      "execution_count": 28,
      "outputs": []
    },
    {
      "cell_type": "code",
      "source": [],
      "metadata": {
        "id": "70VgPWxest2T"
      },
      "execution_count": null,
      "outputs": []
    }
  ]
}