{
 "cells": [
  {
   "cell_type": "markdown",
   "id": "eee7056b",
   "metadata": {},
   "source": [
    "## Initial dataset research\n",
    "\n",
    "* https://medmnist.com/\n",
    "* https://chat.openai.com/share/7252a402-37d0-4bf8-811d-2ded18b6e92a\n",
    "* https://github.com/McGill-NLP/medal\n",
    "* https://www.kaggle.com/datasets/falgunipatel19/biomedical-text-publication-classification\n",
    "* https://www.kaggle.com/datasets/chaitanyakck/medical-text\n",
    "* https://github.com/sebischair/medical-abstracts-tc-corpus - https://dl.acm.org/doi/pdf/10.1145/3582768.3582795\n",
    "* https://github.com/rajpurkarlab/cheXpert-test-set-labels?"
   ]
  },
  {
   "cell_type": "markdown",
   "id": "04bb8f66",
   "metadata": {},
   "source": [
    "## Further research\n",
    "\n",
    "https://encord.com/blog/best-free-datasets-for-healthcare/\n",
    "\n",
    "https://arxiv.org/pdf/2010.06000.pdf combines medical images and text but may be too hard. Try to match images to captions. https://github.com/allenai/medicat/tree/master\n",
    "\n",
    "https://github.com/allenai/s2orc\n",
    "\n",
    "https://github.com/sfikas/medical-imaging-datasets\n",
    "\n",
    "https://www.oasis-brains.org/\n",
    "\n",
    "https://sites.google.com/site/aacruzr/image-datasets\n",
    "\n",
    "https://grand-challenge.org/"
   ]
  },
  {
   "cell_type": "markdown",
   "id": "e56e4f0a",
   "metadata": {},
   "source": [
    "### What about image captioning\n",
    "Take medical classification dataset but use image captioning model to generate associated caption to each image, and try classifying each data entry from only the image and also from only the caption.\n",
    "\n",
    "https://chat.openai.com/share/30344cf0-e270-48b7-8cb2-fef2c6170d75\n",
    "\n",
    "https://www.nature.com/articles/s41598-023-31223-5\n",
    "\n",
    "https://huggingface.co/nlpconnect/vit-gpt2-image-captioning\n",
    "\n",
    "https://link.springer.com/article/10.1007/s10462-022-10270-w"
   ]
  },
  {
   "cell_type": "markdown",
   "id": "dba6a776",
   "metadata": {},
   "source": [
    "## My proposal\n",
    "\n",
    "Try applying these methods (https://www.kaggle.com/datasets/falgunipatel19/biomedical-text-publication-classification/code like https://www.kaggle.com/code/sunilthite/word2vec-cancer-document-classification-project/comments) to medical abstracts dataset. "
   ]
  }
 ],
 "metadata": {
  "kernelspec": {
   "display_name": "Python 3 (ipykernel)",
   "language": "python",
   "name": "python3"
  },
  "language_info": {
   "codemirror_mode": {
    "name": "ipython",
    "version": 3
   },
   "file_extension": ".py",
   "mimetype": "text/x-python",
   "name": "python",
   "nbconvert_exporter": "python",
   "pygments_lexer": "ipython3",
   "version": "3.11.5"
  }
 },
 "nbformat": 4,
 "nbformat_minor": 5
}
