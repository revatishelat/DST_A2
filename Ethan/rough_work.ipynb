{
 "cells": [
  {
   "cell_type": "markdown",
   "id": "eee7056b",
   "metadata": {},
   "source": [
    "## Initial dataset research\n",
    "\n",
    "* https://medmnist.com/\n",
    "* https://chat.openai.com/share/7252a402-37d0-4bf8-811d-2ded18b6e92a\n",
    "* https://github.com/McGill-NLP/medal\n",
    "* https://www.kaggle.com/datasets/falgunipatel19/biomedical-text-publication-classification\n",
    "* https://www.kaggle.com/datasets/chaitanyakck/medical-text\n",
    "* https://github.com/sebischair/medical-abstracts-tc-corpus\n",
    "* https://github.com/rajpurkarlab/cheXpert-test-set-labels?"
   ]
  }
 ],
 "metadata": {
  "kernelspec": {
   "display_name": "Python 3 (ipykernel)",
   "language": "python",
   "name": "python3"
  },
  "language_info": {
   "codemirror_mode": {
    "name": "ipython",
    "version": 3
   },
   "file_extension": ".py",
   "mimetype": "text/x-python",
   "name": "python",
   "nbconvert_exporter": "python",
   "pygments_lexer": "ipython3",
   "version": "3.11.5"
  }
 },
 "nbformat": 4,
 "nbformat_minor": 5
}
