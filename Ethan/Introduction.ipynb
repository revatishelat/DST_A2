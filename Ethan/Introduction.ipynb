{
 "cells": [
  {
   "cell_type": "markdown",
   "id": "592e9f28",
   "metadata": {},
   "source": [
    "# Introduction\n",
    "\n",
    "In this project we will be looking at the medical abstracts dataset from Kaggle (https://www.kaggle.com/datasets/chaitanyakck/medical-text). Also available on GitHub [here](https://github.com/sebischair/Medical-Abstracts-TC-Corpus/tree/main) as a section of [this paper](https://dl.acm.org/doi/pdf/10.1145/3582768.3582795).\n",
    "\n",
	"We'll also make reference to this paper:https://arxiv.org/ftp/arxiv/papers/1704/1704.06841.pdf Where the author compares a CNN model with Word2vec to different embeddings and bag of word methods with logistic regression or SVM.\n",
	"\n",
	
    "It will be split into three parts:\n",
    "1. Text preprocessing.\n",
    "2. Embedding methods.\n",
    "3. Classification methods."
   ]
  }
 ],
 "metadata": {
  "kernelspec": {
   "display_name": "Python 3 (ipykernel)",
   "language": "python",
   "name": "python3"
  },
  "language_info": {
   "codemirror_mode": {
    "name": "ipython",
    "version": 3
   },
   "file_extension": ".py",
   "mimetype": "text/x-python",
   "name": "python",
   "nbconvert_exporter": "python",
   "pygments_lexer": "ipython3",
   "version": "3.11.5"
  }
 },
 "nbformat": 4,
 "nbformat_minor": 5
}
