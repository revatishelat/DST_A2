{
  "nbformat": 4,
  "nbformat_minor": 0,
  "metadata": {
    "colab": {
      "provenance": [],
      "authorship_tag": "ABX9TyNMoNgX6X0OegXsvYSOuKId",
      "include_colab_link": true
    },
    "kernelspec": {
      "name": "python3",
      "display_name": "Python 3"
    },
    "language_info": {
      "name": "python"
    }
  },
  "cells": [
    {
      "cell_type": "markdown",
      "metadata": {
        "id": "view-in-github",
        "colab_type": "text"
      },
      "source": [
        "<a href=\"https://colab.research.google.com/github/revatishelat/DST_A2/blob/main/Ethan/PubMed_BERT_expert_inference.ipynb\" target=\"_parent\"><img src=\"https://colab.research.google.com/assets/colab-badge.svg\" alt=\"Open In Colab\"/></a>"
      ]
    },
    {
      "cell_type": "code",
      "source": [
        "from google.colab import drive\n",
        "drive.mount('/content/drive')"
      ],
      "metadata": {
        "colab": {
          "base_uri": "https://localhost:8080/"
        },
        "id": "eOSVnShQMpXD",
        "outputId": "7883f5cc-cfb3-41c8-9b01-889a792d6774"
      },
      "execution_count": 1,
      "outputs": [
        {
          "output_type": "stream",
          "name": "stdout",
          "text": [
            "Mounted at /content/drive\n"
          ]
        }
      ]
    },
    {
      "cell_type": "code",
      "execution_count": 2,
      "metadata": {
        "colab": {
          "base_uri": "https://localhost:8080/"
        },
        "id": "Lir1UxioMCgd",
        "outputId": "051eb916-65cb-4184-a826-e2c336ce6271"
      },
      "outputs": [
        {
          "output_type": "stream",
          "name": "stdout",
          "text": [
            "\u001b[2K     \u001b[90m━━━━━━━━━━━━━━━━━━━━━━━━━━━━━━━━━━━━━━━━\u001b[0m \u001b[32m5.2/5.2 MB\u001b[0m \u001b[31m31.6 MB/s\u001b[0m eta \u001b[36m0:00:00\u001b[0m\n",
            "\u001b[2K     \u001b[90m━━━━━━━━━━━━━━━━━━━━━━━━━━━━━━━━━━━━━━━━\u001b[0m \u001b[32m475.2/475.2 MB\u001b[0m \u001b[31m1.8 MB/s\u001b[0m eta \u001b[36m0:00:00\u001b[0m\n",
            "\u001b[2K     \u001b[90m━━━━━━━━━━━━━━━━━━━━━━━━━━━━━━━━━━━━━━━━\u001b[0m \u001b[32m5.5/5.5 MB\u001b[0m \u001b[31m37.4 MB/s\u001b[0m eta \u001b[36m0:00:00\u001b[0m\n",
            "\u001b[2K     \u001b[90m━━━━━━━━━━━━━━━━━━━━━━━━━━━━━━━━━━━━━━━━\u001b[0m \u001b[32m442.0/442.0 kB\u001b[0m \u001b[31m29.2 MB/s\u001b[0m eta \u001b[36m0:00:00\u001b[0m\n",
            "\u001b[2K     \u001b[90m━━━━━━━━━━━━━━━━━━━━━━━━━━━━━━━━━━━━━━━━\u001b[0m \u001b[32m1.7/1.7 MB\u001b[0m \u001b[31m34.5 MB/s\u001b[0m eta \u001b[36m0:00:00\u001b[0m\n",
            "\u001b[?25h"
          ]
        }
      ],
      "source": [
        "!pip3 install --quiet tensorflow-text"
      ]
    },
    {
      "cell_type": "code",
      "source": [
        "import numpy as np\n",
        "import tensorflow as tf\n",
        "import tensorflow_hub as hub\n",
        "import tensorflow_text as text  # Imports TF ops for preprocessing."
      ],
      "metadata": {
        "id": "fMnaGAAYMSXr"
      },
      "execution_count": 3,
      "outputs": []
    },
    {
      "cell_type": "code",
      "source": [
        "# Load the BERT encoder and preprocessing models\n",
        "preprocess = hub.load('https://kaggle.com/models/tensorflow/bert/frameworks/TensorFlow2/variations/en-uncased-preprocess/versions/3')\n",
        "bert = hub.load('https://www.kaggle.com/models/google/experts-bert/frameworks/TensorFlow2/variations/pubmed/versions/2')"
      ],
      "metadata": {
        "id": "EZeY_S_cMTuP"
      },
      "execution_count": 4,
      "outputs": []
    },
    {
      "cell_type": "code",
      "source": [
        "import pandas as pd"
      ],
      "metadata": {
        "id": "G3TTThlEMXaT"
      },
      "execution_count": 5,
      "outputs": []
    },
    {
      "cell_type": "code",
      "source": [
        "url = 'https://raw.githubusercontent.com/sebischair/Medical-Abstracts-TC-Corpus/main/medical_tc_train.csv'\n",
        "df_train = pd.read_csv(url)"
      ],
      "metadata": {
        "id": "BU8nMxoeM23z"
      },
      "execution_count": 7,
      "outputs": []
    },
    {
      "cell_type": "code",
      "source": [
        "url = 'https://raw.githubusercontent.com/sebischair/Medical-Abstracts-TC-Corpus/main/medical_tc_test.csv'\n",
        "df_test = pd.read_csv(url)"
      ],
      "metadata": {
        "id": "zGxrTtVtM3jn"
      },
      "execution_count": 6,
      "outputs": []
    },
    {
      "cell_type": "code",
      "source": [
        "def embed_with_expert_BERT(bert_inputs):\n",
        "  bert_outputs = bert(bert_inputs, training=False)\n",
        "  sequence_output = bert_outputs['sequence_output']\n",
        "  clf_output = sequence_output[:, 0, :]\n",
        "  return clf_output"
      ],
      "metadata": {
        "id": "m90aaQvYNAch"
      },
      "execution_count": 8,
      "outputs": []
    },
    {
      "cell_type": "markdown",
      "source": [
        "Embed training data"
      ],
      "metadata": {
        "id": "7ODr-P9yNikh"
      }
    },
    {
      "cell_type": "code",
      "source": [
        "abstracts_train_list = list(df_train.medical_abstract)"
      ],
      "metadata": {
        "id": "YVEv2kCtNbFS"
      },
      "execution_count": 9,
      "outputs": []
    },
    {
      "cell_type": "code",
      "source": [
        "step = 350\n",
        "\n",
        "for i in range(0, 11550, step):\n",
        "  print(f'Embedding for rows {i} to {i+step}')\n",
        "  bert_inputs = preprocess(abstracts_train_list[i:i+step])\n",
        "  features_temp = embed_with_expert_BERT(bert_inputs)\n",
        "  np.save(f'/content/drive/MyDrive/University/Bristol/Year 4/pubmed_bert_expert/training_embed_{i+step}.npy', features_temp)"
      ],
      "metadata": {
        "colab": {
          "base_uri": "https://localhost:8080/"
        },
        "id": "r4oEYlCkNh0Y",
        "outputId": "81503d25-23a6-4b84-a771-ebda97015ab3"
      },
      "execution_count": 10,
      "outputs": [
        {
          "output_type": "stream",
          "name": "stdout",
          "text": [
            "Embedding for rows 0 to 350\n",
            "Embedding for rows 350 to 700\n",
            "Embedding for rows 700 to 1050\n",
            "Embedding for rows 1050 to 1400\n",
            "Embedding for rows 1400 to 1750\n",
            "Embedding for rows 1750 to 2100\n",
            "Embedding for rows 2100 to 2450\n",
            "Embedding for rows 2450 to 2800\n",
            "Embedding for rows 2800 to 3150\n",
            "Embedding for rows 3150 to 3500\n",
            "Embedding for rows 3500 to 3850\n",
            "Embedding for rows 3850 to 4200\n",
            "Embedding for rows 4200 to 4550\n",
            "Embedding for rows 4550 to 4900\n",
            "Embedding for rows 4900 to 5250\n",
            "Embedding for rows 5250 to 5600\n",
            "Embedding for rows 5600 to 5950\n",
            "Embedding for rows 5950 to 6300\n",
            "Embedding for rows 6300 to 6650\n",
            "Embedding for rows 6650 to 7000\n",
            "Embedding for rows 7000 to 7350\n",
            "Embedding for rows 7350 to 7700\n",
            "Embedding for rows 7700 to 8050\n",
            "Embedding for rows 8050 to 8400\n",
            "Embedding for rows 8400 to 8750\n",
            "Embedding for rows 8750 to 9100\n",
            "Embedding for rows 9100 to 9450\n",
            "Embedding for rows 9450 to 9800\n",
            "Embedding for rows 9800 to 10150\n",
            "Embedding for rows 10150 to 10500\n",
            "Embedding for rows 10500 to 10850\n",
            "Embedding for rows 10850 to 11200\n",
            "Embedding for rows 11200 to 11550\n"
          ]
        }
      ]
    },
    {
      "cell_type": "markdown",
      "source": [
        "Embed test data"
      ],
      "metadata": {
        "id": "3HLA5k6go3A3"
      }
    },
    {
      "cell_type": "code",
      "source": [
        "abstracts_test_list = list(df_test.medical_abstract)"
      ],
      "metadata": {
        "id": "kUsY53L9o30w"
      },
      "execution_count": 11,
      "outputs": []
    },
    {
      "cell_type": "code",
      "source": [
        "step = 350\n",
        "\n",
        "for i in range(0, 2800, step):\n",
        "  print(f'Embedding for rows {i} to {i+step}')\n",
        "  bert_inputs = preprocess(abstracts_test_list[i:i+step])\n",
        "  features_temp = embed_with_expert_BERT(bert_inputs)\n",
        "  np.save(f'/content/drive/MyDrive/University/Bristol/Year 4/pubmed_bert_expert/test_embed_{i+step}.npy', features_temp)"
      ],
      "metadata": {
        "colab": {
          "base_uri": "https://localhost:8080/"
        },
        "id": "duysmY6Mo5v9",
        "outputId": "cac7a659-67dc-4820-8d48-ec06972d2274"
      },
      "execution_count": 24,
      "outputs": [
        {
          "output_type": "stream",
          "name": "stdout",
          "text": [
            "Embedding for rows 0 to 350\n",
            "Embedding for rows 350 to 700\n",
            "Embedding for rows 700 to 1050\n",
            "Embedding for rows 1050 to 1400\n",
            "Embedding for rows 1400 to 1750\n",
            "Embedding for rows 1750 to 2100\n",
            "Embedding for rows 2100 to 2450\n",
            "Embedding for rows 2450 to 2800\n"
          ]
        }
      ]
    },
    {
      "cell_type": "code",
      "source": [
        "# Last bit\n",
        "i = 2800\n",
        "step = 88\n",
        "print(f'Embedding for rows {i} to {i+step}')\n",
        "bert_inputs = preprocess(abstracts_test_list[i:i+step])\n",
        "features_temp = embed_with_expert_BERT(bert_inputs)\n",
        "np.save(f'/content/drive/MyDrive/University/Bristol/Year 4/pubmed_bert_expert/test_embed_{i+step}.npy', features_temp)"
      ],
      "metadata": {
        "colab": {
          "base_uri": "https://localhost:8080/"
        },
        "id": "c_ArRaz7pbOp",
        "outputId": "16beb0b6-7a6f-4d7d-c71e-06921edbb7a0"
      },
      "execution_count": 25,
      "outputs": [
        {
          "output_type": "stream",
          "name": "stdout",
          "text": [
            "Embedding for rows 2800 to 2888\n"
          ]
        }
      ]
    }
  ]
}