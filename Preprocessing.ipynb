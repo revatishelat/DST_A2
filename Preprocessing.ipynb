{
 "cells": [
  {
   "cell_type": "markdown",
   "id": "2e109b9d",
   "metadata": {},
   "source": [
    "## Imports "
   ]
  },
  {
   "cell_type": "code",
   "execution_count": 1,
   "id": "33c9fc7f",
   "metadata": {
    "scrolled": true
   },
   "outputs": [
    {
     "name": "stdout",
     "output_type": "stream",
     "text": [
      "Collecting pandas\n",
      "  Using cached pandas-2.1.4-cp39-cp39-manylinux_2_17_x86_64.manylinux2014_x86_64.whl (12.3 MB)\n",
      "Requirement already satisfied: python-dateutil>=2.8.2 in /opt/conda/lib/python3.9/site-packages (from pandas) (2.8.2)\n",
      "Requirement already satisfied: pytz>=2020.1 in /opt/conda/lib/python3.9/site-packages (from pandas) (2022.1)\n",
      "Requirement already satisfied: numpy<2,>=1.22.4 in /opt/conda/lib/python3.9/site-packages (from pandas) (1.25.2)\n",
      "Collecting tzdata>=2022.1\n",
      "  Using cached tzdata-2023.3-py2.py3-none-any.whl (341 kB)\n",
      "Requirement already satisfied: six>=1.5 in /opt/conda/lib/python3.9/site-packages (from python-dateutil>=2.8.2->pandas) (1.16.0)\n",
      "Installing collected packages: tzdata, pandas\n",
      "Successfully installed pandas-2.1.4 tzdata-2023.3\n",
      "Collecting nltk\n",
      "  Using cached nltk-3.8.1-py3-none-any.whl (1.5 MB)\n",
      "Collecting regex>=2021.8.3\n",
      "  Using cached regex-2023.10.3-cp39-cp39-manylinux_2_17_x86_64.manylinux2014_x86_64.whl (773 kB)\n",
      "Collecting click\n",
      "  Using cached click-8.1.7-py3-none-any.whl (97 kB)\n",
      "Collecting joblib\n",
      "  Using cached joblib-1.3.2-py3-none-any.whl (302 kB)\n",
      "Requirement already satisfied: tqdm in /opt/conda/lib/python3.9/site-packages (from nltk) (4.64.0)\n",
      "Installing collected packages: regex, joblib, click, nltk\n",
      "Successfully installed click-8.1.7 joblib-1.3.2 nltk-3.8.1 regex-2023.10.3\n"
     ]
    }
   ],
   "source": [
    "!pip install pandas\n",
    "!pip install nltk"
   ]
  },
  {
   "cell_type": "code",
   "execution_count": 32,
   "id": "f4fc8ff3",
   "metadata": {},
   "outputs": [
    {
     "name": "stderr",
     "output_type": "stream",
     "text": [
      "[nltk_data] Downloading package wordnet to /home/jovyan/nltk_data...\n",
      "[nltk_data]   Package wordnet is already up-to-date!\n",
      "[nltk_data] Downloading package punkt to /home/jovyan/nltk_data...\n",
      "[nltk_data]   Package punkt is already up-to-date!\n",
      "[nltk_data] Downloading package stopwords to /home/jovyan/nltk_data...\n",
      "[nltk_data]   Package stopwords is already up-to-date!\n"
     ]
    }
   ],
   "source": [
    "import pandas as pd\n",
    "import nltk\n",
    "import re\n",
    "nltk.download('wordnet')\n",
    "nltk.download('punkt')\n",
    "nltk.download('stopwords')\n",
    "from nltk.stem import WordNetLemmatizer\n",
    "en_stop = set(nltk.corpus.stopwords.words('english'))"
   ]
  },
  {
   "cell_type": "code",
   "execution_count": 4,
   "id": "ae5a381c",
   "metadata": {},
   "outputs": [],
   "source": [
    "df_labels = pd.read_csv('medical_tc_labels.csv')\n",
    "df_train = pd.read_csv('medical_tc_train.csv')\n",
    "df_test = pd.read_csv('medical_tc_test.csv')"
   ]
  },
  {
   "cell_type": "markdown",
   "id": "47333663",
   "metadata": {},
   "source": [
    "Text preprocessing involves standardising text and discarding information that is not useful to our classifier."
   ]
  },
  {
   "cell_type": "code",
   "execution_count": 37,
   "id": "7181eeaf",
   "metadata": {},
   "outputs": [
    {
     "name": "stdout",
     "output_type": "stream",
     "text": [
      "Neuropeptide Y and neuron-specific enolase levels in benign and malignant pheochromocytomas. Neuron-specific enolase (NSE) is the isoform of enolase, a glycolytic enzyme found in the neuroendocrine system. Neuropeptide Y (NPY) is a peptide recently discovered in the peripheral and central nervous systems. Serum NSE and plasma NPY levels have been reported to be increased in some patients with pheochromocytoma. The authors evaluated whether the measurement of these molecules could help to discriminate between benign and malignant forms of pheochromocytoma. The NSE levels were normal in all patients with benign pheochromocytoma (n = 13) and elevated in one half of those with malignant pheochromocytoma (n = 13). Plasma NPY levels were on the average significantly higher in the malignant (177.1 +/- 38.9 pmol/l, n = 16) than in the benign forms of the disease (15.7 +/- 389 pmol/l, n = 24). However, there was no difference in the percentage of patients with elevated NPY levels. These results show that determination of serum NSE may be useful for distinguishing between malignant and benign pheochromocytoma; the measurement of plasma NPY is not useful for differentiating the two kinds of tumors. \n"
     ]
    }
   ],
   "source": [
    "sample_doc = df_train['medical_abstract'][1]\n",
    "print(sample_doc)"
   ]
  },
  {
   "cell_type": "markdown",
   "id": "13fd1158",
   "metadata": {},
   "source": [
    "Clearly the case of a character is irrelevant, so we make all characters lower case."
   ]
  },
  {
   "cell_type": "code",
   "execution_count": 38,
   "id": "8797c60f",
   "metadata": {},
   "outputs": [
    {
     "name": "stdout",
     "output_type": "stream",
     "text": [
      "neuropeptide y and neuron-specific enolase levels in benign and malignant pheochromocytomas. neuron-specific enolase (nse) is the isoform of enolase, a glycolytic enzyme found in the neuroendocrine system. neuropeptide y (npy) is a peptide recently discovered in the peripheral and central nervous systems. serum nse and plasma npy levels have been reported to be increased in some patients with pheochromocytoma. the authors evaluated whether the measurement of these molecules could help to discriminate between benign and malignant forms of pheochromocytoma. the nse levels were normal in all patients with benign pheochromocytoma (n = 13) and elevated in one half of those with malignant pheochromocytoma (n = 13). plasma npy levels were on the average significantly higher in the malignant (177.1 +/- 38.9 pmol/l, n = 16) than in the benign forms of the disease (15.7 +/- 389 pmol/l, n = 24). however, there was no difference in the percentage of patients with elevated npy levels. these results show that determination of serum nse may be useful for distinguishing between malignant and benign pheochromocytoma; the measurement of plasma npy is not useful for differentiating the two kinds of tumors. \n"
     ]
    }
   ],
   "source": [
    "sample_doc = sample_doc.lower()\n",
    "print(sample_doc)"
   ]
  },
  {
   "cell_type": "markdown",
   "id": "6ee12fc0",
   "metadata": {},
   "source": [
    "We tokenize the document so that we can work with individual words (tokens)"
   ]
  },
  {
   "cell_type": "code",
   "execution_count": 39,
   "id": "b430de0a",
   "metadata": {},
   "outputs": [
    {
     "name": "stdout",
     "output_type": "stream",
     "text": [
      "['neuropeptide', 'y', 'and', 'neuron-specific', 'enolase', 'levels', 'in', 'benign', 'and', 'malignant', 'pheochromocytomas', '.', 'neuron-specific', 'enolase', '(', 'nse', ')', 'is', 'the', 'isoform', 'of', 'enolase', ',', 'a', 'glycolytic', 'enzyme', 'found', 'in', 'the', 'neuroendocrine', 'system', '.', 'neuropeptide', 'y', '(', 'npy', ')', 'is', 'a', 'peptide', 'recently', 'discovered', 'in', 'the', 'peripheral', 'and', 'central', 'nervous', 'systems', '.', 'serum', 'nse', 'and', 'plasma', 'npy', 'levels', 'have', 'been', 'reported', 'to', 'be', 'increased', 'in', 'some', 'patients', 'with', 'pheochromocytoma', '.', 'the', 'authors', 'evaluated', 'whether', 'the', 'measurement', 'of', 'these', 'molecules', 'could', 'help', 'to', 'discriminate', 'between', 'benign', 'and', 'malignant', 'forms', 'of', 'pheochromocytoma', '.', 'the', 'nse', 'levels', 'were', 'normal', 'in', 'all', 'patients', 'with', 'benign', 'pheochromocytoma', '(', 'n', '=', '13', ')', 'and', 'elevated', 'in', 'one', 'half', 'of', 'those', 'with', 'malignant', 'pheochromocytoma', '(', 'n', '=', '13', ')', '.', 'plasma', 'npy', 'levels', 'were', 'on', 'the', 'average', 'significantly', 'higher', 'in', 'the', 'malignant', '(', '177.1', '+/-', '38.9', 'pmol/l', ',', 'n', '=', '16', ')', 'than', 'in', 'the', 'benign', 'forms', 'of', 'the', 'disease', '(', '15.7', '+/-', '389', 'pmol/l', ',', 'n', '=', '24', ')', '.', 'however', ',', 'there', 'was', 'no', 'difference', 'in', 'the', 'percentage', 'of', 'patients', 'with', 'elevated', 'npy', 'levels', '.', 'these', 'results', 'show', 'that', 'determination', 'of', 'serum', 'nse', 'may', 'be', 'useful', 'for', 'distinguishing', 'between', 'malignant', 'and', 'benign', 'pheochromocytoma', ';', 'the', 'measurement', 'of', 'plasma', 'npy', 'is', 'not', 'useful', 'for', 'differentiating', 'the', 'two', 'kinds', 'of', 'tumors', '.']\n"
     ]
    }
   ],
   "source": [
    "sample_doc = nltk.word_tokenize(sample_doc)\n",
    "print(sample_doc)"
   ]
  },
  {
   "cell_type": "markdown",
   "id": "b8a3ad9a",
   "metadata": {},
   "source": [
    "Numbers and special characters are not specific to classes and so will not provide information about what class a document belongs to. Therefore, we remove all tokens that do not comprise solely of letters."
   ]
  },
  {
   "cell_type": "code",
   "execution_count": 40,
   "id": "2baf8fc7",
   "metadata": {},
   "outputs": [
    {
     "name": "stdout",
     "output_type": "stream",
     "text": [
      "['neuropeptide', 'y', 'and', 'enolase', 'levels', 'in', 'benign', 'and', 'malignant', 'pheochromocytomas', 'enolase', 'nse', 'is', 'the', 'isoform', 'of', 'enolase', 'a', 'glycolytic', 'enzyme', 'found', 'in', 'the', 'neuroendocrine', 'system', 'neuropeptide', 'y', 'npy', 'is', 'a', 'peptide', 'recently', 'discovered', 'in', 'the', 'peripheral', 'and', 'central', 'nervous', 'systems', 'serum', 'nse', 'and', 'plasma', 'npy', 'levels', 'have', 'been', 'reported', 'to', 'be', 'increased', 'in', 'some', 'patients', 'with', 'pheochromocytoma', 'the', 'authors', 'evaluated', 'whether', 'the', 'measurement', 'of', 'these', 'molecules', 'could', 'help', 'to', 'discriminate', 'between', 'benign', 'and', 'malignant', 'forms', 'of', 'pheochromocytoma', 'the', 'nse', 'levels', 'were', 'normal', 'in', 'all', 'patients', 'with', 'benign', 'pheochromocytoma', 'n', 'and', 'elevated', 'in', 'one', 'half', 'of', 'those', 'with', 'malignant', 'pheochromocytoma', 'n', 'plasma', 'npy', 'levels', 'were', 'on', 'the', 'average', 'significantly', 'higher', 'in', 'the', 'malignant', 'n', 'than', 'in', 'the', 'benign', 'forms', 'of', 'the', 'disease', 'n', 'however', 'there', 'was', 'no', 'difference', 'in', 'the', 'percentage', 'of', 'patients', 'with', 'elevated', 'npy', 'levels', 'these', 'results', 'show', 'that', 'determination', 'of', 'serum', 'nse', 'may', 'be', 'useful', 'for', 'distinguishing', 'between', 'malignant', 'and', 'benign', 'pheochromocytoma', 'the', 'measurement', 'of', 'plasma', 'npy', 'is', 'not', 'useful', 'for', 'differentiating', 'the', 'two', 'kinds', 'of', 'tumors']\n"
     ]
    }
   ],
   "source": [
    "sample_doc = [tok for tok in sample_doc if re.match('^[a-zA-Z]+$', tok)]\n",
    "print(sample_doc)"
   ]
  },
  {
   "cell_type": "markdown",
   "id": "cd7c6102",
   "metadata": {},
   "source": [
    "Tokens of lenth 1 are now either words of length 1 (not class specific) or a product of our previous steps (artificial/not words) in both cases we can remove them."
   ]
  },
  {
   "cell_type": "code",
   "execution_count": 41,
   "id": "1110b921",
   "metadata": {},
   "outputs": [
    {
     "name": "stdout",
     "output_type": "stream",
     "text": [
      "['neuropeptide', 'and', 'enolase', 'levels', 'in', 'benign', 'and', 'malignant', 'pheochromocytomas', 'enolase', 'nse', 'is', 'the', 'isoform', 'of', 'enolase', 'glycolytic', 'enzyme', 'found', 'in', 'the', 'neuroendocrine', 'system', 'neuropeptide', 'npy', 'is', 'peptide', 'recently', 'discovered', 'in', 'the', 'peripheral', 'and', 'central', 'nervous', 'systems', 'serum', 'nse', 'and', 'plasma', 'npy', 'levels', 'have', 'been', 'reported', 'to', 'be', 'increased', 'in', 'some', 'patients', 'with', 'pheochromocytoma', 'the', 'authors', 'evaluated', 'whether', 'the', 'measurement', 'of', 'these', 'molecules', 'could', 'help', 'to', 'discriminate', 'between', 'benign', 'and', 'malignant', 'forms', 'of', 'pheochromocytoma', 'the', 'nse', 'levels', 'were', 'normal', 'in', 'all', 'patients', 'with', 'benign', 'pheochromocytoma', 'and', 'elevated', 'in', 'one', 'half', 'of', 'those', 'with', 'malignant', 'pheochromocytoma', 'plasma', 'npy', 'levels', 'were', 'on', 'the', 'average', 'significantly', 'higher', 'in', 'the', 'malignant', 'than', 'in', 'the', 'benign', 'forms', 'of', 'the', 'disease', 'however', 'there', 'was', 'no', 'difference', 'in', 'the', 'percentage', 'of', 'patients', 'with', 'elevated', 'npy', 'levels', 'these', 'results', 'show', 'that', 'determination', 'of', 'serum', 'nse', 'may', 'be', 'useful', 'for', 'distinguishing', 'between', 'malignant', 'and', 'benign', 'pheochromocytoma', 'the', 'measurement', 'of', 'plasma', 'npy', 'is', 'not', 'useful', 'for', 'differentiating', 'the', 'two', 'kinds', 'of', 'tumors']\n"
     ]
    }
   ],
   "source": [
    "sample_doc = [tok for tok in sample_doc if len(tok) > 1]\n",
    "print(sample_doc)"
   ]
  },
  {
   "cell_type": "markdown",
   "id": "468cc6fc",
   "metadata": {},
   "source": [
    "We now remove stopwords as they carry no information about the class."
   ]
  },
  {
   "cell_type": "code",
   "execution_count": 42,
   "id": "87275f86",
   "metadata": {},
   "outputs": [
    {
     "name": "stdout",
     "output_type": "stream",
     "text": [
      "['neuropeptide', 'enolase', 'levels', 'benign', 'malignant', 'pheochromocytomas', 'enolase', 'nse', 'isoform', 'enolase', 'glycolytic', 'enzyme', 'found', 'neuroendocrine', 'system', 'neuropeptide', 'npy', 'peptide', 'recently', 'discovered', 'peripheral', 'central', 'nervous', 'systems', 'serum', 'nse', 'plasma', 'npy', 'levels', 'reported', 'increased', 'patients', 'pheochromocytoma', 'authors', 'evaluated', 'whether', 'measurement', 'molecules', 'could', 'help', 'discriminate', 'benign', 'malignant', 'forms', 'pheochromocytoma', 'nse', 'levels', 'normal', 'patients', 'benign', 'pheochromocytoma', 'elevated', 'one', 'half', 'malignant', 'pheochromocytoma', 'plasma', 'npy', 'levels', 'average', 'significantly', 'higher', 'malignant', 'benign', 'forms', 'disease', 'however', 'difference', 'percentage', 'patients', 'elevated', 'npy', 'levels', 'results', 'show', 'determination', 'serum', 'nse', 'may', 'useful', 'distinguishing', 'malignant', 'benign', 'pheochromocytoma', 'measurement', 'plasma', 'npy', 'useful', 'differentiating', 'two', 'kinds', 'tumors']\n"
     ]
    }
   ],
   "source": [
    "sample_doc = [tok for tok in sample_doc if tok not in en_stop]\n",
    "print(sample_doc)"
   ]
  },
  {
   "cell_type": "markdown",
   "id": "205bdb4d",
   "metadata": {},
   "source": [
    "Now we lemmatize, this reduces words to there basic form."
   ]
  },
  {
   "cell_type": "code",
   "execution_count": 43,
   "id": "e334ad57",
   "metadata": {},
   "outputs": [
    {
     "name": "stdout",
     "output_type": "stream",
     "text": [
      "['neuropeptide', 'enolase', 'level', 'benign', 'malignant', 'pheochromocytoma', 'enolase', 'nse', 'isoform', 'enolase', 'glycolytic', 'enzyme', 'found', 'neuroendocrine', 'system', 'neuropeptide', 'npy', 'peptide', 'recently', 'discovered', 'peripheral', 'central', 'nervous', 'system', 'serum', 'nse', 'plasma', 'npy', 'level', 'reported', 'increased', 'patient', 'pheochromocytoma', 'author', 'evaluated', 'whether', 'measurement', 'molecule', 'could', 'help', 'discriminate', 'benign', 'malignant', 'form', 'pheochromocytoma', 'nse', 'level', 'normal', 'patient', 'benign', 'pheochromocytoma', 'elevated', 'one', 'half', 'malignant', 'pheochromocytoma', 'plasma', 'npy', 'level', 'average', 'significantly', 'higher', 'malignant', 'benign', 'form', 'disease', 'however', 'difference', 'percentage', 'patient', 'elevated', 'npy', 'level', 'result', 'show', 'determination', 'serum', 'nse', 'may', 'useful', 'distinguishing', 'malignant', 'benign', 'pheochromocytoma', 'measurement', 'plasma', 'npy', 'useful', 'differentiating', 'two', 'kind', 'tumor']\n"
     ]
    }
   ],
   "source": [
    "lemmatizer = WordNetLemmatizer()\n",
    "sample_doc = [lemmatizer.lemmatize(tok) for tok in sample_doc]\n",
    "print(sample_doc)"
   ]
  },
  {
   "cell_type": "markdown",
   "id": "0b2f96c9",
   "metadata": {},
   "source": [
    "Now we can create a function that applies these techniques to a document."
   ]
  },
  {
   "cell_type": "code",
   "execution_count": 47,
   "id": "454aa6c4",
   "metadata": {},
   "outputs": [],
   "source": [
    "def preprocess(doc):\n",
    "        #lowercases document\n",
    "        doc = doc.lower()\n",
    "        #tokenize\n",
    "        toks = nltk.word_tokenize(doc)\n",
    "        #remove tokens that dont exclusively contain letters\n",
    "        toks = [tok for tok in toks if re.match('^[a-zA-Z]+$', tok)]\n",
    "        #remove tokens of lenth <= n (can be varied)\n",
    "        toks = [tok for tok in toks if len(tok) > 1]\n",
    "        #remove stopwords\n",
    "        toks = [tok for tok in toks if tok not in en_stop]\n",
    "        #lemmatize\n",
    "        toks = [WordNetLemmatizer().lemmatize(tok) for tok in toks]\n",
    "        return toks"
   ]
  },
  {
   "cell_type": "code",
   "execution_count": 48,
   "id": "e743afb5",
   "metadata": {},
   "outputs": [
    {
     "name": "stdout",
     "output_type": "stream",
     "text": [
      "['neuropeptide', 'enolase', 'level', 'benign', 'malignant', 'pheochromocytoma', 'enolase', 'nse', 'isoform', 'enolase', 'glycolytic', 'enzyme', 'found', 'neuroendocrine', 'system', 'neuropeptide', 'npy', 'peptide', 'recently', 'discovered', 'peripheral', 'central', 'nervous', 'system', 'serum', 'nse', 'plasma', 'npy', 'level', 'reported', 'increased', 'patient', 'pheochromocytoma', 'author', 'evaluated', 'whether', 'measurement', 'molecule', 'could', 'help', 'discriminate', 'benign', 'malignant', 'form', 'pheochromocytoma', 'nse', 'level', 'normal', 'patient', 'benign', 'pheochromocytoma', 'elevated', 'one', 'half', 'malignant', 'pheochromocytoma', 'plasma', 'npy', 'level', 'average', 'significantly', 'higher', 'malignant', 'benign', 'form', 'disease', 'however', 'difference', 'percentage', 'patient', 'elevated', 'npy', 'level', 'result', 'show', 'determination', 'serum', 'nse', 'may', 'useful', 'distinguishing', 'malignant', 'benign', 'pheochromocytoma', 'measurement', 'plasma', 'npy', 'useful', 'differentiating', 'two', 'kind', 'tumor']\n"
     ]
    }
   ],
   "source": [
    "sample_doc0 = df_train['medical_abstract'][1]\n",
    "sample_doc0 = preprocess(sample_doc0)\n",
    "print(sample_doc0)"
   ]
  }
 ],
 "metadata": {
  "kernelspec": {
   "display_name": "Python 3 (ipykernel)",
   "language": "python",
   "name": "python3"
  },
  "language_info": {
   "codemirror_mode": {
    "name": "ipython",
    "version": 3
   },
   "file_extension": ".py",
   "mimetype": "text/x-python",
   "name": "python",
   "nbconvert_exporter": "python",
   "pygments_lexer": "ipython3",
   "version": "3.9.12"
  }
 },
 "nbformat": 4,
 "nbformat_minor": 5
}
