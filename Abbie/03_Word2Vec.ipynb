{
  "nbformat": 4,
  "nbformat_minor": 0,
  "metadata": {
    "colab": {
      "provenance": [],
      "gpuType": "T4"
    },
    "kernelspec": {
      "name": "python3",
      "display_name": "Python 3"
    },
    "language_info": {
      "name": "python"
    },
    "accelerator": "GPU",
    "widgets": {
      "application/vnd.jupyter.widget-state+json": {
        "0ba868df8afd4e98bc16a6b318e70217": {
          "model_module": "@jupyter-widgets/controls",
          "model_name": "HBoxModel",
          "model_module_version": "1.5.0",
          "state": {
            "_dom_classes": [],
            "_model_module": "@jupyter-widgets/controls",
            "_model_module_version": "1.5.0",
            "_model_name": "HBoxModel",
            "_view_count": null,
            "_view_module": "@jupyter-widgets/controls",
            "_view_module_version": "1.5.0",
            "_view_name": "HBoxView",
            "box_style": "",
            "children": [
              "IPY_MODEL_0fddcd592fe244f4849be74fc1e696f4",
              "IPY_MODEL_b0fa0ecd91c94b33806a84e9a73122a0",
              "IPY_MODEL_678cf87954894387b0b41f08399c73c4"
            ],
            "layout": "IPY_MODEL_bf096eb8461a4c368e0360caf3562bbd"
          }
        },
        "0fddcd592fe244f4849be74fc1e696f4": {
          "model_module": "@jupyter-widgets/controls",
          "model_name": "HTMLModel",
          "model_module_version": "1.5.0",
          "state": {
            "_dom_classes": [],
            "_model_module": "@jupyter-widgets/controls",
            "_model_module_version": "1.5.0",
            "_model_name": "HTMLModel",
            "_view_count": null,
            "_view_module": "@jupyter-widgets/controls",
            "_view_module_version": "1.5.0",
            "_view_name": "HTMLView",
            "description": "",
            "description_tooltip": null,
            "layout": "IPY_MODEL_4d7f33364d5a449d99584481c32377ce",
            "placeholder": "​",
            "style": "IPY_MODEL_e8240a76ccf2429c9e96e0253ac276e5",
            "value": "100%"
          }
        },
        "b0fa0ecd91c94b33806a84e9a73122a0": {
          "model_module": "@jupyter-widgets/controls",
          "model_name": "FloatProgressModel",
          "model_module_version": "1.5.0",
          "state": {
            "_dom_classes": [],
            "_model_module": "@jupyter-widgets/controls",
            "_model_module_version": "1.5.0",
            "_model_name": "FloatProgressModel",
            "_view_count": null,
            "_view_module": "@jupyter-widgets/controls",
            "_view_module_version": "1.5.0",
            "_view_name": "ProgressView",
            "bar_style": "success",
            "description": "",
            "description_tooltip": null,
            "layout": "IPY_MODEL_b37c1c5bab9342b5a8184ac6f9307b84",
            "max": 10,
            "min": 0,
            "orientation": "horizontal",
            "style": "IPY_MODEL_65675057002a4284afb88b8ef7251a1a",
            "value": 10
          }
        },
        "678cf87954894387b0b41f08399c73c4": {
          "model_module": "@jupyter-widgets/controls",
          "model_name": "HTMLModel",
          "model_module_version": "1.5.0",
          "state": {
            "_dom_classes": [],
            "_model_module": "@jupyter-widgets/controls",
            "_model_module_version": "1.5.0",
            "_model_name": "HTMLModel",
            "_view_count": null,
            "_view_module": "@jupyter-widgets/controls",
            "_view_module_version": "1.5.0",
            "_view_name": "HTMLView",
            "description": "",
            "description_tooltip": null,
            "layout": "IPY_MODEL_d789fea455934fd1b327572148bf8c75",
            "placeholder": "​",
            "style": "IPY_MODEL_cb8066ec5b2a4b7cb6080c9bdd1d801c",
            "value": " 10/10 [03:46&lt;00:00, 22.93s/it]"
          }
        },
        "bf096eb8461a4c368e0360caf3562bbd": {
          "model_module": "@jupyter-widgets/base",
          "model_name": "LayoutModel",
          "model_module_version": "1.2.0",
          "state": {
            "_model_module": "@jupyter-widgets/base",
            "_model_module_version": "1.2.0",
            "_model_name": "LayoutModel",
            "_view_count": null,
            "_view_module": "@jupyter-widgets/base",
            "_view_module_version": "1.2.0",
            "_view_name": "LayoutView",
            "align_content": null,
            "align_items": null,
            "align_self": null,
            "border": null,
            "bottom": null,
            "display": null,
            "flex": null,
            "flex_flow": null,
            "grid_area": null,
            "grid_auto_columns": null,
            "grid_auto_flow": null,
            "grid_auto_rows": null,
            "grid_column": null,
            "grid_gap": null,
            "grid_row": null,
            "grid_template_areas": null,
            "grid_template_columns": null,
            "grid_template_rows": null,
            "height": null,
            "justify_content": null,
            "justify_items": null,
            "left": null,
            "margin": null,
            "max_height": null,
            "max_width": null,
            "min_height": null,
            "min_width": null,
            "object_fit": null,
            "object_position": null,
            "order": null,
            "overflow": null,
            "overflow_x": null,
            "overflow_y": null,
            "padding": null,
            "right": null,
            "top": null,
            "visibility": null,
            "width": null
          }
        },
        "4d7f33364d5a449d99584481c32377ce": {
          "model_module": "@jupyter-widgets/base",
          "model_name": "LayoutModel",
          "model_module_version": "1.2.0",
          "state": {
            "_model_module": "@jupyter-widgets/base",
            "_model_module_version": "1.2.0",
            "_model_name": "LayoutModel",
            "_view_count": null,
            "_view_module": "@jupyter-widgets/base",
            "_view_module_version": "1.2.0",
            "_view_name": "LayoutView",
            "align_content": null,
            "align_items": null,
            "align_self": null,
            "border": null,
            "bottom": null,
            "display": null,
            "flex": null,
            "flex_flow": null,
            "grid_area": null,
            "grid_auto_columns": null,
            "grid_auto_flow": null,
            "grid_auto_rows": null,
            "grid_column": null,
            "grid_gap": null,
            "grid_row": null,
            "grid_template_areas": null,
            "grid_template_columns": null,
            "grid_template_rows": null,
            "height": null,
            "justify_content": null,
            "justify_items": null,
            "left": null,
            "margin": null,
            "max_height": null,
            "max_width": null,
            "min_height": null,
            "min_width": null,
            "object_fit": null,
            "object_position": null,
            "order": null,
            "overflow": null,
            "overflow_x": null,
            "overflow_y": null,
            "padding": null,
            "right": null,
            "top": null,
            "visibility": null,
            "width": null
          }
        },
        "e8240a76ccf2429c9e96e0253ac276e5": {
          "model_module": "@jupyter-widgets/controls",
          "model_name": "DescriptionStyleModel",
          "model_module_version": "1.5.0",
          "state": {
            "_model_module": "@jupyter-widgets/controls",
            "_model_module_version": "1.5.0",
            "_model_name": "DescriptionStyleModel",
            "_view_count": null,
            "_view_module": "@jupyter-widgets/base",
            "_view_module_version": "1.2.0",
            "_view_name": "StyleView",
            "description_width": ""
          }
        },
        "b37c1c5bab9342b5a8184ac6f9307b84": {
          "model_module": "@jupyter-widgets/base",
          "model_name": "LayoutModel",
          "model_module_version": "1.2.0",
          "state": {
            "_model_module": "@jupyter-widgets/base",
            "_model_module_version": "1.2.0",
            "_model_name": "LayoutModel",
            "_view_count": null,
            "_view_module": "@jupyter-widgets/base",
            "_view_module_version": "1.2.0",
            "_view_name": "LayoutView",
            "align_content": null,
            "align_items": null,
            "align_self": null,
            "border": null,
            "bottom": null,
            "display": null,
            "flex": null,
            "flex_flow": null,
            "grid_area": null,
            "grid_auto_columns": null,
            "grid_auto_flow": null,
            "grid_auto_rows": null,
            "grid_column": null,
            "grid_gap": null,
            "grid_row": null,
            "grid_template_areas": null,
            "grid_template_columns": null,
            "grid_template_rows": null,
            "height": null,
            "justify_content": null,
            "justify_items": null,
            "left": null,
            "margin": null,
            "max_height": null,
            "max_width": null,
            "min_height": null,
            "min_width": null,
            "object_fit": null,
            "object_position": null,
            "order": null,
            "overflow": null,
            "overflow_x": null,
            "overflow_y": null,
            "padding": null,
            "right": null,
            "top": null,
            "visibility": null,
            "width": null
          }
        },
        "65675057002a4284afb88b8ef7251a1a": {
          "model_module": "@jupyter-widgets/controls",
          "model_name": "ProgressStyleModel",
          "model_module_version": "1.5.0",
          "state": {
            "_model_module": "@jupyter-widgets/controls",
            "_model_module_version": "1.5.0",
            "_model_name": "ProgressStyleModel",
            "_view_count": null,
            "_view_module": "@jupyter-widgets/base",
            "_view_module_version": "1.2.0",
            "_view_name": "StyleView",
            "bar_color": null,
            "description_width": ""
          }
        },
        "d789fea455934fd1b327572148bf8c75": {
          "model_module": "@jupyter-widgets/base",
          "model_name": "LayoutModel",
          "model_module_version": "1.2.0",
          "state": {
            "_model_module": "@jupyter-widgets/base",
            "_model_module_version": "1.2.0",
            "_model_name": "LayoutModel",
            "_view_count": null,
            "_view_module": "@jupyter-widgets/base",
            "_view_module_version": "1.2.0",
            "_view_name": "LayoutView",
            "align_content": null,
            "align_items": null,
            "align_self": null,
            "border": null,
            "bottom": null,
            "display": null,
            "flex": null,
            "flex_flow": null,
            "grid_area": null,
            "grid_auto_columns": null,
            "grid_auto_flow": null,
            "grid_auto_rows": null,
            "grid_column": null,
            "grid_gap": null,
            "grid_row": null,
            "grid_template_areas": null,
            "grid_template_columns": null,
            "grid_template_rows": null,
            "height": null,
            "justify_content": null,
            "justify_items": null,
            "left": null,
            "margin": null,
            "max_height": null,
            "max_width": null,
            "min_height": null,
            "min_width": null,
            "object_fit": null,
            "object_position": null,
            "order": null,
            "overflow": null,
            "overflow_x": null,
            "overflow_y": null,
            "padding": null,
            "right": null,
            "top": null,
            "visibility": null,
            "width": null
          }
        },
        "cb8066ec5b2a4b7cb6080c9bdd1d801c": {
          "model_module": "@jupyter-widgets/controls",
          "model_name": "DescriptionStyleModel",
          "model_module_version": "1.5.0",
          "state": {
            "_model_module": "@jupyter-widgets/controls",
            "_model_module_version": "1.5.0",
            "_model_name": "DescriptionStyleModel",
            "_view_count": null,
            "_view_module": "@jupyter-widgets/base",
            "_view_module_version": "1.2.0",
            "_view_name": "StyleView",
            "description_width": ""
          }
        },
        "f73de69b90874834a0d626bc5c68dbf5": {
          "model_module": "@jupyter-widgets/controls",
          "model_name": "HBoxModel",
          "model_module_version": "1.5.0",
          "state": {
            "_dom_classes": [],
            "_model_module": "@jupyter-widgets/controls",
            "_model_module_version": "1.5.0",
            "_model_name": "HBoxModel",
            "_view_count": null,
            "_view_module": "@jupyter-widgets/controls",
            "_view_module_version": "1.5.0",
            "_view_name": "HBoxView",
            "box_style": "",
            "children": [
              "IPY_MODEL_7f7687851c1b49b1af459640580a02b0",
              "IPY_MODEL_21dd89c16d6041e589ce6279346ccedb",
              "IPY_MODEL_c517bc6031974ac2a5aac5b35669b65b"
            ],
            "layout": "IPY_MODEL_8e4cd4f9da7e4a16917de38e67c5a27d"
          }
        },
        "7f7687851c1b49b1af459640580a02b0": {
          "model_module": "@jupyter-widgets/controls",
          "model_name": "HTMLModel",
          "model_module_version": "1.5.0",
          "state": {
            "_dom_classes": [],
            "_model_module": "@jupyter-widgets/controls",
            "_model_module_version": "1.5.0",
            "_model_name": "HTMLModel",
            "_view_count": null,
            "_view_module": "@jupyter-widgets/controls",
            "_view_module_version": "1.5.0",
            "_view_name": "HTMLView",
            "description": "",
            "description_tooltip": null,
            "layout": "IPY_MODEL_6dcad3d9232e45828fe8e615e0a41435",
            "placeholder": "​",
            "style": "IPY_MODEL_61f8cd19e46144568095fe2c86a1a5fd",
            "value": "Making predictions...: 100%"
          }
        },
        "21dd89c16d6041e589ce6279346ccedb": {
          "model_module": "@jupyter-widgets/controls",
          "model_name": "FloatProgressModel",
          "model_module_version": "1.5.0",
          "state": {
            "_dom_classes": [],
            "_model_module": "@jupyter-widgets/controls",
            "_model_module_version": "1.5.0",
            "_model_name": "FloatProgressModel",
            "_view_count": null,
            "_view_module": "@jupyter-widgets/controls",
            "_view_module_version": "1.5.0",
            "_view_name": "ProgressView",
            "bar_style": "success",
            "description": "",
            "description_tooltip": null,
            "layout": "IPY_MODEL_705d2bfd376945bb99853ba6e7d67cdb",
            "max": 91,
            "min": 0,
            "orientation": "horizontal",
            "style": "IPY_MODEL_f5a38c9e43c34cff9fb1bb40abf83b8b",
            "value": 91
          }
        },
        "c517bc6031974ac2a5aac5b35669b65b": {
          "model_module": "@jupyter-widgets/controls",
          "model_name": "HTMLModel",
          "model_module_version": "1.5.0",
          "state": {
            "_dom_classes": [],
            "_model_module": "@jupyter-widgets/controls",
            "_model_module_version": "1.5.0",
            "_model_name": "HTMLModel",
            "_view_count": null,
            "_view_module": "@jupyter-widgets/controls",
            "_view_module_version": "1.5.0",
            "_view_name": "HTMLView",
            "description": "",
            "description_tooltip": null,
            "layout": "IPY_MODEL_60a424cf327641c0bef8788c4794ead9",
            "placeholder": "​",
            "style": "IPY_MODEL_d56c24ff331945c2a2175929889e67db",
            "value": " 91/91 [00:01&lt;00:00, 55.73it/s]"
          }
        },
        "8e4cd4f9da7e4a16917de38e67c5a27d": {
          "model_module": "@jupyter-widgets/base",
          "model_name": "LayoutModel",
          "model_module_version": "1.2.0",
          "state": {
            "_model_module": "@jupyter-widgets/base",
            "_model_module_version": "1.2.0",
            "_model_name": "LayoutModel",
            "_view_count": null,
            "_view_module": "@jupyter-widgets/base",
            "_view_module_version": "1.2.0",
            "_view_name": "LayoutView",
            "align_content": null,
            "align_items": null,
            "align_self": null,
            "border": null,
            "bottom": null,
            "display": null,
            "flex": null,
            "flex_flow": null,
            "grid_area": null,
            "grid_auto_columns": null,
            "grid_auto_flow": null,
            "grid_auto_rows": null,
            "grid_column": null,
            "grid_gap": null,
            "grid_row": null,
            "grid_template_areas": null,
            "grid_template_columns": null,
            "grid_template_rows": null,
            "height": null,
            "justify_content": null,
            "justify_items": null,
            "left": null,
            "margin": null,
            "max_height": null,
            "max_width": null,
            "min_height": null,
            "min_width": null,
            "object_fit": null,
            "object_position": null,
            "order": null,
            "overflow": null,
            "overflow_x": null,
            "overflow_y": null,
            "padding": null,
            "right": null,
            "top": null,
            "visibility": null,
            "width": null
          }
        },
        "6dcad3d9232e45828fe8e615e0a41435": {
          "model_module": "@jupyter-widgets/base",
          "model_name": "LayoutModel",
          "model_module_version": "1.2.0",
          "state": {
            "_model_module": "@jupyter-widgets/base",
            "_model_module_version": "1.2.0",
            "_model_name": "LayoutModel",
            "_view_count": null,
            "_view_module": "@jupyter-widgets/base",
            "_view_module_version": "1.2.0",
            "_view_name": "LayoutView",
            "align_content": null,
            "align_items": null,
            "align_self": null,
            "border": null,
            "bottom": null,
            "display": null,
            "flex": null,
            "flex_flow": null,
            "grid_area": null,
            "grid_auto_columns": null,
            "grid_auto_flow": null,
            "grid_auto_rows": null,
            "grid_column": null,
            "grid_gap": null,
            "grid_row": null,
            "grid_template_areas": null,
            "grid_template_columns": null,
            "grid_template_rows": null,
            "height": null,
            "justify_content": null,
            "justify_items": null,
            "left": null,
            "margin": null,
            "max_height": null,
            "max_width": null,
            "min_height": null,
            "min_width": null,
            "object_fit": null,
            "object_position": null,
            "order": null,
            "overflow": null,
            "overflow_x": null,
            "overflow_y": null,
            "padding": null,
            "right": null,
            "top": null,
            "visibility": null,
            "width": null
          }
        },
        "61f8cd19e46144568095fe2c86a1a5fd": {
          "model_module": "@jupyter-widgets/controls",
          "model_name": "DescriptionStyleModel",
          "model_module_version": "1.5.0",
          "state": {
            "_model_module": "@jupyter-widgets/controls",
            "_model_module_version": "1.5.0",
            "_model_name": "DescriptionStyleModel",
            "_view_count": null,
            "_view_module": "@jupyter-widgets/base",
            "_view_module_version": "1.2.0",
            "_view_name": "StyleView",
            "description_width": ""
          }
        },
        "705d2bfd376945bb99853ba6e7d67cdb": {
          "model_module": "@jupyter-widgets/base",
          "model_name": "LayoutModel",
          "model_module_version": "1.2.0",
          "state": {
            "_model_module": "@jupyter-widgets/base",
            "_model_module_version": "1.2.0",
            "_model_name": "LayoutModel",
            "_view_count": null,
            "_view_module": "@jupyter-widgets/base",
            "_view_module_version": "1.2.0",
            "_view_name": "LayoutView",
            "align_content": null,
            "align_items": null,
            "align_self": null,
            "border": null,
            "bottom": null,
            "display": null,
            "flex": null,
            "flex_flow": null,
            "grid_area": null,
            "grid_auto_columns": null,
            "grid_auto_flow": null,
            "grid_auto_rows": null,
            "grid_column": null,
            "grid_gap": null,
            "grid_row": null,
            "grid_template_areas": null,
            "grid_template_columns": null,
            "grid_template_rows": null,
            "height": null,
            "justify_content": null,
            "justify_items": null,
            "left": null,
            "margin": null,
            "max_height": null,
            "max_width": null,
            "min_height": null,
            "min_width": null,
            "object_fit": null,
            "object_position": null,
            "order": null,
            "overflow": null,
            "overflow_x": null,
            "overflow_y": null,
            "padding": null,
            "right": null,
            "top": null,
            "visibility": null,
            "width": null
          }
        },
        "f5a38c9e43c34cff9fb1bb40abf83b8b": {
          "model_module": "@jupyter-widgets/controls",
          "model_name": "ProgressStyleModel",
          "model_module_version": "1.5.0",
          "state": {
            "_model_module": "@jupyter-widgets/controls",
            "_model_module_version": "1.5.0",
            "_model_name": "ProgressStyleModel",
            "_view_count": null,
            "_view_module": "@jupyter-widgets/base",
            "_view_module_version": "1.2.0",
            "_view_name": "StyleView",
            "bar_color": null,
            "description_width": ""
          }
        },
        "60a424cf327641c0bef8788c4794ead9": {
          "model_module": "@jupyter-widgets/base",
          "model_name": "LayoutModel",
          "model_module_version": "1.2.0",
          "state": {
            "_model_module": "@jupyter-widgets/base",
            "_model_module_version": "1.2.0",
            "_model_name": "LayoutModel",
            "_view_count": null,
            "_view_module": "@jupyter-widgets/base",
            "_view_module_version": "1.2.0",
            "_view_name": "LayoutView",
            "align_content": null,
            "align_items": null,
            "align_self": null,
            "border": null,
            "bottom": null,
            "display": null,
            "flex": null,
            "flex_flow": null,
            "grid_area": null,
            "grid_auto_columns": null,
            "grid_auto_flow": null,
            "grid_auto_rows": null,
            "grid_column": null,
            "grid_gap": null,
            "grid_row": null,
            "grid_template_areas": null,
            "grid_template_columns": null,
            "grid_template_rows": null,
            "height": null,
            "justify_content": null,
            "justify_items": null,
            "left": null,
            "margin": null,
            "max_height": null,
            "max_width": null,
            "min_height": null,
            "min_width": null,
            "object_fit": null,
            "object_position": null,
            "order": null,
            "overflow": null,
            "overflow_x": null,
            "overflow_y": null,
            "padding": null,
            "right": null,
            "top": null,
            "visibility": null,
            "width": null
          }
        },
        "d56c24ff331945c2a2175929889e67db": {
          "model_module": "@jupyter-widgets/controls",
          "model_name": "DescriptionStyleModel",
          "model_module_version": "1.5.0",
          "state": {
            "_model_module": "@jupyter-widgets/controls",
            "_model_module_version": "1.5.0",
            "_model_name": "DescriptionStyleModel",
            "_view_count": null,
            "_view_module": "@jupyter-widgets/base",
            "_view_module_version": "1.2.0",
            "_view_name": "StyleView",
            "description_width": ""
          }
        },
        "090592adc2f74855b81f3273bd074a00": {
          "model_module": "@jupyter-widgets/controls",
          "model_name": "HBoxModel",
          "model_module_version": "1.5.0",
          "state": {
            "_dom_classes": [],
            "_model_module": "@jupyter-widgets/controls",
            "_model_module_version": "1.5.0",
            "_model_name": "HBoxModel",
            "_view_count": null,
            "_view_module": "@jupyter-widgets/controls",
            "_view_module_version": "1.5.0",
            "_view_name": "HBoxView",
            "box_style": "",
            "children": [
              "IPY_MODEL_936defed35ef45949fdd1283c9e0eff0",
              "IPY_MODEL_992037c847974988bbb71a40ba62cbca",
              "IPY_MODEL_2477703a947d4dccb7488db0b66d9fe4"
            ],
            "layout": "IPY_MODEL_4ba7629b28d84f20aa295b8ef81a412d"
          }
        },
        "936defed35ef45949fdd1283c9e0eff0": {
          "model_module": "@jupyter-widgets/controls",
          "model_name": "HTMLModel",
          "model_module_version": "1.5.0",
          "state": {
            "_dom_classes": [],
            "_model_module": "@jupyter-widgets/controls",
            "_model_module_version": "1.5.0",
            "_model_name": "HTMLModel",
            "_view_count": null,
            "_view_module": "@jupyter-widgets/controls",
            "_view_module_version": "1.5.0",
            "_view_name": "HTMLView",
            "description": "",
            "description_tooltip": null,
            "layout": "IPY_MODEL_0302f421128a4985873fe6efad52ad0e",
            "placeholder": "​",
            "style": "IPY_MODEL_f39e25b7ef024ade917fbed5e25959c9",
            "value": "100%"
          }
        },
        "992037c847974988bbb71a40ba62cbca": {
          "model_module": "@jupyter-widgets/controls",
          "model_name": "FloatProgressModel",
          "model_module_version": "1.5.0",
          "state": {
            "_dom_classes": [],
            "_model_module": "@jupyter-widgets/controls",
            "_model_module_version": "1.5.0",
            "_model_name": "FloatProgressModel",
            "_view_count": null,
            "_view_module": "@jupyter-widgets/controls",
            "_view_module_version": "1.5.0",
            "_view_name": "ProgressView",
            "bar_style": "success",
            "description": "",
            "description_tooltip": null,
            "layout": "IPY_MODEL_6b3dc8f311e74003a4ffc7c2df58cb2b",
            "max": 10,
            "min": 0,
            "orientation": "horizontal",
            "style": "IPY_MODEL_60c321b4f54d46818e2c58420cfbfb96",
            "value": 10
          }
        },
        "2477703a947d4dccb7488db0b66d9fe4": {
          "model_module": "@jupyter-widgets/controls",
          "model_name": "HTMLModel",
          "model_module_version": "1.5.0",
          "state": {
            "_dom_classes": [],
            "_model_module": "@jupyter-widgets/controls",
            "_model_module_version": "1.5.0",
            "_model_name": "HTMLModel",
            "_view_count": null,
            "_view_module": "@jupyter-widgets/controls",
            "_view_module_version": "1.5.0",
            "_view_name": "HTMLView",
            "description": "",
            "description_tooltip": null,
            "layout": "IPY_MODEL_c73970c656d74191a7929f4c36ffbd9f",
            "placeholder": "​",
            "style": "IPY_MODEL_6443e9b8d3074dbfb4a76298a5d2ba7e",
            "value": " 10/10 [02:28&lt;00:00, 15.28s/it]"
          }
        },
        "4ba7629b28d84f20aa295b8ef81a412d": {
          "model_module": "@jupyter-widgets/base",
          "model_name": "LayoutModel",
          "model_module_version": "1.2.0",
          "state": {
            "_model_module": "@jupyter-widgets/base",
            "_model_module_version": "1.2.0",
            "_model_name": "LayoutModel",
            "_view_count": null,
            "_view_module": "@jupyter-widgets/base",
            "_view_module_version": "1.2.0",
            "_view_name": "LayoutView",
            "align_content": null,
            "align_items": null,
            "align_self": null,
            "border": null,
            "bottom": null,
            "display": null,
            "flex": null,
            "flex_flow": null,
            "grid_area": null,
            "grid_auto_columns": null,
            "grid_auto_flow": null,
            "grid_auto_rows": null,
            "grid_column": null,
            "grid_gap": null,
            "grid_row": null,
            "grid_template_areas": null,
            "grid_template_columns": null,
            "grid_template_rows": null,
            "height": null,
            "justify_content": null,
            "justify_items": null,
            "left": null,
            "margin": null,
            "max_height": null,
            "max_width": null,
            "min_height": null,
            "min_width": null,
            "object_fit": null,
            "object_position": null,
            "order": null,
            "overflow": null,
            "overflow_x": null,
            "overflow_y": null,
            "padding": null,
            "right": null,
            "top": null,
            "visibility": null,
            "width": null
          }
        },
        "0302f421128a4985873fe6efad52ad0e": {
          "model_module": "@jupyter-widgets/base",
          "model_name": "LayoutModel",
          "model_module_version": "1.2.0",
          "state": {
            "_model_module": "@jupyter-widgets/base",
            "_model_module_version": "1.2.0",
            "_model_name": "LayoutModel",
            "_view_count": null,
            "_view_module": "@jupyter-widgets/base",
            "_view_module_version": "1.2.0",
            "_view_name": "LayoutView",
            "align_content": null,
            "align_items": null,
            "align_self": null,
            "border": null,
            "bottom": null,
            "display": null,
            "flex": null,
            "flex_flow": null,
            "grid_area": null,
            "grid_auto_columns": null,
            "grid_auto_flow": null,
            "grid_auto_rows": null,
            "grid_column": null,
            "grid_gap": null,
            "grid_row": null,
            "grid_template_areas": null,
            "grid_template_columns": null,
            "grid_template_rows": null,
            "height": null,
            "justify_content": null,
            "justify_items": null,
            "left": null,
            "margin": null,
            "max_height": null,
            "max_width": null,
            "min_height": null,
            "min_width": null,
            "object_fit": null,
            "object_position": null,
            "order": null,
            "overflow": null,
            "overflow_x": null,
            "overflow_y": null,
            "padding": null,
            "right": null,
            "top": null,
            "visibility": null,
            "width": null
          }
        },
        "f39e25b7ef024ade917fbed5e25959c9": {
          "model_module": "@jupyter-widgets/controls",
          "model_name": "DescriptionStyleModel",
          "model_module_version": "1.5.0",
          "state": {
            "_model_module": "@jupyter-widgets/controls",
            "_model_module_version": "1.5.0",
            "_model_name": "DescriptionStyleModel",
            "_view_count": null,
            "_view_module": "@jupyter-widgets/base",
            "_view_module_version": "1.2.0",
            "_view_name": "StyleView",
            "description_width": ""
          }
        },
        "6b3dc8f311e74003a4ffc7c2df58cb2b": {
          "model_module": "@jupyter-widgets/base",
          "model_name": "LayoutModel",
          "model_module_version": "1.2.0",
          "state": {
            "_model_module": "@jupyter-widgets/base",
            "_model_module_version": "1.2.0",
            "_model_name": "LayoutModel",
            "_view_count": null,
            "_view_module": "@jupyter-widgets/base",
            "_view_module_version": "1.2.0",
            "_view_name": "LayoutView",
            "align_content": null,
            "align_items": null,
            "align_self": null,
            "border": null,
            "bottom": null,
            "display": null,
            "flex": null,
            "flex_flow": null,
            "grid_area": null,
            "grid_auto_columns": null,
            "grid_auto_flow": null,
            "grid_auto_rows": null,
            "grid_column": null,
            "grid_gap": null,
            "grid_row": null,
            "grid_template_areas": null,
            "grid_template_columns": null,
            "grid_template_rows": null,
            "height": null,
            "justify_content": null,
            "justify_items": null,
            "left": null,
            "margin": null,
            "max_height": null,
            "max_width": null,
            "min_height": null,
            "min_width": null,
            "object_fit": null,
            "object_position": null,
            "order": null,
            "overflow": null,
            "overflow_x": null,
            "overflow_y": null,
            "padding": null,
            "right": null,
            "top": null,
            "visibility": null,
            "width": null
          }
        },
        "60c321b4f54d46818e2c58420cfbfb96": {
          "model_module": "@jupyter-widgets/controls",
          "model_name": "ProgressStyleModel",
          "model_module_version": "1.5.0",
          "state": {
            "_model_module": "@jupyter-widgets/controls",
            "_model_module_version": "1.5.0",
            "_model_name": "ProgressStyleModel",
            "_view_count": null,
            "_view_module": "@jupyter-widgets/base",
            "_view_module_version": "1.2.0",
            "_view_name": "StyleView",
            "bar_color": null,
            "description_width": ""
          }
        },
        "c73970c656d74191a7929f4c36ffbd9f": {
          "model_module": "@jupyter-widgets/base",
          "model_name": "LayoutModel",
          "model_module_version": "1.2.0",
          "state": {
            "_model_module": "@jupyter-widgets/base",
            "_model_module_version": "1.2.0",
            "_model_name": "LayoutModel",
            "_view_count": null,
            "_view_module": "@jupyter-widgets/base",
            "_view_module_version": "1.2.0",
            "_view_name": "LayoutView",
            "align_content": null,
            "align_items": null,
            "align_self": null,
            "border": null,
            "bottom": null,
            "display": null,
            "flex": null,
            "flex_flow": null,
            "grid_area": null,
            "grid_auto_columns": null,
            "grid_auto_flow": null,
            "grid_auto_rows": null,
            "grid_column": null,
            "grid_gap": null,
            "grid_row": null,
            "grid_template_areas": null,
            "grid_template_columns": null,
            "grid_template_rows": null,
            "height": null,
            "justify_content": null,
            "justify_items": null,
            "left": null,
            "margin": null,
            "max_height": null,
            "max_width": null,
            "min_height": null,
            "min_width": null,
            "object_fit": null,
            "object_position": null,
            "order": null,
            "overflow": null,
            "overflow_x": null,
            "overflow_y": null,
            "padding": null,
            "right": null,
            "top": null,
            "visibility": null,
            "width": null
          }
        },
        "6443e9b8d3074dbfb4a76298a5d2ba7e": {
          "model_module": "@jupyter-widgets/controls",
          "model_name": "DescriptionStyleModel",
          "model_module_version": "1.5.0",
          "state": {
            "_model_module": "@jupyter-widgets/controls",
            "_model_module_version": "1.5.0",
            "_model_name": "DescriptionStyleModel",
            "_view_count": null,
            "_view_module": "@jupyter-widgets/base",
            "_view_module_version": "1.2.0",
            "_view_name": "StyleView",
            "description_width": ""
          }
        },
        "b47bf56155114312b710d98674670f69": {
          "model_module": "@jupyter-widgets/controls",
          "model_name": "HBoxModel",
          "model_module_version": "1.5.0",
          "state": {
            "_dom_classes": [],
            "_model_module": "@jupyter-widgets/controls",
            "_model_module_version": "1.5.0",
            "_model_name": "HBoxModel",
            "_view_count": null,
            "_view_module": "@jupyter-widgets/controls",
            "_view_module_version": "1.5.0",
            "_view_name": "HBoxView",
            "box_style": "",
            "children": [
              "IPY_MODEL_a7e2481bf72047f286c95d201e4dfe2c",
              "IPY_MODEL_c44f8c075dbe4044a54b21a80e93810d",
              "IPY_MODEL_23da138bde5447b18491bfa9cc9dbde1"
            ],
            "layout": "IPY_MODEL_8650b0ad45d645df996b2290f2a6dcec"
          }
        },
        "a7e2481bf72047f286c95d201e4dfe2c": {
          "model_module": "@jupyter-widgets/controls",
          "model_name": "HTMLModel",
          "model_module_version": "1.5.0",
          "state": {
            "_dom_classes": [],
            "_model_module": "@jupyter-widgets/controls",
            "_model_module_version": "1.5.0",
            "_model_name": "HTMLModel",
            "_view_count": null,
            "_view_module": "@jupyter-widgets/controls",
            "_view_module_version": "1.5.0",
            "_view_name": "HTMLView",
            "description": "",
            "description_tooltip": null,
            "layout": "IPY_MODEL_9e1ea8422e084774b5f4501111ef40b1",
            "placeholder": "​",
            "style": "IPY_MODEL_cb0e91229558473f846ef38374bba2b3",
            "value": "Making predictions...: 100%"
          }
        },
        "c44f8c075dbe4044a54b21a80e93810d": {
          "model_module": "@jupyter-widgets/controls",
          "model_name": "FloatProgressModel",
          "model_module_version": "1.5.0",
          "state": {
            "_dom_classes": [],
            "_model_module": "@jupyter-widgets/controls",
            "_model_module_version": "1.5.0",
            "_model_name": "FloatProgressModel",
            "_view_count": null,
            "_view_module": "@jupyter-widgets/controls",
            "_view_module_version": "1.5.0",
            "_view_name": "ProgressView",
            "bar_style": "success",
            "description": "",
            "description_tooltip": null,
            "layout": "IPY_MODEL_ea816a64a091495a9a15be6dcd0b9bf3",
            "max": 61,
            "min": 0,
            "orientation": "horizontal",
            "style": "IPY_MODEL_79246e5af6804c89a19eb7ae29e9fc31",
            "value": 61
          }
        },
        "23da138bde5447b18491bfa9cc9dbde1": {
          "model_module": "@jupyter-widgets/controls",
          "model_name": "HTMLModel",
          "model_module_version": "1.5.0",
          "state": {
            "_dom_classes": [],
            "_model_module": "@jupyter-widgets/controls",
            "_model_module_version": "1.5.0",
            "_model_name": "HTMLModel",
            "_view_count": null,
            "_view_module": "@jupyter-widgets/controls",
            "_view_module_version": "1.5.0",
            "_view_name": "HTMLView",
            "description": "",
            "description_tooltip": null,
            "layout": "IPY_MODEL_2b8382931eec432cbe0922c1e5f59951",
            "placeholder": "​",
            "style": "IPY_MODEL_96bc02019fce46f197ddf11ddcaa5919",
            "value": " 61/61 [00:01&lt;00:00, 58.54it/s]"
          }
        },
        "8650b0ad45d645df996b2290f2a6dcec": {
          "model_module": "@jupyter-widgets/base",
          "model_name": "LayoutModel",
          "model_module_version": "1.2.0",
          "state": {
            "_model_module": "@jupyter-widgets/base",
            "_model_module_version": "1.2.0",
            "_model_name": "LayoutModel",
            "_view_count": null,
            "_view_module": "@jupyter-widgets/base",
            "_view_module_version": "1.2.0",
            "_view_name": "LayoutView",
            "align_content": null,
            "align_items": null,
            "align_self": null,
            "border": null,
            "bottom": null,
            "display": null,
            "flex": null,
            "flex_flow": null,
            "grid_area": null,
            "grid_auto_columns": null,
            "grid_auto_flow": null,
            "grid_auto_rows": null,
            "grid_column": null,
            "grid_gap": null,
            "grid_row": null,
            "grid_template_areas": null,
            "grid_template_columns": null,
            "grid_template_rows": null,
            "height": null,
            "justify_content": null,
            "justify_items": null,
            "left": null,
            "margin": null,
            "max_height": null,
            "max_width": null,
            "min_height": null,
            "min_width": null,
            "object_fit": null,
            "object_position": null,
            "order": null,
            "overflow": null,
            "overflow_x": null,
            "overflow_y": null,
            "padding": null,
            "right": null,
            "top": null,
            "visibility": null,
            "width": null
          }
        },
        "9e1ea8422e084774b5f4501111ef40b1": {
          "model_module": "@jupyter-widgets/base",
          "model_name": "LayoutModel",
          "model_module_version": "1.2.0",
          "state": {
            "_model_module": "@jupyter-widgets/base",
            "_model_module_version": "1.2.0",
            "_model_name": "LayoutModel",
            "_view_count": null,
            "_view_module": "@jupyter-widgets/base",
            "_view_module_version": "1.2.0",
            "_view_name": "LayoutView",
            "align_content": null,
            "align_items": null,
            "align_self": null,
            "border": null,
            "bottom": null,
            "display": null,
            "flex": null,
            "flex_flow": null,
            "grid_area": null,
            "grid_auto_columns": null,
            "grid_auto_flow": null,
            "grid_auto_rows": null,
            "grid_column": null,
            "grid_gap": null,
            "grid_row": null,
            "grid_template_areas": null,
            "grid_template_columns": null,
            "grid_template_rows": null,
            "height": null,
            "justify_content": null,
            "justify_items": null,
            "left": null,
            "margin": null,
            "max_height": null,
            "max_width": null,
            "min_height": null,
            "min_width": null,
            "object_fit": null,
            "object_position": null,
            "order": null,
            "overflow": null,
            "overflow_x": null,
            "overflow_y": null,
            "padding": null,
            "right": null,
            "top": null,
            "visibility": null,
            "width": null
          }
        },
        "cb0e91229558473f846ef38374bba2b3": {
          "model_module": "@jupyter-widgets/controls",
          "model_name": "DescriptionStyleModel",
          "model_module_version": "1.5.0",
          "state": {
            "_model_module": "@jupyter-widgets/controls",
            "_model_module_version": "1.5.0",
            "_model_name": "DescriptionStyleModel",
            "_view_count": null,
            "_view_module": "@jupyter-widgets/base",
            "_view_module_version": "1.2.0",
            "_view_name": "StyleView",
            "description_width": ""
          }
        },
        "ea816a64a091495a9a15be6dcd0b9bf3": {
          "model_module": "@jupyter-widgets/base",
          "model_name": "LayoutModel",
          "model_module_version": "1.2.0",
          "state": {
            "_model_module": "@jupyter-widgets/base",
            "_model_module_version": "1.2.0",
            "_model_name": "LayoutModel",
            "_view_count": null,
            "_view_module": "@jupyter-widgets/base",
            "_view_module_version": "1.2.0",
            "_view_name": "LayoutView",
            "align_content": null,
            "align_items": null,
            "align_self": null,
            "border": null,
            "bottom": null,
            "display": null,
            "flex": null,
            "flex_flow": null,
            "grid_area": null,
            "grid_auto_columns": null,
            "grid_auto_flow": null,
            "grid_auto_rows": null,
            "grid_column": null,
            "grid_gap": null,
            "grid_row": null,
            "grid_template_areas": null,
            "grid_template_columns": null,
            "grid_template_rows": null,
            "height": null,
            "justify_content": null,
            "justify_items": null,
            "left": null,
            "margin": null,
            "max_height": null,
            "max_width": null,
            "min_height": null,
            "min_width": null,
            "object_fit": null,
            "object_position": null,
            "order": null,
            "overflow": null,
            "overflow_x": null,
            "overflow_y": null,
            "padding": null,
            "right": null,
            "top": null,
            "visibility": null,
            "width": null
          }
        },
        "79246e5af6804c89a19eb7ae29e9fc31": {
          "model_module": "@jupyter-widgets/controls",
          "model_name": "ProgressStyleModel",
          "model_module_version": "1.5.0",
          "state": {
            "_model_module": "@jupyter-widgets/controls",
            "_model_module_version": "1.5.0",
            "_model_name": "ProgressStyleModel",
            "_view_count": null,
            "_view_module": "@jupyter-widgets/base",
            "_view_module_version": "1.2.0",
            "_view_name": "StyleView",
            "bar_color": null,
            "description_width": ""
          }
        },
        "2b8382931eec432cbe0922c1e5f59951": {
          "model_module": "@jupyter-widgets/base",
          "model_name": "LayoutModel",
          "model_module_version": "1.2.0",
          "state": {
            "_model_module": "@jupyter-widgets/base",
            "_model_module_version": "1.2.0",
            "_model_name": "LayoutModel",
            "_view_count": null,
            "_view_module": "@jupyter-widgets/base",
            "_view_module_version": "1.2.0",
            "_view_name": "LayoutView",
            "align_content": null,
            "align_items": null,
            "align_self": null,
            "border": null,
            "bottom": null,
            "display": null,
            "flex": null,
            "flex_flow": null,
            "grid_area": null,
            "grid_auto_columns": null,
            "grid_auto_flow": null,
            "grid_auto_rows": null,
            "grid_column": null,
            "grid_gap": null,
            "grid_row": null,
            "grid_template_areas": null,
            "grid_template_columns": null,
            "grid_template_rows": null,
            "height": null,
            "justify_content": null,
            "justify_items": null,
            "left": null,
            "margin": null,
            "max_height": null,
            "max_width": null,
            "min_height": null,
            "min_width": null,
            "object_fit": null,
            "object_position": null,
            "order": null,
            "overflow": null,
            "overflow_x": null,
            "overflow_y": null,
            "padding": null,
            "right": null,
            "top": null,
            "visibility": null,
            "width": null
          }
        },
        "96bc02019fce46f197ddf11ddcaa5919": {
          "model_module": "@jupyter-widgets/controls",
          "model_name": "DescriptionStyleModel",
          "model_module_version": "1.5.0",
          "state": {
            "_model_module": "@jupyter-widgets/controls",
            "_model_module_version": "1.5.0",
            "_model_name": "DescriptionStyleModel",
            "_view_count": null,
            "_view_module": "@jupyter-widgets/base",
            "_view_module_version": "1.2.0",
            "_view_name": "StyleView",
            "description_width": ""
          }
        }
      }
    }
  },
  "cells": [
    {
      "cell_type": "markdown",
      "source": [
        "# Implementation of a Convolutional Neural Network (CNN) classification model with Word2Vec embeddings\n",
        "\n",
        "Note this notbook downloads the required data from a google drive in which the data acquired from https://github.com/sebischair/Medical-Abstracts-TC-Corpus is installed.\n",
        "\n",
        "The use of implementation within GoogleColab aso allows the user to utilise a public GPU."
      ],
      "metadata": {
        "id": "YB8KSUV33XH9"
      }
    },
    {
      "cell_type": "markdown",
      "source": [
        "## 0.1 Required packages\n",
        "\n"
      ],
      "metadata": {
        "id": "uyTFI9Ai55L2"
      }
    },
    {
      "cell_type": "code",
      "source": [
        "import nltk\n",
        "import pickle\n",
        "import pandas as pd\n",
        "import requests\n",
        "import gensim\n",
        "from gensim.utils import simple_preprocess\n",
        "from gensim.parsing.preprocessing import STOPWORDS\n",
        "from nltk.stem import WordNetLemmatizer, SnowballStemmer\n",
        "from nltk.stem.porter import *\n",
        "import numpy as np\n",
        "from gensim.models import Word2Vec\n",
        "import torch\n",
        "import torch.nn as nn\n",
        "import torch.optim as optim\n",
        "import string\n",
        "from nltk.tokenize import word_tokenize\n",
        "import tensorflow\n",
        "from tensorflow.keras.preprocessing.text import Tokenizer\n",
        "from tensorflow.keras.preprocessing.sequence import pad_sequences\n",
        "from nltk.corpus import stopwords\n",
        "from tensorflow.keras.layers import Embedding, Conv1D, MaxPooling1D, Flatten, Dense\n",
        "from tensorflow.keras.models import Sequential\n",
        "from torch.utils.data import DataLoader, TensorDataset\n",
        "from nltk.corpus import wordnet\n",
        "nltk.download('stopwords')\n",
        "nltk.download('wordnet')\n",
        "nltk.download('popular')"
      ],
      "metadata": {
        "colab": {
          "base_uri": "https://localhost:8080/"
        },
        "collapsed": true,
        "id": "sHjf9WZW55l7",
        "outputId": "b0e27471-eebf-4afe-9cae-d7adc84ae262"
      },
      "execution_count": 33,
      "outputs": [
        {
          "output_type": "stream",
          "name": "stderr",
          "text": [
            "[nltk_data] Downloading package stopwords to /root/nltk_data...\n",
            "[nltk_data]   Package stopwords is already up-to-date!\n",
            "[nltk_data] Downloading package wordnet to /root/nltk_data...\n",
            "[nltk_data]   Package wordnet is already up-to-date!\n",
            "[nltk_data] Downloading collection 'popular'\n",
            "[nltk_data]    | \n",
            "[nltk_data]    | Downloading package cmudict to /root/nltk_data...\n",
            "[nltk_data]    |   Package cmudict is already up-to-date!\n",
            "[nltk_data]    | Downloading package gazetteers to /root/nltk_data...\n",
            "[nltk_data]    |   Package gazetteers is already up-to-date!\n",
            "[nltk_data]    | Downloading package genesis to /root/nltk_data...\n",
            "[nltk_data]    |   Package genesis is already up-to-date!\n",
            "[nltk_data]    | Downloading package gutenberg to /root/nltk_data...\n",
            "[nltk_data]    |   Package gutenberg is already up-to-date!\n",
            "[nltk_data]    | Downloading package inaugural to /root/nltk_data...\n",
            "[nltk_data]    |   Package inaugural is already up-to-date!\n",
            "[nltk_data]    | Downloading package movie_reviews to\n",
            "[nltk_data]    |     /root/nltk_data...\n",
            "[nltk_data]    |   Package movie_reviews is already up-to-date!\n",
            "[nltk_data]    | Downloading package names to /root/nltk_data...\n",
            "[nltk_data]    |   Package names is already up-to-date!\n",
            "[nltk_data]    | Downloading package shakespeare to /root/nltk_data...\n",
            "[nltk_data]    |   Package shakespeare is already up-to-date!\n",
            "[nltk_data]    | Downloading package stopwords to /root/nltk_data...\n",
            "[nltk_data]    |   Package stopwords is already up-to-date!\n",
            "[nltk_data]    | Downloading package treebank to /root/nltk_data...\n",
            "[nltk_data]    |   Package treebank is already up-to-date!\n",
            "[nltk_data]    | Downloading package twitter_samples to\n",
            "[nltk_data]    |     /root/nltk_data...\n",
            "[nltk_data]    |   Package twitter_samples is already up-to-date!\n",
            "[nltk_data]    | Downloading package omw to /root/nltk_data...\n",
            "[nltk_data]    |   Package omw is already up-to-date!\n",
            "[nltk_data]    | Downloading package omw-1.4 to /root/nltk_data...\n",
            "[nltk_data]    |   Package omw-1.4 is already up-to-date!\n",
            "[nltk_data]    | Downloading package wordnet to /root/nltk_data...\n",
            "[nltk_data]    |   Package wordnet is already up-to-date!\n",
            "[nltk_data]    | Downloading package wordnet2021 to /root/nltk_data...\n",
            "[nltk_data]    |   Package wordnet2021 is already up-to-date!\n",
            "[nltk_data]    | Downloading package wordnet31 to /root/nltk_data...\n",
            "[nltk_data]    |   Package wordnet31 is already up-to-date!\n",
            "[nltk_data]    | Downloading package wordnet_ic to /root/nltk_data...\n",
            "[nltk_data]    |   Package wordnet_ic is already up-to-date!\n",
            "[nltk_data]    | Downloading package words to /root/nltk_data...\n",
            "[nltk_data]    |   Package words is already up-to-date!\n",
            "[nltk_data]    | Downloading package maxent_ne_chunker to\n",
            "[nltk_data]    |     /root/nltk_data...\n",
            "[nltk_data]    |   Package maxent_ne_chunker is already up-to-date!\n",
            "[nltk_data]    | Downloading package punkt to /root/nltk_data...\n",
            "[nltk_data]    |   Package punkt is already up-to-date!\n",
            "[nltk_data]    | Downloading package snowball_data to\n",
            "[nltk_data]    |     /root/nltk_data...\n",
            "[nltk_data]    |   Package snowball_data is already up-to-date!\n",
            "[nltk_data]    | Downloading package averaged_perceptron_tagger to\n",
            "[nltk_data]    |     /root/nltk_data...\n",
            "[nltk_data]    |   Package averaged_perceptron_tagger is already up-\n",
            "[nltk_data]    |       to-date!\n",
            "[nltk_data]    | \n",
            "[nltk_data]  Done downloading collection popular\n"
          ]
        },
        {
          "output_type": "execute_result",
          "data": {
            "text/plain": [
              "True"
            ]
          },
          "metadata": {},
          "execution_count": 33
        }
      ]
    },
    {
      "cell_type": "markdown",
      "source": [
        "## 0.2 Data installations\n",
        "\n",
        "This cell requires the user to downloads the dataset mentioned previous to a path they can input below.\n"
      ],
      "metadata": {
        "id": "n0nAZA_J4sXc"
      }
    },
    {
      "cell_type": "code",
      "source": [
        "#Installation of dataset\n",
        "from google.colab import drive\n",
        "drive.mount('/content/drive')\n",
        "import pandas as pd\n",
        "train_dataset = pd.read_csv('/content/drive/MyDrive/medical_tc_train.csv') #input own path\n",
        "test_dataset = pd.read_csv('/content/drive/MyDrive/medical_tc_test.csv')\n",
        "df_labels = pd.read_csv('/content/drive/MyDrive/medical_tc_labels.csv')"
      ],
      "metadata": {
        "id": "ANAvA3OQ42Pt",
        "colab": {
          "base_uri": "https://localhost:8080/"
        },
        "outputId": "3b66d935-2a92-41c5-c154-192d28986dd6"
      },
      "execution_count": 34,
      "outputs": [
        {
          "output_type": "stream",
          "name": "stdout",
          "text": [
            "Drive already mounted at /content/drive; to attempt to forcibly remount, call drive.mount(\"/content/drive\", force_remount=True).\n"
          ]
        }
      ]
    },
    {
      "cell_type": "markdown",
      "source": [
        "## 0.3 Device agnostic code\n",
        "\n",
        "If running on google colab reader should set 'runtime type to GPU (graphical processing unit).\n",
        "\n",
        "The purpose for creation of rendering images means it has faster compute time than using a CPU, as tasks are divided into much smaller parts running on a larger number of cores in parallel.\n",
        "\n",
        "This is useful in our implementation as training a NN over multiple epochs can take time, and computational speedup is always welcomed."
      ],
      "metadata": {
        "id": "LU9Z7m_V6JOI"
      }
    },
    {
      "cell_type": "code",
      "source": [
        "device = \"cuda\" if torch.cuda.is_available() else \"cpu\"\n",
        "device"
      ],
      "metadata": {
        "id": "wUUlRD6b6O_X",
        "colab": {
          "base_uri": "https://localhost:8080/",
          "height": 36
        },
        "outputId": "ab0f9c52-1911-428e-fb5e-7eb375871d58"
      },
      "execution_count": 35,
      "outputs": [
        {
          "output_type": "execute_result",
          "data": {
            "text/plain": [
              "'cpu'"
            ],
            "application/vnd.google.colaboratory.intrinsic+json": {
              "type": "string"
            }
          },
          "metadata": {},
          "execution_count": 35
        }
      ]
    },
    {
      "cell_type": "markdown",
      "source": [
        "## 1 Preprocessing and data preparation\n",
        "\n",
        "Analysis and derivation found in file '01_Introductin_EDA_and_preprocessing.ipynb'"
      ],
      "metadata": {
        "id": "7Mo14olP6Z8n"
      }
    },
    {
      "cell_type": "code",
      "source": [
        "en_stop = set(stopwords.words('english'))\n",
        "def preprocess(data):\n",
        "    data_proc = []\n",
        "    for doc in data['medical_abstract']:\n",
        "        #lowercases document\n",
        "        doc = doc.lower()\n",
        "        #removes any non-letter characters\n",
        "        doc = re.sub(r'\\b[^a-zA-Z]+\\b', ' ', doc)\n",
        "        #tokenize\n",
        "        toks = nltk.word_tokenize(doc)\n",
        "        #remove tokens of lenth <= 1 (can be varied)\n",
        "        toks = [tok for tok in toks if len(tok) > 1]\n",
        "        #remove stopwords\n",
        "        toks = [tok for tok in toks if tok not in en_stop]\n",
        "        #lemmatize\n",
        "        toks = [WordNetLemmatizer().lemmatize(tok) for tok in toks]\n",
        "        data_proc.append(toks)\n",
        "    return data_proc"
      ],
      "metadata": {
        "id": "FbqmloND7BMP"
      },
      "execution_count": 36,
      "outputs": []
    },
    {
      "cell_type": "code",
      "source": [
        "text_train = train_dataset['medical_abstract']\n",
        "y_train = train_dataset['condition_label']\n",
        "text_test = test_dataset['medical_abstract']\n",
        "y_test = test_dataset['condition_label']"
      ],
      "metadata": {
        "id": "vddymyhn7u0L"
      },
      "execution_count": 37,
      "outputs": []
    },
    {
      "cell_type": "code",
      "source": [
        "X_trains  = preprocess(train_dataset)\n",
        "X_tests = preprocess(test_dataset)\n",
        "#print(X_trains[0])\n",
        "tokenizer = Tokenizer()\n",
        "tokenizer.fit_on_texts(X_trains)\n",
        "\n",
        "X_train = tokenizer.texts_to_sequences(X_trains)\n",
        "X_test = tokenizer.texts_to_sequences(X_tests)\n",
        "\n",
        "vocab_size = len(tokenizer.word_index) + 1\n",
        "\n",
        "# Pad the sequences to a fixed length\n",
        "max_length = 100\n",
        "X_train = pad_sequences(X_train, maxlen=max_length, padding='post')\n",
        "#print(X_train[0])\n",
        "X_test = pad_sequences(X_test, maxlen=max_length, padding='post')\n",
        "\n",
        "\n",
        "X_train_tensor = torch.LongTensor(X_train).to(device)\n",
        "y_train_tensor = torch.LongTensor(y_train).to(device)\n",
        "train_dataset = TensorDataset(X_train_tensor, y_train_tensor)\n",
        "train_loader = DataLoader(train_dataset, batch_size=32)\n",
        "\n",
        "\n",
        "\n",
        "X_test_tensor = torch.LongTensor(X_test).to(device)\n",
        "y_test_tensor = torch.LongTensor(y_test).to(device)\n",
        "\n",
        "y_test_tensor = torch.LongTensor(y_test)\n",
        "test_dataset = TensorDataset(X_test_tensor, y_test_tensor)\n",
        "test_loader = DataLoader(test_dataset, batch_size=32)\n",
        "test_loader = test_loader"
      ],
      "metadata": {
        "id": "B0kKPult731G"
      },
      "execution_count": 38,
      "outputs": []
    },
    {
      "cell_type": "markdown",
      "source": [
        "## 2 Word2Vec\n",
        "\n",
        "https://arxiv.org/pdf/1301.3781.pdf [3]\n",
        "\n",
        "Word2Vec is an embedding that considers similarities of words within texts,and outputs a vectorisation representation for words within a corpus. Similarities within word2vec consider arangements and combinations within sentences and their gramatic relationship, as well as semantic similarity, that considers context based on meaning.\n",
        "\n",
        "It is a useful technique because it allows personalisation for the user in how closely you want the relationship between words to be considered (tailored via `window`), so can be altered in context. It also is useful in the context of neural networks as the vectorisation output is easy to use as an input in the appropriate model.\n",
        "\n",
        "\n",
        "\n"
      ],
      "metadata": {
        "id": "UC3JPta_76uL"
      }
    },
    {
      "cell_type": "markdown",
      "source": [
        "### 2.1 Implementation\n",
        "\n",
        "The cell below trains a word2vec model based on the corpus of texts provided in the training data."
      ],
      "metadata": {
        "id": "UhCL0SJy96s5"
      }
    },
    {
      "cell_type": "code",
      "source": [
        "import random\n",
        "torch.manual_seed(302)\n",
        "np.random.seed(302)\n",
        "random.seed(302)\n",
        "# Train the Word2Vec model\n",
        "vocab_size = len(tokenizer.word_index) + 1\n",
        "w2v_model = Word2Vec(X_trains, vector_size=100, window=5, min_count=1, workers=4)\n",
        "print(w2v_model)\n",
        "#w2v_model = Word2Vec(sentences, vector_size=100, window=5, min_count=5, workers=4)\n",
        "\n",
        "\n",
        "# Create a weight matrix for the embedding layer\n",
        "embedding_matrix = np.zeros((vocab_size, 100))\n",
        "for word, i in tokenizer.word_index.items():\n",
        "    if word in w2v_model.wv:\n",
        "        embedding_matrix[i] = w2v_model.wv[word]\n",
        "print(embedding_matrix.shape)\n"
      ],
      "metadata": {
        "id": "efbC6MfD-CCk",
        "colab": {
          "base_uri": "https://localhost:8080/"
        },
        "outputId": "89a8b4b5-0f9a-4b4c-d1a4-b6023d7366c0"
      },
      "execution_count": 39,
      "outputs": [
        {
          "output_type": "stream",
          "name": "stdout",
          "text": [
            "Word2Vec<vocab=30615, vector_size=100, alpha=0.025>\n",
            "(30616, 100)\n"
          ]
        }
      ]
    },
    {
      "cell_type": "markdown",
      "source": [
        "## 3 Evaluation metrics\n",
        "\n",
        "Used in model evaluation. Note the accuracy function and timeit function are retreived from: mrdbuorke [2]"
      ],
      "metadata": {
        "id": "i7wt0uls-RWH"
      }
    },
    {
      "cell_type": "code",
      "source": [
        "#Accuracy (source mrdbuorke colab link)\n",
        "def accuracy_fn(y_true, y_pred):\n",
        "    \"\"\"Calculates accuracy between truth labels and predictions.\n",
        "\n",
        "    Args:\n",
        "        y_true (torch.Tensor): Truth labels for predictions.\n",
        "        y_pred (torch.Tensor): Predictions to be compared to predictions.\n",
        "\n",
        "    Returns:\n",
        "        [torch.float]: Accuracy value between y_true and y_pred, e.g. 78.45\n",
        "    \"\"\"\n",
        "    correct = torch.eq(y_true, y_pred).sum().item()\n",
        "    acc = (correct / len(y_pred)) * 100\n",
        "    return acc"
      ],
      "metadata": {
        "id": "Une_x21I__vc"
      },
      "execution_count": 40,
      "outputs": []
    },
    {
      "cell_type": "code",
      "source": [
        "from timeit import default_timer as timer\n",
        "def print_train_time(start: float,\n",
        "                     end: float,\n",
        "                     device: torch.device = None):\n",
        "  \"\"\"Prints difference between start adn end time. \"\"\"\n",
        "  total_time = end - start\n",
        "  print(f\"Train time on {device}: {total_time:.3f} seconds\")\n",
        "  return total_time\n",
        "\n",
        "start_time = timer()\n",
        "# some code...\n",
        "end_time = timer()\n",
        "print_train_time(start=start_time, end= end_time, device = \"cpu\")"
      ],
      "metadata": {
        "id": "UP9x4DfRACRc",
        "colab": {
          "base_uri": "https://localhost:8080/"
        },
        "outputId": "487cb9f1-d1d5-4f9c-91a6-f7d2bce37e8d"
      },
      "execution_count": 41,
      "outputs": [
        {
          "output_type": "stream",
          "name": "stdout",
          "text": [
            "Train time on cpu: 0.000 seconds\n"
          ]
        },
        {
          "output_type": "execute_result",
          "data": {
            "text/plain": [
              "4.386000000522472e-05"
            ]
          },
          "metadata": {},
          "execution_count": 41
        }
      ]
    },
    {
      "cell_type": "code",
      "source": [
        "def performance(conf_mat):\n",
        "  TP = 0\n",
        "  for i in range(conf_mat.shape[0]):\n",
        "    Class = df_labels['condition_name'][i]\n",
        "    tp = conf_mat[i, i]\n",
        "    fp = np.sum(conf_mat[:, i]) - tp\n",
        "    fn = np.sum(conf_mat[i, :]) - tp\n",
        "    tn = np.sum(conf_mat) - (tp + fp + fn)\n",
        "    accuracy = (tp + tn) / (tp + tn + fp + fn)\n",
        "    precision = tp / (tp + fp) if (tp + fp) != 0 else 0\n",
        "    recall = tp / (tp + fn) if (tp + fn) != 0 else 0\n",
        "    TP += tp\n",
        "    print(Class.upper())\n",
        "    print( f\"Precision: {precision:.2f}, Recall: {recall:.2f}\")\n",
        "  accuracy_tot = TP / np.sum(conf_mat)\n",
        "  print(f\"Total Accuracy: {accuracy_tot:.3f}\")\n",
        "  return"
      ],
      "metadata": {
        "id": "a5pPzw4HDC2R"
      },
      "execution_count": 42,
      "outputs": []
    },
    {
      "cell_type": "markdown",
      "source": [
        "## 4 CNN model\n",
        "\n",
        "https://arxiv.org/ftp/arxiv/papers/2301/2301.11696.pdf [4]\n",
        "\n",
        "To capture the complicated structures of sentences and texts within the english language, a robust classification model must be able to identify the intricate and varying details within a large corpora of texts. Convolution Neural Networks (CNNs) have emerged as a leading model for this task.\n",
        "Their deep learning capabilities allow theidentification of  compliacated patterns within context, thus highlighting why word2vec and CNNs usually go hand-in-hand.\n",
        "\n",
        "Our implementation of the convoluation neural network to classify the medical abstracts is drawn from the methodology outlined within this report https://arxiv.org/ftp/arxiv/papers/1704/1704.06841.pdf [5]. We use the two convoluational and max-pooling layers as specified in the report, while conducting our own parameter tuning for learning rates and kernel based on our analysis of accuracy scores.\n",
        "\n",
        "Although the model's parameter and layer configurations are not exhaustively discussed in the `appendix.ipynb` file, leveraging structural insights from hte referenced report and parameter tuning have led us to establish a \"sufficient neural network\" structure in the context of our goal for classification of medical abstracts.\n",
        "\n"
      ],
      "metadata": {
        "id": "HEE_PnunAGba"
      }
    },
    {
      "cell_type": "markdown",
      "source": [
        "### 4.1 Model Architecture"
      ],
      "metadata": {
        "id": "Kg8s0jPXBPJ1"
      }
    },
    {
      "cell_type": "code",
      "source": [
        "num_classes =5\n",
        "random.seed(302)\n",
        "torch.cuda.manual_seed(302)\n",
        "torch.manual_seed(302)\n",
        "#create vector of labels 0,4\n",
        "\n",
        "class CNNMulticlass(nn.Module):\n",
        "    def __init__(self, vocab_size, embedding_dim, embedding_matrix, max_length):\n",
        "        super(CNNMulticlass, self).__init__()\n",
        "        #Embedding layers\n",
        "        self.embedding = nn.Embedding(vocab_size, embedding_dim)\n",
        "        self.embedding.weight = nn.Parameter(torch.tensor(embedding_matrix, dtype=torch.float32))\n",
        "        self.embedding.weight.requires_grad = False #keeps original embedding matrix\n",
        "\n",
        "        #two convolutional layers and 2 max pool layers like paper[1]\n",
        "        self.conv1 = nn.Conv1d(embedding_dim, 256, kernel_size=2)\n",
        "        self.pool1 = nn.MaxPool1d(5)\n",
        "        self.conv2 = nn.Conv1d(256, 256, kernel_size=2)\n",
        "        self.pool2 = nn.MaxPool1d(5)\n",
        "        #flattening for fully connected layers\n",
        "        self.flatten = nn.Flatten()\n",
        "        self.fc1 = nn.Linear(256 * ((max_length - 4) // 25) , 256)\n",
        "        self.fc2 = nn.Linear(256, num_classes)\n",
        "        #softmax activation for final output\n",
        "        self.softmax = nn.Softmax(dim=1)\n",
        "\n",
        "    def forward(self, x):\n",
        "      #pass input through embedding layer\n",
        "        x = self.embedding(x)\n",
        "        #need to rearrange for conv layer\n",
        "        x = x.permute(0, 2, 1)\n",
        "        #RelU activations with conv and max pool layers\n",
        "        x = self.pool1(nn.functional.relu(self.conv1(x)))\n",
        "        x = self.pool2(nn.functional.relu(self.conv2(x)))\n",
        "        x = self.flatten(x)\n",
        "        x = nn.functional.relu(self.fc1(x))\n",
        "        x = self.fc2(x)\n",
        "\n",
        "        return x\n",
        "\n",
        "\n"
      ],
      "metadata": {
        "id": "wtXplmQ8Aag_"
      },
      "execution_count": 43,
      "outputs": []
    },
    {
      "cell_type": "markdown",
      "source": [
        "### 4.2 Model instantiation, training and testing\n",
        "\n",
        "For faster implementation run on a GPU."
      ],
      "metadata": {
        "id": "xWVeeyOOBHRW"
      }
    },
    {
      "cell_type": "code",
      "source": [
        "model_multiclass = CNNMulticlass(vocab_size, 100, embedding_matrix, max_length).to(device)\n",
        "optimizer = torch.optim.Adam(model_multiclass.parameters(), lr=0.01)\n",
        "criterion = nn.CrossEntropyLoss()\n",
        "\n",
        "\n",
        "from tqdm.auto import tqdm\n",
        "print(len(test_loader))\n",
        "train_time_start_on_cpu = timer()\n",
        "\n",
        "epochs = 10\n",
        "for epoch in tqdm(range(epochs)):\n",
        "    print(f\"Epoch:{epoch}\\n-----\")\n",
        "    train_loss = 0\n",
        "    for batch, (inputs, labels) in enumerate(train_loader):\n",
        "        model_multiclass.train()\n",
        "        # Forward pass'=\n",
        "        #print(inputs)\n",
        "        y_pred = model_multiclass(inputs).to(device)\n",
        "        #print(y_pred.softmax(dim=1))\n",
        "        #Calculate loss\n",
        "        labels = labels.long() -1\n",
        "        #print(labels)\n",
        "        loss = criterion(y_pred, labels)\n",
        "        train_loss += loss\n",
        "        #optimizer zero-grad\n",
        "        optimizer.zero_grad()\n",
        "        #loss backward\n",
        "        loss.backward()\n",
        "        #step\n",
        "        optimizer.step()\n",
        "\n",
        "    train_loss /= len(train_loader)\n",
        "\n",
        "    ### Testing\n",
        "    test_loss, test_acc = 0, 0\n",
        "    model_multiclass.eval()\n",
        "    with torch.inference_mode():\n",
        "        for X_test_tensor, y_test_tensor in test_loader:\n",
        "            #forward pass\n",
        "            test_pred = model_multiclass(X_test_tensor).to(device)\n",
        "            #print(y_test_tensor -1)[0,4]\n",
        "            #calculate loss\n",
        "            y_test_tensor = y_test_tensor-1 #.Long()\n",
        "            y_test_tensor = y_test_tensor.to(device)\n",
        "            test_loss += criterion(test_pred, y_test_tensor)\n",
        "            #calculate accuracy\n",
        "            y_preds = test_pred.argmax(dim=1)\n",
        "            #print(y_preds)\n",
        "            test_acc += accuracy_fn(y_true = y_test_tensor, y_pred = y_preds)\n",
        "        # Calculate the test loss average per batch\n",
        "        test_loss /= len(test_loader)\n",
        "\n",
        "        # Calculate the test acc average per batch\n",
        "        test_acc /= len(test_loader)\n",
        "\n",
        "\n",
        "\n",
        "    print(f\"\\nTrain loss: {train_loss:.4f} | Test loss: {test_loss:.4f}, Test acc: {test_acc:.4f}\")\n",
        "    train_time_end_on_cpu = timer()\n",
        "    total_train_time_model_multiclass = print_train_time(start = train_time_start_on_cpu,\n",
        "                                              end = train_time_end_on_cpu,\n",
        "                                              device=str(next(model_multiclass.parameters()).device))"
      ],
      "metadata": {
        "id": "gJhRnyyOBV3_",
        "colab": {
          "base_uri": "https://localhost:8080/",
          "height": 979,
          "referenced_widgets": [
            "0ba868df8afd4e98bc16a6b318e70217",
            "0fddcd592fe244f4849be74fc1e696f4",
            "b0fa0ecd91c94b33806a84e9a73122a0",
            "678cf87954894387b0b41f08399c73c4",
            "bf096eb8461a4c368e0360caf3562bbd",
            "4d7f33364d5a449d99584481c32377ce",
            "e8240a76ccf2429c9e96e0253ac276e5",
            "b37c1c5bab9342b5a8184ac6f9307b84",
            "65675057002a4284afb88b8ef7251a1a",
            "d789fea455934fd1b327572148bf8c75",
            "cb8066ec5b2a4b7cb6080c9bdd1d801c"
          ]
        },
        "outputId": "ab18ae5f-768b-46df-f887-3f26a0a4e61e"
      },
      "execution_count": 44,
      "outputs": [
        {
          "output_type": "stream",
          "name": "stdout",
          "text": [
            "91\n"
          ]
        },
        {
          "output_type": "display_data",
          "data": {
            "text/plain": [
              "  0%|          | 0/10 [00:00<?, ?it/s]"
            ],
            "application/vnd.jupyter.widget-view+json": {
              "version_major": 2,
              "version_minor": 0,
              "model_id": "0ba868df8afd4e98bc16a6b318e70217"
            }
          },
          "metadata": {}
        },
        {
          "output_type": "stream",
          "name": "stdout",
          "text": [
            "Epoch:0\n",
            "-----\n",
            "\n",
            "Train loss: 1.2527 | Test loss: 1.1637, Test acc: 49.3475\n",
            "Train time on cpu: 20.037 seconds\n",
            "Epoch:1\n",
            "-----\n",
            "\n",
            "Train loss: 1.1152 | Test loss: 1.1021, Test acc: 53.9835\n",
            "Train time on cpu: 41.701 seconds\n",
            "Epoch:2\n",
            "-----\n",
            "\n",
            "Train loss: 1.0872 | Test loss: 1.0866, Test acc: 55.8036\n",
            "Train time on cpu: 64.405 seconds\n",
            "Epoch:3\n",
            "-----\n",
            "\n",
            "Train loss: 1.0701 | Test loss: 1.0943, Test acc: 53.0907\n",
            "Train time on cpu: 90.488 seconds\n",
            "Epoch:4\n",
            "-----\n",
            "\n",
            "Train loss: 1.0512 | Test loss: 1.0963, Test acc: 54.6703\n",
            "Train time on cpu: 112.546 seconds\n",
            "Epoch:5\n",
            "-----\n",
            "\n",
            "Train loss: 1.0451 | Test loss: 1.0723, Test acc: 56.1470\n",
            "Train time on cpu: 135.160 seconds\n",
            "Epoch:6\n",
            "-----\n",
            "\n",
            "Train loss: 1.0346 | Test loss: 1.0877, Test acc: 55.9409\n",
            "Train time on cpu: 157.962 seconds\n",
            "Epoch:7\n",
            "-----\n",
            "\n",
            "Train loss: 1.0362 | Test loss: 1.0968, Test acc: 54.9794\n",
            "Train time on cpu: 179.615 seconds\n",
            "Epoch:8\n",
            "-----\n",
            "\n",
            "Train loss: 1.0256 | Test loss: 1.0704, Test acc: 54.4986\n",
            "Train time on cpu: 203.829 seconds\n",
            "Epoch:9\n",
            "-----\n",
            "\n",
            "Train loss: 1.0219 | Test loss: 1.0476, Test acc: 57.3489\n",
            "Train time on cpu: 226.579 seconds\n"
          ]
        }
      ]
    },
    {
      "cell_type": "markdown",
      "source": [
        "## 4.3 Model Evaluation"
      ],
      "metadata": {
        "id": "xRjHJjAMCl3P"
      }
    },
    {
      "cell_type": "code",
      "source": [
        "# Import tqdm.auto for progress bar tracking\n",
        "random.seed(302)\n",
        "torch.cuda.manual_seed(302)\n",
        "torch.manual_seed(302)\n",
        "\n",
        "from tqdm.auto import tqdm\n",
        "\n",
        "#1. Make predictions with trained model\n",
        "y_preds = []\n",
        "model_multiclass.eval()\n",
        "with torch.inference_mode():\n",
        "  for X, y in tqdm(test_loader, desc = \"Making predictions...\"):\n",
        "    # Send the data and targets to target device\n",
        "    # DO the forward pass\n",
        "    X, y = X.to(device), y.to(device)\n",
        "\n",
        "    y_logits = model_multiclass(X)\n",
        "    #Turn prediction from logits -> prediction porbabilities -> prediction labels\n",
        "    y_pred = torch.softmax(y_logits.squeeze(), dim =0).argmax(dim=1)\n",
        "    # Put predictions on CPU for evaluation\n",
        "    y_preds.append(y_pred.cpu())\n",
        "\n",
        "  #COncatenate list of predictions into a tensor\n",
        "  #print(y_preds)\n",
        "y_pred_tensor = torch.cat(y_preds)\n",
        "y_pred_tensor\n",
        "\n",
        "try:\n",
        "  import torchmetrics, mlxtend\n",
        "  print(f\"mlxtend version: {mlxtend.__version__}\")\n",
        "  assert int(mlxtend.__version__.split(\".\")[1]) >=19, \"mlxtend version should be 0.19.0 or higher\"\n",
        "except:\n",
        "  !pip install -q torchmetrics -U mlxtend\n",
        "  import torchmetrics, mlxtend\n",
        "  print(f\" mlxtend version: {mlxtend.__version__}\")\n",
        "\n",
        "from torchmetrics import ConfusionMatrix\n",
        "from mlxtend.plotting import plot_confusion_matrix\n",
        "\n",
        "# 2. Setup confusion instance and compare predictions to targets\n",
        "class_names = [\"neoplasms\", \"digestive system\" , \"nervous system\", \"cardiovascular system\", \"general\"]\n",
        "\n",
        "\n",
        "\n",
        "confmat = ConfusionMatrix(task = \"multiclass\",\n",
        "                          num_classes=5)\n",
        "\n",
        "y_test_tensor = torch.LongTensor(y_test)-1\n",
        "print(y_test_tensor)\n",
        "print(y_pred_tensor)\n",
        "confmat_tensor = confmat(preds = y_pred_tensor,\n",
        "                         target = y_test_tensor).numpy()\n",
        "\n",
        "#3. Plot the confusion matrix\n",
        "fig, ax = plot_confusion_matrix(\n",
        "    conf_mat = confmat_tensor, #matplotlib likes working with numpy\n",
        "    figsize=(10,7),\n",
        "    class_names=class_names,\n",
        ")\n"
      ],
      "metadata": {
        "id": "e6sNAGuUBjQj",
        "colab": {
          "base_uri": "https://localhost:8080/",
          "height": 796,
          "referenced_widgets": [
            "f73de69b90874834a0d626bc5c68dbf5",
            "7f7687851c1b49b1af459640580a02b0",
            "21dd89c16d6041e589ce6279346ccedb",
            "c517bc6031974ac2a5aac5b35669b65b",
            "8e4cd4f9da7e4a16917de38e67c5a27d",
            "6dcad3d9232e45828fe8e615e0a41435",
            "61f8cd19e46144568095fe2c86a1a5fd",
            "705d2bfd376945bb99853ba6e7d67cdb",
            "f5a38c9e43c34cff9fb1bb40abf83b8b",
            "60a424cf327641c0bef8788c4794ead9",
            "d56c24ff331945c2a2175929889e67db"
          ]
        },
        "outputId": "e995d97d-8251-48d3-eabb-96e199a6e10f"
      },
      "execution_count": 45,
      "outputs": [
        {
          "output_type": "display_data",
          "data": {
            "text/plain": [
              "Making predictions...:   0%|          | 0/91 [00:00<?, ?it/s]"
            ],
            "application/vnd.jupyter.widget-view+json": {
              "version_major": 2,
              "version_minor": 0,
              "model_id": "f73de69b90874834a0d626bc5c68dbf5"
            }
          },
          "metadata": {}
        },
        {
          "output_type": "stream",
          "name": "stdout",
          "text": [
            "mlxtend version: 0.23.0\n",
            "tensor([2, 4, 4,  ..., 3, 0, 3])\n",
            "tensor([2, 2, 0,  ..., 3, 0, 0])\n"
          ]
        },
        {
          "output_type": "display_data",
          "data": {
            "text/plain": [
              "<Figure size 1000x700 with 1 Axes>"
            ],
            "image/png": "[encoded data removed]"
          },
          "metadata": {}
        }
      ]
    },
    {
      "cell_type": "code",
      "source": [
        "performance(confmat_tensor)\n"
      ],
      "metadata": {
        "id": "kQvixaUII3SJ",
        "colab": {
          "base_uri": "https://localhost:8080/"
        },
        "outputId": "8d241a0a-4752-4075-bd45-2d309c4b4769"
      },
      "execution_count": 46,
      "outputs": [
        {
          "output_type": "stream",
          "name": "stdout",
          "text": [
            "NEOPLASMS\n",
            "Precision: 0.61, Recall: 0.82\n",
            "DIGESTIVE SYSTEM DISEASES\n",
            "Precision: 0.36, Recall: 0.63\n",
            "NERVOUS SYSTEM DISEASES\n",
            "Precision: 0.40, Recall: 0.66\n",
            "CARDIOVASCULAR DISEASES\n",
            "Precision: 0.65, Recall: 0.60\n",
            "GENERAL PATHOLOGICAL CONDITIONS\n",
            "Precision: 0.40, Recall: 0.13\n",
            "Total Accuracy: 0.502\n"
          ]
        }
      ]
    },
    {
      "cell_type": "markdown",
      "source": [
        "From the confusion matrix and performance metric, we can see that our model has greater capabilities of classifying the categories with a more specific medical condition as outlined in the much higher accuracy for the first four classes, but has significant errors for the general pathological conditions group. This suggests that while the model can identify patters in the embeddings of medical abstracts, there are lapses when considering reports that lack specificity."
      ],
      "metadata": {
        "id": "1xWzXQHGCfIc"
      }
    },
    {
      "cell_type": "markdown",
      "source": [
        "## 5 Exploration of misslclassification for general medical abstracts"
      ],
      "metadata": {
        "id": "-8s_rpUnIzam"
      }
    },
    {
      "cell_type": "markdown",
      "source": [
        "From our model evaluation above there is significant disparity in the model's classification accuracy for final class. In this section we use a low dimensional t-SNE plot to visualise the Word2Vec embeddings for each class, to see if there's any evidence supporting the low accuracy for the general medical conditions class."
      ],
      "metadata": {
        "id": "xspa04MTJInX"
      }
    },
    {
      "cell_type": "markdown",
      "source": [
        "### 5.1 T-SNE plots for visualisation\n",
        "\n",
        "* https://towardsdatascience.com/google-news-and-leo-tolstoy-visualizing-word2vec-word-embeddings-with-t-sne-11558d8bd4d\n",
        "\n"
      ],
      "metadata": {
        "id": "MJEDlSGfJFXn"
      }
    },
    {
      "cell_type": "code",
      "source": [
        "# Split dataset into classes and specific classes\n",
        "import matplotlib.pyplot as plt\n",
        "import matplotlib.cm as cm\n",
        "from sklearn.manifold import TSNE\n",
        "from gensim.models import Word2Vec\n",
        "\n",
        "train_dataset = pd.read_csv('/content/drive/MyDrive/medical_tc_train.csv')\n",
        "test_dataset = pd.read_csv('/content/drive/MyDrive/medical_tc_test.csv')\n",
        "\n",
        "\n",
        "print(train_dataset.head())\n",
        "\n",
        "neoplasms= train_dataset[train_dataset['condition_label'] == 1]\n",
        "digestive_system = train_dataset[train_dataset['condition_label'] == 2]\n",
        "nervous_system = train_dataset[train_dataset['condition_label'] == 3]\n",
        "cardiovascular = train_dataset[train_dataset['condition_label'] == 4]\n",
        "general = train_dataset[train_dataset['condition_label'] == 5]\n",
        "\n",
        "print(general.head())\n",
        "# Assuming you have lists of texts for the general class and specific classes\n",
        "neoplasms_texts = neoplasms['medical_abstract']\n",
        "digestive_texts = digestive_system['medical_abstract']\n",
        "nervous_texts = nervous_system['medical_abstract']\n",
        "cardiovascular_texts = cardiovascular['medical_abstract']\n",
        "general_texts = general['medical_abstract']\n",
        "\n",
        "neoplasms_train = preprocess(neoplasms)\n",
        "digestive_train = preprocess(digestive_system)\n",
        "nervous_train = preprocess(nervous_system)\n",
        "cardiovascular_train = preprocess(cardiovascular)\n",
        "general_train = preprocess(general)\n",
        "\n",
        "\n",
        "# For general class\n",
        "tokenizer = Tokenizer()\n",
        "tokenizer.fit_on_texts(general_train)\n",
        "general_train1 = tokenizer.texts_to_sequences(general_train)\n",
        "vocab_size = len(tokenizer.word_index) + 1\n",
        "# Pad the sequences to a fixed length\n",
        "max_length = 100\n",
        "general_train1 = pad_sequences(general_train1, maxlen=max_length, padding='post')\n",
        "general_w2v_model = Word2Vec(general_train, vector_size=100, window=5, min_count=1, workers=4)\n",
        "# Generate word embeddings for general and specific classes\n",
        "general_embedding_matrix = np.zeros((vocab_size, 100))\n",
        "for word, i in tokenizer.word_index.items():\n",
        "    if word in general_w2v_model.wv:\n",
        "        general_embedding_matrix[i] = general_w2v_model.wv[word]\n",
        "print(general_embedding_matrix.shape)\n",
        "# Replace these steps with your Word2Vec model training process\n",
        "\n",
        "\n",
        "## FOr neoplasm clases\n",
        "tokenizer = Tokenizer()\n",
        "tokenizer.fit_on_texts(neoplasms_train)\n",
        "neoplasms_train1 = tokenizer.texts_to_sequences(neoplasms_train)\n",
        "neoplasms_vocab_size = len(tokenizer.word_index) + 1\n",
        "# Pad the sequences to a fixed length\n",
        "max_length = 100\n",
        "neoplasms_train1 = pad_sequences(neoplasms_train1, maxlen=max_length, padding='post')\n",
        "neoplasms_w2v_model = Word2Vec(sentences=neoplasms_texts, vector_size=100, window=5, min_count=1, workers=4)\n",
        "# Generate word embes=dding matrix for  specific classes\n",
        "neoplasms_embedding_matrix = np.zeros((neoplasms_vocab_size, 100))\n",
        "for word, i in tokenizer.word_index.items():\n",
        "    if word in neoplasms_w2v_model.wv:\n",
        "        neoplasms_embedding_matrix[i] = neoplasms_w2v_model.wv[word]\n",
        "print(neoplasms_embedding_matrix.shape)\n",
        "\n",
        "\n",
        "## FOr digestive clases\n",
        "tokenizer = Tokenizer()\n",
        "tokenizer.fit_on_texts(digestive_train)\n",
        "digestive_train1 = tokenizer.texts_to_sequences(digestive_train)\n",
        "digestive_vocab_size = len(tokenizer.word_index) + 1\n",
        "# Pad the sequences to a fixed length\n",
        "max_length = 100\n",
        "digestive_train1 = pad_sequences(digestive_train1, maxlen=max_length, padding='post')\n",
        "digestive_w2v_model = Word2Vec(sentences=digestive_texts, vector_size=100, window=5, min_count=1, workers=4)\n",
        "# Generate word embes=dding matrix for  specific classes\n",
        "digestive_embedding_matrix = np.zeros((digestive_vocab_size, 100))\n",
        "for word, i in tokenizer.word_index.items():\n",
        "    if word in digestive_w2v_model.wv:\n",
        "        digestive_embedding_matrix[i] = digestive_w2v_model.wv[word]\n",
        "print(digestive_embedding_matrix.shape)\n",
        "\n",
        "\n",
        "## For nervous system clases\n",
        "tokenizer = Tokenizer()\n",
        "tokenizer.fit_on_texts(nervous_train)\n",
        "nervous_train1 = tokenizer.texts_to_sequences(nervous_train)\n",
        "nervous_vocab_size = len(tokenizer.word_index) + 1\n",
        "# Pad the sequences to a fixed length\n",
        "max_length = 100\n",
        "nervous_train1 = pad_sequences(nervous_train1, maxlen=max_length, padding='post')\n",
        "nervous_w2v_model = Word2Vec(sentences=nervous_texts, vector_size=100, window=5, min_count=1, workers=4)\n",
        "# Generate word embes=dding matrix for  specific classes\n",
        "nervous_embedding_matrix = np.zeros((nervous_vocab_size, 100))\n",
        "for word, i in tokenizer.word_index.items():\n",
        "    if word in nervous_w2v_model.wv:\n",
        "        nervous_embedding_matrix[i] = nervous_w2v_model.wv[word]\n",
        "print(nervous_embedding_matrix.shape)\n",
        "\n",
        "\n",
        "## For cardiovascular clases\n",
        "tokenizer = Tokenizer()\n",
        "tokenizer.fit_on_texts(cardiovascular_train)\n",
        "cardiovascular_train1 = tokenizer.texts_to_sequences(cardiovascular_train)\n",
        "cardiovascular_vocab_size = len(tokenizer.word_index) + 1\n",
        "# Pad the sequences to a fixed length\n",
        "max_length = 100\n",
        "cardiovascular_train1 = pad_sequences(cardiovascular_train1, maxlen=max_length, padding='post')\n",
        "cardiovascular_w2v_model = Word2Vec(sentences=cardiovascular_texts, vector_size=100, window=5, min_count=1, workers=4)\n",
        "# Generate word embes=dding matrix for  specific classes\n",
        "cardiovascular_embedding_matrix = np.zeros((cardiovascular_vocab_size, 100))\n",
        "for word, i in tokenizer.word_index.items():\n",
        "    if word in cardiovascular_w2v_model.wv:\n",
        "        cardiovascular_embedding_matrix[i] = cardiovascular_w2v_model.wv[word]\n",
        "print(cardiovascular_embedding_matrix.shape)\n",
        "\n",
        "\n",
        "\n",
        "# Apply t-SNE for dimensionality reduction\n",
        "tsne = TSNE(n_components=2, random_state=42)\n",
        "embeddings_neoplasms = tsne.fit_transform(neoplasms_embedding_matrix)\n",
        "\n",
        "tsne = TSNE(n_components=2, random_state=42)\n",
        "embeddings_digestive = tsne.fit_transform(digestive_embedding_matrix)\n",
        "\n",
        "tsne = TSNE(n_components=2, random_state=42)\n",
        "embeddings_nervous = tsne.fit_transform(nervous_embedding_matrix)\n",
        "\n",
        "tsne = TSNE(n_components=2, random_state=42)\n",
        "embeddings_cardiovascular = tsne.fit_transform(cardiovascular_embedding_matrix)\n",
        "\n",
        "tsne = TSNE(n_components=2, random_state=42)\n",
        "embeddings_general = tsne.fit_transform(general_embedding_matrix)\n",
        "\n",
        "\n",
        "# Plotting\n",
        "plt.figure(figsize=(8, 6))\n",
        "for idx, (x, y) in enumerate(embeddings_neoplasms):\n",
        "    color = 'blue'  # Assign different colors to general and specific classes\n",
        "    plt.scatter(x, y, color=color, alpha=0.7)\n",
        "\n",
        "plt.xlabel('Dimension 1')\n",
        "plt.ylabel('Dimension 2')\n",
        "plt.title('t-SNE Visualization for neoplasms class embeddings')\n",
        "plt.grid(True)\n",
        "plt.show()\n",
        "\n",
        "plt.figure(figsize=(8, 6))\n",
        "for idx, (x, y) in enumerate(embeddings_digestive):\n",
        "    label = 'digestive'\n",
        "    color = 'blue'  # Assign different colors to general and specific classes\n",
        "    plt.scatter(x, y, color=color, alpha=0.7)\n",
        "\n",
        "plt.xlabel('Dimension 1')\n",
        "plt.ylabel('Dimension 2')\n",
        "plt.title('t-SNE Visualization for digestive system class embeddings')\n",
        "plt.grid(True)\n",
        "plt.show()\n",
        "\n",
        "plt.figure(figsize=(8, 6))\n",
        "for idx, (x, y) in enumerate(embeddings_nervous):\n",
        "    label = 'neoplasms'\n",
        "    color = 'blue'  # Assign different colors to general and specific classes\n",
        "    plt.scatter(x, y, color=color, alpha=0.7)\n",
        "\n",
        "plt.xlabel('Dimension 1')\n",
        "plt.ylabel('Dimension 2')\n",
        "plt.title('t-SNE Visualization for nervous system class embeddings')\n",
        "plt.grid(True)\n",
        "plt.show()\n",
        "\n",
        "plt.figure(figsize=(8, 6))\n",
        "for idx, (x, y) in enumerate(embeddings_cardiovascular):\n",
        "    label = 'cardiovascular'\n",
        "    color = 'blue'  # Assign different colors to general and specific classes\n",
        "    plt.scatter(x, y, color=color, alpha=0.7)\n",
        "\n",
        "plt.xlabel('Dimension 1')\n",
        "plt.ylabel('Dimension 2')\n",
        "plt.title('t-SNE Visualization for cardiovascular system class embeddingss')\n",
        "plt.grid(True)\n",
        "plt.show()\n",
        "\n",
        "plt.figure(figsize=(8, 6))\n",
        "for idx, (x, y) in enumerate(embeddings_general):\n",
        "    label = 'neoplasms'\n",
        "    color = 'blue'  # Assign different colors to general and specific classes\n",
        "    plt.scatter(x, y, color=color, alpha=0.7)\n",
        "\n",
        "plt.xlabel('Dimension 1')\n",
        "plt.ylabel('Dimension 2')\n",
        "plt.title('t-SNE Visualization for general class embeddingss')\n",
        "plt.grid(True)\n",
        "plt.show()"
      ],
      "metadata": {
        "id": "381J4rwaJXbb",
        "colab": {
          "base_uri": "https://localhost:8080/",
          "height": 1000
        },
        "outputId": "b066c3cd-69cb-4f01-8263-aeaa4fb35efa"
      },
      "execution_count": 47,
      "outputs": [
        {
          "output_type": "stream",
          "name": "stdout",
          "text": [
            "   condition_label                                   medical_abstract\n",
            "0                5  Tissue changes around loose prostheses. A cani...\n",
            "1                1  Neuropeptide Y and neuron-specific enolase lev...\n",
            "2                2  Sexually transmitted diseases of the colon, re...\n",
            "3                1  Lipolytic factors associated with murine and h...\n",
            "4                3  Does carotid restenosis predict an increased r...\n",
            "    condition_label                                   medical_abstract\n",
            "0                 5  Tissue changes around loose prostheses. A cani...\n",
            "8                 5  Color Doppler diagnosis of mechanical prosthet...\n",
            "9                 5  Noninvasive diagnosis of right-sided extracard...\n",
            "12                5  Closure of a bronchopleural fistula with bronc...\n",
            "18                5  In vitro and in vivo effects within the corona...\n",
            "(20806, 100)\n"
          ]
        },
        {
          "output_type": "stream",
          "name": "stderr",
          "text": [
            "WARNING:gensim.models.word2vec:Each 'sentences' item should be a list of words (usually unicode strings). First item here is instead plain <class 'str'>.\n"
          ]
        },
        {
          "output_type": "stream",
          "name": "stdout",
          "text": [
            "(15382, 100)\n"
          ]
        },
        {
          "output_type": "stream",
          "name": "stderr",
          "text": [
            "WARNING:gensim.models.word2vec:Each 'sentences' item should be a list of words (usually unicode strings). First item here is instead plain <class 'str'>.\n",
            "WARNING:gensim.models.word2vec:Each 'sentences' item should be a list of words (usually unicode strings). First item here is instead plain <class 'str'>.\n"
          ]
        },
        {
          "output_type": "stream",
          "name": "stdout",
          "text": [
            "(10439, 100)\n",
            "(12638, 100)\n"
          ]
        },
        {
          "output_type": "stream",
          "name": "stderr",
          "text": [
            "WARNING:gensim.models.word2vec:Each 'sentences' item should be a list of words (usually unicode strings). First item here is instead plain <class 'str'>.\n"
          ]
        },
        {
          "output_type": "stream",
          "name": "stdout",
          "text": [
            "(13259, 100)\n"
          ]
        },
        {
          "output_type": "display_data",
          "data": {
            "text/plain": [
              "<Figure size 800x600 with 1 Axes>"
            ],
            "image/png": "[encoded data removed]"
          },
          "metadata": {}
        },
        {
          "output_type": "display_data",
          "data": {
            "text/plain": [
              "<Figure size 800x600 with 1 Axes>"
            ],
            "image/png": "[encoded data removed]"
          },
          "metadata": {}
        },
        {
          "output_type": "display_data",
          "data": {
            "text/plain": [
              "<Figure size 800x600 with 1 Axes>"
            ],
            "image/png": "[encoded data removed]"
          },
          "metadata": {}
        },
        {
          "output_type": "display_data",
          "data": {
            "text/plain": [
              "<Figure size 800x600 with 1 Axes>"
            ],
            "image/png": "[encoded data removed]"
          },
          "metadata": {}
        },
        {
          "output_type": "display_data",
          "data": {
            "text/plain": [
              "<Figure size 800x600 with 1 Axes>"
            ],
            "image/png": "[encoded data removed]"
          },
          "metadata": {}
        }
      ]
    },
    {
      "cell_type": "markdown",
      "source": [
        "From the graphs executed above, it is clear to see a large variance/spread in distribution of the word embeddings in the general pathological category of our data, in comparison to the more conscise plots for the other classes.\n",
        "\n",
        "Given t-SNE plots provide visualisations for the complex relationships between datapoints, the spread of the final class supports the  resulting low accuracy, due to more complex embedding structure that spreads between the other four categories."
      ],
      "metadata": {
        "id": "h-0tHfKvQLfb"
      }
    },
    {
      "cell_type": "markdown",
      "source": [
        "### Analysis without the 'general pathological conditions' class\n",
        "\n",
        "From research perfromed within our EDA, classification and t-SNE plot of the embeddings, it is clear to see that including the general pathological conditions category results in inaccuries within our classification as explored within class imbalance, lack of specifcity and spread of word embeddings within the class. Thus furhter analysis in this section is done without the use of the generic class, to explore model accuracy without the vaired class."
      ],
      "metadata": {
        "id": "4qdT6nWJldjE"
      }
    },
    {
      "cell_type": "code",
      "source": [
        "train_dataset = pd.read_csv('/content/drive/MyDrive/medical_tc_train.csv') #input own path\n",
        "test_dataset = pd.read_csv('/content/drive/MyDrive/medical_tc_test.csv') # \"\"\n",
        "\n",
        "train_dataset2 = train_dataset[train_dataset['condition_label'] != 5]\n",
        "test_dataset2 = test_dataset[test_dataset['condition_label'] != 5]"
      ],
      "metadata": {
        "id": "rEuxGJACmNvN"
      },
      "execution_count": 48,
      "outputs": []
    },
    {
      "cell_type": "code",
      "source": [
        "text_train = train_dataset2['medical_abstract']\n",
        "y_train = train_dataset2['condition_label']\n",
        "text_test = test_dataset2['medical_abstract']\n",
        "y_test = test_dataset2['condition_label']"
      ],
      "metadata": {
        "id": "_yHqjbFQmyOb"
      },
      "execution_count": 49,
      "outputs": []
    },
    {
      "cell_type": "code",
      "source": [
        "X_trains  = preprocess(train_dataset2)\n",
        "X_tests = preprocess(test_dataset2)\n",
        "#print(X_trains[0])\n",
        "tokenizer = Tokenizer()\n",
        "tokenizer.fit_on_texts(X_trains)\n",
        "\n",
        "X_train = tokenizer.texts_to_sequences(X_trains)\n",
        "X_test = tokenizer.texts_to_sequences(X_tests)\n",
        "\n",
        "vocab_size = len(tokenizer.word_index) + 1\n",
        "\n",
        "# Pad the sequences to a fixed length\n",
        "max_length = 100\n",
        "X_train = pad_sequences(X_train, maxlen=max_length, padding='post')\n",
        "#print(X_train[0])\n",
        "X_test = pad_sequences(X_test, maxlen=max_length, padding='post')\n",
        "\n",
        "\n",
        "X_train_tensor = torch.LongTensor(X_train).to(device)\n",
        "y_train_array = y_train.to_numpy()\n",
        "y_train_tensor = torch.LongTensor(y_train_array).to(device)\n",
        "train_dataset = TensorDataset(X_train_tensor, y_train_tensor)\n",
        "train_loader = DataLoader(train_dataset, batch_size=32)\n",
        "\n",
        "\n",
        "\n",
        "X_test_tensor = torch.LongTensor(X_test).to(device)\n",
        "y_test_tensor = torch.LongTensor(y_test).to(device)\n",
        "\n",
        "y_test_tensor = torch.LongTensor(y_test)\n",
        "test_dataset = TensorDataset(X_test_tensor, y_test_tensor)\n",
        "test_loader = DataLoader(test_dataset, batch_size=32)\n",
        "test_loader = test_loader"
      ],
      "metadata": {
        "id": "E4MEbDr-m9VK"
      },
      "execution_count": 50,
      "outputs": []
    },
    {
      "cell_type": "code",
      "source": [
        "import random\n",
        "torch.manual_seed(302)\n",
        "np.random.seed(302)\n",
        "random.seed(302)\n",
        "# Train the Word2Vec model\n",
        "vocab_size = len(tokenizer.word_index) + 1\n",
        "w2v_model = Word2Vec(X_trains, vector_size=100, window=5, min_count=1, workers=4)\n",
        "print(w2v_model)\n",
        "#w2v_model = Word2Vec(sentences, vector_size=100, window=5, min_count=5, workers=4)\n",
        "\n",
        "\n",
        "# Create a weight matrix for the embedding layer\n",
        "embedding_matrix = np.zeros((vocab_size, 100))\n",
        "for word, i in tokenizer.word_index.items():\n",
        "    if word in w2v_model.wv:\n",
        "        embedding_matrix[i] = w2v_model.wv[word]\n",
        "print(embedding_matrix.shape)\n"
      ],
      "metadata": {
        "id": "rEJQNhR0nHu3",
        "colab": {
          "base_uri": "https://localhost:8080/"
        },
        "outputId": "8be2399c-1442-43e2-e372-52164b1c8e87"
      },
      "execution_count": 51,
      "outputs": [
        {
          "output_type": "stream",
          "name": "stdout",
          "text": [
            "Word2Vec<vocab=26234, vector_size=100, alpha=0.025>\n",
            "(26235, 100)\n"
          ]
        }
      ]
    },
    {
      "cell_type": "code",
      "source": [
        "num_classes =4\n",
        "random.seed(302)\n",
        "torch.cuda.manual_seed(302)\n",
        "torch.manual_seed(302)\n",
        "\n",
        "class CNNMulticlass(nn.Module):\n",
        "    def __init__(self, vocab_size, embedding_dim, embedding_matrix, max_length):\n",
        "        super(CNNMulticlass, self).__init__()\n",
        "        #Embedding layers\n",
        "        self.embedding = nn.Embedding(vocab_size, embedding_dim)\n",
        "        self.embedding.weight = nn.Parameter(torch.tensor(embedding_matrix, dtype=torch.float32))\n",
        "        self.embedding.weight.requires_grad = False #keeps original embedding matrix\n",
        "\n",
        "        #two convolutional layers and 2 max pool layers like paper[1]\n",
        "        self.conv1 = nn.Conv1d(embedding_dim, 256, kernel_size=2)\n",
        "        self.pool1 = nn.MaxPool1d(5)\n",
        "        self.conv2 = nn.Conv1d(256, 256, kernel_size=2)\n",
        "        self.pool2 = nn.MaxPool1d(5)\n",
        "        #flattening for fully connected layers\n",
        "        self.flatten = nn.Flatten()\n",
        "        self.fc1 = nn.Linear(256 * ((max_length - 4) // 25) , 256)\n",
        "        self.fc2 = nn.Linear(256, num_classes)\n",
        "        #softmax activation for final output\n",
        "        self.softmax = nn.Softmax(dim=1)\n",
        "\n",
        "    def forward(self, x):\n",
        "      #pass input through embedding layer\n",
        "        x = self.embedding(x)\n",
        "        #need to rearrange for conv layer\n",
        "        x = x.permute(0, 2, 1)\n",
        "        #RelU activations with conv and max pool layers\n",
        "        x = self.pool1(nn.functional.relu(self.conv1(x)))\n",
        "        x = self.pool2(nn.functional.relu(self.conv2(x)))\n",
        "        x = self.flatten(x)\n",
        "        x = nn.functional.relu(self.fc1(x))\n",
        "        x = self.fc2(x)\n",
        "\n",
        "        return x\n",
        "\n",
        "\n"
      ],
      "metadata": {
        "id": "GC39OtLMnJAw"
      },
      "execution_count": 52,
      "outputs": []
    },
    {
      "cell_type": "code",
      "source": [
        "model_multiclass = CNNMulticlass(vocab_size, 100, embedding_matrix, max_length).to(device)\n",
        "optimizer = torch.optim.Adam(model_multiclass.parameters(), lr=0.01)\n",
        "criterion = nn.CrossEntropyLoss()\n",
        "\n",
        "\n",
        "from tqdm.auto import tqdm\n",
        "print(len(test_loader))\n",
        "train_time_start_on_cpu = timer()\n",
        "\n",
        "epochs = 10\n",
        "for epoch in tqdm(range(epochs)):\n",
        "    print(f\"Epoch:{epoch}\\n-----\")\n",
        "    train_loss = 0\n",
        "    for batch, (inputs, labels) in enumerate(train_loader):\n",
        "        model_multiclass.train()\n",
        "        # Forward pass'=\n",
        "        #print(inputs)\n",
        "        y_pred = model_multiclass(inputs).to(device)\n",
        "        #print(y_pred.softmax(dim=1))\n",
        "        #Calculate loss\n",
        "        labels = labels.long() -1\n",
        "        #print(labels)\n",
        "        loss = criterion(y_pred, labels)\n",
        "        train_loss += loss\n",
        "        #optimizer zero-grad\n",
        "        optimizer.zero_grad()\n",
        "        #loss backward\n",
        "        loss.backward()\n",
        "        #step\n",
        "        optimizer.step()\n",
        "\n",
        "    train_loss /= len(train_loader)\n",
        "\n",
        "    ### Testing\n",
        "    test_loss, test_acc = 0, 0\n",
        "    model_multiclass.eval()\n",
        "    with torch.inference_mode():\n",
        "        for X_test_tensor, y_test_tensor in test_loader:\n",
        "            #forward pass\n",
        "            test_pred = model_multiclass(X_test_tensor).to(device)\n",
        "            #print(y_test_tensor -1)[0,4]\n",
        "            #calculate loss\n",
        "            y_test_tensor = y_test_tensor-1 #.Long()\n",
        "            y_test_tensor = y_test_tensor.to(device)\n",
        "            test_loss += criterion(test_pred, y_test_tensor)\n",
        "            #calculate accuracy\n",
        "            y_preds = test_pred.argmax(dim=1)\n",
        "            #print(y_preds)\n",
        "            test_acc += accuracy_fn(y_true = y_test_tensor, y_pred = y_preds)\n",
        "        # Calculate the test loss average per batch\n",
        "        test_loss /= len(test_loader)\n",
        "\n",
        "        # Calculate the test acc average per batch\n",
        "        test_acc /= len(test_loader)\n",
        "\n",
        "\n",
        "\n",
        "    print(f\"\\nTrain loss: {train_loss:.4f} | Test loss: {test_loss:.4f}, Test acc: {test_acc:.4f}\")\n",
        "    train_time_end_on_cpu = timer()\n",
        "    total_train_time_model_multiclass = print_train_time(start = train_time_start_on_cpu,\n",
        "                                              end = train_time_end_on_cpu,\n",
        "                                              device=str(next(model_multiclass.parameters()).device))"
      ],
      "metadata": {
        "id": "EASZyXgknaOm",
        "colab": {
          "base_uri": "https://localhost:8080/",
          "height": 979,
          "referenced_widgets": [
            "090592adc2f74855b81f3273bd074a00",
            "936defed35ef45949fdd1283c9e0eff0",
            "992037c847974988bbb71a40ba62cbca",
            "2477703a947d4dccb7488db0b66d9fe4",
            "4ba7629b28d84f20aa295b8ef81a412d",
            "0302f421128a4985873fe6efad52ad0e",
            "f39e25b7ef024ade917fbed5e25959c9",
            "6b3dc8f311e74003a4ffc7c2df58cb2b",
            "60c321b4f54d46818e2c58420cfbfb96",
            "c73970c656d74191a7929f4c36ffbd9f",
            "6443e9b8d3074dbfb4a76298a5d2ba7e"
          ]
        },
        "outputId": "c8c415b1-2fe2-40e5-d1c5-28a1745a158b"
      },
      "execution_count": 53,
      "outputs": [
        {
          "output_type": "stream",
          "name": "stdout",
          "text": [
            "61\n"
          ]
        },
        {
          "output_type": "display_data",
          "data": {
            "text/plain": [
              "  0%|          | 0/10 [00:00<?, ?it/s]"
            ],
            "application/vnd.jupyter.widget-view+json": {
              "version_major": 2,
              "version_minor": 0,
              "model_id": "090592adc2f74855b81f3273bd074a00"
            }
          },
          "metadata": {}
        },
        {
          "output_type": "stream",
          "name": "stdout",
          "text": [
            "Epoch:0\n",
            "-----\n",
            "\n",
            "Train loss: 0.9992 | Test loss: 0.8372, Test acc: 68.1279\n",
            "Train time on cpu: 13.241 seconds\n",
            "Epoch:1\n",
            "-----\n",
            "\n",
            "Train loss: 0.8012 | Test loss: 0.7964, Test acc: 71.5530\n",
            "Train time on cpu: 26.340 seconds\n",
            "Epoch:2\n",
            "-----\n",
            "\n",
            "Train loss: 0.7391 | Test loss: 0.7855, Test acc: 73.5290\n",
            "Train time on cpu: 40.318 seconds\n",
            "Epoch:3\n",
            "-----\n",
            "\n",
            "Train loss: 0.6984 | Test loss: 0.6988, Test acc: 76.2441\n",
            "Train time on cpu: 56.085 seconds\n",
            "Epoch:4\n",
            "-----\n",
            "\n",
            "Train loss: 0.6648 | Test loss: 0.6933, Test acc: 75.3513\n",
            "Train time on cpu: 71.453 seconds\n",
            "Epoch:5\n",
            "-----\n",
            "\n",
            "Train loss: 0.6528 | Test loss: 0.6851, Test acc: 76.1929\n",
            "Train time on cpu: 86.815 seconds\n",
            "Epoch:6\n",
            "-----\n",
            "\n",
            "Train loss: 0.6399 | Test loss: 0.6996, Test acc: 76.1929\n",
            "Train time on cpu: 102.139 seconds\n",
            "Epoch:7\n",
            "-----\n",
            "\n",
            "Train loss: 0.6318 | Test loss: 0.6746, Test acc: 76.3466\n",
            "Train time on cpu: 117.583 seconds\n",
            "Epoch:8\n",
            "-----\n",
            "\n",
            "Train loss: 0.6216 | Test loss: 0.6687, Test acc: 76.8882\n",
            "Train time on cpu: 132.935 seconds\n",
            "Epoch:9\n",
            "-----\n",
            "\n",
            "Train loss: 0.6191 | Test loss: 0.6791, Test acc: 77.1956\n",
            "Train time on cpu: 148.305 seconds\n"
          ]
        }
      ]
    },
    {
      "cell_type": "code",
      "source": [
        "# Import tqdm.auto for progress bar tracking\n",
        "random.seed(302)\n",
        "torch.cuda.manual_seed(302)\n",
        "torch.manual_seed(302)\n",
        "\n",
        "from tqdm.auto import tqdm\n",
        "\n",
        "#1. Make predictions with trained model\n",
        "y_preds = []\n",
        "model_multiclass.eval()\n",
        "with torch.inference_mode():\n",
        "  for X, y in tqdm(test_loader, desc = \"Making predictions...\"):\n",
        "    # Send the data and targets to target device\n",
        "    # DO the forward pass\n",
        "    X, y = X.to(device), y.to(device)\n",
        "\n",
        "    y_logits = model_multiclass(X)\n",
        "    #Turn prediction from logits -> prediction porbabilities -> prediction labels\n",
        "    y_pred = torch.softmax(y_logits.squeeze(), dim =0).argmax(dim=1)\n",
        "    # Put predictions on CPU for evaluation\n",
        "    y_preds.append(y_pred.cpu())\n",
        "\n",
        "  #COncatenate list of predictions into a tensor\n",
        "  #print(y_preds)\n",
        "y_pred_tensor = torch.cat(y_preds)\n",
        "y_pred_tensor\n",
        "\n",
        "try:\n",
        "  import torchmetrics, mlxtend\n",
        "  print(f\"mlxtend version: {mlxtend.__version__}\")\n",
        "  assert int(mlxtend.__version__.split(\".\")[1]) >=19, \"mlxtend version should be 0.19.0 or higher\"\n",
        "except:\n",
        "  !pip install -q torchmetrics -U mlxtend\n",
        "  import torchmetrics, mlxtend\n",
        "  print(f\" mlxtend version: {mlxtend.__version__}\")\n",
        "\n",
        "from torchmetrics import ConfusionMatrix\n",
        "from mlxtend.plotting import plot_confusion_matrix\n",
        "\n",
        "# 2. Setup confusion instance and compare predictions to targets\n",
        "class_names = [\"neoplasms\", \"digestive system\" , \"nervous system\", \"cardiovascular system\"]\n",
        "\n",
        "\n",
        "confmat = ConfusionMatrix(task = \"multiclass\",\n",
        "                          num_classes=4)\n",
        "\n",
        "y_test_tensor = torch.LongTensor(y_test)-1\n",
        "print(y_test_tensor)\n",
        "print(y_pred_tensor)\n",
        "confmat_tensor = confmat(preds = y_pred_tensor,\n",
        "                         target = y_test_tensor).numpy()\n",
        "\n",
        "#3. Plot the confusion matrix\n",
        "fig, ax = plot_confusion_matrix(\n",
        "    conf_mat = confmat_tensor, #matplotlib likes working with numpy\n",
        "    figsize=(10,7),\n",
        "    class_names=class_names,\n",
        ")\n",
        "\n"
      ],
      "metadata": {
        "id": "fld_Ei3QnfMo",
        "colab": {
          "base_uri": "https://localhost:8080/",
          "height": 796,
          "referenced_widgets": [
            "b47bf56155114312b710d98674670f69",
            "a7e2481bf72047f286c95d201e4dfe2c",
            "c44f8c075dbe4044a54b21a80e93810d",
            "23da138bde5447b18491bfa9cc9dbde1",
            "8650b0ad45d645df996b2290f2a6dcec",
            "9e1ea8422e084774b5f4501111ef40b1",
            "cb0e91229558473f846ef38374bba2b3",
            "ea816a64a091495a9a15be6dcd0b9bf3",
            "79246e5af6804c89a19eb7ae29e9fc31",
            "2b8382931eec432cbe0922c1e5f59951",
            "96bc02019fce46f197ddf11ddcaa5919"
          ]
        },
        "outputId": "c7188d6c-2ac5-4878-a49a-de77b0b39560"
      },
      "execution_count": 54,
      "outputs": [
        {
          "output_type": "display_data",
          "data": {
            "text/plain": [
              "Making predictions...:   0%|          | 0/61 [00:00<?, ?it/s]"
            ],
            "application/vnd.jupyter.widget-view+json": {
              "version_major": 2,
              "version_minor": 0,
              "model_id": "b47bf56155114312b710d98674670f69"
            }
          },
          "metadata": {}
        },
        {
          "output_type": "stream",
          "name": "stdout",
          "text": [
            "mlxtend version: 0.23.0\n",
            "tensor([2, 0, 3,  ..., 3, 0, 3])\n",
            "tensor([1, 0, 2,  ..., 3, 1, 2])\n"
          ]
        },
        {
          "output_type": "display_data",
          "data": {
            "text/plain": [
              "<Figure size 1000x700 with 1 Axes>"
            ],
            "image/png": "[encoded data removed]"
          },
          "metadata": {}
        }
      ]
    },
    {
      "cell_type": "code",
      "source": [
        "performance(confmat_tensor)"
      ],
      "metadata": {
        "colab": {
          "base_uri": "https://localhost:8080/"
        },
        "id": "_fLtZwLQrk34",
        "outputId": "61766f54-4cf6-41b3-dbe7-fd6350218d94"
      },
      "execution_count": 55,
      "outputs": [
        {
          "output_type": "stream",
          "name": "stdout",
          "text": [
            "NEOPLASMS\n",
            "Precision: 0.79, Recall: 0.79\n",
            "DIGESTIVE SYSTEM DISEASES\n",
            "Precision: 0.58, Recall: 0.69\n",
            "NERVOUS SYSTEM DISEASES\n",
            "Precision: 0.61, Recall: 0.71\n",
            "CARDIOVASCULAR DISEASES\n",
            "Precision: 0.89, Recall: 0.71\n",
            "Total Accuracy: 0.734\n"
          ]
        }
      ]
    },
    {
      "cell_type": "markdown",
      "source": [
        "From the improvement of accuracy for the updated confusion matrix it is clear to see our model successfully identifies patterns within medical abstracts attaining a successful classification rate of over 70%. However, while this is an improvement from the model including the general pathological conditions class, further grid searching for parameter and architectural exploration of our CNN should provide an even higher accuracy."
      ],
      "metadata": {
        "id": "lUudl1NHorI5"
      }
    }
  ]
}