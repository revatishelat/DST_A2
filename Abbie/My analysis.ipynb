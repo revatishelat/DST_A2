{
 "cells": [
  {
   "cell_type": "markdown",
   "id": "d1cf459b",
   "metadata": {},
   "source": [
    "# Creating a CNN model \n",
    "1. Implement  initial preprocessing phase\n",
    "2. Run Word2Vec\n",
    "3. Create CNN model    \n",
    "   "
   ]
  },
  {
   "cell_type": "markdown",
   "id": "6528a0d1",
   "metadata": {},
   "source": [
    "## Any pre-required install ments \n",
    "* Edit so formal 'if requires package statement"
   ]
  },
  {
   "cell_type": "code",
   "execution_count": 1,
   "id": "e0d52a49",
   "metadata": {},
   "outputs": [],
   "source": [
    "#!pip install nltk\n",
    "#!pip install gensim\n",
    "#!pip install torch\n",
    "\n",
    "#!pip install torch torchvision torchaudio\n",
    "#import torch\n",
    "## For windows (possibly):\n",
    "#!conda install -y -c conda-forge cudatoolkit=11.2 cudnn=8.1.0\n",
    "# Anything above 2.10 is not supported on the GPU on Windows Native\n",
    "#!pip install \"tensorflow<2.11\"\n",
    "\n",
    "#!pip install typing-extensions --upgrade\n",
    "#!pip install Cython\n",
    "#!conda install -y -c conda-forge cudatoolkit=11.2 cudnn=8.1.0\n",
    "## Anything above 2.10 is not supported on the GPU on Windows Native\n",
    "#!pip install tensorflow"
   ]
  },
  {
   "cell_type": "markdown",
   "id": "72f8d09e",
   "metadata": {},
   "source": [
    "## Package imports required\n",
    "* Edit for formal 'if requires package' statement\n",
    "* See if can remove pink output/ error message"
   ]
  },
  {
   "cell_type": "code",
   "execution_count": 2,
   "id": "6f0dc401",
   "metadata": {},
   "outputs": [
    {
     "name": "stderr",
     "output_type": "stream",
     "text": [
      "C:\\Users\\abbie\\Documents\\programming\\lib\\site-packages\\pandas\\core\\computation\\expressions.py:21: UserWarning: Pandas requires version '2.8.0' or newer of 'numexpr' (version '2.7.3' currently installed).\n",
      "  from pandas.core.computation.check import NUMEXPR_INSTALLED\n",
      "C:\\Users\\abbie\\Documents\\programming\\lib\\site-packages\\pandas\\core\\arrays\\masked.py:62: UserWarning: Pandas requires version '1.3.4' or newer of 'bottleneck' (version '1.3.2' currently installed).\n",
      "  from pandas.core import (\n"
     ]
    }
   ],
   "source": [
    "import nltk\n",
    "import pickle\n",
    "import pandas as pd\n",
    "import requests\n",
    "import gensim\n",
    "from gensim.utils import simple_preprocess\n",
    "from gensim.parsing.preprocessing import STOPWORDS\n",
    "from nltk.stem import WordNetLemmatizer, SnowballStemmer\n",
    "from nltk.stem.porter import *\n",
    "import numpy as np\n",
    "from gensim.models import Word2Vec\n",
    "import torch\n",
    "import torch.nn as nn\n",
    "import torch.optim as optim\n",
    "import string\n",
    "from nltk.tokenize import word_tokenize\n",
    "import tensorflow\n",
    "from tensorflow.keras.preprocessing.text import Tokenizer\n",
    "from tensorflow.keras.preprocessing.sequence import pad_sequences\n",
    "from nltk.corpus import stopwords\n",
    "from tensorflow.keras.layers import Embedding, Conv1D, MaxPooling1D, Flatten, Dense\n",
    "from tensorflow.keras.models import Sequential\n",
    "from torch.utils.data import DataLoader, TensorDataset\n",
    "from nltk.corpus import wordnet"
   ]
  },
  {
   "cell_type": "markdown",
   "id": "36cefcb3",
   "metadata": {},
   "source": [
    "## Downloading and refining dataset"
   ]
  },
  {
   "cell_type": "code",
   "execution_count": 3,
   "id": "906d1400",
   "metadata": {},
   "outputs": [],
   "source": [
    "train_data = pd.read_csv('medical_tc_train.csv')\n",
    "test_data = pd.read_csv('medical_tc_test.csv')\n",
    "labels = pd.read_csv('medical_tc_labels.csv')\n",
    "test_data.head()\n",
    "train_data['index'] = train_data.index\n",
    "\n",
    "text_train = train_data['medical_abstract']# preprocess is faster than normalise_text.\n",
    "y_train = train_data['condition_label']\n",
    "text_train[:2]\n",
    "text_test = test_data['medical_abstract']\n",
    "y_test = test_data['condition_label']"
   ]
  },
  {
   "cell_type": "markdown",
   "id": "11dd94df",
   "metadata": {},
   "source": [
    "## Preprocessing text\n",
    "* Put all preporcessing into one cell\n"
   ]
  },
  {
   "cell_type": "code",
   "execution_count": 4,
   "id": "1e511baf",
   "metadata": {},
   "outputs": [],
   "source": [
    "#Function from preprocessing file \n",
    "### Do this once! Then leave commented next time you run the script.\n",
    "#nltk.download('stopwords')\n",
    "#nltk.download('wordnet')\n",
    "#nltk.download('popular')\n",
    "\n",
    "en_stop = set(stopwords.words('english'))\n",
    "def preprocess(data):\n",
    "    data_proc = []\n",
    "    for doc in data['medical_abstract']:\n",
    "        #lowercases document\n",
    "        doc = doc.lower()\n",
    "        #removes any non-letter characters\n",
    "        doc = re.sub(r'\\b[^a-zA-Z]+\\b', ' ', doc)\n",
    "        #tokenize\n",
    "        toks = nltk.word_tokenize(doc)\n",
    "        #remove tokens of lenth <= 1 (can be varied)\n",
    "        toks = [tok for tok in toks if len(tok) > 1]\n",
    "        #remove stopwords\n",
    "        toks = [tok for tok in toks if tok not in en_stop]\n",
    "        #lemmatize\n",
    "        toks = [WordNetLemmatizer().lemmatize(tok) for tok in toks]\n",
    "        data_proc.append(toks)\n",
    "    return data_proc"
   ]
  },
  {
   "cell_type": "code",
   "execution_count": 7,
   "id": "c0a46b5a",
   "metadata": {},
   "outputs": [
    {
     "name": "stdout",
     "output_type": "stream",
     "text": [
      "['tissue', 'change', 'around', 'loose', 'prosthesis', 'canine', 'model', 'investigate', 'effect', 'antiinflammatory', 'agent', 'aseptically', 'loosened', 'prosthesis', 'provided', 'mean', 'investigating', 'vivo', 'vitro', 'activity', 'cell', 'associated', 'loosening', 'process', 'seven', 'dog', 'cell', 'isolated', 'maintained', 'culture', 'sufficient', 'period', 'time', 'biologic', 'activity', 'could', 'studied', 'well', 'effect', 'different', 'agent', 'added', 'cell', 'vivo', 'vitro', 'biologic', 'response', 'determined', 'interleukin', 'prostaglandin', 'e2', 'activity', 'paralleled', 'roentgenographic', 'appearance', 'loosening', 'technetium', 'image', 'observation', 'made', 'time', 'revision', 'surgery', 'correlation', 'clinical', 'roentgenographic', 'histologic', 'biochemical', 'loosening', 'indicates', 'canine', 'model', 'suitable', 'investigating', 'mechanism', 'prosthetic', 'failure', 'canine', 'model', 'permit', 'study', 'possible', 'nonsurgical', 'therapeutic', 'intervention', 'ultimate', 'hope', 'stopping', 'slowing', 'loosening', 'process']\n",
      "[   75    48  1726  6540  1121  1911   211  1094    17  5967   269 23060\n",
      " 16264  1121   907    20  6541   626   446    91     3    21  4207   635\n",
      "   175   467     3   451  1020   563  1775   101    38  2170    91   196\n",
      "   105   129    17   184   269  1802     3   626   446  2170    55   365\n",
      "  1247  1344  2201    91  5019  4611   925  4207  2108   664   588   485\n",
      "    38  1747    46   281    18  4611   429  1287  4207  1598  1911   211\n",
      "  2092  6541   248  1828   111  1911   211  2469     5   294  4208   569\n",
      "   509  4798  5795  4612  4906  4207   635     0     0     0     0     0\n",
      "     0     0     0     0]\n"
     ]
    }
   ],
   "source": [
    "\n",
    "X_trains  = preprocess(train_data)\n",
    "X_tests = preprocess(test_data)\n",
    "print(X_trains[0])\n",
    "tokenizer = Tokenizer()\n",
    "tokenizer.fit_on_texts(X_trains)\n",
    "\n",
    "X_train = tokenizer.texts_to_sequences(X_trains)\n",
    "X_test = tokenizer.texts_to_sequences(X_tests)\n",
    "\n",
    "vocab_size = len(tokenizer.word_index) + 1\n",
    "\n",
    "# Pad the sequences to a fixed length\n",
    "max_length = 100\n",
    "X_train = pad_sequences(X_train, maxlen=max_length, padding='post')\n",
    "print(X_train[0])\n",
    "X_test = pad_sequences(X_test, maxlen=max_length, padding='post')\n",
    "\n"
   ]
  },
  {
   "cell_type": "markdown",
   "id": "0d6548fc",
   "metadata": {},
   "source": [
    "## Word2Vec model\n",
    "* Consider what each line of code is doing to refine to make sense in context, i.e. is sentence needed?"
   ]
  },
  {
   "cell_type": "code",
   "execution_count": 10,
   "id": "4765492c",
   "metadata": {},
   "outputs": [
    {
     "name": "stdout",
     "output_type": "stream",
     "text": [
      "Word2Vec<vocab=30615, vector_size=100, alpha=0.025>\n",
      "(30616, 100)\n"
     ]
    }
   ],
   "source": [
    "# Train the Word2Vec model\n",
    "vocab_size = len(tokenizer.word_index) + 1\n",
    "w2v_model = Word2Vec(X_trains, vector_size=100, window=5, min_count=1, workers=4)\n",
    "print(w2v_model)\n",
    "#w2v_model = Word2Vec(sentences, vector_size=100, window=5, min_count=5, workers=4)\n",
    "\n",
    "\n",
    "# Create a weight matrix for the embedding layer\n",
    "embedding_matrix = np.zeros((vocab_size, 100))\n",
    "for word, i in tokenizer.word_index.items():\n",
    "    if word in w2v_model.wv:\n",
    "        embedding_matrix[i] = w2v_model.wv[word]        \n",
    "print(embedding_matrix.shape)\n"
   ]
  },
  {
   "cell_type": "markdown",
   "id": "295e431b",
   "metadata": {},
   "source": [
    "## Evaluation metrics \n",
    "* Accuracy \n",
    "* Time to run / comparing to other models and on GPU maybe? "
   ]
  },
  {
   "cell_type": "code",
   "execution_count": 11,
   "id": "d829ce94",
   "metadata": {},
   "outputs": [],
   "source": [
    "#Accuracy (source mrdbuorke colab link)\n",
    "def accuracy_fn(y_true, y_pred):\n",
    "    \"\"\"Calculates accuracy between truth labels and predictions.\n",
    "\n",
    "    Args:\n",
    "        y_true (torch.Tensor): Truth labels for predictions.\n",
    "        y_pred (torch.Tensor): Predictions to be compared to predictions.\n",
    "\n",
    "    Returns:\n",
    "        [torch.float]: Accuracy value between y_true and y_pred, e.g. 78.45\n",
    "    \"\"\"\n",
    "    correct = torch.eq(y_true, y_pred).sum().item()\n",
    "    acc = (correct / len(y_pred)) * 100\n",
    "    return acc"
   ]
  },
  {
   "cell_type": "code",
   "execution_count": 12,
   "id": "3e6d9346",
   "metadata": {},
   "outputs": [
    {
     "name": "stdout",
     "output_type": "stream",
     "text": [
      "Train time on cpu: 0.000 seconds\n"
     ]
    },
    {
     "data": {
      "text/plain": [
       "0.00015229999996790866"
      ]
     },
     "execution_count": 12,
     "metadata": {},
     "output_type": "execute_result"
    }
   ],
   "source": [
    "from timeit import default_timer as timer\n",
    "def print_train_time(start: float,\n",
    "                     end: float,\n",
    "                     device: torch.device = None):\n",
    "  \"\"\"Prints difference between start adn end time. \"\"\"\n",
    "  total_time = end - start\n",
    "  print(f\"Train time on {device}: {total_time:.3f} seconds\")\n",
    "  return total_time\n",
    "\n",
    "start_time = timer()\n",
    "# some code...\n",
    "end_time = timer()\n",
    "print_train_time(start=start_time, end= end_time, device = \"cpu\")"
   ]
  },
  {
   "cell_type": "markdown",
   "id": "4018d331",
   "metadata": {},
   "source": [
    "## CNN model creation\n",
    "\n",
    "* Print out accuracy \n",
    "* Print out predictions vs truths i.e confusion matrix format\n",
    "* Add time it function \n",
    "* Grid search for best hyperparameters"
   ]
  },
  {
   "cell_type": "code",
   "execution_count": 13,
   "id": "5b7552e7",
   "metadata": {},
   "outputs": [],
   "source": [
    "\n",
    "num_classes =5\n",
    "#create vector of labels 0,4\n",
    "\n",
    "\n",
    "class CNNMulticlass(nn.Module):\n",
    "    def __init__(self, vocab_size, embedding_dim, embedding_matrix, max_length):\n",
    "        super(CNNMulticlass, self).__init__()\n",
    "        self.embedding = nn.Embedding(vocab_size, embedding_dim)\n",
    "        self.embedding.weight = nn.Parameter(torch.tensor(embedding_matrix, dtype=torch.float32))\n",
    "        self.embedding.weight.requires_grad = False #keeps embedidng matrix\n",
    "        \n",
    "        self.conv1 = nn.Conv1d(embedding_dim, 256, kernel_size=2)\n",
    "        self.pool1 = nn.MaxPool1d(5)\n",
    "        self.conv2 = nn.Conv1d(256, 256, kernel_size=2)\n",
    "        self.pool2 = nn.MaxPool1d(5)\n",
    "        self.flatten = nn.Flatten()\n",
    "        self.fc1 = nn.Linear(256 * ((max_length - 4) // 25) , 256)\n",
    "        self.fc2 = nn.Linear(256, num_classes)\n",
    "        self.softmax = nn.Softmax(dim=1)\n",
    "\n",
    "    def forward(self, x):\n",
    "        x = self.embedding(x)\n",
    "        x = x.permute(0, 2, 1)  \n",
    "        x = self.pool1(nn.functional.relu(self.conv1(x)))\n",
    "        x = self.pool2(nn.functional.relu(self.conv2(x)))\n",
    "        x = self.flatten(x)\n",
    "        x = nn.functional.relu(self.fc1(x))\n",
    "        x = self.fc2(x)\n",
    "                                                          \n",
    "        return x\n",
    "\n",
    "\n",
    "# Create an instance of the CNN model\n",
    "model_multiclass = CNNMulticlass(vocab_size, 100, embedding_matrix, max_length)\n",
    "\n",
    "# Define optimizer and loss function\n",
    "optimizer = torch.optim.Adam(model_multiclass.parameters())\n",
    "optimizer2 = torch.optim.SGD(params = model_multiclass.parameters(),\n",
    "                            lr =0.01)\n",
    "criterion = nn.CrossEntropyLoss()\n",
    "\n",
    "# Convert data to PyTorch tensors and create DataLoader\n",
    "X_train_tensor = torch.LongTensor(X_train)\n",
    "y_train_tensor = torch.LongTensor(y_train)\n",
    "train_dataset = TensorDataset(X_train_tensor, y_train_tensor)\n",
    "train_loader = DataLoader(train_dataset, batch_size=32)\n",
    "\n",
    "\n",
    "\n",
    "X_test_tensor = torch.LongTensor(X_test)\n",
    "#print(X_test_tensor[0])\n",
    "y_test_tensor = torch.LongTensor(y_test)\n",
    "test_dataset = TensorDataset(X_test_tensor, y_test_tensor)\n",
    "test_loader = DataLoader(test_dataset, batch_size=32)\n",
    "\n",
    "#note batch size 32 is common pracitce\n"
   ]
  },
  {
   "cell_type": "markdown",
   "id": "e8244729",
   "metadata": {},
   "source": [
    "### Creating a training loop"
   ]
  },
  {
   "cell_type": "code",
   "execution_count": 14,
   "id": "5c7ad039",
   "metadata": {},
   "outputs": [
    {
     "name": "stdout",
     "output_type": "stream",
     "text": [
      "91\n"
     ]
    },
    {
     "data": {
      "application/vnd.jupyter.widget-view+json": {
       "model_id": "e8cdc4423a164e31880b2b6f63c9f914",
       "version_major": 2,
       "version_minor": 0
      },
      "text/plain": [
       "  0%|          | 0/20 [00:00<?, ?it/s]"
      ]
     },
     "metadata": {},
     "output_type": "display_data"
    },
    {
     "name": "stdout",
     "output_type": "stream",
     "text": [
      "Epoch:0\n",
      "-----\n",
      "\n",
      "Train loss: 1.1305 | Test loss: 1.0568, Test acc: 55.4602\n",
      "Train time on cpu: 44.210 seconds\n",
      "Epoch:1\n",
      "-----\n",
      "\n",
      "Train loss: 0.9889 | Test loss: 1.0307, Test acc: 57.3146\n",
      "Train time on cpu: 96.995 seconds\n",
      "Epoch:2\n",
      "-----\n",
      "\n",
      "Train loss: 0.9343 | Test loss: 1.0349, Test acc: 57.8297\n",
      "Train time on cpu: 151.254 seconds\n",
      "Epoch:3\n",
      "-----\n",
      "\n",
      "Train loss: 0.8874 | Test loss: 1.0528, Test acc: 57.1085\n",
      "Train time on cpu: 197.248 seconds\n",
      "Epoch:4\n",
      "-----\n",
      "\n",
      "Train loss: 0.8342 | Test loss: 1.1935, Test acc: 56.1470\n",
      "Train time on cpu: 252.814 seconds\n",
      "Epoch:5\n",
      "-----\n",
      "\n",
      "Train loss: 0.7712 | Test loss: 1.3179, Test acc: 54.4643\n",
      "Train time on cpu: 299.796 seconds\n",
      "Epoch:6\n",
      "-----\n",
      "\n",
      "Train loss: 0.7119 | Test loss: 1.4558, Test acc: 53.0220\n",
      "Train time on cpu: 338.468 seconds\n",
      "Epoch:7\n",
      "-----\n",
      "\n",
      "Train loss: 0.6703 | Test loss: 1.5766, Test acc: 52.0948\n",
      "Train time on cpu: 386.239 seconds\n",
      "Epoch:8\n",
      "-----\n",
      "\n",
      "Train loss: 0.6226 | Test loss: 1.7303, Test acc: 50.6181\n",
      "Train time on cpu: 429.974 seconds\n",
      "Epoch:9\n",
      "-----\n",
      "\n",
      "Train loss: 0.5873 | Test loss: 1.9373, Test acc: 48.9354\n",
      "Train time on cpu: 478.011 seconds\n",
      "Epoch:10\n",
      "-----\n",
      "\n",
      "Train loss: 0.5331 | Test loss: 2.0176, Test acc: 47.3558\n",
      "Train time on cpu: 539.812 seconds\n",
      "Epoch:11\n",
      "-----\n",
      "\n",
      "Train loss: 0.4791 | Test loss: 2.5006, Test acc: 45.7074\n",
      "Train time on cpu: 588.983 seconds\n",
      "Epoch:12\n",
      "-----\n",
      "\n",
      "Train loss: 0.4355 | Test loss: 2.5824, Test acc: 43.3036\n",
      "Train time on cpu: 642.535 seconds\n",
      "Epoch:13\n",
      "-----\n",
      "\n",
      "Train loss: 0.4365 | Test loss: 2.8562, Test acc: 44.6085\n",
      "Train time on cpu: 694.176 seconds\n",
      "Epoch:14\n",
      "-----\n",
      "\n",
      "Train loss: 0.4000 | Test loss: 2.7232, Test acc: 44.4712\n",
      "Train time on cpu: 738.095 seconds\n",
      "Epoch:15\n",
      "-----\n",
      "\n",
      "Train loss: 0.3708 | Test loss: 2.4765, Test acc: 45.1923\n",
      "Train time on cpu: 786.503 seconds\n",
      "Epoch:16\n",
      "-----\n",
      "\n",
      "Train loss: 0.3526 | Test loss: 2.6013, Test acc: 43.7157\n",
      "Train time on cpu: 843.163 seconds\n",
      "Epoch:17\n",
      "-----\n",
      "\n",
      "Train loss: 0.3324 | Test loss: 2.6656, Test acc: 42.2734\n",
      "Train time on cpu: 895.485 seconds\n",
      "Epoch:18\n",
      "-----\n",
      "\n",
      "Train loss: 0.3205 | Test loss: 2.5487, Test acc: 43.8187\n",
      "Train time on cpu: 948.422 seconds\n",
      "Epoch:19\n",
      "-----\n",
      "\n",
      "Train loss: 0.3029 | Test loss: 2.6978, Test acc: 42.9945\n",
      "Train time on cpu: 1017.779 seconds\n"
     ]
    }
   ],
   "source": [
    "from tqdm.auto import tqdm\n",
    "print(len(test_loader))\n",
    "train_time_start_on_cpu = timer()\n",
    "\n",
    "epochs = 20\n",
    "for epoch in tqdm(range(epochs)):\n",
    "    print(f\"Epoch:{epoch}\\n-----\")\n",
    "    train_loss = 0\n",
    "    for batch, (inputs, labels) in enumerate(train_loader):\n",
    "        model_multiclass.train()\n",
    "        # Forward pass'=\n",
    "        #print(inputs)\n",
    "        y_pred = model_multiclass(inputs)\n",
    "        #print(y_pred.softmax(dim=1))\n",
    "        #Calculate loss\n",
    "        labels = labels.long() -1\n",
    "        #print(labels)\n",
    "        loss = criterion(y_pred, labels)\n",
    "        train_loss += loss\n",
    "        #optimizer zero-grad\n",
    "        optimizer.zero_grad()\n",
    "        #loss backward      \n",
    "        loss.backward()\n",
    "        #step\n",
    "        optimizer.step()\n",
    "        \n",
    "    train_loss /= len(train_loader)\n",
    "    \n",
    "    ### Testing\n",
    "    test_loss, test_acc = 0, 0\n",
    "    model_multiclass.eval()\n",
    "    with torch.inference_mode():\n",
    "        for X_test_tensor, y_test_tensor in test_loader:\n",
    "            #forward pass\n",
    "            test_pred = model_multiclass(X_test_tensor)\n",
    "            #print(y_test_tensor -1)[0,4]\n",
    "            #calculate loss\n",
    "            y_test_tensor = y_test_tensor-1 #.Long() \n",
    "            test_loss += criterion(test_pred, y_test_tensor)\n",
    "            #calculate accuracy \n",
    "            y_preds = test_pred.argmax(dim=1)\n",
    "            #print(y_preds)\n",
    "            test_acc += accuracy_fn(y_true = y_test_tensor, y_pred = y_preds)\n",
    "        # Calculate the test loss average per batch\n",
    "        test_loss /= len(test_loader)\n",
    "        \n",
    "        # Calculate the test acc average per batch\n",
    "        test_acc /= len(test_loader)\n",
    "            \n",
    "        \n",
    "        \n",
    "    print(f\"\\nTrain loss: {train_loss:.4f} | Test loss: {test_loss:.4f}, Test acc: {test_acc:.4f}\")\n",
    "    train_time_end_on_cpu = timer()\n",
    "    total_train_time_model_multiclass = print_train_time(start = train_time_start_on_cpu,\n",
    "                                              end = train_time_end_on_cpu,\n",
    "                                              device=str(next(model_multiclass.parameters()).device))\n"
   ]
  },
  {
   "cell_type": "markdown",
   "id": "39823c00",
   "metadata": {},
   "source": [
    "## Evaluating model "
   ]
  },
  {
   "cell_type": "code",
   "execution_count": 15,
   "id": "dc9da923",
   "metadata": {},
   "outputs": [
    {
     "data": {
      "text/plain": [
       "{'model_name': 'CNNMulticlass',\n",
       " 'model_loss': 2.6977672576904297,\n",
       " 'model_acc': 8.82554945054945}"
      ]
     },
     "execution_count": 15,
     "metadata": {},
     "output_type": "execute_result"
    }
   ],
   "source": [
    "\n",
    "def eval_model(model: torch.nn.Module,\n",
    "               data_loader: torch.utils.data.DataLoader,\n",
    "               loss_fn : torch.nn.Module,\n",
    "               accuracy_fn):\n",
    "  \"\"\" Returns a dictionary containing the results pf model prediction on data_loader\"\"\"\n",
    "  loss, acc = 0, 0\n",
    "  model.eval()\n",
    "  with torch.inference_mode():\n",
    "    for X, y in data_loader:\n",
    "      # Make predictions\n",
    "      y_pred = model(X)\n",
    "\n",
    "      # Accumulate the loss and acc values per batch\n",
    "      loss += loss_fn(y_pred, y-1)\n",
    "      acc += accuracy_fn(y_true = y,\n",
    "                         y_pred = y_pred.argmax(dim =1))\n",
    "\n",
    "    # Scale loss and acc to find average loss/acc per batch\n",
    "    loss /= len(data_loader)\n",
    "    acc /= len(data_loader)\n",
    "\n",
    "  return {\"model_name\": model.__class__.__name__, # only works when model was created with a class\n",
    "          \"model_loss\": loss.item(),\n",
    "          \"model_acc\": acc}\n",
    "\n",
    "#Calculate model 0 results on test dataset\n",
    "model_multiclass_results = eval_model(model=model_multiclass,\n",
    "                             data_loader = test_loader,\n",
    "                             loss_fn = criterion,\n",
    "                             accuracy_fn = accuracy_fn)\n",
    "model_multiclass_results"
   ]
  },
  {
   "cell_type": "code",
   "execution_count": 16,
   "id": "652367fd",
   "metadata": {},
   "outputs": [
    {
     "data": {
      "application/vnd.jupyter.widget-view+json": {
       "model_id": "e2c4ef8417244e15b644fa08ab105da5",
       "version_major": 2,
       "version_minor": 0
      },
      "text/plain": [
       "Making predictions...:   0%|          | 0/91 [00:00<?, ?it/s]"
      ]
     },
     "metadata": {},
     "output_type": "display_data"
    },
    {
     "name": "stdout",
     "output_type": "stream",
     "text": [
      "mlxtend version: 0.23.0\n",
      "tensor([3, 5, 5,  ..., 4, 1, 4])\n",
      "tensor([5, 1, 1,  ..., 5, 2, 1])\n"
     ]
    },
    {
     "name": "stderr",
     "output_type": "stream",
     "text": [
      "C:\\Users\\abbie\\Documents\\programming\\lib\\site-packages\\mlxtend\\plotting\\plot_confusion_matrix.py:102: RuntimeWarning: invalid value encountered in divide\n",
      "  normed_conf_mat = conf_mat.astype(\"float\") / total_samples\n"
     ]
    },
    {
     "data": {
      "image/png": "[encoded data removed]",
      "text/plain": [
       "<Figure size 720x504 with 1 Axes>"
      ]
     },
     "metadata": {
      "needs_background": "light"
     },
     "output_type": "display_data"
    }
   ],
   "source": [
    "# Import tqdm.auto for progress bar tracking\n",
    "from tqdm.auto import tqdm\n",
    "\n",
    "#1. Make predictions with trained model\n",
    "y_preds = []\n",
    "model_multiclass.eval()\n",
    "with torch.inference_mode():\n",
    "  for X, y in tqdm(test_loader, desc = \"Making predictions...\"):\n",
    "    # Send the data and targets to target device\n",
    "    # DO the forward pass\n",
    "    y_logits = model_multiclass(X)\n",
    "    #Turn prediction from logits -> prediction porbabilities -> prediction labels\n",
    "    y_pred = torch.softmax(y_logits.squeeze(), dim =0).argmax(dim=1)+1\n",
    "    # Put predictions on CPU for evaluation\n",
    "    y_preds.append(y_pred)\n",
    "\n",
    "  #COncatenate list of predictions into a tensor\n",
    "  #print(y_preds)\n",
    "y_pred_tensor = torch.cat(y_preds)\n",
    "y_pred_tensor\n",
    "\n",
    "try:\n",
    "  import torchmetrics, mlxtend\n",
    "  print(f\"mlxtend version: {mlxtend.__version__}\")\n",
    "  assert int(mlxtend.__version__.split(\".\")[1]) >=19, \"mlxtend version should be 0.19.0 or higher\"\n",
    "except:\n",
    "  !pip install -q torchmetrics -U mlxtend\n",
    "  import torchmetrics, mlxtend\n",
    "  print(f\" mlxtend version: {mlxtend.__version__}\")\n",
    "\n",
    "from torchmetrics import ConfusionMatrix\n",
    "from mlxtend.plotting import plot_confusion_matrix\n",
    "\n",
    "# 2. Setup confusion instance and compare predictions to targets\n",
    "confmat = ConfusionMatrix(task = \"multiclass\",\n",
    "                          num_classes=6)\n",
    "\n",
    "y_test_tensor = torch.LongTensor(y_test)\n",
    "print(y_test_tensor)\n",
    "print(y_pred_tensor)\n",
    "confmat_tensor = confmat(preds = y_pred_tensor,\n",
    "                         target = y_test_tensor)\n",
    "\n",
    "#3. Plot the confusion matrix\n",
    "fig, ax = plot_confusion_matrix(\n",
    "    conf_mat = confmat_tensor.numpy(), #matplotlib likes working with numpy\n",
    "    figsize=(10,7)\n",
    ")"
   ]
  },
  {
   "cell_type": "markdown",
   "id": "7f261a4a",
   "metadata": {},
   "source": [
    "#### Edit confusion matrix to get rid of class 0"
   ]
  },
  {
   "cell_type": "code",
   "execution_count": null,
   "id": "fd30a33c",
   "metadata": {},
   "outputs": [],
   "source": []
  }
 ],
 "metadata": {
  "kernelspec": {
   "display_name": "Python 3 (ipykernel)",
   "language": "python",
   "name": "python3"
  },
  "language_info": {
   "codemirror_mode": {
    "name": "ipython",
    "version": 3
   },
   "file_extension": ".py",
   "mimetype": "text/x-python",
   "name": "python",
   "nbconvert_exporter": "python",
   "pygments_lexer": "ipython3",
   "version": "3.9.7"
  }
 },
 "nbformat": 4,
 "nbformat_minor": 5
}
