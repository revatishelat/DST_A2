{
  "nbformat": 4,
  "nbformat_minor": 0,
  "metadata": {
    "colab": {
      "provenance": [],
      "gpuType": "T4"
    },
    "kernelspec": {
      "name": "python3",
      "display_name": "Python 3"
    },
    "language_info": {
      "name": "python"
    },
    "accelerator": "GPU",
    "widgets": {
      "application/vnd.jupyter.widget-state+json": {
        "0f77eac8e1ad4fdca6ceaf1469239d40": {
          "model_module": "@jupyter-widgets/controls",
          "model_name": "HBoxModel",
          "model_module_version": "1.5.0",
          "state": {
            "_dom_classes": [],
            "_model_module": "@jupyter-widgets/controls",
            "_model_module_version": "1.5.0",
            "_model_name": "HBoxModel",
            "_view_count": null,
            "_view_module": "@jupyter-widgets/controls",
            "_view_module_version": "1.5.0",
            "_view_name": "HBoxView",
            "box_style": "",
            "children": [
              "IPY_MODEL_d3a3f6af7b444433b7dcd43fb70c3728",
              "IPY_MODEL_2e0df47736de4fca9492d64fd52cdd28",
              "IPY_MODEL_97b8de6cf6154aff83aca5cb1b3c2b18"
            ],
            "layout": "IPY_MODEL_478ac4e3e8474a1b95232582f4823aba"
          }
        },
        "d3a3f6af7b444433b7dcd43fb70c3728": {
          "model_module": "@jupyter-widgets/controls",
          "model_name": "HTMLModel",
          "model_module_version": "1.5.0",
          "state": {
            "_dom_classes": [],
            "_model_module": "@jupyter-widgets/controls",
            "_model_module_version": "1.5.0",
            "_model_name": "HTMLModel",
            "_view_count": null,
            "_view_module": "@jupyter-widgets/controls",
            "_view_module_version": "1.5.0",
            "_view_name": "HTMLView",
            "description": "",
            "description_tooltip": null,
            "layout": "IPY_MODEL_20aa2391fc7e4a1db6dc101e1cdddf63",
            "placeholder": "​",
            "style": "IPY_MODEL_04ceec1a14de4f839eba3768223651ef",
            "value": "100%"
          }
        },
        "2e0df47736de4fca9492d64fd52cdd28": {
          "model_module": "@jupyter-widgets/controls",
          "model_name": "FloatProgressModel",
          "model_module_version": "1.5.0",
          "state": {
            "_dom_classes": [],
            "_model_module": "@jupyter-widgets/controls",
            "_model_module_version": "1.5.0",
            "_model_name": "FloatProgressModel",
            "_view_count": null,
            "_view_module": "@jupyter-widgets/controls",
            "_view_module_version": "1.5.0",
            "_view_name": "ProgressView",
            "bar_style": "success",
            "description": "",
            "description_tooltip": null,
            "layout": "IPY_MODEL_c53b74e1606347e987ce5be521be2b6d",
            "max": 10,
            "min": 0,
            "orientation": "horizontal",
            "style": "IPY_MODEL_996bdb9a6eaf42e9a6bb1d132d22a0e7",
            "value": 10
          }
        },
        "97b8de6cf6154aff83aca5cb1b3c2b18": {
          "model_module": "@jupyter-widgets/controls",
          "model_name": "HTMLModel",
          "model_module_version": "1.5.0",
          "state": {
            "_dom_classes": [],
            "_model_module": "@jupyter-widgets/controls",
            "_model_module_version": "1.5.0",
            "_model_name": "HTMLModel",
            "_view_count": null,
            "_view_module": "@jupyter-widgets/controls",
            "_view_module_version": "1.5.0",
            "_view_name": "HTMLView",
            "description": "",
            "description_tooltip": null,
            "layout": "IPY_MODEL_3b9717e1eed54973a61c9e5614e65ba7",
            "placeholder": "​",
            "style": "IPY_MODEL_88c7e5a4c98a4057a53f500671d2bad5",
            "value": " 10/10 [00:11&lt;00:00,  1.09s/it]"
          }
        },
        "478ac4e3e8474a1b95232582f4823aba": {
          "model_module": "@jupyter-widgets/base",
          "model_name": "LayoutModel",
          "model_module_version": "1.2.0",
          "state": {
            "_model_module": "@jupyter-widgets/base",
            "_model_module_version": "1.2.0",
            "_model_name": "LayoutModel",
            "_view_count": null,
            "_view_module": "@jupyter-widgets/base",
            "_view_module_version": "1.2.0",
            "_view_name": "LayoutView",
            "align_content": null,
            "align_items": null,
            "align_self": null,
            "border": null,
            "bottom": null,
            "display": null,
            "flex": null,
            "flex_flow": null,
            "grid_area": null,
            "grid_auto_columns": null,
            "grid_auto_flow": null,
            "grid_auto_rows": null,
            "grid_column": null,
            "grid_gap": null,
            "grid_row": null,
            "grid_template_areas": null,
            "grid_template_columns": null,
            "grid_template_rows": null,
            "height": null,
            "justify_content": null,
            "justify_items": null,
            "left": null,
            "margin": null,
            "max_height": null,
            "max_width": null,
            "min_height": null,
            "min_width": null,
            "object_fit": null,
            "object_position": null,
            "order": null,
            "overflow": null,
            "overflow_x": null,
            "overflow_y": null,
            "padding": null,
            "right": null,
            "top": null,
            "visibility": null,
            "width": null
          }
        },
        "20aa2391fc7e4a1db6dc101e1cdddf63": {
          "model_module": "@jupyter-widgets/base",
          "model_name": "LayoutModel",
          "model_module_version": "1.2.0",
          "state": {
            "_model_module": "@jupyter-widgets/base",
            "_model_module_version": "1.2.0",
            "_model_name": "LayoutModel",
            "_view_count": null,
            "_view_module": "@jupyter-widgets/base",
            "_view_module_version": "1.2.0",
            "_view_name": "LayoutView",
            "align_content": null,
            "align_items": null,
            "align_self": null,
            "border": null,
            "bottom": null,
            "display": null,
            "flex": null,
            "flex_flow": null,
            "grid_area": null,
            "grid_auto_columns": null,
            "grid_auto_flow": null,
            "grid_auto_rows": null,
            "grid_column": null,
            "grid_gap": null,
            "grid_row": null,
            "grid_template_areas": null,
            "grid_template_columns": null,
            "grid_template_rows": null,
            "height": null,
            "justify_content": null,
            "justify_items": null,
            "left": null,
            "margin": null,
            "max_height": null,
            "max_width": null,
            "min_height": null,
            "min_width": null,
            "object_fit": null,
            "object_position": null,
            "order": null,
            "overflow": null,
            "overflow_x": null,
            "overflow_y": null,
            "padding": null,
            "right": null,
            "top": null,
            "visibility": null,
            "width": null
          }
        },
        "04ceec1a14de4f839eba3768223651ef": {
          "model_module": "@jupyter-widgets/controls",
          "model_name": "DescriptionStyleModel",
          "model_module_version": "1.5.0",
          "state": {
            "_model_module": "@jupyter-widgets/controls",
            "_model_module_version": "1.5.0",
            "_model_name": "DescriptionStyleModel",
            "_view_count": null,
            "_view_module": "@jupyter-widgets/base",
            "_view_module_version": "1.2.0",
            "_view_name": "StyleView",
            "description_width": ""
          }
        },
        "c53b74e1606347e987ce5be521be2b6d": {
          "model_module": "@jupyter-widgets/base",
          "model_name": "LayoutModel",
          "model_module_version": "1.2.0",
          "state": {
            "_model_module": "@jupyter-widgets/base",
            "_model_module_version": "1.2.0",
            "_model_name": "LayoutModel",
            "_view_count": null,
            "_view_module": "@jupyter-widgets/base",
            "_view_module_version": "1.2.0",
            "_view_name": "LayoutView",
            "align_content": null,
            "align_items": null,
            "align_self": null,
            "border": null,
            "bottom": null,
            "display": null,
            "flex": null,
            "flex_flow": null,
            "grid_area": null,
            "grid_auto_columns": null,
            "grid_auto_flow": null,
            "grid_auto_rows": null,
            "grid_column": null,
            "grid_gap": null,
            "grid_row": null,
            "grid_template_areas": null,
            "grid_template_columns": null,
            "grid_template_rows": null,
            "height": null,
            "justify_content": null,
            "justify_items": null,
            "left": null,
            "margin": null,
            "max_height": null,
            "max_width": null,
            "min_height": null,
            "min_width": null,
            "object_fit": null,
            "object_position": null,
            "order": null,
            "overflow": null,
            "overflow_x": null,
            "overflow_y": null,
            "padding": null,
            "right": null,
            "top": null,
            "visibility": null,
            "width": null
          }
        },
        "996bdb9a6eaf42e9a6bb1d132d22a0e7": {
          "model_module": "@jupyter-widgets/controls",
          "model_name": "ProgressStyleModel",
          "model_module_version": "1.5.0",
          "state": {
            "_model_module": "@jupyter-widgets/controls",
            "_model_module_version": "1.5.0",
            "_model_name": "ProgressStyleModel",
            "_view_count": null,
            "_view_module": "@jupyter-widgets/base",
            "_view_module_version": "1.2.0",
            "_view_name": "StyleView",
            "bar_color": null,
            "description_width": ""
          }
        },
        "3b9717e1eed54973a61c9e5614e65ba7": {
          "model_module": "@jupyter-widgets/base",
          "model_name": "LayoutModel",
          "model_module_version": "1.2.0",
          "state": {
            "_model_module": "@jupyter-widgets/base",
            "_model_module_version": "1.2.0",
            "_model_name": "LayoutModel",
            "_view_count": null,
            "_view_module": "@jupyter-widgets/base",
            "_view_module_version": "1.2.0",
            "_view_name": "LayoutView",
            "align_content": null,
            "align_items": null,
            "align_self": null,
            "border": null,
            "bottom": null,
            "display": null,
            "flex": null,
            "flex_flow": null,
            "grid_area": null,
            "grid_auto_columns": null,
            "grid_auto_flow": null,
            "grid_auto_rows": null,
            "grid_column": null,
            "grid_gap": null,
            "grid_row": null,
            "grid_template_areas": null,
            "grid_template_columns": null,
            "grid_template_rows": null,
            "height": null,
            "justify_content": null,
            "justify_items": null,
            "left": null,
            "margin": null,
            "max_height": null,
            "max_width": null,
            "min_height": null,
            "min_width": null,
            "object_fit": null,
            "object_position": null,
            "order": null,
            "overflow": null,
            "overflow_x": null,
            "overflow_y": null,
            "padding": null,
            "right": null,
            "top": null,
            "visibility": null,
            "width": null
          }
        },
        "88c7e5a4c98a4057a53f500671d2bad5": {
          "model_module": "@jupyter-widgets/controls",
          "model_name": "DescriptionStyleModel",
          "model_module_version": "1.5.0",
          "state": {
            "_model_module": "@jupyter-widgets/controls",
            "_model_module_version": "1.5.0",
            "_model_name": "DescriptionStyleModel",
            "_view_count": null,
            "_view_module": "@jupyter-widgets/base",
            "_view_module_version": "1.2.0",
            "_view_name": "StyleView",
            "description_width": ""
          }
        },
        "71322b754b454e02b22992cc364a18b2": {
          "model_module": "@jupyter-widgets/controls",
          "model_name": "HBoxModel",
          "model_module_version": "1.5.0",
          "state": {
            "_dom_classes": [],
            "_model_module": "@jupyter-widgets/controls",
            "_model_module_version": "1.5.0",
            "_model_name": "HBoxModel",
            "_view_count": null,
            "_view_module": "@jupyter-widgets/controls",
            "_view_module_version": "1.5.0",
            "_view_name": "HBoxView",
            "box_style": "",
            "children": [
              "IPY_MODEL_ab04420e03da4f23afce1d1b7a1fead9",
              "IPY_MODEL_19e4e75c896c4bb088adcc33f531b344",
              "IPY_MODEL_8af790309c734d19a5de3630dc11e637"
            ],
            "layout": "IPY_MODEL_8398053084264ba58de1ee4d1bda258c"
          }
        },
        "ab04420e03da4f23afce1d1b7a1fead9": {
          "model_module": "@jupyter-widgets/controls",
          "model_name": "HTMLModel",
          "model_module_version": "1.5.0",
          "state": {
            "_dom_classes": [],
            "_model_module": "@jupyter-widgets/controls",
            "_model_module_version": "1.5.0",
            "_model_name": "HTMLModel",
            "_view_count": null,
            "_view_module": "@jupyter-widgets/controls",
            "_view_module_version": "1.5.0",
            "_view_name": "HTMLView",
            "description": "",
            "description_tooltip": null,
            "layout": "IPY_MODEL_e4fa9260a51342e1ab9f67638e28df29",
            "placeholder": "​",
            "style": "IPY_MODEL_a1726778c6c14fd0bce0351091de475e",
            "value": "Making predictions...: 100%"
          }
        },
        "19e4e75c896c4bb088adcc33f531b344": {
          "model_module": "@jupyter-widgets/controls",
          "model_name": "FloatProgressModel",
          "model_module_version": "1.5.0",
          "state": {
            "_dom_classes": [],
            "_model_module": "@jupyter-widgets/controls",
            "_model_module_version": "1.5.0",
            "_model_name": "FloatProgressModel",
            "_view_count": null,
            "_view_module": "@jupyter-widgets/controls",
            "_view_module_version": "1.5.0",
            "_view_name": "ProgressView",
            "bar_style": "success",
            "description": "",
            "description_tooltip": null,
            "layout": "IPY_MODEL_000a63a089aa4e53a23651c9021cb8a8",
            "max": 91,
            "min": 0,
            "orientation": "horizontal",
            "style": "IPY_MODEL_00457ce2fbff471ea158ddc3b81ba3c8",
            "value": 91
          }
        },
        "8af790309c734d19a5de3630dc11e637": {
          "model_module": "@jupyter-widgets/controls",
          "model_name": "HTMLModel",
          "model_module_version": "1.5.0",
          "state": {
            "_dom_classes": [],
            "_model_module": "@jupyter-widgets/controls",
            "_model_module_version": "1.5.0",
            "_model_name": "HTMLModel",
            "_view_count": null,
            "_view_module": "@jupyter-widgets/controls",
            "_view_module_version": "1.5.0",
            "_view_name": "HTMLView",
            "description": "",
            "description_tooltip": null,
            "layout": "IPY_MODEL_11228f912c0842b589ea713c9d8927f4",
            "placeholder": "​",
            "style": "IPY_MODEL_e8d55c642b60437f9c3ef9946019581a",
            "value": " 91/91 [00:00&lt;00:00, 616.13it/s]"
          }
        },
        "8398053084264ba58de1ee4d1bda258c": {
          "model_module": "@jupyter-widgets/base",
          "model_name": "LayoutModel",
          "model_module_version": "1.2.0",
          "state": {
            "_model_module": "@jupyter-widgets/base",
            "_model_module_version": "1.2.0",
            "_model_name": "LayoutModel",
            "_view_count": null,
            "_view_module": "@jupyter-widgets/base",
            "_view_module_version": "1.2.0",
            "_view_name": "LayoutView",
            "align_content": null,
            "align_items": null,
            "align_self": null,
            "border": null,
            "bottom": null,
            "display": null,
            "flex": null,
            "flex_flow": null,
            "grid_area": null,
            "grid_auto_columns": null,
            "grid_auto_flow": null,
            "grid_auto_rows": null,
            "grid_column": null,
            "grid_gap": null,
            "grid_row": null,
            "grid_template_areas": null,
            "grid_template_columns": null,
            "grid_template_rows": null,
            "height": null,
            "justify_content": null,
            "justify_items": null,
            "left": null,
            "margin": null,
            "max_height": null,
            "max_width": null,
            "min_height": null,
            "min_width": null,
            "object_fit": null,
            "object_position": null,
            "order": null,
            "overflow": null,
            "overflow_x": null,
            "overflow_y": null,
            "padding": null,
            "right": null,
            "top": null,
            "visibility": null,
            "width": null
          }
        },
        "e4fa9260a51342e1ab9f67638e28df29": {
          "model_module": "@jupyter-widgets/base",
          "model_name": "LayoutModel",
          "model_module_version": "1.2.0",
          "state": {
            "_model_module": "@jupyter-widgets/base",
            "_model_module_version": "1.2.0",
            "_model_name": "LayoutModel",
            "_view_count": null,
            "_view_module": "@jupyter-widgets/base",
            "_view_module_version": "1.2.0",
            "_view_name": "LayoutView",
            "align_content": null,
            "align_items": null,
            "align_self": null,
            "border": null,
            "bottom": null,
            "display": null,
            "flex": null,
            "flex_flow": null,
            "grid_area": null,
            "grid_auto_columns": null,
            "grid_auto_flow": null,
            "grid_auto_rows": null,
            "grid_column": null,
            "grid_gap": null,
            "grid_row": null,
            "grid_template_areas": null,
            "grid_template_columns": null,
            "grid_template_rows": null,
            "height": null,
            "justify_content": null,
            "justify_items": null,
            "left": null,
            "margin": null,
            "max_height": null,
            "max_width": null,
            "min_height": null,
            "min_width": null,
            "object_fit": null,
            "object_position": null,
            "order": null,
            "overflow": null,
            "overflow_x": null,
            "overflow_y": null,
            "padding": null,
            "right": null,
            "top": null,
            "visibility": null,
            "width": null
          }
        },
        "a1726778c6c14fd0bce0351091de475e": {
          "model_module": "@jupyter-widgets/controls",
          "model_name": "DescriptionStyleModel",
          "model_module_version": "1.5.0",
          "state": {
            "_model_module": "@jupyter-widgets/controls",
            "_model_module_version": "1.5.0",
            "_model_name": "DescriptionStyleModel",
            "_view_count": null,
            "_view_module": "@jupyter-widgets/base",
            "_view_module_version": "1.2.0",
            "_view_name": "StyleView",
            "description_width": ""
          }
        },
        "000a63a089aa4e53a23651c9021cb8a8": {
          "model_module": "@jupyter-widgets/base",
          "model_name": "LayoutModel",
          "model_module_version": "1.2.0",
          "state": {
            "_model_module": "@jupyter-widgets/base",
            "_model_module_version": "1.2.0",
            "_model_name": "LayoutModel",
            "_view_count": null,
            "_view_module": "@jupyter-widgets/base",
            "_view_module_version": "1.2.0",
            "_view_name": "LayoutView",
            "align_content": null,
            "align_items": null,
            "align_self": null,
            "border": null,
            "bottom": null,
            "display": null,
            "flex": null,
            "flex_flow": null,
            "grid_area": null,
            "grid_auto_columns": null,
            "grid_auto_flow": null,
            "grid_auto_rows": null,
            "grid_column": null,
            "grid_gap": null,
            "grid_row": null,
            "grid_template_areas": null,
            "grid_template_columns": null,
            "grid_template_rows": null,
            "height": null,
            "justify_content": null,
            "justify_items": null,
            "left": null,
            "margin": null,
            "max_height": null,
            "max_width": null,
            "min_height": null,
            "min_width": null,
            "object_fit": null,
            "object_position": null,
            "order": null,
            "overflow": null,
            "overflow_x": null,
            "overflow_y": null,
            "padding": null,
            "right": null,
            "top": null,
            "visibility": null,
            "width": null
          }
        },
        "00457ce2fbff471ea158ddc3b81ba3c8": {
          "model_module": "@jupyter-widgets/controls",
          "model_name": "ProgressStyleModel",
          "model_module_version": "1.5.0",
          "state": {
            "_model_module": "@jupyter-widgets/controls",
            "_model_module_version": "1.5.0",
            "_model_name": "ProgressStyleModel",
            "_view_count": null,
            "_view_module": "@jupyter-widgets/base",
            "_view_module_version": "1.2.0",
            "_view_name": "StyleView",
            "bar_color": null,
            "description_width": ""
          }
        },
        "11228f912c0842b589ea713c9d8927f4": {
          "model_module": "@jupyter-widgets/base",
          "model_name": "LayoutModel",
          "model_module_version": "1.2.0",
          "state": {
            "_model_module": "@jupyter-widgets/base",
            "_model_module_version": "1.2.0",
            "_model_name": "LayoutModel",
            "_view_count": null,
            "_view_module": "@jupyter-widgets/base",
            "_view_module_version": "1.2.0",
            "_view_name": "LayoutView",
            "align_content": null,
            "align_items": null,
            "align_self": null,
            "border": null,
            "bottom": null,
            "display": null,
            "flex": null,
            "flex_flow": null,
            "grid_area": null,
            "grid_auto_columns": null,
            "grid_auto_flow": null,
            "grid_auto_rows": null,
            "grid_column": null,
            "grid_gap": null,
            "grid_row": null,
            "grid_template_areas": null,
            "grid_template_columns": null,
            "grid_template_rows": null,
            "height": null,
            "justify_content": null,
            "justify_items": null,
            "left": null,
            "margin": null,
            "max_height": null,
            "max_width": null,
            "min_height": null,
            "min_width": null,
            "object_fit": null,
            "object_position": null,
            "order": null,
            "overflow": null,
            "overflow_x": null,
            "overflow_y": null,
            "padding": null,
            "right": null,
            "top": null,
            "visibility": null,
            "width": null
          }
        },
        "e8d55c642b60437f9c3ef9946019581a": {
          "model_module": "@jupyter-widgets/controls",
          "model_name": "DescriptionStyleModel",
          "model_module_version": "1.5.0",
          "state": {
            "_model_module": "@jupyter-widgets/controls",
            "_model_module_version": "1.5.0",
            "_model_name": "DescriptionStyleModel",
            "_view_count": null,
            "_view_module": "@jupyter-widgets/base",
            "_view_module_version": "1.2.0",
            "_view_name": "StyleView",
            "description_width": ""
          }
        },
        "1dfbba45ce404de2919627859b48e89b": {
          "model_module": "@jupyter-widgets/controls",
          "model_name": "HBoxModel",
          "model_module_version": "1.5.0",
          "state": {
            "_dom_classes": [],
            "_model_module": "@jupyter-widgets/controls",
            "_model_module_version": "1.5.0",
            "_model_name": "HBoxModel",
            "_view_count": null,
            "_view_module": "@jupyter-widgets/controls",
            "_view_module_version": "1.5.0",
            "_view_name": "HBoxView",
            "box_style": "",
            "children": [
              "IPY_MODEL_c7fabe06334c4b478c4bad80786d04df",
              "IPY_MODEL_897b6e197bdb4e5f80bfa1bc4e8e2417",
              "IPY_MODEL_bc51c34486ce4ab6ae22d8f46a951b1b"
            ],
            "layout": "IPY_MODEL_b05db737b9d54438b7ccda7c875a7d4c"
          }
        },
        "c7fabe06334c4b478c4bad80786d04df": {
          "model_module": "@jupyter-widgets/controls",
          "model_name": "HTMLModel",
          "model_module_version": "1.5.0",
          "state": {
            "_dom_classes": [],
            "_model_module": "@jupyter-widgets/controls",
            "_model_module_version": "1.5.0",
            "_model_name": "HTMLModel",
            "_view_count": null,
            "_view_module": "@jupyter-widgets/controls",
            "_view_module_version": "1.5.0",
            "_view_name": "HTMLView",
            "description": "",
            "description_tooltip": null,
            "layout": "IPY_MODEL_bffe1c70a1bd4c9ebfd75534e05eecce",
            "placeholder": "​",
            "style": "IPY_MODEL_b4a3a073dd464f43a2fb30c850ca0d4c",
            "value": "100%"
          }
        },
        "897b6e197bdb4e5f80bfa1bc4e8e2417": {
          "model_module": "@jupyter-widgets/controls",
          "model_name": "FloatProgressModel",
          "model_module_version": "1.5.0",
          "state": {
            "_dom_classes": [],
            "_model_module": "@jupyter-widgets/controls",
            "_model_module_version": "1.5.0",
            "_model_name": "FloatProgressModel",
            "_view_count": null,
            "_view_module": "@jupyter-widgets/controls",
            "_view_module_version": "1.5.0",
            "_view_name": "ProgressView",
            "bar_style": "success",
            "description": "",
            "description_tooltip": null,
            "layout": "IPY_MODEL_eebff9ad52434d16ae5ab2f79934476d",
            "max": 10,
            "min": 0,
            "orientation": "horizontal",
            "style": "IPY_MODEL_7eccf2b9d1a94215944d937e3adc536e",
            "value": 10
          }
        },
        "bc51c34486ce4ab6ae22d8f46a951b1b": {
          "model_module": "@jupyter-widgets/controls",
          "model_name": "HTMLModel",
          "model_module_version": "1.5.0",
          "state": {
            "_dom_classes": [],
            "_model_module": "@jupyter-widgets/controls",
            "_model_module_version": "1.5.0",
            "_model_name": "HTMLModel",
            "_view_count": null,
            "_view_module": "@jupyter-widgets/controls",
            "_view_module_version": "1.5.0",
            "_view_name": "HTMLView",
            "description": "",
            "description_tooltip": null,
            "layout": "IPY_MODEL_246dbc704eb84f4b9621d8befc1ec8ef",
            "placeholder": "​",
            "style": "IPY_MODEL_f8d90cca8ad54a2688a561087b5f6efc",
            "value": " 10/10 [00:07&lt;00:00,  1.20it/s]"
          }
        },
        "b05db737b9d54438b7ccda7c875a7d4c": {
          "model_module": "@jupyter-widgets/base",
          "model_name": "LayoutModel",
          "model_module_version": "1.2.0",
          "state": {
            "_model_module": "@jupyter-widgets/base",
            "_model_module_version": "1.2.0",
            "_model_name": "LayoutModel",
            "_view_count": null,
            "_view_module": "@jupyter-widgets/base",
            "_view_module_version": "1.2.0",
            "_view_name": "LayoutView",
            "align_content": null,
            "align_items": null,
            "align_self": null,
            "border": null,
            "bottom": null,
            "display": null,
            "flex": null,
            "flex_flow": null,
            "grid_area": null,
            "grid_auto_columns": null,
            "grid_auto_flow": null,
            "grid_auto_rows": null,
            "grid_column": null,
            "grid_gap": null,
            "grid_row": null,
            "grid_template_areas": null,
            "grid_template_columns": null,
            "grid_template_rows": null,
            "height": null,
            "justify_content": null,
            "justify_items": null,
            "left": null,
            "margin": null,
            "max_height": null,
            "max_width": null,
            "min_height": null,
            "min_width": null,
            "object_fit": null,
            "object_position": null,
            "order": null,
            "overflow": null,
            "overflow_x": null,
            "overflow_y": null,
            "padding": null,
            "right": null,
            "top": null,
            "visibility": null,
            "width": null
          }
        },
        "bffe1c70a1bd4c9ebfd75534e05eecce": {
          "model_module": "@jupyter-widgets/base",
          "model_name": "LayoutModel",
          "model_module_version": "1.2.0",
          "state": {
            "_model_module": "@jupyter-widgets/base",
            "_model_module_version": "1.2.0",
            "_model_name": "LayoutModel",
            "_view_count": null,
            "_view_module": "@jupyter-widgets/base",
            "_view_module_version": "1.2.0",
            "_view_name": "LayoutView",
            "align_content": null,
            "align_items": null,
            "align_self": null,
            "border": null,
            "bottom": null,
            "display": null,
            "flex": null,
            "flex_flow": null,
            "grid_area": null,
            "grid_auto_columns": null,
            "grid_auto_flow": null,
            "grid_auto_rows": null,
            "grid_column": null,
            "grid_gap": null,
            "grid_row": null,
            "grid_template_areas": null,
            "grid_template_columns": null,
            "grid_template_rows": null,
            "height": null,
            "justify_content": null,
            "justify_items": null,
            "left": null,
            "margin": null,
            "max_height": null,
            "max_width": null,
            "min_height": null,
            "min_width": null,
            "object_fit": null,
            "object_position": null,
            "order": null,
            "overflow": null,
            "overflow_x": null,
            "overflow_y": null,
            "padding": null,
            "right": null,
            "top": null,
            "visibility": null,
            "width": null
          }
        },
        "b4a3a073dd464f43a2fb30c850ca0d4c": {
          "model_module": "@jupyter-widgets/controls",
          "model_name": "DescriptionStyleModel",
          "model_module_version": "1.5.0",
          "state": {
            "_model_module": "@jupyter-widgets/controls",
            "_model_module_version": "1.5.0",
            "_model_name": "DescriptionStyleModel",
            "_view_count": null,
            "_view_module": "@jupyter-widgets/base",
            "_view_module_version": "1.2.0",
            "_view_name": "StyleView",
            "description_width": ""
          }
        },
        "eebff9ad52434d16ae5ab2f79934476d": {
          "model_module": "@jupyter-widgets/base",
          "model_name": "LayoutModel",
          "model_module_version": "1.2.0",
          "state": {
            "_model_module": "@jupyter-widgets/base",
            "_model_module_version": "1.2.0",
            "_model_name": "LayoutModel",
            "_view_count": null,
            "_view_module": "@jupyter-widgets/base",
            "_view_module_version": "1.2.0",
            "_view_name": "LayoutView",
            "align_content": null,
            "align_items": null,
            "align_self": null,
            "border": null,
            "bottom": null,
            "display": null,
            "flex": null,
            "flex_flow": null,
            "grid_area": null,
            "grid_auto_columns": null,
            "grid_auto_flow": null,
            "grid_auto_rows": null,
            "grid_column": null,
            "grid_gap": null,
            "grid_row": null,
            "grid_template_areas": null,
            "grid_template_columns": null,
            "grid_template_rows": null,
            "height": null,
            "justify_content": null,
            "justify_items": null,
            "left": null,
            "margin": null,
            "max_height": null,
            "max_width": null,
            "min_height": null,
            "min_width": null,
            "object_fit": null,
            "object_position": null,
            "order": null,
            "overflow": null,
            "overflow_x": null,
            "overflow_y": null,
            "padding": null,
            "right": null,
            "top": null,
            "visibility": null,
            "width": null
          }
        },
        "7eccf2b9d1a94215944d937e3adc536e": {
          "model_module": "@jupyter-widgets/controls",
          "model_name": "ProgressStyleModel",
          "model_module_version": "1.5.0",
          "state": {
            "_model_module": "@jupyter-widgets/controls",
            "_model_module_version": "1.5.0",
            "_model_name": "ProgressStyleModel",
            "_view_count": null,
            "_view_module": "@jupyter-widgets/base",
            "_view_module_version": "1.2.0",
            "_view_name": "StyleView",
            "bar_color": null,
            "description_width": ""
          }
        },
        "246dbc704eb84f4b9621d8befc1ec8ef": {
          "model_module": "@jupyter-widgets/base",
          "model_name": "LayoutModel",
          "model_module_version": "1.2.0",
          "state": {
            "_model_module": "@jupyter-widgets/base",
            "_model_module_version": "1.2.0",
            "_model_name": "LayoutModel",
            "_view_count": null,
            "_view_module": "@jupyter-widgets/base",
            "_view_module_version": "1.2.0",
            "_view_name": "LayoutView",
            "align_content": null,
            "align_items": null,
            "align_self": null,
            "border": null,
            "bottom": null,
            "display": null,
            "flex": null,
            "flex_flow": null,
            "grid_area": null,
            "grid_auto_columns": null,
            "grid_auto_flow": null,
            "grid_auto_rows": null,
            "grid_column": null,
            "grid_gap": null,
            "grid_row": null,
            "grid_template_areas": null,
            "grid_template_columns": null,
            "grid_template_rows": null,
            "height": null,
            "justify_content": null,
            "justify_items": null,
            "left": null,
            "margin": null,
            "max_height": null,
            "max_width": null,
            "min_height": null,
            "min_width": null,
            "object_fit": null,
            "object_position": null,
            "order": null,
            "overflow": null,
            "overflow_x": null,
            "overflow_y": null,
            "padding": null,
            "right": null,
            "top": null,
            "visibility": null,
            "width": null
          }
        },
        "f8d90cca8ad54a2688a561087b5f6efc": {
          "model_module": "@jupyter-widgets/controls",
          "model_name": "DescriptionStyleModel",
          "model_module_version": "1.5.0",
          "state": {
            "_model_module": "@jupyter-widgets/controls",
            "_model_module_version": "1.5.0",
            "_model_name": "DescriptionStyleModel",
            "_view_count": null,
            "_view_module": "@jupyter-widgets/base",
            "_view_module_version": "1.2.0",
            "_view_name": "StyleView",
            "description_width": ""
          }
        },
        "ebf70a08cfe24a7897c5d94611d6b72b": {
          "model_module": "@jupyter-widgets/controls",
          "model_name": "HBoxModel",
          "model_module_version": "1.5.0",
          "state": {
            "_dom_classes": [],
            "_model_module": "@jupyter-widgets/controls",
            "_model_module_version": "1.5.0",
            "_model_name": "HBoxModel",
            "_view_count": null,
            "_view_module": "@jupyter-widgets/controls",
            "_view_module_version": "1.5.0",
            "_view_name": "HBoxView",
            "box_style": "",
            "children": [
              "IPY_MODEL_1722e9607af34df88bc14e8213261886",
              "IPY_MODEL_d03a25177a084f0cbb4584c99c158ff1",
              "IPY_MODEL_978c3b20923d458c8e9fd1fbeedb6bcc"
            ],
            "layout": "IPY_MODEL_4b8a81032d0a4599827bd82b4ff940e5"
          }
        },
        "1722e9607af34df88bc14e8213261886": {
          "model_module": "@jupyter-widgets/controls",
          "model_name": "HTMLModel",
          "model_module_version": "1.5.0",
          "state": {
            "_dom_classes": [],
            "_model_module": "@jupyter-widgets/controls",
            "_model_module_version": "1.5.0",
            "_model_name": "HTMLModel",
            "_view_count": null,
            "_view_module": "@jupyter-widgets/controls",
            "_view_module_version": "1.5.0",
            "_view_name": "HTMLView",
            "description": "",
            "description_tooltip": null,
            "layout": "IPY_MODEL_493086a60bac4fb29adaa45c539efebb",
            "placeholder": "​",
            "style": "IPY_MODEL_d6a7daedfd594fcc985c1dca88af7070",
            "value": "Making predictions...: 100%"
          }
        },
        "d03a25177a084f0cbb4584c99c158ff1": {
          "model_module": "@jupyter-widgets/controls",
          "model_name": "FloatProgressModel",
          "model_module_version": "1.5.0",
          "state": {
            "_dom_classes": [],
            "_model_module": "@jupyter-widgets/controls",
            "_model_module_version": "1.5.0",
            "_model_name": "FloatProgressModel",
            "_view_count": null,
            "_view_module": "@jupyter-widgets/controls",
            "_view_module_version": "1.5.0",
            "_view_name": "ProgressView",
            "bar_style": "success",
            "description": "",
            "description_tooltip": null,
            "layout": "IPY_MODEL_8b8d111adf734a98ad27584f5d63fb13",
            "max": 61,
            "min": 0,
            "orientation": "horizontal",
            "style": "IPY_MODEL_a0a20b4554364ca1b2cac5078a713162",
            "value": 61
          }
        },
        "978c3b20923d458c8e9fd1fbeedb6bcc": {
          "model_module": "@jupyter-widgets/controls",
          "model_name": "HTMLModel",
          "model_module_version": "1.5.0",
          "state": {
            "_dom_classes": [],
            "_model_module": "@jupyter-widgets/controls",
            "_model_module_version": "1.5.0",
            "_model_name": "HTMLModel",
            "_view_count": null,
            "_view_module": "@jupyter-widgets/controls",
            "_view_module_version": "1.5.0",
            "_view_name": "HTMLView",
            "description": "",
            "description_tooltip": null,
            "layout": "IPY_MODEL_6c01e9f0c54a4b9da1f3b1c3400f0a15",
            "placeholder": "​",
            "style": "IPY_MODEL_1e829796c9d14cb396964186239f6783",
            "value": " 61/61 [00:00&lt;00:00, 296.15it/s]"
          }
        },
        "4b8a81032d0a4599827bd82b4ff940e5": {
          "model_module": "@jupyter-widgets/base",
          "model_name": "LayoutModel",
          "model_module_version": "1.2.0",
          "state": {
            "_model_module": "@jupyter-widgets/base",
            "_model_module_version": "1.2.0",
            "_model_name": "LayoutModel",
            "_view_count": null,
            "_view_module": "@jupyter-widgets/base",
            "_view_module_version": "1.2.0",
            "_view_name": "LayoutView",
            "align_content": null,
            "align_items": null,
            "align_self": null,
            "border": null,
            "bottom": null,
            "display": null,
            "flex": null,
            "flex_flow": null,
            "grid_area": null,
            "grid_auto_columns": null,
            "grid_auto_flow": null,
            "grid_auto_rows": null,
            "grid_column": null,
            "grid_gap": null,
            "grid_row": null,
            "grid_template_areas": null,
            "grid_template_columns": null,
            "grid_template_rows": null,
            "height": null,
            "justify_content": null,
            "justify_items": null,
            "left": null,
            "margin": null,
            "max_height": null,
            "max_width": null,
            "min_height": null,
            "min_width": null,
            "object_fit": null,
            "object_position": null,
            "order": null,
            "overflow": null,
            "overflow_x": null,
            "overflow_y": null,
            "padding": null,
            "right": null,
            "top": null,
            "visibility": null,
            "width": null
          }
        },
        "493086a60bac4fb29adaa45c539efebb": {
          "model_module": "@jupyter-widgets/base",
          "model_name": "LayoutModel",
          "model_module_version": "1.2.0",
          "state": {
            "_model_module": "@jupyter-widgets/base",
            "_model_module_version": "1.2.0",
            "_model_name": "LayoutModel",
            "_view_count": null,
            "_view_module": "@jupyter-widgets/base",
            "_view_module_version": "1.2.0",
            "_view_name": "LayoutView",
            "align_content": null,
            "align_items": null,
            "align_self": null,
            "border": null,
            "bottom": null,
            "display": null,
            "flex": null,
            "flex_flow": null,
            "grid_area": null,
            "grid_auto_columns": null,
            "grid_auto_flow": null,
            "grid_auto_rows": null,
            "grid_column": null,
            "grid_gap": null,
            "grid_row": null,
            "grid_template_areas": null,
            "grid_template_columns": null,
            "grid_template_rows": null,
            "height": null,
            "justify_content": null,
            "justify_items": null,
            "left": null,
            "margin": null,
            "max_height": null,
            "max_width": null,
            "min_height": null,
            "min_width": null,
            "object_fit": null,
            "object_position": null,
            "order": null,
            "overflow": null,
            "overflow_x": null,
            "overflow_y": null,
            "padding": null,
            "right": null,
            "top": null,
            "visibility": null,
            "width": null
          }
        },
        "d6a7daedfd594fcc985c1dca88af7070": {
          "model_module": "@jupyter-widgets/controls",
          "model_name": "DescriptionStyleModel",
          "model_module_version": "1.5.0",
          "state": {
            "_model_module": "@jupyter-widgets/controls",
            "_model_module_version": "1.5.0",
            "_model_name": "DescriptionStyleModel",
            "_view_count": null,
            "_view_module": "@jupyter-widgets/base",
            "_view_module_version": "1.2.0",
            "_view_name": "StyleView",
            "description_width": ""
          }
        },
        "8b8d111adf734a98ad27584f5d63fb13": {
          "model_module": "@jupyter-widgets/base",
          "model_name": "LayoutModel",
          "model_module_version": "1.2.0",
          "state": {
            "_model_module": "@jupyter-widgets/base",
            "_model_module_version": "1.2.0",
            "_model_name": "LayoutModel",
            "_view_count": null,
            "_view_module": "@jupyter-widgets/base",
            "_view_module_version": "1.2.0",
            "_view_name": "LayoutView",
            "align_content": null,
            "align_items": null,
            "align_self": null,
            "border": null,
            "bottom": null,
            "display": null,
            "flex": null,
            "flex_flow": null,
            "grid_area": null,
            "grid_auto_columns": null,
            "grid_auto_flow": null,
            "grid_auto_rows": null,
            "grid_column": null,
            "grid_gap": null,
            "grid_row": null,
            "grid_template_areas": null,
            "grid_template_columns": null,
            "grid_template_rows": null,
            "height": null,
            "justify_content": null,
            "justify_items": null,
            "left": null,
            "margin": null,
            "max_height": null,
            "max_width": null,
            "min_height": null,
            "min_width": null,
            "object_fit": null,
            "object_position": null,
            "order": null,
            "overflow": null,
            "overflow_x": null,
            "overflow_y": null,
            "padding": null,
            "right": null,
            "top": null,
            "visibility": null,
            "width": null
          }
        },
        "a0a20b4554364ca1b2cac5078a713162": {
          "model_module": "@jupyter-widgets/controls",
          "model_name": "ProgressStyleModel",
          "model_module_version": "1.5.0",
          "state": {
            "_model_module": "@jupyter-widgets/controls",
            "_model_module_version": "1.5.0",
            "_model_name": "ProgressStyleModel",
            "_view_count": null,
            "_view_module": "@jupyter-widgets/base",
            "_view_module_version": "1.2.0",
            "_view_name": "StyleView",
            "bar_color": null,
            "description_width": ""
          }
        },
        "6c01e9f0c54a4b9da1f3b1c3400f0a15": {
          "model_module": "@jupyter-widgets/base",
          "model_name": "LayoutModel",
          "model_module_version": "1.2.0",
          "state": {
            "_model_module": "@jupyter-widgets/base",
            "_model_module_version": "1.2.0",
            "_model_name": "LayoutModel",
            "_view_count": null,
            "_view_module": "@jupyter-widgets/base",
            "_view_module_version": "1.2.0",
            "_view_name": "LayoutView",
            "align_content": null,
            "align_items": null,
            "align_self": null,
            "border": null,
            "bottom": null,
            "display": null,
            "flex": null,
            "flex_flow": null,
            "grid_area": null,
            "grid_auto_columns": null,
            "grid_auto_flow": null,
            "grid_auto_rows": null,
            "grid_column": null,
            "grid_gap": null,
            "grid_row": null,
            "grid_template_areas": null,
            "grid_template_columns": null,
            "grid_template_rows": null,
            "height": null,
            "justify_content": null,
            "justify_items": null,
            "left": null,
            "margin": null,
            "max_height": null,
            "max_width": null,
            "min_height": null,
            "min_width": null,
            "object_fit": null,
            "object_position": null,
            "order": null,
            "overflow": null,
            "overflow_x": null,
            "overflow_y": null,
            "padding": null,
            "right": null,
            "top": null,
            "visibility": null,
            "width": null
          }
        },
        "1e829796c9d14cb396964186239f6783": {
          "model_module": "@jupyter-widgets/controls",
          "model_name": "DescriptionStyleModel",
          "model_module_version": "1.5.0",
          "state": {
            "_model_module": "@jupyter-widgets/controls",
            "_model_module_version": "1.5.0",
            "_model_name": "DescriptionStyleModel",
            "_view_count": null,
            "_view_module": "@jupyter-widgets/base",
            "_view_module_version": "1.2.0",
            "_view_name": "StyleView",
            "description_width": ""
          }
        }
      }
    }
  },
  "cells": [
    {
      "cell_type": "markdown",
      "source": [
        "# Implementation of a Convolutional Neural Network (CNN) classification model with Word2Vec embeddings\n",
        "\n",
        "Note this notbook downloads the required data from a google drive in which the data acquired from https://github.com/sebischair/Medical-Abstracts-TC-Corpus is installed.\n",
        "\n",
        "The use of implementation within GoogleColab aso allows the user to utilise a public GPU."
      ],
      "metadata": {
        "id": "YB8KSUV33XH9"
      }
    },
    {
      "cell_type": "markdown",
      "source": [
        "## 0.1 Required packages\n",
        "\n"
      ],
      "metadata": {
        "id": "uyTFI9Ai55L2"
      }
    },
    {
      "cell_type": "code",
      "source": [
        "import nltk\n",
        "import pickle\n",
        "import pandas as pd\n",
        "import requests\n",
        "import gensim\n",
        "from gensim.utils import simple_preprocess\n",
        "from gensim.parsing.preprocessing import STOPWORDS\n",
        "from nltk.stem import WordNetLemmatizer, SnowballStemmer\n",
        "from nltk.stem.porter import *\n",
        "import numpy as np\n",
        "from gensim.models import Word2Vec\n",
        "import torch\n",
        "import torch.nn as nn\n",
        "import torch.optim as optim\n",
        "import string\n",
        "from nltk.tokenize import word_tokenize\n",
        "import tensorflow\n",
        "from tensorflow.keras.preprocessing.text import Tokenizer\n",
        "from tensorflow.keras.preprocessing.sequence import pad_sequences\n",
        "from nltk.corpus import stopwords\n",
        "from tensorflow.keras.layers import Embedding, Conv1D, MaxPooling1D, Flatten, Dense\n",
        "from tensorflow.keras.models import Sequential\n",
        "from torch.utils.data import DataLoader, TensorDataset\n",
        "from nltk.corpus import wordnet\n",
        "nltk.download('stopwords')\n",
        "nltk.download('wordnet')\n",
        "nltk.download('popular')"
      ],
      "metadata": {
        "colab": {
          "base_uri": "https://localhost:8080/"
        },
        "collapsed": true,
        "id": "sHjf9WZW55l7",
        "outputId": "1b67e711-3c1d-4b26-af55-224c5635d65c"
      },
      "execution_count": 28,
      "outputs": [
        {
          "output_type": "stream",
          "name": "stderr",
          "text": [
            "[nltk_data] Downloading package stopwords to /root/nltk_data...\n",
            "[nltk_data]   Package stopwords is already up-to-date!\n",
            "[nltk_data] Downloading package wordnet to /root/nltk_data...\n",
            "[nltk_data]   Package wordnet is already up-to-date!\n",
            "[nltk_data] Downloading collection 'popular'\n",
            "[nltk_data]    | \n",
            "[nltk_data]    | Downloading package cmudict to /root/nltk_data...\n",
            "[nltk_data]    |   Package cmudict is already up-to-date!\n",
            "[nltk_data]    | Downloading package gazetteers to /root/nltk_data...\n",
            "[nltk_data]    |   Package gazetteers is already up-to-date!\n",
            "[nltk_data]    | Downloading package genesis to /root/nltk_data...\n",
            "[nltk_data]    |   Package genesis is already up-to-date!\n",
            "[nltk_data]    | Downloading package gutenberg to /root/nltk_data...\n",
            "[nltk_data]    |   Package gutenberg is already up-to-date!\n",
            "[nltk_data]    | Downloading package inaugural to /root/nltk_data...\n",
            "[nltk_data]    |   Package inaugural is already up-to-date!\n",
            "[nltk_data]    | Downloading package movie_reviews to\n",
            "[nltk_data]    |     /root/nltk_data...\n",
            "[nltk_data]    |   Package movie_reviews is already up-to-date!\n",
            "[nltk_data]    | Downloading package names to /root/nltk_data...\n",
            "[nltk_data]    |   Package names is already up-to-date!\n",
            "[nltk_data]    | Downloading package shakespeare to /root/nltk_data...\n",
            "[nltk_data]    |   Package shakespeare is already up-to-date!\n",
            "[nltk_data]    | Downloading package stopwords to /root/nltk_data...\n",
            "[nltk_data]    |   Package stopwords is already up-to-date!\n",
            "[nltk_data]    | Downloading package treebank to /root/nltk_data...\n",
            "[nltk_data]    |   Package treebank is already up-to-date!\n",
            "[nltk_data]    | Downloading package twitter_samples to\n",
            "[nltk_data]    |     /root/nltk_data...\n",
            "[nltk_data]    |   Package twitter_samples is already up-to-date!\n",
            "[nltk_data]    | Downloading package omw to /root/nltk_data...\n",
            "[nltk_data]    |   Package omw is already up-to-date!\n",
            "[nltk_data]    | Downloading package omw-1.4 to /root/nltk_data...\n",
            "[nltk_data]    |   Package omw-1.4 is already up-to-date!\n",
            "[nltk_data]    | Downloading package wordnet to /root/nltk_data...\n",
            "[nltk_data]    |   Package wordnet is already up-to-date!\n",
            "[nltk_data]    | Downloading package wordnet2021 to /root/nltk_data...\n",
            "[nltk_data]    |   Package wordnet2021 is already up-to-date!\n",
            "[nltk_data]    | Downloading package wordnet31 to /root/nltk_data...\n",
            "[nltk_data]    |   Package wordnet31 is already up-to-date!\n",
            "[nltk_data]    | Downloading package wordnet_ic to /root/nltk_data...\n",
            "[nltk_data]    |   Package wordnet_ic is already up-to-date!\n",
            "[nltk_data]    | Downloading package words to /root/nltk_data...\n",
            "[nltk_data]    |   Package words is already up-to-date!\n",
            "[nltk_data]    | Downloading package maxent_ne_chunker to\n",
            "[nltk_data]    |     /root/nltk_data...\n",
            "[nltk_data]    |   Package maxent_ne_chunker is already up-to-date!\n",
            "[nltk_data]    | Downloading package punkt to /root/nltk_data...\n",
            "[nltk_data]    |   Package punkt is already up-to-date!\n",
            "[nltk_data]    | Downloading package snowball_data to\n",
            "[nltk_data]    |     /root/nltk_data...\n",
            "[nltk_data]    |   Package snowball_data is already up-to-date!\n",
            "[nltk_data]    | Downloading package averaged_perceptron_tagger to\n",
            "[nltk_data]    |     /root/nltk_data...\n",
            "[nltk_data]    |   Package averaged_perceptron_tagger is already up-\n",
            "[nltk_data]    |       to-date!\n",
            "[nltk_data]    | \n",
            "[nltk_data]  Done downloading collection popular\n"
          ]
        },
        {
          "output_type": "execute_result",
          "data": {
            "text/plain": [
              "True"
            ]
          },
          "metadata": {},
          "execution_count": 28
        }
      ]
    },
    {
      "cell_type": "markdown",
      "source": [
        "## 0.2 Data installations\n",
        "\n",
        "This cell requires the user to downloads the dataset mentioned previous to a path they can input below.\n"
      ],
      "metadata": {
        "id": "n0nAZA_J4sXc"
      }
    },
    {
      "cell_type": "code",
      "source": [
        "#Installation of dataset\n",
        "from google.colab import drive\n",
        "#drive.mount('/content/drive')\n",
        "import pandas as pd\n",
        "train_dataset = pd.read_csv('/content/drive/MyDrive/medical_tc_train.csv') #input own path\n",
        "test_dataset = pd.read_csv('/content/drive/MyDrive/medical_tc_test.csv') # \"\""
      ],
      "metadata": {
        "id": "ANAvA3OQ42Pt"
      },
      "execution_count": 29,
      "outputs": []
    },
    {
      "cell_type": "markdown",
      "source": [
        "## 0.3 Device agnostic code\n",
        "\n",
        "If running on google colab reader should set 'runtime type to GPU (graphical processing unit).\n",
        "\n",
        "The purpose for creation of rendering images means it has faster compute time than using a CPU, as tasks are divided into much smaller parts running on a larger number of cores in parallel.\n",
        "\n",
        "This is useful in our implementation as training a NN over multiple epochs can take time, and computational speedup is always welcomed."
      ],
      "metadata": {
        "id": "LU9Z7m_V6JOI"
      }
    },
    {
      "cell_type": "code",
      "source": [
        "device = \"cuda\" if torch.cuda.is_available() else \"cpu\"\n",
        "device"
      ],
      "metadata": {
        "colab": {
          "base_uri": "https://localhost:8080/",
          "height": 36
        },
        "id": "wUUlRD6b6O_X",
        "outputId": "aca1949e-dd3d-4736-c33b-e5200b9380e9"
      },
      "execution_count": 30,
      "outputs": [
        {
          "output_type": "execute_result",
          "data": {
            "text/plain": [
              "'cuda'"
            ],
            "application/vnd.google.colaboratory.intrinsic+json": {
              "type": "string"
            }
          },
          "metadata": {},
          "execution_count": 30
        }
      ]
    },
    {
      "cell_type": "markdown",
      "source": [
        "## 1 Preprocessing and data preparation\n",
        "\n",
        "Analysis and derivation found in file '01_Introductin_EDA_and_preprocessing.ipynb'"
      ],
      "metadata": {
        "id": "7Mo14olP6Z8n"
      }
    },
    {
      "cell_type": "code",
      "source": [
        "en_stop = set(stopwords.words('english'))\n",
        "def preprocess(data):\n",
        "    data_proc = []\n",
        "    for doc in data['medical_abstract']:\n",
        "        #lowercases document\n",
        "        doc = doc.lower()\n",
        "        #removes any non-letter characters\n",
        "        doc = re.sub(r'\\b[^a-zA-Z]+\\b', ' ', doc)\n",
        "        #tokenize\n",
        "        toks = nltk.word_tokenize(doc)\n",
        "        #remove tokens of lenth <= 1 (can be varied)\n",
        "        toks = [tok for tok in toks if len(tok) > 1]\n",
        "        #remove stopwords\n",
        "        toks = [tok for tok in toks if tok not in en_stop]\n",
        "        #lemmatize\n",
        "        toks = [WordNetLemmatizer().lemmatize(tok) for tok in toks]\n",
        "        data_proc.append(toks)\n",
        "    return data_proc"
      ],
      "metadata": {
        "id": "FbqmloND7BMP"
      },
      "execution_count": 46,
      "outputs": []
    },
    {
      "cell_type": "code",
      "source": [
        "text_train = train_dataset['medical_abstract']\n",
        "y_train = train_dataset['condition_label']\n",
        "text_test = test_dataset['medical_abstract']\n",
        "y_test = test_dataset['condition_label']"
      ],
      "metadata": {
        "id": "vddymyhn7u0L"
      },
      "execution_count": 47,
      "outputs": []
    },
    {
      "cell_type": "code",
      "source": [
        "X_trains  = preprocess(train_dataset)\n",
        "X_tests = preprocess(test_dataset)\n",
        "#print(X_trains[0])\n",
        "tokenizer = Tokenizer()\n",
        "tokenizer.fit_on_texts(X_trains)\n",
        "\n",
        "X_train = tokenizer.texts_to_sequences(X_trains)\n",
        "X_test = tokenizer.texts_to_sequences(X_tests)\n",
        "\n",
        "vocab_size = len(tokenizer.word_index) + 1\n",
        "\n",
        "# Pad the sequences to a fixed length\n",
        "max_length = 100\n",
        "X_train = pad_sequences(X_train, maxlen=max_length, padding='post')\n",
        "#print(X_train[0])\n",
        "X_test = pad_sequences(X_test, maxlen=max_length, padding='post')\n",
        "\n",
        "\n",
        "X_train_tensor = torch.LongTensor(X_train).to(device)\n",
        "y_train_tensor = torch.LongTensor(y_train).to(device)\n",
        "train_dataset = TensorDataset(X_train_tensor, y_train_tensor)\n",
        "train_loader = DataLoader(train_dataset, batch_size=32)\n",
        "\n",
        "\n",
        "\n",
        "X_test_tensor = torch.LongTensor(X_test).to(device)\n",
        "y_test_tensor = torch.LongTensor(y_test).to(device)\n",
        "\n",
        "y_test_tensor = torch.LongTensor(y_test)\n",
        "test_dataset = TensorDataset(X_test_tensor, y_test_tensor)\n",
        "test_loader = DataLoader(test_dataset, batch_size=32)\n",
        "test_loader = test_loader"
      ],
      "metadata": {
        "id": "B0kKPult731G"
      },
      "execution_count": 53,
      "outputs": []
    },
    {
      "cell_type": "markdown",
      "source": [
        "## 2 Word2Vec\n",
        "\n",
        "https://arxiv.org/pdf/1301.3781.pdf [3]\n",
        "\n",
        "Word2Vec is an embedding that considers similarities of words within texts,and outputs a vectorisation representation for words within a corpus. Similarities within word2vec consider arangements and combinations within sentences and their gramatic relationship, as well as semantic similarity, that considers context based on meaning.\n",
        "\n",
        "It is a useful technique because it allows personalisation for the user in how closely you want the relationship between words to be considered (tailored via `window`), so can be altered in context. It also is useful in the context of neural networks as the vectorisation output is easy to use as an input in the appropriate model.\n",
        "\n",
        "\n",
        "\n"
      ],
      "metadata": {
        "id": "UC3JPta_76uL"
      }
    },
    {
      "cell_type": "markdown",
      "source": [
        "### 2.1 Implementation\n",
        "\n",
        "The cell below trains a word2vec model based on the corpus of texts provided in the training data."
      ],
      "metadata": {
        "id": "UhCL0SJy96s5"
      }
    },
    {
      "cell_type": "code",
      "source": [
        "import random\n",
        "torch.manual_seed(302)\n",
        "np.random.seed(302)\n",
        "random.seed(302)\n",
        "# Train the Word2Vec model\n",
        "vocab_size = len(tokenizer.word_index) + 1\n",
        "w2v_model = Word2Vec(X_trains, vector_size=100, window=5, min_count=1, workers=4)\n",
        "print(w2v_model)\n",
        "#w2v_model = Word2Vec(sentences, vector_size=100, window=5, min_count=5, workers=4)\n",
        "\n",
        "\n",
        "# Create a weight matrix for the embedding layer\n",
        "embedding_matrix = np.zeros((vocab_size, 100))\n",
        "for word, i in tokenizer.word_index.items():\n",
        "    if word in w2v_model.wv:\n",
        "        embedding_matrix[i] = w2v_model.wv[word]\n",
        "print(embedding_matrix.shape)\n"
      ],
      "metadata": {
        "colab": {
          "base_uri": "https://localhost:8080/"
        },
        "id": "efbC6MfD-CCk",
        "outputId": "d70a1fcd-c2cd-48e0-d8ae-a0d371131e91"
      },
      "execution_count": 49,
      "outputs": [
        {
          "output_type": "stream",
          "name": "stdout",
          "text": [
            "Word2Vec<vocab=30615, vector_size=100, alpha=0.025>\n",
            "(30616, 100)\n"
          ]
        }
      ]
    },
    {
      "cell_type": "markdown",
      "source": [
        "## 3 Evaluation metrics\n",
        "\n",
        "Used in model evaluation. Note the accuracy function and timeit function are retreived from: mrdbuorke [2]"
      ],
      "metadata": {
        "id": "i7wt0uls-RWH"
      }
    },
    {
      "cell_type": "code",
      "source": [
        "#Accuracy (source mrdbuorke colab link)\n",
        "def accuracy_fn(y_true, y_pred):\n",
        "    \"\"\"Calculates accuracy between truth labels and predictions.\n",
        "\n",
        "    Args:\n",
        "        y_true (torch.Tensor): Truth labels for predictions.\n",
        "        y_pred (torch.Tensor): Predictions to be compared to predictions.\n",
        "\n",
        "    Returns:\n",
        "        [torch.float]: Accuracy value between y_true and y_pred, e.g. 78.45\n",
        "    \"\"\"\n",
        "    correct = torch.eq(y_true, y_pred).sum().item()\n",
        "    acc = (correct / len(y_pred)) * 100\n",
        "    return acc"
      ],
      "metadata": {
        "id": "Une_x21I__vc"
      },
      "execution_count": 51,
      "outputs": []
    },
    {
      "cell_type": "code",
      "source": [
        "from timeit import default_timer as timer\n",
        "def print_train_time(start: float,\n",
        "                     end: float,\n",
        "                     device: torch.device = None):\n",
        "  \"\"\"Prints difference between start adn end time. \"\"\"\n",
        "  total_time = end - start\n",
        "  print(f\"Train time on {device}: {total_time:.3f} seconds\")\n",
        "  return total_time\n",
        "\n",
        "start_time = timer()\n",
        "# some code...\n",
        "end_time = timer()\n",
        "print_train_time(start=start_time, end= end_time, device = \"cpu\")"
      ],
      "metadata": {
        "colab": {
          "base_uri": "https://localhost:8080/"
        },
        "id": "UP9x4DfRACRc",
        "outputId": "be1014f5-7c72-47c1-895d-388b2201e47b"
      },
      "execution_count": 52,
      "outputs": [
        {
          "output_type": "stream",
          "name": "stdout",
          "text": [
            "Train time on cpu: 0.000 seconds\n"
          ]
        },
        {
          "output_type": "execute_result",
          "data": {
            "text/plain": [
              "2.6517000151216052e-05"
            ]
          },
          "metadata": {},
          "execution_count": 52
        }
      ]
    },
    {
      "cell_type": "code",
      "source": [
        "def performance(conf_mat):\n",
        "  TP = 0\n",
        "  for i in range(conf_mat.shape[0]):\n",
        "    Class = df_labels['condition_name'][i]\n",
        "    tp = conf_mat[i, i]\n",
        "    fp = np.sum(conf_mat[:, i]) - tp\n",
        "    fn = np.sum(conf_mat[i, :]) - tp\n",
        "    tn = np.sum(conf_mat) - (tp + fp + fn)\n",
        "    accuracy = (tp + tn) / (tp + tn + fp + fn)\n",
        "    precision = tp / (tp + fp) if (tp + fp) != 0 else 0\n",
        "    recall = tp / (tp + fn) if (tp + fn) != 0 else 0\n",
        "    TP += tp\n",
        "    print(Class.upper())\n",
        "    print(f\"Accuracy: {accuracy:.2f}, Precision: {precision:.2f}, Recall: {recall:.2f}\")\n",
        "  accuracy_tot = TP / np.sum(conf_mat)\n",
        "  print(f\"Total Accuracy: {accuracy_tot:.3f}\")\n",
        "  return"
      ],
      "metadata": {
        "id": "a5pPzw4HDC2R"
      },
      "execution_count": 61,
      "outputs": []
    },
    {
      "cell_type": "markdown",
      "source": [
        "## 4 CNN model\n",
        "\n",
        "https://arxiv.org/ftp/arxiv/papers/2301/2301.11696.pdf [4]\n",
        "\n",
        "To capture the complicated structures of sentences and texts within the english language a successful classification model must be able to identify the intricate and varying details within large corpuses of texts. This is where convolutional neural networks have become a leading model in doing said thing, the deep learning and adaptability of CNNs allow for compliacated patterns within the context to be identified, and thus reasons why word2vec and CNNs usually go hand-in-hand.\n",
        "\n",
        "Our implementation of the convoluation neural network to classify the medical abstracts is derived from the implementation within this report https://arxiv.org/ftp/arxiv/papers/1704/1704.06841.pdf [5], where we use the 2 convoluational and maxpool layers as specified, however running our own parameter tuning for learning rate and kernels through anaylsing accuracy scores.\n",
        "\n",
        "While the model's parameters and layers aren't thoroughly analysed in the `appendix.ipynb` file,sufficient support on structure from the report and adaption of specific parameters allows us to conclude a \"sufficient neural network\" structure for classification as implemented below.\n",
        "\n"
      ],
      "metadata": {
        "id": "HEE_PnunAGba"
      }
    },
    {
      "cell_type": "markdown",
      "source": [
        "### 4.1 Model Architecture"
      ],
      "metadata": {
        "id": "Kg8s0jPXBPJ1"
      }
    },
    {
      "cell_type": "code",
      "source": [
        "num_classes =5\n",
        "random.seed(302)\n",
        "torch.cuda.manual_seed(302)\n",
        "torch.manual_seed(302)\n",
        "#create vector of labels 0,4\n",
        "\n",
        "class CNNMulticlass(nn.Module):\n",
        "    def __init__(self, vocab_size, embedding_dim, embedding_matrix, max_length):\n",
        "        super(CNNMulticlass, self).__init__()\n",
        "        #Embedding layers\n",
        "        self.embedding = nn.Embedding(vocab_size, embedding_dim)\n",
        "        self.embedding.weight = nn.Parameter(torch.tensor(embedding_matrix, dtype=torch.float32))\n",
        "        self.embedding.weight.requires_grad = False #keeps original embedding matrix\n",
        "\n",
        "        #two convolutional layers and 2 max pool layers like paper[1]\n",
        "        self.conv1 = nn.Conv1d(embedding_dim, 256, kernel_size=2)\n",
        "        self.pool1 = nn.MaxPool1d(5)\n",
        "        self.conv2 = nn.Conv1d(256, 256, kernel_size=2)\n",
        "        self.pool2 = nn.MaxPool1d(5)\n",
        "        #flattening for fully connected layers\n",
        "        self.flatten = nn.Flatten()\n",
        "        self.fc1 = nn.Linear(256 * ((max_length - 4) // 25) , 256)\n",
        "        self.fc2 = nn.Linear(256, num_classes)\n",
        "        #softmax activation for final output\n",
        "        self.softmax = nn.Softmax(dim=1)\n",
        "\n",
        "    def forward(self, x):\n",
        "      #pass input through embedding layer\n",
        "        x = self.embedding(x)\n",
        "        #need to rearrange for conv layer\n",
        "        x = x.permute(0, 2, 1)\n",
        "        #RelU activations with conv and max pool layers\n",
        "        x = self.pool1(nn.functional.relu(self.conv1(x)))\n",
        "        x = self.pool2(nn.functional.relu(self.conv2(x)))\n",
        "        x = self.flatten(x)\n",
        "        x = nn.functional.relu(self.fc1(x))\n",
        "        x = self.fc2(x)\n",
        "\n",
        "        return x\n",
        "\n",
        "\n"
      ],
      "metadata": {
        "id": "wtXplmQ8Aag_"
      },
      "execution_count": 54,
      "outputs": []
    },
    {
      "cell_type": "markdown",
      "source": [
        "### 4.2 Model instantiation, training and testing"
      ],
      "metadata": {
        "id": "xWVeeyOOBHRW"
      }
    },
    {
      "cell_type": "code",
      "source": [
        "model_multiclass = CNNMulticlass(vocab_size, 100, embedding_matrix, max_length).to(device)\n",
        "optimizer = torch.optim.Adam(model_multiclass.parameters(), lr=0.01)\n",
        "criterion = nn.CrossEntropyLoss()\n",
        "\n",
        "\n",
        "from tqdm.auto import tqdm\n",
        "print(len(test_loader))\n",
        "train_time_start_on_cpu = timer()\n",
        "\n",
        "epochs = 10\n",
        "for epoch in tqdm(range(epochs)):\n",
        "    print(f\"Epoch:{epoch}\\n-----\")\n",
        "    train_loss = 0\n",
        "    for batch, (inputs, labels) in enumerate(train_loader):\n",
        "        model_multiclass.train()\n",
        "        # Forward pass'=\n",
        "        #print(inputs)\n",
        "        y_pred = model_multiclass(inputs).to(device)\n",
        "        #print(y_pred.softmax(dim=1))\n",
        "        #Calculate loss\n",
        "        labels = labels.long() -1\n",
        "        #print(labels)\n",
        "        loss = criterion(y_pred, labels)\n",
        "        train_loss += loss\n",
        "        #optimizer zero-grad\n",
        "        optimizer.zero_grad()\n",
        "        #loss backward\n",
        "        loss.backward()\n",
        "        #step\n",
        "        optimizer.step()\n",
        "\n",
        "    train_loss /= len(train_loader)\n",
        "\n",
        "    ### Testing\n",
        "    test_loss, test_acc = 0, 0\n",
        "    model_multiclass.eval()\n",
        "    with torch.inference_mode():\n",
        "        for X_test_tensor, y_test_tensor in test_loader:\n",
        "            #forward pass\n",
        "            test_pred = model_multiclass(X_test_tensor).to(device)\n",
        "            #print(y_test_tensor -1)[0,4]\n",
        "            #calculate loss\n",
        "            y_test_tensor = y_test_tensor-1 #.Long()\n",
        "            y_test_tensor = y_test_tensor.to(device)\n",
        "            test_loss += criterion(test_pred, y_test_tensor)\n",
        "            #calculate accuracy\n",
        "            y_preds = test_pred.argmax(dim=1)\n",
        "            #print(y_preds)\n",
        "            test_acc += accuracy_fn(y_true = y_test_tensor, y_pred = y_preds)\n",
        "        # Calculate the test loss average per batch\n",
        "        test_loss /= len(test_loader)\n",
        "\n",
        "        # Calculate the test acc average per batch\n",
        "        test_acc /= len(test_loader)\n",
        "\n",
        "\n",
        "\n",
        "    print(f\"\\nTrain loss: {train_loss:.4f} | Test loss: {test_loss:.4f}, Test acc: {test_acc:.4f}\")\n",
        "    train_time_end_on_cpu = timer()\n",
        "    total_train_time_model_multiclass = print_train_time(start = train_time_start_on_cpu,\n",
        "                                              end = train_time_end_on_cpu,\n",
        "                                              device=str(next(model_multiclass.parameters()).device))"
      ],
      "metadata": {
        "colab": {
          "base_uri": "https://localhost:8080/",
          "height": 979,
          "referenced_widgets": [
            "0f77eac8e1ad4fdca6ceaf1469239d40",
            "d3a3f6af7b444433b7dcd43fb70c3728",
            "2e0df47736de4fca9492d64fd52cdd28",
            "97b8de6cf6154aff83aca5cb1b3c2b18",
            "478ac4e3e8474a1b95232582f4823aba",
            "20aa2391fc7e4a1db6dc101e1cdddf63",
            "04ceec1a14de4f839eba3768223651ef",
            "c53b74e1606347e987ce5be521be2b6d",
            "996bdb9a6eaf42e9a6bb1d132d22a0e7",
            "3b9717e1eed54973a61c9e5614e65ba7",
            "88c7e5a4c98a4057a53f500671d2bad5"
          ]
        },
        "id": "gJhRnyyOBV3_",
        "outputId": "76b5eb6f-2fe6-4175-e39c-927321cfcce3"
      },
      "execution_count": 59,
      "outputs": [
        {
          "output_type": "stream",
          "name": "stdout",
          "text": [
            "91\n"
          ]
        },
        {
          "output_type": "display_data",
          "data": {
            "text/plain": [
              "  0%|          | 0/10 [00:00<?, ?it/s]"
            ],
            "application/vnd.jupyter.widget-view+json": {
              "version_major": 2,
              "version_minor": 0,
              "model_id": "0f77eac8e1ad4fdca6ceaf1469239d40"
            }
          },
          "metadata": {}
        },
        {
          "output_type": "stream",
          "name": "stdout",
          "text": [
            "Epoch:0\n",
            "-----\n",
            "\n",
            "Train loss: 1.2149 | Test loss: 1.1682, Test acc: 50.6868\n",
            "Train time on cuda:0: 1.549 seconds\n",
            "Epoch:1\n",
            "-----\n",
            "\n",
            "Train loss: 1.0955 | Test loss: 1.0909, Test acc: 50.9959\n",
            "Train time on cuda:0: 2.585 seconds\n",
            "Epoch:2\n",
            "-----\n",
            "\n",
            "Train loss: 1.0607 | Test loss: 1.0848, Test acc: 53.9835\n",
            "Train time on cuda:0: 3.581 seconds\n",
            "Epoch:3\n",
            "-----\n",
            "\n",
            "Train loss: 1.0428 | Test loss: 1.0541, Test acc: 55.6319\n",
            "Train time on cuda:0: 4.835 seconds\n",
            "Epoch:4\n",
            "-----\n",
            "\n",
            "Train loss: 1.0283 | Test loss: 1.0547, Test acc: 56.8681\n",
            "Train time on cuda:0: 6.116 seconds\n",
            "Epoch:5\n",
            "-----\n",
            "\n",
            "Train loss: 1.0280 | Test loss: 1.0407, Test acc: 56.5247\n",
            "Train time on cuda:0: 7.398 seconds\n",
            "Epoch:6\n",
            "-----\n",
            "\n",
            "Train loss: 1.0091 | Test loss: 1.0507, Test acc: 55.8379\n",
            "Train time on cuda:0: 8.637 seconds\n",
            "Epoch:7\n",
            "-----\n",
            "\n",
            "Train loss: 1.0040 | Test loss: 1.0501, Test acc: 56.0096\n",
            "Train time on cuda:0: 9.649 seconds\n",
            "Epoch:8\n",
            "-----\n",
            "\n",
            "Train loss: 0.9990 | Test loss: 1.0475, Test acc: 56.3530\n",
            "Train time on cuda:0: 10.648 seconds\n",
            "Epoch:9\n",
            "-----\n",
            "\n",
            "Train loss: 1.0055 | Test loss: 1.0429, Test acc: 56.6277\n",
            "Train time on cuda:0: 11.672 seconds\n"
          ]
        }
      ]
    },
    {
      "cell_type": "markdown",
      "source": [
        "## 4.3 Model Evaluation"
      ],
      "metadata": {
        "id": "xRjHJjAMCl3P"
      }
    },
    {
      "cell_type": "code",
      "source": [
        "# Import tqdm.auto for progress bar tracking\n",
        "random.seed(302)\n",
        "torch.cuda.manual_seed(302)\n",
        "torch.manual_seed(302)\n",
        "\n",
        "from tqdm.auto import tqdm\n",
        "\n",
        "#1. Make predictions with trained model\n",
        "y_preds = []\n",
        "model_multiclass.eval()\n",
        "with torch.inference_mode():\n",
        "  for X, y in tqdm(test_loader, desc = \"Making predictions...\"):\n",
        "    # Send the data and targets to target device\n",
        "    # DO the forward pass\n",
        "    X, y = X.to(device), y.to(device)\n",
        "\n",
        "    y_logits = model_multiclass(X)\n",
        "    #Turn prediction from logits -> prediction porbabilities -> prediction labels\n",
        "    y_pred = torch.softmax(y_logits.squeeze(), dim =0).argmax(dim=1)\n",
        "    # Put predictions on CPU for evaluation\n",
        "    y_preds.append(y_pred.cpu())\n",
        "\n",
        "  #COncatenate list of predictions into a tensor\n",
        "  #print(y_preds)\n",
        "y_pred_tensor = torch.cat(y_preds)\n",
        "y_pred_tensor\n",
        "\n",
        "try:\n",
        "  import torchmetrics, mlxtend\n",
        "  print(f\"mlxtend version: {mlxtend.__version__}\")\n",
        "  assert int(mlxtend.__version__.split(\".\")[1]) >=19, \"mlxtend version should be 0.19.0 or higher\"\n",
        "except:\n",
        "  !pip install -q torchmetrics -U mlxtend\n",
        "  import torchmetrics, mlxtend\n",
        "  print(f\" mlxtend version: {mlxtend.__version__}\")\n",
        "\n",
        "from torchmetrics import ConfusionMatrix\n",
        "from mlxtend.plotting import plot_confusion_matrix\n",
        "\n",
        "# 2. Setup confusion instance and compare predictions to targets\n",
        "class_names = [f\"Class {i}\" for i in range(1, 6)]\n",
        "\n",
        "\n",
        "confmat = ConfusionMatrix(task = \"multiclass\",\n",
        "                          num_classes=5)\n",
        "\n",
        "y_test_tensor = torch.LongTensor(y_test)-1\n",
        "print(y_test_tensor)\n",
        "print(y_pred_tensor)\n",
        "confmat_tensor = confmat(preds = y_pred_tensor,\n",
        "                         target = y_test_tensor)\n",
        "\n",
        "#3. Plot the confusion matrix\n",
        "fig, ax = plot_confusion_matrix(\n",
        "    conf_mat = confmat_tensor.numpy(), #matplotlib likes working with numpy\n",
        "    figsize=(10,7),\n",
        "    class_names=class_names,\n",
        ")\n"
      ],
      "metadata": {
        "colab": {
          "base_uri": "https://localhost:8080/",
          "height": 737,
          "referenced_widgets": [
            "71322b754b454e02b22992cc364a18b2",
            "ab04420e03da4f23afce1d1b7a1fead9",
            "19e4e75c896c4bb088adcc33f531b344",
            "8af790309c734d19a5de3630dc11e637",
            "8398053084264ba58de1ee4d1bda258c",
            "e4fa9260a51342e1ab9f67638e28df29",
            "a1726778c6c14fd0bce0351091de475e",
            "000a63a089aa4e53a23651c9021cb8a8",
            "00457ce2fbff471ea158ddc3b81ba3c8",
            "11228f912c0842b589ea713c9d8927f4",
            "e8d55c642b60437f9c3ef9946019581a"
          ]
        },
        "id": "e6sNAGuUBjQj",
        "outputId": "01c9f7b1-5fd2-48e0-ef32-0ea63e867939"
      },
      "execution_count": 69,
      "outputs": [
        {
          "output_type": "display_data",
          "data": {
            "text/plain": [
              "Making predictions...:   0%|          | 0/91 [00:00<?, ?it/s]"
            ],
            "application/vnd.jupyter.widget-view+json": {
              "version_major": 2,
              "version_minor": 0,
              "model_id": "71322b754b454e02b22992cc364a18b2"
            }
          },
          "metadata": {}
        },
        {
          "output_type": "stream",
          "name": "stdout",
          "text": [
            "mlxtend version: 0.23.0\n",
            "tensor([2, 4, 4,  ..., 3, 0, 3])\n",
            "tensor([2, 1, 0,  ..., 3, 1, 2])\n"
          ]
        },
        {
          "output_type": "display_data",
          "data": {
            "text/plain": [
              "<Figure size 1000x700 with 1 Axes>"
            ],
            "image/png": "[encoded data removed]"
          },
          "metadata": {}
        }
      ]
    },
    {
      "cell_type": "code",
      "source": [
        "# Run Geraint's code here"
      ],
      "metadata": {
        "id": "kQvixaUII3SJ"
      },
      "execution_count": 70,
      "outputs": []
    },
    {
      "cell_type": "markdown",
      "source": [
        "Talk about results:\n",
        "* Strong diagonal line\n",
        "* Weak classifcation for class 5"
      ],
      "metadata": {
        "id": "1xWzXQHGCfIc"
      }
    },
    {
      "cell_type": "markdown",
      "source": [
        "## 5 Exploration of misslclassification for class 5"
      ],
      "metadata": {
        "id": "-8s_rpUnIzam"
      }
    },
    {
      "cell_type": "markdown",
      "source": [
        "* talk about initial imbalances, reference EDA notebook\n",
        "* talk about 'General' classification\n"
      ],
      "metadata": {
        "id": "xspa04MTJInX"
      }
    },
    {
      "cell_type": "markdown",
      "source": [
        "### 5.1 T-SNE plots for visualisation\n",
        "\n",
        "* https://towardsdatascience.com/google-news-and-leo-tolstoy-visualizing-word2vec-word-embeddings-with-t-sne-11558d8bd4d\n",
        "\n"
      ],
      "metadata": {
        "id": "MJEDlSGfJFXn"
      }
    },
    {
      "cell_type": "code",
      "source": [
        "# Split dataset into classes and specific classes\n",
        "import matplotlib.pyplot as plt\n",
        "import matplotlib.cm as cm\n",
        "from sklearn.manifold import TSNE\n",
        "from gensim.models import Word2Vec\n",
        "\n",
        "train_dataset = pd.read_csv('/content/drive/MyDrive/medical_tc_train.csv')\n",
        "test_dataset = pd.read_csv('/content/drive/MyDrive/medical_tc_test.csv')\n",
        "\n",
        "\n",
        "print(train_dataset.head())\n",
        "\n",
        "neoplasms= train_dataset[train_dataset['condition_label'] == 1]\n",
        "digestive_system = train_dataset[train_dataset['condition_label'] == 2]\n",
        "nervous_system = train_dataset[train_dataset['condition_label'] == 3]\n",
        "cardiovascular = train_dataset[train_dataset['condition_label'] == 4]\n",
        "general = train_dataset[train_dataset['condition_label'] == 5]\n",
        "\n",
        "print(general.head())\n",
        "# Assuming you have lists of texts for the general class and specific classes\n",
        "neoplasms_texts = neoplasms['medical_abstract']\n",
        "digestive_texts = digestive_system['medical_abstract']\n",
        "nervous_texts = nervous_system['medical_abstract']\n",
        "cardiovascular_texts = cardiovascular['medical_abstract']\n",
        "general_texts = general['medical_abstract']\n",
        "\n",
        "neoplasms_train = preprocess(neoplasms)\n",
        "digestive_train = preprocess(digestive_system)\n",
        "nervous_train = preprocess(nervous_system)\n",
        "cardiovascular_train = preprocess(cardiovascular)\n",
        "general_train = preprocess(general)\n",
        "\n",
        "\n",
        "# For general class\n",
        "tokenizer = Tokenizer()\n",
        "tokenizer.fit_on_texts(general_train)\n",
        "general_train1 = tokenizer.texts_to_sequences(general_train)\n",
        "vocab_size = len(tokenizer.word_index) + 1\n",
        "# Pad the sequences to a fixed length\n",
        "max_length = 100\n",
        "general_train1 = pad_sequences(general_train1, maxlen=max_length, padding='post')\n",
        "general_w2v_model = Word2Vec(general_train, vector_size=100, window=5, min_count=1, workers=4)\n",
        "# Generate word embeddings for general and specific classes\n",
        "general_embedding_matrix = np.zeros((vocab_size, 100))\n",
        "for word, i in tokenizer.word_index.items():\n",
        "    if word in general_w2v_model.wv:\n",
        "        general_embedding_matrix[i] = general_w2v_model.wv[word]\n",
        "print(general_embedding_matrix.shape)\n",
        "# Replace these steps with your Word2Vec model training process\n",
        "\n",
        "\n",
        "## FOr neoplasm clases\n",
        "tokenizer = Tokenizer()\n",
        "tokenizer.fit_on_texts(neoplasms_train)\n",
        "neoplasms_train1 = tokenizer.texts_to_sequences(neoplasms_train)\n",
        "neoplasms_vocab_size = len(tokenizer.word_index) + 1\n",
        "# Pad the sequences to a fixed length\n",
        "max_length = 100\n",
        "neoplasms_train1 = pad_sequences(neoplasms_train1, maxlen=max_length, padding='post')\n",
        "neoplasms_w2v_model = Word2Vec(sentences=neoplasms_texts, vector_size=100, window=5, min_count=1, workers=4)\n",
        "# Generate word embes=dding matrix for  specific classes\n",
        "neoplasms_embedding_matrix = np.zeros((neoplasms_vocab_size, 100))\n",
        "for word, i in tokenizer.word_index.items():\n",
        "    if word in neoplasms_w2v_model.wv:\n",
        "        neoplasms_embedding_matrix[i] = neoplasms_w2v_model.wv[word]\n",
        "print(neoplasms_embedding_matrix.shape)\n",
        "\n",
        "\n",
        "## FOr digestive clases\n",
        "tokenizer = Tokenizer()\n",
        "tokenizer.fit_on_texts(digestive_train)\n",
        "digestive_train1 = tokenizer.texts_to_sequences(digestive_train)\n",
        "digestive_vocab_size = len(tokenizer.word_index) + 1\n",
        "# Pad the sequences to a fixed length\n",
        "max_length = 100\n",
        "digestive_train1 = pad_sequences(digestive_train1, maxlen=max_length, padding='post')\n",
        "digestive_w2v_model = Word2Vec(sentences=digestive_texts, vector_size=100, window=5, min_count=1, workers=4)\n",
        "# Generate word embes=dding matrix for  specific classes\n",
        "digestive_embedding_matrix = np.zeros((digestive_vocab_size, 100))\n",
        "for word, i in tokenizer.word_index.items():\n",
        "    if word in digestive_w2v_model.wv:\n",
        "        digestive_embedding_matrix[i] = digestive_w2v_model.wv[word]\n",
        "print(digestive_embedding_matrix.shape)\n",
        "\n",
        "\n",
        "## For nervous system clases\n",
        "tokenizer = Tokenizer()\n",
        "tokenizer.fit_on_texts(nervous_train)\n",
        "nervous_train1 = tokenizer.texts_to_sequences(nervous_train)\n",
        "nervous_vocab_size = len(tokenizer.word_index) + 1\n",
        "# Pad the sequences to a fixed length\n",
        "max_length = 100\n",
        "nervous_train1 = pad_sequences(nervous_train1, maxlen=max_length, padding='post')\n",
        "nervous_w2v_model = Word2Vec(sentences=nervous_texts, vector_size=100, window=5, min_count=1, workers=4)\n",
        "# Generate word embes=dding matrix for  specific classes\n",
        "nervous_embedding_matrix = np.zeros((nervous_vocab_size, 100))\n",
        "for word, i in tokenizer.word_index.items():\n",
        "    if word in nervous_w2v_model.wv:\n",
        "        nervous_embedding_matrix[i] = nervous_w2v_model.wv[word]\n",
        "print(nervous_embedding_matrix.shape)\n",
        "\n",
        "\n",
        "## For cardiovascular clases\n",
        "tokenizer = Tokenizer()\n",
        "tokenizer.fit_on_texts(cardiovascular_train)\n",
        "cardiovascular_train1 = tokenizer.texts_to_sequences(cardiovascular_train)\n",
        "cardiovascular_vocab_size = len(tokenizer.word_index) + 1\n",
        "# Pad the sequences to a fixed length\n",
        "max_length = 100\n",
        "cardiovascular_train1 = pad_sequences(cardiovascular_train1, maxlen=max_length, padding='post')\n",
        "cardiovascular_w2v_model = Word2Vec(sentences=cardiovascular_texts, vector_size=100, window=5, min_count=1, workers=4)\n",
        "# Generate word embes=dding matrix for  specific classes\n",
        "cardiovascular_embedding_matrix = np.zeros((cardiovascular_vocab_size, 100))\n",
        "for word, i in tokenizer.word_index.items():\n",
        "    if word in cardiovascular_w2v_model.wv:\n",
        "        cardiovascular_embedding_matrix[i] = cardiovascular_w2v_model.wv[word]\n",
        "print(cardiovascular_embedding_matrix.shape)\n",
        "\n",
        "\n",
        "\n",
        "# Apply t-SNE for dimensionality reduction\n",
        "tsne = TSNE(n_components=2, random_state=42)\n",
        "embeddings_neoplasms = tsne.fit_transform(neoplasms_embedding_matrix)\n",
        "\n",
        "tsne = TSNE(n_components=2, random_state=42)\n",
        "embeddings_digestive = tsne.fit_transform(digestive_embedding_matrix)\n",
        "\n",
        "tsne = TSNE(n_components=2, random_state=42)\n",
        "embeddings_nervous = tsne.fit_transform(nervous_embedding_matrix)\n",
        "\n",
        "tsne = TSNE(n_components=2, random_state=42)\n",
        "embeddings_cardiovascular = tsne.fit_transform(cardiovascular_embedding_matrix)\n",
        "\n",
        "tsne = TSNE(n_components=2, random_state=42)\n",
        "embeddings_general = tsne.fit_transform(general_embedding_matrix)\n",
        "\n",
        "\n",
        "# Plotting\n",
        "plt.figure(figsize=(8, 6))\n",
        "for idx, (x, y) in enumerate(embeddings_neoplasms):\n",
        "    color = 'blue'  # Assign different colors to general and specific classes\n",
        "    plt.scatter(x, y, color=color, alpha=0.7)\n",
        "\n",
        "plt.xlabel('Dimension 1')\n",
        "plt.ylabel('Dimension 2')\n",
        "plt.title('t-SNE Visualization for neoplasms class embeddings')\n",
        "plt.grid(True)\n",
        "plt.show()\n",
        "\n",
        "plt.figure(figsize=(8, 6))\n",
        "for idx, (x, y) in enumerate(embeddings_digestive):\n",
        "    label = 'digestive'\n",
        "    color = 'blue'  # Assign different colors to general and specific classes\n",
        "    plt.scatter(x, y, color=color, alpha=0.7)\n",
        "\n",
        "plt.xlabel('Dimension 1')\n",
        "plt.ylabel('Dimension 2')\n",
        "plt.title('t-SNE Visualization for digestive system class embeddings')\n",
        "plt.grid(True)\n",
        "plt.show()\n",
        "\n",
        "plt.figure(figsize=(8, 6))\n",
        "for idx, (x, y) in enumerate(embeddings_nervous):\n",
        "    label = 'neoplasms'\n",
        "    color = 'blue'  # Assign different colors to general and specific classes\n",
        "    plt.scatter(x, y, color=color, alpha=0.7)\n",
        "\n",
        "plt.xlabel('Dimension 1')\n",
        "plt.ylabel('Dimension 2')\n",
        "plt.title('t-SNE Visualization for nervous system class embeddings')\n",
        "plt.grid(True)\n",
        "plt.show()\n",
        "\n",
        "plt.figure(figsize=(8, 6))\n",
        "for idx, (x, y) in enumerate(embeddings_cardiovascular):\n",
        "    label = 'cardiovascular'\n",
        "    color = 'blue'  # Assign different colors to general and specific classes\n",
        "    plt.scatter(x, y, color=color, alpha=0.7)\n",
        "\n",
        "plt.xlabel('Dimension 1')\n",
        "plt.ylabel('Dimension 2')\n",
        "plt.title('t-SNE Visualization for cardiovascular system class embeddingss')\n",
        "plt.grid(True)\n",
        "plt.show()\n",
        "\n",
        "plt.figure(figsize=(8, 6))\n",
        "for idx, (x, y) in enumerate(embeddings_general):\n",
        "    label = 'neoplasms'\n",
        "    color = 'blue'  # Assign different colors to general and specific classes\n",
        "    plt.scatter(x, y, color=color, alpha=0.7)\n",
        "\n",
        "plt.xlabel('Dimension 1')\n",
        "plt.ylabel('Dimension 2')\n",
        "plt.title('t-SNE Visualization for general class embeddingss')\n",
        "plt.grid(True)\n",
        "plt.show()"
      ],
      "metadata": {
        "colab": {
          "base_uri": "https://localhost:8080/",
          "height": 1000
        },
        "id": "381J4rwaJXbb",
        "outputId": "87375e4f-cf2e-456b-a008-8b15aaa31294"
      },
      "execution_count": 75,
      "outputs": [
        {
          "output_type": "stream",
          "name": "stdout",
          "text": [
            "   condition_label                                   medical_abstract\n",
            "0                5  Tissue changes around loose prostheses. A cani...\n",
            "1                1  Neuropeptide Y and neuron-specific enolase lev...\n",
            "2                2  Sexually transmitted diseases of the colon, re...\n",
            "3                1  Lipolytic factors associated with murine and h...\n",
            "4                3  Does carotid restenosis predict an increased r...\n",
            "    condition_label                                   medical_abstract\n",
            "0                 5  Tissue changes around loose prostheses. A cani...\n",
            "8                 5  Color Doppler diagnosis of mechanical prosthet...\n",
            "9                 5  Noninvasive diagnosis of right-sided extracard...\n",
            "12                5  Closure of a bronchopleural fistula with bronc...\n",
            "18                5  In vitro and in vivo effects within the corona...\n",
            "(20806, 100)\n"
          ]
        },
        {
          "output_type": "stream",
          "name": "stderr",
          "text": [
            "WARNING:gensim.models.word2vec:Each 'sentences' item should be a list of words (usually unicode strings). First item here is instead plain <class 'str'>.\n",
            "WARNING:gensim.models.word2vec:Each 'sentences' item should be a list of words (usually unicode strings). First item here is instead plain <class 'str'>.\n"
          ]
        },
        {
          "output_type": "stream",
          "name": "stdout",
          "text": [
            "(15382, 100)\n"
          ]
        },
        {
          "output_type": "stream",
          "name": "stderr",
          "text": [
            "WARNING:gensim.models.word2vec:Each 'sentences' item should be a list of words (usually unicode strings). First item here is instead plain <class 'str'>.\n"
          ]
        },
        {
          "output_type": "stream",
          "name": "stdout",
          "text": [
            "(10439, 100)\n",
            "(12638, 100)\n"
          ]
        },
        {
          "output_type": "stream",
          "name": "stderr",
          "text": [
            "WARNING:gensim.models.word2vec:Each 'sentences' item should be a list of words (usually unicode strings). First item here is instead plain <class 'str'>.\n"
          ]
        },
        {
          "output_type": "stream",
          "name": "stdout",
          "text": [
            "(13259, 100)\n"
          ]
        },
        {
          "output_type": "display_data",
          "data": {
            "text/plain": [
              "<Figure size 800x600 with 1 Axes>"
            ],
            "image/png": "[encoded data removed]"
          },
          "metadata": {}
        },
        {
          "output_type": "display_data",
          "data": {
            "text/plain": [
              "<Figure size 800x600 with 1 Axes>"
            ],
            "image/png": "[encoded data removed]"
          },
          "metadata": {}
        },
        {
          "output_type": "display_data",
          "data": {
            "text/plain": [
              "<Figure size 800x600 with 1 Axes>"
            ],
            "image/png": "[encoded data removed]"
          },
          "metadata": {}
        },
        {
          "output_type": "display_data",
          "data": {
            "text/plain": [
              "<Figure size 800x600 with 1 Axes>"
            ],
            "image/png": "[encoded data removed]"
          },
          "metadata": {}
        },
        {
          "output_type": "display_data",
          "data": {
            "text/plain": [
              "<Figure size 800x600 with 1 Axes>"
            ],
            "image/png": "[encoded data removed]"
          },
          "metadata": {}
        }
      ]
    },
    {
      "cell_type": "markdown",
      "source": [
        "From the graphs executed above, it is clear to see a large variance/spread in distribution of the word embeddings in the general pathological category of our data. Thus providing potential justification of the innaccuracies derived from classifying/involving the 'general' class within reasearch."
      ],
      "metadata": {
        "id": "h-0tHfKvQLfb"
      }
    },
    {
      "cell_type": "markdown",
      "source": [
        "### Analysis without the 'general pathological conditions' class\n",
        "\n",
        "From research perfromed within our EDA, classification and t-SNE plot of the embeddings, it is clear to see that including the general pathological conditions category results in inaccuries within our classification as explored within class imbalance and lack of specifcity within the class. Thus furhter analysis in this section is done without the use of the generic class, to explore model accuracy without the anomolous class."
      ],
      "metadata": {
        "id": "4qdT6nWJldjE"
      }
    },
    {
      "cell_type": "code",
      "source": [
        "train_dataset = pd.read_csv('/content/drive/MyDrive/medical_tc_train.csv') #input own path\n",
        "test_dataset = pd.read_csv('/content/drive/MyDrive/medical_tc_test.csv') # \"\"\n",
        "\n",
        "train_dataset2 = train_dataset[train_dataset['condition_label'] != 5]\n",
        "test_dataset2 = test_dataset[test_dataset['condition_label'] != 5]"
      ],
      "metadata": {
        "id": "rEuxGJACmNvN"
      },
      "execution_count": 77,
      "outputs": []
    },
    {
      "cell_type": "code",
      "source": [
        "text_train = train_dataset2['medical_abstract']\n",
        "y_train = train_dataset2['condition_label']\n",
        "text_test = test_dataset2['medical_abstract']\n",
        "y_test = test_dataset2['condition_label']"
      ],
      "metadata": {
        "colab": {
          "base_uri": "https://localhost:8080/"
        },
        "id": "_yHqjbFQmyOb",
        "outputId": "c3b06786-1404-498f-f220-2d3780ffbdd6"
      },
      "execution_count": 83,
      "outputs": [
        {
          "output_type": "stream",
          "name": "stdout",
          "text": [
            "1    1\n",
            "2    2\n",
            "3    1\n",
            "4    3\n",
            "5    3\n",
            "Name: condition_label, dtype: int64\n"
          ]
        }
      ]
    },
    {
      "cell_type": "code",
      "source": [
        "X_trains  = preprocess(train_dataset2)\n",
        "X_tests = preprocess(test_dataset2)\n",
        "#print(X_trains[0])\n",
        "tokenizer = Tokenizer()\n",
        "tokenizer.fit_on_texts(X_trains)\n",
        "\n",
        "X_train = tokenizer.texts_to_sequences(X_trains)\n",
        "X_test = tokenizer.texts_to_sequences(X_tests)\n",
        "\n",
        "vocab_size = len(tokenizer.word_index) + 1\n",
        "\n",
        "# Pad the sequences to a fixed length\n",
        "max_length = 100\n",
        "X_train = pad_sequences(X_train, maxlen=max_length, padding='post')\n",
        "#print(X_train[0])\n",
        "X_test = pad_sequences(X_test, maxlen=max_length, padding='post')\n",
        "\n",
        "\n",
        "X_train_tensor = torch.LongTensor(X_train).to(device)\n",
        "y_train_array = y_train.to_numpy()\n",
        "y_train_tensor = torch.LongTensor(y_train_array).to(device)\n",
        "train_dataset = TensorDataset(X_train_tensor, y_train_tensor)\n",
        "train_loader = DataLoader(train_dataset, batch_size=32)\n",
        "\n",
        "\n",
        "\n",
        "X_test_tensor = torch.LongTensor(X_test).to(device)\n",
        "y_test_tensor = torch.LongTensor(y_test).to(device)\n",
        "\n",
        "y_test_tensor = torch.LongTensor(y_test)\n",
        "test_dataset = TensorDataset(X_test_tensor, y_test_tensor)\n",
        "test_loader = DataLoader(test_dataset, batch_size=32)\n",
        "test_loader = test_loader"
      ],
      "metadata": {
        "id": "E4MEbDr-m9VK"
      },
      "execution_count": 84,
      "outputs": []
    },
    {
      "cell_type": "code",
      "source": [
        "import random\n",
        "torch.manual_seed(302)\n",
        "np.random.seed(302)\n",
        "random.seed(302)\n",
        "# Train the Word2Vec model\n",
        "vocab_size = len(tokenizer.word_index) + 1\n",
        "w2v_model = Word2Vec(X_trains, vector_size=100, window=5, min_count=1, workers=4)\n",
        "print(w2v_model)\n",
        "#w2v_model = Word2Vec(sentences, vector_size=100, window=5, min_count=5, workers=4)\n",
        "\n",
        "\n",
        "# Create a weight matrix for the embedding layer\n",
        "embedding_matrix = np.zeros((vocab_size, 100))\n",
        "for word, i in tokenizer.word_index.items():\n",
        "    if word in w2v_model.wv:\n",
        "        embedding_matrix[i] = w2v_model.wv[word]\n",
        "print(embedding_matrix.shape)\n"
      ],
      "metadata": {
        "colab": {
          "base_uri": "https://localhost:8080/"
        },
        "id": "rEJQNhR0nHu3",
        "outputId": "035c155a-04b7-4828-f238-62637e0673a5"
      },
      "execution_count": 85,
      "outputs": [
        {
          "output_type": "stream",
          "name": "stdout",
          "text": [
            "Word2Vec<vocab=26234, vector_size=100, alpha=0.025>\n",
            "(26235, 100)\n"
          ]
        }
      ]
    },
    {
      "cell_type": "code",
      "source": [
        "num_classes =4\n",
        "random.seed(302)\n",
        "torch.cuda.manual_seed(302)\n",
        "torch.manual_seed(302)\n",
        "\n",
        "class CNNMulticlass(nn.Module):\n",
        "    def __init__(self, vocab_size, embedding_dim, embedding_matrix, max_length):\n",
        "        super(CNNMulticlass, self).__init__()\n",
        "        #Embedding layers\n",
        "        self.embedding = nn.Embedding(vocab_size, embedding_dim)\n",
        "        self.embedding.weight = nn.Parameter(torch.tensor(embedding_matrix, dtype=torch.float32))\n",
        "        self.embedding.weight.requires_grad = False #keeps original embedding matrix\n",
        "\n",
        "        #two convolutional layers and 2 max pool layers like paper[1]\n",
        "        self.conv1 = nn.Conv1d(embedding_dim, 256, kernel_size=2)\n",
        "        self.pool1 = nn.MaxPool1d(5)\n",
        "        self.conv2 = nn.Conv1d(256, 256, kernel_size=2)\n",
        "        self.pool2 = nn.MaxPool1d(5)\n",
        "        #flattening for fully connected layers\n",
        "        self.flatten = nn.Flatten()\n",
        "        self.fc1 = nn.Linear(256 * ((max_length - 4) // 25) , 256)\n",
        "        self.fc2 = nn.Linear(256, num_classes)\n",
        "        #softmax activation for final output\n",
        "        self.softmax = nn.Softmax(dim=1)\n",
        "\n",
        "    def forward(self, x):\n",
        "      #pass input through embedding layer\n",
        "        x = self.embedding(x)\n",
        "        #need to rearrange for conv layer\n",
        "        x = x.permute(0, 2, 1)\n",
        "        #RelU activations with conv and max pool layers\n",
        "        x = self.pool1(nn.functional.relu(self.conv1(x)))\n",
        "        x = self.pool2(nn.functional.relu(self.conv2(x)))\n",
        "        x = self.flatten(x)\n",
        "        x = nn.functional.relu(self.fc1(x))\n",
        "        x = self.fc2(x)\n",
        "\n",
        "        return x\n",
        "\n",
        "\n"
      ],
      "metadata": {
        "id": "GC39OtLMnJAw"
      },
      "execution_count": 86,
      "outputs": []
    },
    {
      "cell_type": "code",
      "source": [
        "model_multiclass = CNNMulticlass(vocab_size, 100, embedding_matrix, max_length).to(device)\n",
        "optimizer = torch.optim.Adam(model_multiclass.parameters(), lr=0.01)\n",
        "criterion = nn.CrossEntropyLoss()\n",
        "\n",
        "\n",
        "from tqdm.auto import tqdm\n",
        "print(len(test_loader))\n",
        "train_time_start_on_cpu = timer()\n",
        "\n",
        "epochs = 10\n",
        "for epoch in tqdm(range(epochs)):\n",
        "    print(f\"Epoch:{epoch}\\n-----\")\n",
        "    train_loss = 0\n",
        "    for batch, (inputs, labels) in enumerate(train_loader):\n",
        "        model_multiclass.train()\n",
        "        # Forward pass'=\n",
        "        #print(inputs)\n",
        "        y_pred = model_multiclass(inputs).to(device)\n",
        "        #print(y_pred.softmax(dim=1))\n",
        "        #Calculate loss\n",
        "        labels = labels.long() -1\n",
        "        #print(labels)\n",
        "        loss = criterion(y_pred, labels)\n",
        "        train_loss += loss\n",
        "        #optimizer zero-grad\n",
        "        optimizer.zero_grad()\n",
        "        #loss backward\n",
        "        loss.backward()\n",
        "        #step\n",
        "        optimizer.step()\n",
        "\n",
        "    train_loss /= len(train_loader)\n",
        "\n",
        "    ### Testing\n",
        "    test_loss, test_acc = 0, 0\n",
        "    model_multiclass.eval()\n",
        "    with torch.inference_mode():\n",
        "        for X_test_tensor, y_test_tensor in test_loader:\n",
        "            #forward pass\n",
        "            test_pred = model_multiclass(X_test_tensor).to(device)\n",
        "            #print(y_test_tensor -1)[0,4]\n",
        "            #calculate loss\n",
        "            y_test_tensor = y_test_tensor-1 #.Long()\n",
        "            y_test_tensor = y_test_tensor.to(device)\n",
        "            test_loss += criterion(test_pred, y_test_tensor)\n",
        "            #calculate accuracy\n",
        "            y_preds = test_pred.argmax(dim=1)\n",
        "            #print(y_preds)\n",
        "            test_acc += accuracy_fn(y_true = y_test_tensor, y_pred = y_preds)\n",
        "        # Calculate the test loss average per batch\n",
        "        test_loss /= len(test_loader)\n",
        "\n",
        "        # Calculate the test acc average per batch\n",
        "        test_acc /= len(test_loader)\n",
        "\n",
        "\n",
        "\n",
        "    print(f\"\\nTrain loss: {train_loss:.4f} | Test loss: {test_loss:.4f}, Test acc: {test_acc:.4f}\")\n",
        "    train_time_end_on_cpu = timer()\n",
        "    total_train_time_model_multiclass = print_train_time(start = train_time_start_on_cpu,\n",
        "                                              end = train_time_end_on_cpu,\n",
        "                                              device=str(next(model_multiclass.parameters()).device))"
      ],
      "metadata": {
        "colab": {
          "base_uri": "https://localhost:8080/",
          "height": 979,
          "referenced_widgets": [
            "1dfbba45ce404de2919627859b48e89b",
            "c7fabe06334c4b478c4bad80786d04df",
            "897b6e197bdb4e5f80bfa1bc4e8e2417",
            "bc51c34486ce4ab6ae22d8f46a951b1b",
            "b05db737b9d54438b7ccda7c875a7d4c",
            "bffe1c70a1bd4c9ebfd75534e05eecce",
            "b4a3a073dd464f43a2fb30c850ca0d4c",
            "eebff9ad52434d16ae5ab2f79934476d",
            "7eccf2b9d1a94215944d937e3adc536e",
            "246dbc704eb84f4b9621d8befc1ec8ef",
            "f8d90cca8ad54a2688a561087b5f6efc"
          ]
        },
        "id": "EASZyXgknaOm",
        "outputId": "28f80ab8-307e-4dd4-84b8-4de173229683"
      },
      "execution_count": 87,
      "outputs": [
        {
          "output_type": "stream",
          "name": "stdout",
          "text": [
            "61\n"
          ]
        },
        {
          "output_type": "display_data",
          "data": {
            "text/plain": [
              "  0%|          | 0/10 [00:00<?, ?it/s]"
            ],
            "application/vnd.jupyter.widget-view+json": {
              "version_major": 2,
              "version_minor": 0,
              "model_id": "1dfbba45ce404de2919627859b48e89b"
            }
          },
          "metadata": {}
        },
        {
          "output_type": "stream",
          "name": "stdout",
          "text": [
            "Epoch:0\n",
            "-----\n",
            "\n",
            "Train loss: 0.9676 | Test loss: 0.7849, Test acc: 72.7093\n",
            "Train time on cuda:0: 0.744 seconds\n",
            "Epoch:1\n",
            "-----\n",
            "\n",
            "Train loss: 0.7366 | Test loss: 0.7646, Test acc: 74.6268\n",
            "Train time on cuda:0: 1.446 seconds\n",
            "Epoch:2\n",
            "-----\n",
            "\n",
            "Train loss: 0.6874 | Test loss: 0.7439, Test acc: 75.1171\n",
            "Train time on cuda:0: 2.146 seconds\n",
            "Epoch:3\n",
            "-----\n",
            "\n",
            "Train loss: 0.6669 | Test loss: 0.6949, Test acc: 75.4245\n",
            "Train time on cuda:0: 2.840 seconds\n",
            "Epoch:4\n",
            "-----\n",
            "\n",
            "Train loss: 0.6519 | Test loss: 0.7042, Test acc: 74.6048\n",
            "Train time on cuda:0: 3.537 seconds\n",
            "Epoch:5\n",
            "-----\n",
            "\n",
            "Train loss: 0.6445 | Test loss: 0.6842, Test acc: 75.9148\n",
            "Train time on cuda:0: 4.233 seconds\n",
            "Epoch:6\n",
            "-----\n",
            "\n",
            "Train loss: 0.6274 | Test loss: 0.6503, Test acc: 77.3492\n",
            "Train time on cuda:0: 4.921 seconds\n",
            "Epoch:7\n",
            "-----\n",
            "\n",
            "Train loss: 0.6236 | Test loss: 0.6753, Test acc: 77.0126\n",
            "Train time on cuda:0: 5.794 seconds\n",
            "Epoch:8\n",
            "-----\n",
            "\n",
            "Train loss: 0.6341 | Test loss: 0.6680, Test acc: 76.3978\n",
            "Train time on cuda:0: 6.684 seconds\n",
            "Epoch:9\n",
            "-----\n",
            "\n",
            "Train loss: 0.6116 | Test loss: 0.6873, Test acc: 75.7392\n",
            "Train time on cuda:0: 7.613 seconds\n"
          ]
        }
      ]
    },
    {
      "cell_type": "code",
      "source": [
        "# Import tqdm.auto for progress bar tracking\n",
        "random.seed(302)\n",
        "torch.cuda.manual_seed(302)\n",
        "torch.manual_seed(302)\n",
        "\n",
        "from tqdm.auto import tqdm\n",
        "\n",
        "#1. Make predictions with trained model\n",
        "y_preds = []\n",
        "model_multiclass.eval()\n",
        "with torch.inference_mode():\n",
        "  for X, y in tqdm(test_loader, desc = \"Making predictions...\"):\n",
        "    # Send the data and targets to target device\n",
        "    # DO the forward pass\n",
        "    X, y = X.to(device), y.to(device)\n",
        "\n",
        "    y_logits = model_multiclass(X)\n",
        "    #Turn prediction from logits -> prediction porbabilities -> prediction labels\n",
        "    y_pred = torch.softmax(y_logits.squeeze(), dim =0).argmax(dim=1)\n",
        "    # Put predictions on CPU for evaluation\n",
        "    y_preds.append(y_pred.cpu())\n",
        "\n",
        "  #COncatenate list of predictions into a tensor\n",
        "  #print(y_preds)\n",
        "y_pred_tensor = torch.cat(y_preds)\n",
        "y_pred_tensor\n",
        "\n",
        "try:\n",
        "  import torchmetrics, mlxtend\n",
        "  print(f\"mlxtend version: {mlxtend.__version__}\")\n",
        "  assert int(mlxtend.__version__.split(\".\")[1]) >=19, \"mlxtend version should be 0.19.0 or higher\"\n",
        "except:\n",
        "  !pip install -q torchmetrics -U mlxtend\n",
        "  import torchmetrics, mlxtend\n",
        "  print(f\" mlxtend version: {mlxtend.__version__}\")\n",
        "\n",
        "from torchmetrics import ConfusionMatrix\n",
        "from mlxtend.plotting import plot_confusion_matrix\n",
        "\n",
        "# 2. Setup confusion instance and compare predictions to targets\n",
        "class_names = [f\"Class {i}\" for i in range(1, 5)]\n",
        "\n",
        "\n",
        "confmat = ConfusionMatrix(task = \"multiclass\",\n",
        "                          num_classes=4)\n",
        "\n",
        "y_test_tensor = torch.LongTensor(y_test)-1\n",
        "print(y_test_tensor)\n",
        "print(y_pred_tensor)\n",
        "confmat_tensor = confmat(preds = y_pred_tensor,\n",
        "                         target = y_test_tensor)\n",
        "\n",
        "#3. Plot the confusion matrix\n",
        "fig, ax = plot_confusion_matrix(\n",
        "    conf_mat = confmat_tensor.numpy(), #matplotlib likes working with numpy\n",
        "    figsize=(10,7),\n",
        "    class_names=class_names,\n",
        ")"
      ],
      "metadata": {
        "colab": {
          "base_uri": "https://localhost:8080/",
          "height": 737,
          "referenced_widgets": [
            "ebf70a08cfe24a7897c5d94611d6b72b",
            "1722e9607af34df88bc14e8213261886",
            "d03a25177a084f0cbb4584c99c158ff1",
            "978c3b20923d458c8e9fd1fbeedb6bcc",
            "4b8a81032d0a4599827bd82b4ff940e5",
            "493086a60bac4fb29adaa45c539efebb",
            "d6a7daedfd594fcc985c1dca88af7070",
            "8b8d111adf734a98ad27584f5d63fb13",
            "a0a20b4554364ca1b2cac5078a713162",
            "6c01e9f0c54a4b9da1f3b1c3400f0a15",
            "1e829796c9d14cb396964186239f6783"
          ]
        },
        "id": "fld_Ei3QnfMo",
        "outputId": "db487925-3ced-4988-dcf5-287fccb18519"
      },
      "execution_count": 88,
      "outputs": [
        {
          "output_type": "display_data",
          "data": {
            "text/plain": [
              "Making predictions...:   0%|          | 0/61 [00:00<?, ?it/s]"
            ],
            "application/vnd.jupyter.widget-view+json": {
              "version_major": 2,
              "version_minor": 0,
              "model_id": "ebf70a08cfe24a7897c5d94611d6b72b"
            }
          },
          "metadata": {}
        },
        {
          "output_type": "stream",
          "name": "stdout",
          "text": [
            "mlxtend version: 0.23.0\n",
            "tensor([2, 0, 3,  ..., 3, 0, 3])\n",
            "tensor([2, 0, 2,  ..., 0, 0, 2])\n"
          ]
        },
        {
          "output_type": "display_data",
          "data": {
            "text/plain": [
              "<Figure size 1000x700 with 1 Axes>"
            ],
            "image/png": "[encoded data removed]"
          },
          "metadata": {}
        }
      ]
    },
    {
      "cell_type": "markdown",
      "source": [
        "Overall we can see that accuracy does improve with the exclusion of the general class."
      ],
      "metadata": {
        "id": "lUudl1NHorI5"
      }
    }
  ]
}