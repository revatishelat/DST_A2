{
  "nbformat": 4,
  "nbformat_minor": 0,
  "metadata": {
    "colab": {
      "provenance": [],
      "toc_visible": true,
      "authorship_tag": "ABX9TyNyE+ffSktq2cnFwur9kxdY",
      "include_colab_link": true
    },
    "kernelspec": {
      "name": "python3",
      "display_name": "Python 3"
    },
    "language_info": {
      "name": "python"
    }
  },
  "cells": [
    {
      "cell_type": "markdown",
      "metadata": {
        "id": "view-in-github",
        "colab_type": "text"
      },
      "source": [
        "<a href=\"https://colab.research.google.com/github/revatishelat/DST_A2/blob/main/report/05_Conclusion.ipynb\" target=\"_parent\"><img src=\"https://colab.research.google.com/assets/colab-badge.svg\" alt=\"Open In Colab\"/></a>"
      ]
    },
    {
      "cell_type": "markdown",
      "source": [
        "# Techniques"
      ],
      "metadata": {
        "id": "4t9NoAeoPyO8"
      }
    },
    {
      "cell_type": "markdown",
      "source": [
        "GENERAL DISCUSSION HERE"
      ],
      "metadata": {
        "id": "K9X-EId1P5Aw"
      }
    },
    {
      "cell_type": "markdown",
      "source": [
        "## Bag of Words"
      ],
      "metadata": {
        "id": "XrSQ6FAPP7KR"
      }
    },
    {
      "cell_type": "markdown",
      "source": [
        "## Word2Vec"
      ],
      "metadata": {
        "id": "BgCOgJesP-F3"
      }
    },
    {
      "cell_type": "markdown",
      "source": [
        "## BERT"
      ],
      "metadata": {
        "id": "QzeET26ZQBdj"
      }
    },
    {
      "cell_type": "markdown",
      "source": [
        "# Data"
      ],
      "metadata": {
        "id": "17lfIxlPQFdT"
      }
    },
    {
      "cell_type": "markdown",
      "source": [
        "Talk about general class 5 and how removing that impacted data"
      ],
      "metadata": {
        "id": "CN_L-WDnQMGE"
      }
    },
    {
      "cell_type": "markdown",
      "source": [
        "# Implementation"
      ],
      "metadata": {
        "id": "8rEVnDQFQWYF"
      }
    },
    {
      "cell_type": "markdown",
      "source": [
        "Talk about use of GPU for large data, how we would scale methods for larger harder data tasks"
      ],
      "metadata": {
        "id": "K_0bt_-WQc1z"
      }
    },
    {
      "cell_type": "markdown",
      "source": [
        "# Impact and future directions"
      ],
      "metadata": {
        "id": "sFQ3ysW6QjnL"
      }
    },
    {
      "cell_type": "markdown",
      "source": [
        "In summary, why is it useful to have models that classify medical text? Think about AI assistants to clinicians, allowing them to get information fast and make critical decisions.\n",
        "\n",
        "What future directions would we explore if more time and/or resources?"
      ],
      "metadata": {
        "id": "NM5kTs2JQ1EK"
      }
    }
  ]
}