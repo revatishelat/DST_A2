{
  "nbformat": 4,
  "nbformat_minor": 0,
  "metadata": {
    "colab": {
      "provenance": [],
      "toc_visible": true,
      "authorship_tag": "ABX9TyPAiAE1jzcuGK+wXvm+5siE",
      "include_colab_link": true
    },
    "kernelspec": {
      "name": "python3",
      "display_name": "Python 3"
    },
    "language_info": {
      "name": "python"
    }
  },
  "cells": [
    {
      "cell_type": "markdown",
      "metadata": {
        "id": "view-in-github",
        "colab_type": "text"
      },
      "source": [
        "<a href=\"https://colab.research.google.com/github/revatishelat/DST_A2/blob/main/report/01_Introduction_EDA_and_preprocessing.ipynb\" target=\"_parent\"><img src=\"https://colab.research.google.com/assets/colab-badge.svg\" alt=\"Open In Colab\"/></a>"
      ]
    },
    {
      "cell_type": "markdown",
      "source": [
        "# Introduction"
      ],
      "metadata": {
        "id": "bQrMyuk7iG67"
      }
    },
    {
      "cell_type": "markdown",
      "source": [
        "In this project, we investigate natural language processing as applied to the medical field.\n",
        "\n",
        "We identified a dataset containing the abstracts of medical papers and articles, concerning various patient conditions. Each abstract has been labelled as one of the following five categories:\n",
        "\n",
        "1.   Neoplasms\n",
        "2.   Digestive system diseases\n",
        "3.   Nervous system diseases\n",
        "4.   Cardiovascular diseases\n",
        "5.   General pathological conditions\n",
        "\n",
        "The dataset is released under the Creative Commons CC BY-SA 3.0 license at https://github.com/sebischair/Medical-Abstracts-TC-Corpus, where it is already split into a training set and a test set.\n",
        "\n",
        "Our task for this project will be to investigate a variety of methods to process the text in the medical abstracts and classify them according to the above categories.\n",
        "\n",
        "## Note about the creation of the dataset\n",
        "\n",
        "The dataset was created as part of the paper [Evaluating Unsupervised Text Classification: Zero-Shot and Similarity-Based Approaches](https://doi.org/10.1145/3582768.3582795) by Schopf et al, 2022. In this, they investigate similarity-based and zero-shot approaches for text classification of unseen classes and propose novel baseline methods: two based on SimCSE and SBERT, and one they name Lbl2TransformerVec.\n",
        "\n",
        "They also describe how they took the raw data from Kaggle (found [here](https://www.kaggle.com/datasets/chaitanyakck/medical-text/)), which was originally only labelled numerically from 1 to 5 without descriptions. They provided the descriptive labels themselves and interestingly used these as keywords to help develop their classification methods."
      ],
      "metadata": {
        "id": "WL2d9u_VPf0h"
      }
    },
    {
      "cell_type": "markdown",
      "source": [
        "# Imports and some EDA"
      ],
      "metadata": {
        "id": "e7K1bCLbZbC-"
      }
    },
    {
      "cell_type": "markdown",
      "source": [
        "We import necessary libraries."
      ],
      "metadata": {
        "id": "-s4aCv8dZhLu"
      }
    },
    {
      "cell_type": "code",
      "execution_count": 1,
      "metadata": {
        "colab": {
          "base_uri": "https://localhost:8080/"
        },
        "id": "47TFYtGePX_z",
        "outputId": "e5c1082d-4f82-47e8-eb67-6016a0a02b6b"
      },
      "outputs": [
        {
          "output_type": "stream",
          "name": "stderr",
          "text": [
            "[nltk_data] Downloading package wordnet to /root/nltk_data...\n",
            "[nltk_data] Downloading package punkt to /root/nltk_data...\n",
            "[nltk_data]   Unzipping tokenizers/punkt.zip.\n",
            "[nltk_data] Downloading package stopwords to /root/nltk_data...\n",
            "[nltk_data]   Unzipping corpora/stopwords.zip.\n"
          ]
        }
      ],
      "source": [
        "import pandas as pd\n",
        "import numpy as np\n",
        "import matplotlib.pyplot as plt\n",
        "import nltk\n",
        "import re\n",
        "nltk.download('wordnet')\n",
        "nltk.download('punkt')\n",
        "nltk.download('stopwords')\n",
        "from nltk.stem import WordNetLemmatizer\n",
        "en_stop = set(nltk.corpus.stopwords.words('english'))"
      ]
    },
    {
      "cell_type": "markdown",
      "source": [
        "Now we load the training and test datasets as DataFrames."
      ],
      "metadata": {
        "id": "qJNzs60hZlWF"
      }
    },
    {
      "cell_type": "code",
      "source": [
        "df_train = pd.read_csv('https://raw.githubusercontent.com/sebischair/Medical-Abstracts-TC-Corpus/main/medical_tc_train.csv')"
      ],
      "metadata": {
        "id": "9jni1FCnZn1S"
      },
      "execution_count": 2,
      "outputs": []
    },
    {
      "cell_type": "code",
      "source": [
        "df_train.head()"
      ],
      "metadata": {
        "colab": {
          "base_uri": "https://localhost:8080/",
          "height": 206
        },
        "id": "uvEiSQUkZsjT",
        "outputId": "416d19b1-9a89-40f1-fcf3-a301743db549"
      },
      "execution_count": 3,
      "outputs": [
        {
          "output_type": "execute_result",
          "data": {
            "text/plain": [
              "   condition_label                                   medical_abstract\n",
              "0                5  Tissue changes around loose prostheses. A cani...\n",
              "1                1  Neuropeptide Y and neuron-specific enolase lev...\n",
              "2                2  Sexually transmitted diseases of the colon, re...\n",
              "3                1  Lipolytic factors associated with murine and h...\n",
              "4                3  Does carotid restenosis predict an increased r..."
            ],
            "text/html": [
              "\n",
              "  <div id=\"df-17f8ee9d-5a86-4b94-aa17-aefff986dc97\" class=\"colab-df-container\">\n",
              "    <div>\n",
              "<style scoped>\n",
              "    .dataframe tbody tr th:only-of-type {\n",
              "        vertical-align: middle;\n",
              "    }\n",
              "\n",
              "    .dataframe tbody tr th {\n",
              "        vertical-align: top;\n",
              "    }\n",
              "\n",
              "    .dataframe thead th {\n",
              "        text-align: right;\n",
              "    }\n",
              "</style>\n",
              "<table border=\"1\" class=\"dataframe\">\n",
              "  <thead>\n",
              "    <tr style=\"text-align: right;\">\n",
              "      <th></th>\n",
              "      <th>condition_label</th>\n",
              "      <th>medical_abstract</th>\n",
              "    </tr>\n",
              "  </thead>\n",
              "  <tbody>\n",
              "    <tr>\n",
              "      <th>0</th>\n",
              "      <td>5</td>\n",
              "      <td>Tissue changes around loose prostheses. A cani...</td>\n",
              "    </tr>\n",
              "    <tr>\n",
              "      <th>1</th>\n",
              "      <td>1</td>\n",
              "      <td>Neuropeptide Y and neuron-specific enolase lev...</td>\n",
              "    </tr>\n",
              "    <tr>\n",
              "      <th>2</th>\n",
              "      <td>2</td>\n",
              "      <td>Sexually transmitted diseases of the colon, re...</td>\n",
              "    </tr>\n",
              "    <tr>\n",
              "      <th>3</th>\n",
              "      <td>1</td>\n",
              "      <td>Lipolytic factors associated with murine and h...</td>\n",
              "    </tr>\n",
              "    <tr>\n",
              "      <th>4</th>\n",
              "      <td>3</td>\n",
              "      <td>Does carotid restenosis predict an increased r...</td>\n",
              "    </tr>\n",
              "  </tbody>\n",
              "</table>\n",
              "</div>\n",
              "    <div class=\"colab-df-buttons\">\n",
              "\n",
              "  <div class=\"colab-df-container\">\n",
              "    <button class=\"colab-df-convert\" onclick=\"convertToInteractive('df-17f8ee9d-5a86-4b94-aa17-aefff986dc97')\"\n",
              "            title=\"Convert this dataframe to an interactive table.\"\n",
              "            style=\"display:none;\">\n",
              "\n",
              "  <svg xmlns=\"http://www.w3.org/2000/svg\" height=\"24px\" viewBox=\"0 -960 960 960\">\n",
              "    <path d=\"M120-120v-720h720v720H120Zm60-500h600v-160H180v160Zm220 220h160v-160H400v160Zm0 220h160v-160H400v160ZM180-400h160v-160H180v160Zm440 0h160v-160H620v160ZM180-180h160v-160H180v160Zm440 0h160v-160H620v160Z\"/>\n",
              "  </svg>\n",
              "    </button>\n",
              "\n",
              "  <style>\n",
              "    .colab-df-container {\n",
              "      display:flex;\n",
              "      gap: 12px;\n",
              "    }\n",
              "\n",
              "    .colab-df-convert {\n",
              "      background-color: #E8F0FE;\n",
              "      border: none;\n",
              "      border-radius: 50%;\n",
              "      cursor: pointer;\n",
              "      display: none;\n",
              "      fill: #1967D2;\n",
              "      height: 32px;\n",
              "      padding: 0 0 0 0;\n",
              "      width: 32px;\n",
              "    }\n",
              "\n",
              "    .colab-df-convert:hover {\n",
              "      background-color: #E2EBFA;\n",
              "      box-shadow: 0px 1px 2px rgba(60, 64, 67, 0.3), 0px 1px 3px 1px rgba(60, 64, 67, 0.15);\n",
              "      fill: #174EA6;\n",
              "    }\n",
              "\n",
              "    .colab-df-buttons div {\n",
              "      margin-bottom: 4px;\n",
              "    }\n",
              "\n",
              "    [theme=dark] .colab-df-convert {\n",
              "      background-color: #3B4455;\n",
              "      fill: #D2E3FC;\n",
              "    }\n",
              "\n",
              "    [theme=dark] .colab-df-convert:hover {\n",
              "      background-color: #434B5C;\n",
              "      box-shadow: 0px 1px 3px 1px rgba(0, 0, 0, 0.15);\n",
              "      filter: drop-shadow(0px 1px 2px rgba(0, 0, 0, 0.3));\n",
              "      fill: #FFFFFF;\n",
              "    }\n",
              "  </style>\n",
              "\n",
              "    <script>\n",
              "      const buttonEl =\n",
              "        document.querySelector('#df-17f8ee9d-5a86-4b94-aa17-aefff986dc97 button.colab-df-convert');\n",
              "      buttonEl.style.display =\n",
              "        google.colab.kernel.accessAllowed ? 'block' : 'none';\n",
              "\n",
              "      async function convertToInteractive(key) {\n",
              "        const element = document.querySelector('#df-17f8ee9d-5a86-4b94-aa17-aefff986dc97');\n",
              "        const dataTable =\n",
              "          await google.colab.kernel.invokeFunction('convertToInteractive',\n",
              "                                                    [key], {});\n",
              "        if (!dataTable) return;\n",
              "\n",
              "        const docLinkHtml = 'Like what you see? Visit the ' +\n",
              "          '<a target=\"_blank\" href=https://colab.research.google.com/notebooks/data_table.ipynb>data table notebook</a>'\n",
              "          + ' to learn more about interactive tables.';\n",
              "        element.innerHTML = '';\n",
              "        dataTable['output_type'] = 'display_data';\n",
              "        await google.colab.output.renderOutput(dataTable, element);\n",
              "        const docLink = document.createElement('div');\n",
              "        docLink.innerHTML = docLinkHtml;\n",
              "        element.appendChild(docLink);\n",
              "      }\n",
              "    </script>\n",
              "  </div>\n",
              "\n",
              "\n",
              "<div id=\"df-f7c3befa-1043-47a7-9728-6718e51e7b6f\">\n",
              "  <button class=\"colab-df-quickchart\" onclick=\"quickchart('df-f7c3befa-1043-47a7-9728-6718e51e7b6f')\"\n",
              "            title=\"Suggest charts\"\n",
              "            style=\"display:none;\">\n",
              "\n",
              "<svg xmlns=\"http://www.w3.org/2000/svg\" height=\"24px\"viewBox=\"0 0 24 24\"\n",
              "     width=\"24px\">\n",
              "    <g>\n",
              "        <path d=\"M19 3H5c-1.1 0-2 .9-2 2v14c0 1.1.9 2 2 2h14c1.1 0 2-.9 2-2V5c0-1.1-.9-2-2-2zM9 17H7v-7h2v7zm4 0h-2V7h2v10zm4 0h-2v-4h2v4z\"/>\n",
              "    </g>\n",
              "</svg>\n",
              "  </button>\n",
              "\n",
              "<style>\n",
              "  .colab-df-quickchart {\n",
              "      --bg-color: #E8F0FE;\n",
              "      --fill-color: #1967D2;\n",
              "      --hover-bg-color: #E2EBFA;\n",
              "      --hover-fill-color: #174EA6;\n",
              "      --disabled-fill-color: #AAA;\n",
              "      --disabled-bg-color: #DDD;\n",
              "  }\n",
              "\n",
              "  [theme=dark] .colab-df-quickchart {\n",
              "      --bg-color: #3B4455;\n",
              "      --fill-color: #D2E3FC;\n",
              "      --hover-bg-color: #434B5C;\n",
              "      --hover-fill-color: #FFFFFF;\n",
              "      --disabled-bg-color: #3B4455;\n",
              "      --disabled-fill-color: #666;\n",
              "  }\n",
              "\n",
              "  .colab-df-quickchart {\n",
              "    background-color: var(--bg-color);\n",
              "    border: none;\n",
              "    border-radius: 50%;\n",
              "    cursor: pointer;\n",
              "    display: none;\n",
              "    fill: var(--fill-color);\n",
              "    height: 32px;\n",
              "    padding: 0;\n",
              "    width: 32px;\n",
              "  }\n",
              "\n",
              "  .colab-df-quickchart:hover {\n",
              "    background-color: var(--hover-bg-color);\n",
              "    box-shadow: 0 1px 2px rgba(60, 64, 67, 0.3), 0 1px 3px 1px rgba(60, 64, 67, 0.15);\n",
              "    fill: var(--button-hover-fill-color);\n",
              "  }\n",
              "\n",
              "  .colab-df-quickchart-complete:disabled,\n",
              "  .colab-df-quickchart-complete:disabled:hover {\n",
              "    background-color: var(--disabled-bg-color);\n",
              "    fill: var(--disabled-fill-color);\n",
              "    box-shadow: none;\n",
              "  }\n",
              "\n",
              "  .colab-df-spinner {\n",
              "    border: 2px solid var(--fill-color);\n",
              "    border-color: transparent;\n",
              "    border-bottom-color: var(--fill-color);\n",
              "    animation:\n",
              "      spin 1s steps(1) infinite;\n",
              "  }\n",
              "\n",
              "  @keyframes spin {\n",
              "    0% {\n",
              "      border-color: transparent;\n",
              "      border-bottom-color: var(--fill-color);\n",
              "      border-left-color: var(--fill-color);\n",
              "    }\n",
              "    20% {\n",
              "      border-color: transparent;\n",
              "      border-left-color: var(--fill-color);\n",
              "      border-top-color: var(--fill-color);\n",
              "    }\n",
              "    30% {\n",
              "      border-color: transparent;\n",
              "      border-left-color: var(--fill-color);\n",
              "      border-top-color: var(--fill-color);\n",
              "      border-right-color: var(--fill-color);\n",
              "    }\n",
              "    40% {\n",
              "      border-color: transparent;\n",
              "      border-right-color: var(--fill-color);\n",
              "      border-top-color: var(--fill-color);\n",
              "    }\n",
              "    60% {\n",
              "      border-color: transparent;\n",
              "      border-right-color: var(--fill-color);\n",
              "    }\n",
              "    80% {\n",
              "      border-color: transparent;\n",
              "      border-right-color: var(--fill-color);\n",
              "      border-bottom-color: var(--fill-color);\n",
              "    }\n",
              "    90% {\n",
              "      border-color: transparent;\n",
              "      border-bottom-color: var(--fill-color);\n",
              "    }\n",
              "  }\n",
              "</style>\n",
              "\n",
              "  <script>\n",
              "    async function quickchart(key) {\n",
              "      const quickchartButtonEl =\n",
              "        document.querySelector('#' + key + ' button');\n",
              "      quickchartButtonEl.disabled = true;  // To prevent multiple clicks.\n",
              "      quickchartButtonEl.classList.add('colab-df-spinner');\n",
              "      try {\n",
              "        const charts = await google.colab.kernel.invokeFunction(\n",
              "            'suggestCharts', [key], {});\n",
              "      } catch (error) {\n",
              "        console.error('Error during call to suggestCharts:', error);\n",
              "      }\n",
              "      quickchartButtonEl.classList.remove('colab-df-spinner');\n",
              "      quickchartButtonEl.classList.add('colab-df-quickchart-complete');\n",
              "    }\n",
              "    (() => {\n",
              "      let quickchartButtonEl =\n",
              "        document.querySelector('#df-f7c3befa-1043-47a7-9728-6718e51e7b6f button');\n",
              "      quickchartButtonEl.style.display =\n",
              "        google.colab.kernel.accessAllowed ? 'block' : 'none';\n",
              "    })();\n",
              "  </script>\n",
              "</div>\n",
              "    </div>\n",
              "  </div>\n"
            ]
          },
          "metadata": {},
          "execution_count": 3
        }
      ]
    },
    {
      "cell_type": "code",
      "source": [
        "df_test = pd.read_csv('https://raw.githubusercontent.com/sebischair/Medical-Abstracts-TC-Corpus/main/medical_tc_test.csv')"
      ],
      "metadata": {
        "id": "f7LF339-ZtPP"
      },
      "execution_count": 4,
      "outputs": []
    },
    {
      "cell_type": "code",
      "source": [
        "df_test.head()"
      ],
      "metadata": {
        "colab": {
          "base_uri": "https://localhost:8080/",
          "height": 206
        },
        "id": "Jy0f37oBZxAL",
        "outputId": "e95c1aa6-64e5-424b-8d1e-fc677ccd7e1b"
      },
      "execution_count": 5,
      "outputs": [
        {
          "output_type": "execute_result",
          "data": {
            "text/plain": [
              "   condition_label                                   medical_abstract\n",
              "0                3  Obstructive sleep apnea following topical orop...\n",
              "1                5  Neutrophil function and pyogenic infections in...\n",
              "2                5  A phase II study of combined methotrexate and ...\n",
              "3                1  Flow cytometric DNA analysis of parathyroid tu...\n",
              "4                4  Paraneoplastic vasculitic neuropathy: a treata..."
            ],
            "text/html": [
              "\n",
              "  <div id=\"df-1a45602d-ac1a-4e52-aea2-2dbd34d644df\" class=\"colab-df-container\">\n",
              "    <div>\n",
              "<style scoped>\n",
              "    .dataframe tbody tr th:only-of-type {\n",
              "        vertical-align: middle;\n",
              "    }\n",
              "\n",
              "    .dataframe tbody tr th {\n",
              "        vertical-align: top;\n",
              "    }\n",
              "\n",
              "    .dataframe thead th {\n",
              "        text-align: right;\n",
              "    }\n",
              "</style>\n",
              "<table border=\"1\" class=\"dataframe\">\n",
              "  <thead>\n",
              "    <tr style=\"text-align: right;\">\n",
              "      <th></th>\n",
              "      <th>condition_label</th>\n",
              "      <th>medical_abstract</th>\n",
              "    </tr>\n",
              "  </thead>\n",
              "  <tbody>\n",
              "    <tr>\n",
              "      <th>0</th>\n",
              "      <td>3</td>\n",
              "      <td>Obstructive sleep apnea following topical orop...</td>\n",
              "    </tr>\n",
              "    <tr>\n",
              "      <th>1</th>\n",
              "      <td>5</td>\n",
              "      <td>Neutrophil function and pyogenic infections in...</td>\n",
              "    </tr>\n",
              "    <tr>\n",
              "      <th>2</th>\n",
              "      <td>5</td>\n",
              "      <td>A phase II study of combined methotrexate and ...</td>\n",
              "    </tr>\n",
              "    <tr>\n",
              "      <th>3</th>\n",
              "      <td>1</td>\n",
              "      <td>Flow cytometric DNA analysis of parathyroid tu...</td>\n",
              "    </tr>\n",
              "    <tr>\n",
              "      <th>4</th>\n",
              "      <td>4</td>\n",
              "      <td>Paraneoplastic vasculitic neuropathy: a treata...</td>\n",
              "    </tr>\n",
              "  </tbody>\n",
              "</table>\n",
              "</div>\n",
              "    <div class=\"colab-df-buttons\">\n",
              "\n",
              "  <div class=\"colab-df-container\">\n",
              "    <button class=\"colab-df-convert\" onclick=\"convertToInteractive('df-1a45602d-ac1a-4e52-aea2-2dbd34d644df')\"\n",
              "            title=\"Convert this dataframe to an interactive table.\"\n",
              "            style=\"display:none;\">\n",
              "\n",
              "  <svg xmlns=\"http://www.w3.org/2000/svg\" height=\"24px\" viewBox=\"0 -960 960 960\">\n",
              "    <path d=\"M120-120v-720h720v720H120Zm60-500h600v-160H180v160Zm220 220h160v-160H400v160Zm0 220h160v-160H400v160ZM180-400h160v-160H180v160Zm440 0h160v-160H620v160ZM180-180h160v-160H180v160Zm440 0h160v-160H620v160Z\"/>\n",
              "  </svg>\n",
              "    </button>\n",
              "\n",
              "  <style>\n",
              "    .colab-df-container {\n",
              "      display:flex;\n",
              "      gap: 12px;\n",
              "    }\n",
              "\n",
              "    .colab-df-convert {\n",
              "      background-color: #E8F0FE;\n",
              "      border: none;\n",
              "      border-radius: 50%;\n",
              "      cursor: pointer;\n",
              "      display: none;\n",
              "      fill: #1967D2;\n",
              "      height: 32px;\n",
              "      padding: 0 0 0 0;\n",
              "      width: 32px;\n",
              "    }\n",
              "\n",
              "    .colab-df-convert:hover {\n",
              "      background-color: #E2EBFA;\n",
              "      box-shadow: 0px 1px 2px rgba(60, 64, 67, 0.3), 0px 1px 3px 1px rgba(60, 64, 67, 0.15);\n",
              "      fill: #174EA6;\n",
              "    }\n",
              "\n",
              "    .colab-df-buttons div {\n",
              "      margin-bottom: 4px;\n",
              "    }\n",
              "\n",
              "    [theme=dark] .colab-df-convert {\n",
              "      background-color: #3B4455;\n",
              "      fill: #D2E3FC;\n",
              "    }\n",
              "\n",
              "    [theme=dark] .colab-df-convert:hover {\n",
              "      background-color: #434B5C;\n",
              "      box-shadow: 0px 1px 3px 1px rgba(0, 0, 0, 0.15);\n",
              "      filter: drop-shadow(0px 1px 2px rgba(0, 0, 0, 0.3));\n",
              "      fill: #FFFFFF;\n",
              "    }\n",
              "  </style>\n",
              "\n",
              "    <script>\n",
              "      const buttonEl =\n",
              "        document.querySelector('#df-1a45602d-ac1a-4e52-aea2-2dbd34d644df button.colab-df-convert');\n",
              "      buttonEl.style.display =\n",
              "        google.colab.kernel.accessAllowed ? 'block' : 'none';\n",
              "\n",
              "      async function convertToInteractive(key) {\n",
              "        const element = document.querySelector('#df-1a45602d-ac1a-4e52-aea2-2dbd34d644df');\n",
              "        const dataTable =\n",
              "          await google.colab.kernel.invokeFunction('convertToInteractive',\n",
              "                                                    [key], {});\n",
              "        if (!dataTable) return;\n",
              "\n",
              "        const docLinkHtml = 'Like what you see? Visit the ' +\n",
              "          '<a target=\"_blank\" href=https://colab.research.google.com/notebooks/data_table.ipynb>data table notebook</a>'\n",
              "          + ' to learn more about interactive tables.';\n",
              "        element.innerHTML = '';\n",
              "        dataTable['output_type'] = 'display_data';\n",
              "        await google.colab.output.renderOutput(dataTable, element);\n",
              "        const docLink = document.createElement('div');\n",
              "        docLink.innerHTML = docLinkHtml;\n",
              "        element.appendChild(docLink);\n",
              "      }\n",
              "    </script>\n",
              "  </div>\n",
              "\n",
              "\n",
              "<div id=\"df-7865d8ff-a862-4656-89e8-da90283fa8ae\">\n",
              "  <button class=\"colab-df-quickchart\" onclick=\"quickchart('df-7865d8ff-a862-4656-89e8-da90283fa8ae')\"\n",
              "            title=\"Suggest charts\"\n",
              "            style=\"display:none;\">\n",
              "\n",
              "<svg xmlns=\"http://www.w3.org/2000/svg\" height=\"24px\"viewBox=\"0 0 24 24\"\n",
              "     width=\"24px\">\n",
              "    <g>\n",
              "        <path d=\"M19 3H5c-1.1 0-2 .9-2 2v14c0 1.1.9 2 2 2h14c1.1 0 2-.9 2-2V5c0-1.1-.9-2-2-2zM9 17H7v-7h2v7zm4 0h-2V7h2v10zm4 0h-2v-4h2v4z\"/>\n",
              "    </g>\n",
              "</svg>\n",
              "  </button>\n",
              "\n",
              "<style>\n",
              "  .colab-df-quickchart {\n",
              "      --bg-color: #E8F0FE;\n",
              "      --fill-color: #1967D2;\n",
              "      --hover-bg-color: #E2EBFA;\n",
              "      --hover-fill-color: #174EA6;\n",
              "      --disabled-fill-color: #AAA;\n",
              "      --disabled-bg-color: #DDD;\n",
              "  }\n",
              "\n",
              "  [theme=dark] .colab-df-quickchart {\n",
              "      --bg-color: #3B4455;\n",
              "      --fill-color: #D2E3FC;\n",
              "      --hover-bg-color: #434B5C;\n",
              "      --hover-fill-color: #FFFFFF;\n",
              "      --disabled-bg-color: #3B4455;\n",
              "      --disabled-fill-color: #666;\n",
              "  }\n",
              "\n",
              "  .colab-df-quickchart {\n",
              "    background-color: var(--bg-color);\n",
              "    border: none;\n",
              "    border-radius: 50%;\n",
              "    cursor: pointer;\n",
              "    display: none;\n",
              "    fill: var(--fill-color);\n",
              "    height: 32px;\n",
              "    padding: 0;\n",
              "    width: 32px;\n",
              "  }\n",
              "\n",
              "  .colab-df-quickchart:hover {\n",
              "    background-color: var(--hover-bg-color);\n",
              "    box-shadow: 0 1px 2px rgba(60, 64, 67, 0.3), 0 1px 3px 1px rgba(60, 64, 67, 0.15);\n",
              "    fill: var(--button-hover-fill-color);\n",
              "  }\n",
              "\n",
              "  .colab-df-quickchart-complete:disabled,\n",
              "  .colab-df-quickchart-complete:disabled:hover {\n",
              "    background-color: var(--disabled-bg-color);\n",
              "    fill: var(--disabled-fill-color);\n",
              "    box-shadow: none;\n",
              "  }\n",
              "\n",
              "  .colab-df-spinner {\n",
              "    border: 2px solid var(--fill-color);\n",
              "    border-color: transparent;\n",
              "    border-bottom-color: var(--fill-color);\n",
              "    animation:\n",
              "      spin 1s steps(1) infinite;\n",
              "  }\n",
              "\n",
              "  @keyframes spin {\n",
              "    0% {\n",
              "      border-color: transparent;\n",
              "      border-bottom-color: var(--fill-color);\n",
              "      border-left-color: var(--fill-color);\n",
              "    }\n",
              "    20% {\n",
              "      border-color: transparent;\n",
              "      border-left-color: var(--fill-color);\n",
              "      border-top-color: var(--fill-color);\n",
              "    }\n",
              "    30% {\n",
              "      border-color: transparent;\n",
              "      border-left-color: var(--fill-color);\n",
              "      border-top-color: var(--fill-color);\n",
              "      border-right-color: var(--fill-color);\n",
              "    }\n",
              "    40% {\n",
              "      border-color: transparent;\n",
              "      border-right-color: var(--fill-color);\n",
              "      border-top-color: var(--fill-color);\n",
              "    }\n",
              "    60% {\n",
              "      border-color: transparent;\n",
              "      border-right-color: var(--fill-color);\n",
              "    }\n",
              "    80% {\n",
              "      border-color: transparent;\n",
              "      border-right-color: var(--fill-color);\n",
              "      border-bottom-color: var(--fill-color);\n",
              "    }\n",
              "    90% {\n",
              "      border-color: transparent;\n",
              "      border-bottom-color: var(--fill-color);\n",
              "    }\n",
              "  }\n",
              "</style>\n",
              "\n",
              "  <script>\n",
              "    async function quickchart(key) {\n",
              "      const quickchartButtonEl =\n",
              "        document.querySelector('#' + key + ' button');\n",
              "      quickchartButtonEl.disabled = true;  // To prevent multiple clicks.\n",
              "      quickchartButtonEl.classList.add('colab-df-spinner');\n",
              "      try {\n",
              "        const charts = await google.colab.kernel.invokeFunction(\n",
              "            'suggestCharts', [key], {});\n",
              "      } catch (error) {\n",
              "        console.error('Error during call to suggestCharts:', error);\n",
              "      }\n",
              "      quickchartButtonEl.classList.remove('colab-df-spinner');\n",
              "      quickchartButtonEl.classList.add('colab-df-quickchart-complete');\n",
              "    }\n",
              "    (() => {\n",
              "      let quickchartButtonEl =\n",
              "        document.querySelector('#df-7865d8ff-a862-4656-89e8-da90283fa8ae button');\n",
              "      quickchartButtonEl.style.display =\n",
              "        google.colab.kernel.accessAllowed ? 'block' : 'none';\n",
              "    })();\n",
              "  </script>\n",
              "</div>\n",
              "    </div>\n",
              "  </div>\n"
            ]
          },
          "metadata": {},
          "execution_count": 5
        }
      ]
    },
    {
      "cell_type": "markdown",
      "source": [
        "Next we define a simple function that counts the number of data examples in each class."
      ],
      "metadata": {
        "id": "TcTIRet0a3mK"
      }
    },
    {
      "cell_type": "code",
      "source": [
        "def count_classes(df):\n",
        "  totals = np.zeros(5, dtype=int)\n",
        "  for i in range(len(df)):\n",
        "    label, text = list(df.iloc[i])\n",
        "    totals[label-1] += 1\n",
        "  return totals"
      ],
      "metadata": {
        "id": "kZjpISpfZxtN"
      },
      "execution_count": 10,
      "outputs": []
    },
    {
      "cell_type": "markdown",
      "source": [
        "We run this function on both training and test datasets and plot the distribution of classes as bar charts."
      ],
      "metadata": {
        "id": "1jYpl8z7a8xu"
      }
    },
    {
      "cell_type": "code",
      "source": [
        "totals_train = count_classes(df_train)\n",
        "totals_test = count_classes(df_test)"
      ],
      "metadata": {
        "id": "TMc8fUxzaHi5"
      },
      "execution_count": 24,
      "outputs": []
    },
    {
      "cell_type": "code",
      "source": [
        "categories = [1,2,3,4,5]\n",
        "total_values = totals_train\n",
        "\n",
        "# Create a bar chart\n",
        "fig, ax = plt.subplots()\n",
        "bar1 = ax.bar(categories, total_values, label='Total')\n",
        "\n",
        "# Add labels, title, and legend\n",
        "ax.set_xlabel('Classes')\n",
        "ax.set_ylabel('Counts')\n",
        "ax.set_title('Bar chart showing class counts for training data')\n",
        "ax.legend()\n",
        "\n",
        "# Show the plot\n",
        "plt.show()"
      ],
      "metadata": {
        "colab": {
          "base_uri": "https://localhost:8080/",
          "height": 472
        },
        "id": "Ly6ANE0qaJhW",
        "outputId": "fb06cef5-884f-4a70-b962-cb8fc12dd53e"
      },
      "execution_count": 17,
      "outputs": [
        {
          "output_type": "display_data",
          "data": {
            "text/plain": [
              "<Figure size 640x480 with 1 Axes>"
            ],
            "image/png": "[encoded data removed]"
          },
          "metadata": {}
        }
      ]
    },
    {
      "cell_type": "code",
      "source": [
        "categories = [1,2,3,4,5]\n",
        "total_values = totals_test\n",
        "\n",
        "# Create a bar chart\n",
        "fig, ax = plt.subplots()\n",
        "bar1 = ax.bar(categories, total_values, label='Total')\n",
        "\n",
        "# Add labels, title, and legend\n",
        "ax.set_xlabel('Classes')\n",
        "ax.set_ylabel('Counts')\n",
        "ax.set_title('Bar chart showing class counts for test data')\n",
        "ax.legend()\n",
        "\n",
        "# Show the plot\n",
        "plt.show()"
      ],
      "metadata": {
        "colab": {
          "base_uri": "https://localhost:8080/",
          "height": 472
        },
        "id": "CHZIZUyVaYVv",
        "outputId": "21da0a1d-871f-4e3c-a11c-fe445997b248"
      },
      "execution_count": 18,
      "outputs": [
        {
          "output_type": "display_data",
          "data": {
            "text/plain": [
              "<Figure size 640x480 with 1 Axes>"
            ],
            "image/png": "[encoded data removed]"
          },
          "metadata": {}
        }
      ]
    },
    {
      "cell_type": "markdown",
      "source": [
        "We can see that the training and test datasets are set up to have the exact same class distribution, which must necessarily match the overall distribution of classes in the whole combined dataset.\n",
        "\n",
        "This distribution has significant class imbalance. Class 5, which represents general pathological conditions, is the largest. This is perhaps no surprise. It is the most 'general' class, so is likely to contain more examples.\n",
        "\n",
        "The next two largest classes are 1 (neoplasms) and 4 (cardiovascular), followed by 3 (nervous system) and 2 (digestive system), the smallest class.\n",
        "\n",
        "This class imbalance is not ideal for classification tasks, as methods will be dominated by the larger classes, and may cause some issues for our methods."
      ],
      "metadata": {
        "id": "YH6ilCjTbB5B"
      }
    },
    {
      "cell_type": "markdown",
      "source": [
        "As a quick check, we examine how many of the data examples contain digits in their text. We do this as we will want to preprocess the data to take out special characters, but want to check whether numeric characters are more commonly found in certain classes. If this were the case, then if an abstract contained a digit, we would know which classes it is more likely to be from."
      ],
      "metadata": {
        "id": "b3jT4nxycP7W"
      }
    },
    {
      "cell_type": "markdown",
      "source": [
        "We define a function that detects whether a string contains any digit."
      ],
      "metadata": {
        "id": "nzlHQh2DdhC0"
      }
    },
    {
      "cell_type": "code",
      "source": [
        "def contains_number(input_string):\n",
        "    # Define a regular expression pattern to match any digit\n",
        "    pattern = re.compile(r'\\d')\n",
        "\n",
        "    # Use the search method to check if the pattern is present in the input string\n",
        "    match = re.search(pattern, input_string)\n",
        "\n",
        "    # Return True if a match is found, indicating the presence of a number\n",
        "    return bool(match)"
      ],
      "metadata": {
        "id": "FQpoUj6Say6q"
      },
      "execution_count": 19,
      "outputs": []
    },
    {
      "cell_type": "markdown",
      "source": [
        "Now we adapt our previous count function to count the data examples that contain digits."
      ],
      "metadata": {
        "id": "WAABT6b-dssE"
      }
    },
    {
      "cell_type": "code",
      "source": [
        "def count_contains_digits(df):\n",
        "  contains_number_sums = np.zeros(5, dtype=int)\n",
        "  for i in range(len(df)):\n",
        "    label, text = list(df.iloc[i])\n",
        "    if contains_number(text):\n",
        "      contains_number_sums[label-1] += 1\n",
        "  return contains_number_sums"
      ],
      "metadata": {
        "id": "PgwMVQPOdqa8"
      },
      "execution_count": 22,
      "outputs": []
    },
    {
      "cell_type": "code",
      "source": [
        "contains_digits_train = count_contains_digits(df_train)\n",
        "contains_digits_test = count_contains_digits(df_test)"
      ],
      "metadata": {
        "id": "r7eQgG14d_Jr"
      },
      "execution_count": 25,
      "outputs": []
    },
    {
      "cell_type": "code",
      "source": [
        "categories = [1,2,3,4,5]\n",
        "x = 5\n",
        "total_values = totals_train\n",
        "condition_values = contains_digits_train\n",
        "\n",
        "# Create a stacked bar chart\n",
        "fig, ax = plt.subplots()\n",
        "bar1 = ax.bar(categories, total_values, label='Total')\n",
        "bar2 = ax.bar(categories, condition_values, label='Contains digits', color='orange')\n",
        "\n",
        "# Add labels, title, and legend\n",
        "ax.set_xlabel('Categories')\n",
        "ax.set_ylabel('Counts')\n",
        "ax.set_title(\"Bar Chart showing class and 'contains digit' counts for training data\")\n",
        "ax.legend()\n",
        "\n",
        "# Show the plot\n",
        "plt.show()"
      ],
      "metadata": {
        "colab": {
          "base_uri": "https://localhost:8080/",
          "height": 472
        },
        "id": "EkaTVO1feCWz",
        "outputId": "35466ac9-4a4f-4eb7-b5cc-4cd770c7fada"
      },
      "execution_count": 28,
      "outputs": [
        {
          "output_type": "display_data",
          "data": {
            "text/plain": [
              "<Figure size 640x480 with 1 Axes>"
            ],
            "image/png": "[encoded data removed]"
          },
          "metadata": {}
        }
      ]
    },
    {
      "cell_type": "code",
      "source": [
        "categories = [1,2,3,4,5]\n",
        "x = 5\n",
        "total_values = totals_test\n",
        "condition_values = contains_digits_test\n",
        "\n",
        "# Create a stacked bar chart\n",
        "fig, ax = plt.subplots()\n",
        "bar1 = ax.bar(categories, total_values, label='Total')\n",
        "bar2 = ax.bar(categories, condition_values, label='Contains digits', color='orange')\n",
        "\n",
        "# Add labels, title, and legend\n",
        "ax.set_xlabel('Categories')\n",
        "ax.set_ylabel('Counts')\n",
        "ax.set_title(\"Bar Chart showing class and 'contains digit' counts for test data\")\n",
        "ax.legend()\n",
        "\n",
        "# Show the plot\n",
        "plt.show()"
      ],
      "metadata": {
        "colab": {
          "base_uri": "https://localhost:8080/",
          "height": 472
        },
        "id": "E6CZSCRcecL-",
        "outputId": "8177f334-7789-48c5-b809-dbe9ef260285"
      },
      "execution_count": 29,
      "outputs": [
        {
          "output_type": "display_data",
          "data": {
            "text/plain": [
              "<Figure size 640x480 with 1 Axes>"
            ],
            "image/png": "[encoded data removed]"
          },
          "metadata": {}
        }
      ]
    },
    {
      "cell_type": "markdown",
      "source": [
        "We see that all of the classes have a majority of data examples that contain digits, and so there is no information lost by removing words containing digits in our preprocessing."
      ],
      "metadata": {
        "id": "jpFS4s_fep77"
      }
    },
    {
      "cell_type": "markdown",
      "source": [
        "# Preprocessing"
      ],
      "metadata": {
        "id": "0Wjr1WlnfO6d"
      }
    },
    {
      "cell_type": "markdown",
      "source": [
        "Text preprocessing involves standardising text and discarding information that is not useful to our classifier. We examine an single medical abstract here as an example\n",
        "\n",
        "(Note: run this code in Jupyter Notebooks not Google Colab to have the string print out over multiple lines, so it is more readable.)"
      ],
      "metadata": {
        "id": "ECH2Uut1fU-5"
      }
    },
    {
      "cell_type": "code",
      "source": [
        "sample_doc = df_train['medical_abstract'][1]\n",
        "print(sample_doc)"
      ],
      "metadata": {
        "colab": {
          "base_uri": "https://localhost:8080/"
        },
        "id": "N08Qfg3hfQnw",
        "outputId": "e130d361-1385-482e-9e47-8613ad58dc04"
      },
      "execution_count": 38,
      "outputs": [
        {
          "output_type": "stream",
          "name": "stdout",
          "text": [
            "Neuropeptide Y and neuron-specific enolase levels in benign and malignant pheochromocytomas. Neuron-specific enolase (NSE) is the isoform of enolase, a glycolytic enzyme found in the neuroendocrine system. Neuropeptide Y (NPY) is a peptide recently discovered in the peripheral and central nervous systems. Serum NSE and plasma NPY levels have been reported to be increased in some patients with pheochromocytoma. The authors evaluated whether the measurement of these molecules could help to discriminate between benign and malignant forms of pheochromocytoma. The NSE levels were normal in all patients with benign pheochromocytoma (n = 13) and elevated in one half of those with malignant pheochromocytoma (n = 13). Plasma NPY levels were on the average significantly higher in the malignant (177.1 +/- 38.9 pmol/l, n = 16) than in the benign forms of the disease (15.7 +/- 389 pmol/l, n = 24). However, there was no difference in the percentage of patients with elevated NPY levels. These results show that determination of serum NSE may be useful for distinguishing between malignant and benign pheochromocytoma; the measurement of plasma NPY is not useful for differentiating the two kinds of tumors. \n"
          ]
        }
      ]
    },
    {
      "cell_type": "markdown",
      "source": [
        "The case of a character is not too relevant, so we make all characters lower case for simplicity."
      ],
      "metadata": {
        "id": "Va6bCpoMggah"
      }
    },
    {
      "cell_type": "code",
      "source": [
        "sample_doc = sample_doc.lower()\n",
        "print(sample_doc)"
      ],
      "metadata": {
        "colab": {
          "base_uri": "https://localhost:8080/"
        },
        "id": "rYbpsR8cfYLD",
        "outputId": "1a790ca7-1a86-479f-cc41-776068edc38b"
      },
      "execution_count": 39,
      "outputs": [
        {
          "output_type": "stream",
          "name": "stdout",
          "text": [
            "neuropeptide y and neuron-specific enolase levels in benign and malignant pheochromocytomas. neuron-specific enolase (nse) is the isoform of enolase, a glycolytic enzyme found in the neuroendocrine system. neuropeptide y (npy) is a peptide recently discovered in the peripheral and central nervous systems. serum nse and plasma npy levels have been reported to be increased in some patients with pheochromocytoma. the authors evaluated whether the measurement of these molecules could help to discriminate between benign and malignant forms of pheochromocytoma. the nse levels were normal in all patients with benign pheochromocytoma (n = 13) and elevated in one half of those with malignant pheochromocytoma (n = 13). plasma npy levels were on the average significantly higher in the malignant (177.1 +/- 38.9 pmol/l, n = 16) than in the benign forms of the disease (15.7 +/- 389 pmol/l, n = 24). however, there was no difference in the percentage of patients with elevated npy levels. these results show that determination of serum nse may be useful for distinguishing between malignant and benign pheochromocytoma; the measurement of plasma npy is not useful for differentiating the two kinds of tumors. \n"
          ]
        }
      ]
    },
    {
      "cell_type": "markdown",
      "source": [
        "We tokenize the document so that we can work with individual words (tokens)."
      ],
      "metadata": {
        "id": "fX6sB8DtgtkD"
      }
    },
    {
      "cell_type": "code",
      "source": [
        "sample_doc = nltk.word_tokenize(sample_doc)\n",
        "print(sample_doc)"
      ],
      "metadata": {
        "colab": {
          "base_uri": "https://localhost:8080/"
        },
        "id": "Z7eOGZzTgug-",
        "outputId": "65e35f6d-ea3a-4936-d3e3-45525012fe91"
      },
      "execution_count": 40,
      "outputs": [
        {
          "output_type": "stream",
          "name": "stdout",
          "text": [
            "['neuropeptide', 'y', 'and', 'neuron-specific', 'enolase', 'levels', 'in', 'benign', 'and', 'malignant', 'pheochromocytomas', '.', 'neuron-specific', 'enolase', '(', 'nse', ')', 'is', 'the', 'isoform', 'of', 'enolase', ',', 'a', 'glycolytic', 'enzyme', 'found', 'in', 'the', 'neuroendocrine', 'system', '.', 'neuropeptide', 'y', '(', 'npy', ')', 'is', 'a', 'peptide', 'recently', 'discovered', 'in', 'the', 'peripheral', 'and', 'central', 'nervous', 'systems', '.', 'serum', 'nse', 'and', 'plasma', 'npy', 'levels', 'have', 'been', 'reported', 'to', 'be', 'increased', 'in', 'some', 'patients', 'with', 'pheochromocytoma', '.', 'the', 'authors', 'evaluated', 'whether', 'the', 'measurement', 'of', 'these', 'molecules', 'could', 'help', 'to', 'discriminate', 'between', 'benign', 'and', 'malignant', 'forms', 'of', 'pheochromocytoma', '.', 'the', 'nse', 'levels', 'were', 'normal', 'in', 'all', 'patients', 'with', 'benign', 'pheochromocytoma', '(', 'n', '=', '13', ')', 'and', 'elevated', 'in', 'one', 'half', 'of', 'those', 'with', 'malignant', 'pheochromocytoma', '(', 'n', '=', '13', ')', '.', 'plasma', 'npy', 'levels', 'were', 'on', 'the', 'average', 'significantly', 'higher', 'in', 'the', 'malignant', '(', '177.1', '+/-', '38.9', 'pmol/l', ',', 'n', '=', '16', ')', 'than', 'in', 'the', 'benign', 'forms', 'of', 'the', 'disease', '(', '15.7', '+/-', '389', 'pmol/l', ',', 'n', '=', '24', ')', '.', 'however', ',', 'there', 'was', 'no', 'difference', 'in', 'the', 'percentage', 'of', 'patients', 'with', 'elevated', 'npy', 'levels', '.', 'these', 'results', 'show', 'that', 'determination', 'of', 'serum', 'nse', 'may', 'be', 'useful', 'for', 'distinguishing', 'between', 'malignant', 'and', 'benign', 'pheochromocytoma', ';', 'the', 'measurement', 'of', 'plasma', 'npy', 'is', 'not', 'useful', 'for', 'differentiating', 'the', 'two', 'kinds', 'of', 'tumors', '.']\n"
          ]
        }
      ]
    },
    {
      "cell_type": "markdown",
      "source": [
        "Numbers and special characters are not specific to classes (we have not examined other special characters but can assume this) and so to simplify things we remove all tokens that do not comprise solely of letters."
      ],
      "metadata": {
        "id": "WzYMmHRUg1sU"
      }
    },
    {
      "cell_type": "code",
      "source": [
        "sample_doc = [tok for tok in sample_doc if re.match('^[a-zA-Z]+$', tok)]\n",
        "print(sample_doc)"
      ],
      "metadata": {
        "colab": {
          "base_uri": "https://localhost:8080/"
        },
        "id": "KmM4p3K7gv0c",
        "outputId": "ced4d395-faeb-4ef3-a569-50692b4ff721"
      },
      "execution_count": 41,
      "outputs": [
        {
          "output_type": "stream",
          "name": "stdout",
          "text": [
            "['neuropeptide', 'y', 'and', 'enolase', 'levels', 'in', 'benign', 'and', 'malignant', 'pheochromocytomas', 'enolase', 'nse', 'is', 'the', 'isoform', 'of', 'enolase', 'a', 'glycolytic', 'enzyme', 'found', 'in', 'the', 'neuroendocrine', 'system', 'neuropeptide', 'y', 'npy', 'is', 'a', 'peptide', 'recently', 'discovered', 'in', 'the', 'peripheral', 'and', 'central', 'nervous', 'systems', 'serum', 'nse', 'and', 'plasma', 'npy', 'levels', 'have', 'been', 'reported', 'to', 'be', 'increased', 'in', 'some', 'patients', 'with', 'pheochromocytoma', 'the', 'authors', 'evaluated', 'whether', 'the', 'measurement', 'of', 'these', 'molecules', 'could', 'help', 'to', 'discriminate', 'between', 'benign', 'and', 'malignant', 'forms', 'of', 'pheochromocytoma', 'the', 'nse', 'levels', 'were', 'normal', 'in', 'all', 'patients', 'with', 'benign', 'pheochromocytoma', 'n', 'and', 'elevated', 'in', 'one', 'half', 'of', 'those', 'with', 'malignant', 'pheochromocytoma', 'n', 'plasma', 'npy', 'levels', 'were', 'on', 'the', 'average', 'significantly', 'higher', 'in', 'the', 'malignant', 'n', 'than', 'in', 'the', 'benign', 'forms', 'of', 'the', 'disease', 'n', 'however', 'there', 'was', 'no', 'difference', 'in', 'the', 'percentage', 'of', 'patients', 'with', 'elevated', 'npy', 'levels', 'these', 'results', 'show', 'that', 'determination', 'of', 'serum', 'nse', 'may', 'be', 'useful', 'for', 'distinguishing', 'between', 'malignant', 'and', 'benign', 'pheochromocytoma', 'the', 'measurement', 'of', 'plasma', 'npy', 'is', 'not', 'useful', 'for', 'differentiating', 'the', 'two', 'kinds', 'of', 'tumors']\n"
          ]
        }
      ]
    },
    {
      "cell_type": "markdown",
      "source": [
        "Tokens of length 1 are now either words of length 1 (not class specific) or a product of our previous steps (artificial/not words) - in both cases we can remove them."
      ],
      "metadata": {
        "id": "tSX5ztk7hd-u"
      }
    },
    {
      "cell_type": "code",
      "source": [
        "sample_doc = [tok for tok in sample_doc if len(tok) > 1]\n",
        "print(sample_doc)"
      ],
      "metadata": {
        "colab": {
          "base_uri": "https://localhost:8080/"
        },
        "id": "VxHOU_XNhbuY",
        "outputId": "b4981dbc-0cb6-4cf0-b227-fa22ae023710"
      },
      "execution_count": 42,
      "outputs": [
        {
          "output_type": "stream",
          "name": "stdout",
          "text": [
            "['neuropeptide', 'and', 'enolase', 'levels', 'in', 'benign', 'and', 'malignant', 'pheochromocytomas', 'enolase', 'nse', 'is', 'the', 'isoform', 'of', 'enolase', 'glycolytic', 'enzyme', 'found', 'in', 'the', 'neuroendocrine', 'system', 'neuropeptide', 'npy', 'is', 'peptide', 'recently', 'discovered', 'in', 'the', 'peripheral', 'and', 'central', 'nervous', 'systems', 'serum', 'nse', 'and', 'plasma', 'npy', 'levels', 'have', 'been', 'reported', 'to', 'be', 'increased', 'in', 'some', 'patients', 'with', 'pheochromocytoma', 'the', 'authors', 'evaluated', 'whether', 'the', 'measurement', 'of', 'these', 'molecules', 'could', 'help', 'to', 'discriminate', 'between', 'benign', 'and', 'malignant', 'forms', 'of', 'pheochromocytoma', 'the', 'nse', 'levels', 'were', 'normal', 'in', 'all', 'patients', 'with', 'benign', 'pheochromocytoma', 'and', 'elevated', 'in', 'one', 'half', 'of', 'those', 'with', 'malignant', 'pheochromocytoma', 'plasma', 'npy', 'levels', 'were', 'on', 'the', 'average', 'significantly', 'higher', 'in', 'the', 'malignant', 'than', 'in', 'the', 'benign', 'forms', 'of', 'the', 'disease', 'however', 'there', 'was', 'no', 'difference', 'in', 'the', 'percentage', 'of', 'patients', 'with', 'elevated', 'npy', 'levels', 'these', 'results', 'show', 'that', 'determination', 'of', 'serum', 'nse', 'may', 'be', 'useful', 'for', 'distinguishing', 'between', 'malignant', 'and', 'benign', 'pheochromocytoma', 'the', 'measurement', 'of', 'plasma', 'npy', 'is', 'not', 'useful', 'for', 'differentiating', 'the', 'two', 'kinds', 'of', 'tumors']\n"
          ]
        }
      ]
    },
    {
      "cell_type": "markdown",
      "source": [
        "We now remove stopwords as they are unlikely to carry information about the class."
      ],
      "metadata": {
        "id": "oIzLn4TShkgO"
      }
    },
    {
      "cell_type": "code",
      "source": [
        "sample_doc = [tok for tok in sample_doc if tok not in en_stop]\n",
        "print(sample_doc)"
      ],
      "metadata": {
        "colab": {
          "base_uri": "https://localhost:8080/"
        },
        "id": "gQUmvbbghiY-",
        "outputId": "7738f8a0-ce8d-4b73-efde-15b8cbd18970"
      },
      "execution_count": 43,
      "outputs": [
        {
          "output_type": "stream",
          "name": "stdout",
          "text": [
            "['neuropeptide', 'enolase', 'levels', 'benign', 'malignant', 'pheochromocytomas', 'enolase', 'nse', 'isoform', 'enolase', 'glycolytic', 'enzyme', 'found', 'neuroendocrine', 'system', 'neuropeptide', 'npy', 'peptide', 'recently', 'discovered', 'peripheral', 'central', 'nervous', 'systems', 'serum', 'nse', 'plasma', 'npy', 'levels', 'reported', 'increased', 'patients', 'pheochromocytoma', 'authors', 'evaluated', 'whether', 'measurement', 'molecules', 'could', 'help', 'discriminate', 'benign', 'malignant', 'forms', 'pheochromocytoma', 'nse', 'levels', 'normal', 'patients', 'benign', 'pheochromocytoma', 'elevated', 'one', 'half', 'malignant', 'pheochromocytoma', 'plasma', 'npy', 'levels', 'average', 'significantly', 'higher', 'malignant', 'benign', 'forms', 'disease', 'however', 'difference', 'percentage', 'patients', 'elevated', 'npy', 'levels', 'results', 'show', 'determination', 'serum', 'nse', 'may', 'useful', 'distinguishing', 'malignant', 'benign', 'pheochromocytoma', 'measurement', 'plasma', 'npy', 'useful', 'differentiating', 'two', 'kinds', 'tumors']\n"
          ]
        }
      ]
    },
    {
      "cell_type": "markdown",
      "source": [
        "Now we lemmatize: this reduces words to their basic form."
      ],
      "metadata": {
        "id": "G5Y9wXXlhpIf"
      }
    },
    {
      "cell_type": "code",
      "source": [
        "lemmatizer = WordNetLemmatizer()\n",
        "sample_doc = [lemmatizer.lemmatize(tok) for tok in sample_doc]\n",
        "print(sample_doc)"
      ],
      "metadata": {
        "colab": {
          "base_uri": "https://localhost:8080/"
        },
        "id": "Y5oMAjNuhp0D",
        "outputId": "554a4b0c-70da-4c65-b482-a924de7ea0db"
      },
      "execution_count": 44,
      "outputs": [
        {
          "output_type": "stream",
          "name": "stdout",
          "text": [
            "['neuropeptide', 'enolase', 'level', 'benign', 'malignant', 'pheochromocytoma', 'enolase', 'nse', 'isoform', 'enolase', 'glycolytic', 'enzyme', 'found', 'neuroendocrine', 'system', 'neuropeptide', 'npy', 'peptide', 'recently', 'discovered', 'peripheral', 'central', 'nervous', 'system', 'serum', 'nse', 'plasma', 'npy', 'level', 'reported', 'increased', 'patient', 'pheochromocytoma', 'author', 'evaluated', 'whether', 'measurement', 'molecule', 'could', 'help', 'discriminate', 'benign', 'malignant', 'form', 'pheochromocytoma', 'nse', 'level', 'normal', 'patient', 'benign', 'pheochromocytoma', 'elevated', 'one', 'half', 'malignant', 'pheochromocytoma', 'plasma', 'npy', 'level', 'average', 'significantly', 'higher', 'malignant', 'benign', 'form', 'disease', 'however', 'difference', 'percentage', 'patient', 'elevated', 'npy', 'level', 'result', 'show', 'determination', 'serum', 'nse', 'may', 'useful', 'distinguishing', 'malignant', 'benign', 'pheochromocytoma', 'measurement', 'plasma', 'npy', 'useful', 'differentiating', 'two', 'kind', 'tumor']\n"
          ]
        }
      ]
    },
    {
      "cell_type": "markdown",
      "source": [
        "Now we can create a function that applies all of these techniques to a document."
      ],
      "metadata": {
        "id": "TxBjWUgQhuIl"
      }
    },
    {
      "cell_type": "code",
      "source": [
        "def preprocess(doc):\n",
        "  #lowercases document\n",
        "  doc = doc.lower()\n",
        "  #tokenize\n",
        "  toks = nltk.word_tokenize(doc)\n",
        "  #remove tokens that don't exclusively contain letters\n",
        "  toks = [tok for tok in toks if re.match('^[a-zA-Z]+$', tok)]\n",
        "  #remove tokens of lenth <= n (can be varied)\n",
        "  toks = [tok for tok in toks if len(tok) > 1]\n",
        "  #remove stopwords\n",
        "  toks = [tok for tok in toks if tok not in en_stop]\n",
        "  #lemmatize\n",
        "  toks = [WordNetLemmatizer().lemmatize(tok) for tok in toks]\n",
        "  return toks"
      ],
      "metadata": {
        "id": "u3CU3g1thsME"
      },
      "execution_count": 45,
      "outputs": []
    },
    {
      "cell_type": "code",
      "source": [
        "sample_doc0 = df_train['medical_abstract'][1]\n",
        "sample_doc0 = preprocess(sample_doc0)\n",
        "print(sample_doc0)"
      ],
      "metadata": {
        "colab": {
          "base_uri": "https://localhost:8080/"
        },
        "id": "RuPmKu4Ehzbd",
        "outputId": "54a61ad7-4b97-48fc-c833-98163bfa87ac"
      },
      "execution_count": 46,
      "outputs": [
        {
          "output_type": "stream",
          "name": "stdout",
          "text": [
            "['neuropeptide', 'enolase', 'level', 'benign', 'malignant', 'pheochromocytoma', 'enolase', 'nse', 'isoform', 'enolase', 'glycolytic', 'enzyme', 'found', 'neuroendocrine', 'system', 'neuropeptide', 'npy', 'peptide', 'recently', 'discovered', 'peripheral', 'central', 'nervous', 'system', 'serum', 'nse', 'plasma', 'npy', 'level', 'reported', 'increased', 'patient', 'pheochromocytoma', 'author', 'evaluated', 'whether', 'measurement', 'molecule', 'could', 'help', 'discriminate', 'benign', 'malignant', 'form', 'pheochromocytoma', 'nse', 'level', 'normal', 'patient', 'benign', 'pheochromocytoma', 'elevated', 'one', 'half', 'malignant', 'pheochromocytoma', 'plasma', 'npy', 'level', 'average', 'significantly', 'higher', 'malignant', 'benign', 'form', 'disease', 'however', 'difference', 'percentage', 'patient', 'elevated', 'npy', 'level', 'result', 'show', 'determination', 'serum', 'nse', 'may', 'useful', 'distinguishing', 'malignant', 'benign', 'pheochromocytoma', 'measurement', 'plasma', 'npy', 'useful', 'differentiating', 'two', 'kind', 'tumor']\n"
          ]
        }
      ]
    },
    {
      "cell_type": "markdown",
      "source": [
        "As noted in one of the comments, we can also consider removing tokens of length <= n, where n is more than 1. This is because some of the most useful words (especially for this medical context) will likely be longer."
      ],
      "metadata": {
        "id": "nW1haoWziVkh"
      }
    }
  ]
}