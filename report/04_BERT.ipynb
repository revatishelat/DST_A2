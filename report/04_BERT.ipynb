{
  "nbformat": 4,
  "nbformat_minor": 0,
  "metadata": {
    "colab": {
      "provenance": [],
      "toc_visible": true,
      "mount_file_id": "1mQ2UXKJozMkWHuRtzkxaqJf83vKL35x9",
      "authorship_tag": "ABX9TyOBdG3BKHStgh9xBUX8IL9I",
      "include_colab_link": true
    },
    "kernelspec": {
      "name": "python3",
      "display_name": "Python 3"
    },
    "language_info": {
      "name": "python"
    },
    "widgets": {
      "application/vnd.jupyter.widget-state+json": {
        "cee6abc20c814f4cb040256d9a55f0b5": {
          "model_module": "@jupyter-widgets/controls",
          "model_name": "HBoxModel",
          "model_module_version": "1.5.0",
          "state": {
            "_dom_classes": [],
            "_model_module": "@jupyter-widgets/controls",
            "_model_module_version": "1.5.0",
            "_model_name": "HBoxModel",
            "_view_count": null,
            "_view_module": "@jupyter-widgets/controls",
            "_view_module_version": "1.5.0",
            "_view_name": "HBoxView",
            "box_style": "",
            "children": [
              "IPY_MODEL_33220075e662489ca7ed6bfbb6940f48",
              "IPY_MODEL_9c2cb586ae0b4bb7a82695f24ffdaabf",
              "IPY_MODEL_6cb6d0d052f8440ba6df6d7b98f14730"
            ],
            "layout": "IPY_MODEL_63656242aeef4c8695314b1601d04382"
          }
        },
        "33220075e662489ca7ed6bfbb6940f48": {
          "model_module": "@jupyter-widgets/controls",
          "model_name": "HTMLModel",
          "model_module_version": "1.5.0",
          "state": {
            "_dom_classes": [],
            "_model_module": "@jupyter-widgets/controls",
            "_model_module_version": "1.5.0",
            "_model_name": "HTMLModel",
            "_view_count": null,
            "_view_module": "@jupyter-widgets/controls",
            "_view_module_version": "1.5.0",
            "_view_name": "HTMLView",
            "description": "",
            "description_tooltip": null,
            "layout": "IPY_MODEL_5a48e1816418477aa87451f38be41f1c",
            "placeholder": "​",
            "style": "IPY_MODEL_537baf794c344759b5a26ab240cf52a2",
            "value": "tokenizer_config.json: 100%"
          }
        },
        "9c2cb586ae0b4bb7a82695f24ffdaabf": {
          "model_module": "@jupyter-widgets/controls",
          "model_name": "FloatProgressModel",
          "model_module_version": "1.5.0",
          "state": {
            "_dom_classes": [],
            "_model_module": "@jupyter-widgets/controls",
            "_model_module_version": "1.5.0",
            "_model_name": "FloatProgressModel",
            "_view_count": null,
            "_view_module": "@jupyter-widgets/controls",
            "_view_module_version": "1.5.0",
            "_view_name": "ProgressView",
            "bar_style": "success",
            "description": "",
            "description_tooltip": null,
            "layout": "IPY_MODEL_a10a07def2c94eacac55f282d2c4c83f",
            "max": 28,
            "min": 0,
            "orientation": "horizontal",
            "style": "IPY_MODEL_45c1e783ed104607830c8c2db438f0ba",
            "value": 28
          }
        },
        "6cb6d0d052f8440ba6df6d7b98f14730": {
          "model_module": "@jupyter-widgets/controls",
          "model_name": "HTMLModel",
          "model_module_version": "1.5.0",
          "state": {
            "_dom_classes": [],
            "_model_module": "@jupyter-widgets/controls",
            "_model_module_version": "1.5.0",
            "_model_name": "HTMLModel",
            "_view_count": null,
            "_view_module": "@jupyter-widgets/controls",
            "_view_module_version": "1.5.0",
            "_view_name": "HTMLView",
            "description": "",
            "description_tooltip": null,
            "layout": "IPY_MODEL_531318c289604845889333b8467df1fd",
            "placeholder": "​",
            "style": "IPY_MODEL_9f7e22a8c2b54ee99989ab5d91ebe1d0",
            "value": " 28.0/28.0 [00:00&lt;00:00, 806B/s]"
          }
        },
        "63656242aeef4c8695314b1601d04382": {
          "model_module": "@jupyter-widgets/base",
          "model_name": "LayoutModel",
          "model_module_version": "1.2.0",
          "state": {
            "_model_module": "@jupyter-widgets/base",
            "_model_module_version": "1.2.0",
            "_model_name": "LayoutModel",
            "_view_count": null,
            "_view_module": "@jupyter-widgets/base",
            "_view_module_version": "1.2.0",
            "_view_name": "LayoutView",
            "align_content": null,
            "align_items": null,
            "align_self": null,
            "border": null,
            "bottom": null,
            "display": null,
            "flex": null,
            "flex_flow": null,
            "grid_area": null,
            "grid_auto_columns": null,
            "grid_auto_flow": null,
            "grid_auto_rows": null,
            "grid_column": null,
            "grid_gap": null,
            "grid_row": null,
            "grid_template_areas": null,
            "grid_template_columns": null,
            "grid_template_rows": null,
            "height": null,
            "justify_content": null,
            "justify_items": null,
            "left": null,
            "margin": null,
            "max_height": null,
            "max_width": null,
            "min_height": null,
            "min_width": null,
            "object_fit": null,
            "object_position": null,
            "order": null,
            "overflow": null,
            "overflow_x": null,
            "overflow_y": null,
            "padding": null,
            "right": null,
            "top": null,
            "visibility": null,
            "width": null
          }
        },
        "5a48e1816418477aa87451f38be41f1c": {
          "model_module": "@jupyter-widgets/base",
          "model_name": "LayoutModel",
          "model_module_version": "1.2.0",
          "state": {
            "_model_module": "@jupyter-widgets/base",
            "_model_module_version": "1.2.0",
            "_model_name": "LayoutModel",
            "_view_count": null,
            "_view_module": "@jupyter-widgets/base",
            "_view_module_version": "1.2.0",
            "_view_name": "LayoutView",
            "align_content": null,
            "align_items": null,
            "align_self": null,
            "border": null,
            "bottom": null,
            "display": null,
            "flex": null,
            "flex_flow": null,
            "grid_area": null,
            "grid_auto_columns": null,
            "grid_auto_flow": null,
            "grid_auto_rows": null,
            "grid_column": null,
            "grid_gap": null,
            "grid_row": null,
            "grid_template_areas": null,
            "grid_template_columns": null,
            "grid_template_rows": null,
            "height": null,
            "justify_content": null,
            "justify_items": null,
            "left": null,
            "margin": null,
            "max_height": null,
            "max_width": null,
            "min_height": null,
            "min_width": null,
            "object_fit": null,
            "object_position": null,
            "order": null,
            "overflow": null,
            "overflow_x": null,
            "overflow_y": null,
            "padding": null,
            "right": null,
            "top": null,
            "visibility": null,
            "width": null
          }
        },
        "537baf794c344759b5a26ab240cf52a2": {
          "model_module": "@jupyter-widgets/controls",
          "model_name": "DescriptionStyleModel",
          "model_module_version": "1.5.0",
          "state": {
            "_model_module": "@jupyter-widgets/controls",
            "_model_module_version": "1.5.0",
            "_model_name": "DescriptionStyleModel",
            "_view_count": null,
            "_view_module": "@jupyter-widgets/base",
            "_view_module_version": "1.2.0",
            "_view_name": "StyleView",
            "description_width": ""
          }
        },
        "a10a07def2c94eacac55f282d2c4c83f": {
          "model_module": "@jupyter-widgets/base",
          "model_name": "LayoutModel",
          "model_module_version": "1.2.0",
          "state": {
            "_model_module": "@jupyter-widgets/base",
            "_model_module_version": "1.2.0",
            "_model_name": "LayoutModel",
            "_view_count": null,
            "_view_module": "@jupyter-widgets/base",
            "_view_module_version": "1.2.0",
            "_view_name": "LayoutView",
            "align_content": null,
            "align_items": null,
            "align_self": null,
            "border": null,
            "bottom": null,
            "display": null,
            "flex": null,
            "flex_flow": null,
            "grid_area": null,
            "grid_auto_columns": null,
            "grid_auto_flow": null,
            "grid_auto_rows": null,
            "grid_column": null,
            "grid_gap": null,
            "grid_row": null,
            "grid_template_areas": null,
            "grid_template_columns": null,
            "grid_template_rows": null,
            "height": null,
            "justify_content": null,
            "justify_items": null,
            "left": null,
            "margin": null,
            "max_height": null,
            "max_width": null,
            "min_height": null,
            "min_width": null,
            "object_fit": null,
            "object_position": null,
            "order": null,
            "overflow": null,
            "overflow_x": null,
            "overflow_y": null,
            "padding": null,
            "right": null,
            "top": null,
            "visibility": null,
            "width": null
          }
        },
        "45c1e783ed104607830c8c2db438f0ba": {
          "model_module": "@jupyter-widgets/controls",
          "model_name": "ProgressStyleModel",
          "model_module_version": "1.5.0",
          "state": {
            "_model_module": "@jupyter-widgets/controls",
            "_model_module_version": "1.5.0",
            "_model_name": "ProgressStyleModel",
            "_view_count": null,
            "_view_module": "@jupyter-widgets/base",
            "_view_module_version": "1.2.0",
            "_view_name": "StyleView",
            "bar_color": null,
            "description_width": ""
          }
        },
        "531318c289604845889333b8467df1fd": {
          "model_module": "@jupyter-widgets/base",
          "model_name": "LayoutModel",
          "model_module_version": "1.2.0",
          "state": {
            "_model_module": "@jupyter-widgets/base",
            "_model_module_version": "1.2.0",
            "_model_name": "LayoutModel",
            "_view_count": null,
            "_view_module": "@jupyter-widgets/base",
            "_view_module_version": "1.2.0",
            "_view_name": "LayoutView",
            "align_content": null,
            "align_items": null,
            "align_self": null,
            "border": null,
            "bottom": null,
            "display": null,
            "flex": null,
            "flex_flow": null,
            "grid_area": null,
            "grid_auto_columns": null,
            "grid_auto_flow": null,
            "grid_auto_rows": null,
            "grid_column": null,
            "grid_gap": null,
            "grid_row": null,
            "grid_template_areas": null,
            "grid_template_columns": null,
            "grid_template_rows": null,
            "height": null,
            "justify_content": null,
            "justify_items": null,
            "left": null,
            "margin": null,
            "max_height": null,
            "max_width": null,
            "min_height": null,
            "min_width": null,
            "object_fit": null,
            "object_position": null,
            "order": null,
            "overflow": null,
            "overflow_x": null,
            "overflow_y": null,
            "padding": null,
            "right": null,
            "top": null,
            "visibility": null,
            "width": null
          }
        },
        "9f7e22a8c2b54ee99989ab5d91ebe1d0": {
          "model_module": "@jupyter-widgets/controls",
          "model_name": "DescriptionStyleModel",
          "model_module_version": "1.5.0",
          "state": {
            "_model_module": "@jupyter-widgets/controls",
            "_model_module_version": "1.5.0",
            "_model_name": "DescriptionStyleModel",
            "_view_count": null,
            "_view_module": "@jupyter-widgets/base",
            "_view_module_version": "1.2.0",
            "_view_name": "StyleView",
            "description_width": ""
          }
        },
        "693e53d135b24d9cb287be8f5bf1aadd": {
          "model_module": "@jupyter-widgets/controls",
          "model_name": "HBoxModel",
          "model_module_version": "1.5.0",
          "state": {
            "_dom_classes": [],
            "_model_module": "@jupyter-widgets/controls",
            "_model_module_version": "1.5.0",
            "_model_name": "HBoxModel",
            "_view_count": null,
            "_view_module": "@jupyter-widgets/controls",
            "_view_module_version": "1.5.0",
            "_view_name": "HBoxView",
            "box_style": "",
            "children": [
              "IPY_MODEL_68eed6828d5946839596b654cd8dbc1a",
              "IPY_MODEL_9a93eb20daf44c4c9582581d5bc46fd5",
              "IPY_MODEL_a76dcb59cee14e3798e86d0423497f3e"
            ],
            "layout": "IPY_MODEL_dcb72de7a705419c899a509a651402c8"
          }
        },
        "68eed6828d5946839596b654cd8dbc1a": {
          "model_module": "@jupyter-widgets/controls",
          "model_name": "HTMLModel",
          "model_module_version": "1.5.0",
          "state": {
            "_dom_classes": [],
            "_model_module": "@jupyter-widgets/controls",
            "_model_module_version": "1.5.0",
            "_model_name": "HTMLModel",
            "_view_count": null,
            "_view_module": "@jupyter-widgets/controls",
            "_view_module_version": "1.5.0",
            "_view_name": "HTMLView",
            "description": "",
            "description_tooltip": null,
            "layout": "IPY_MODEL_59a964669ad84e3d8ab95627aecab5d8",
            "placeholder": "​",
            "style": "IPY_MODEL_f3caad6712c84404870a043f8b0cde84",
            "value": "vocab.txt: 100%"
          }
        },
        "9a93eb20daf44c4c9582581d5bc46fd5": {
          "model_module": "@jupyter-widgets/controls",
          "model_name": "FloatProgressModel",
          "model_module_version": "1.5.0",
          "state": {
            "_dom_classes": [],
            "_model_module": "@jupyter-widgets/controls",
            "_model_module_version": "1.5.0",
            "_model_name": "FloatProgressModel",
            "_view_count": null,
            "_view_module": "@jupyter-widgets/controls",
            "_view_module_version": "1.5.0",
            "_view_name": "ProgressView",
            "bar_style": "success",
            "description": "",
            "description_tooltip": null,
            "layout": "IPY_MODEL_5e3e8cb7061f4351abfcf0f1b198e0a9",
            "max": 231508,
            "min": 0,
            "orientation": "horizontal",
            "style": "IPY_MODEL_cee7aa33527f45f2963f11c155df1e87",
            "value": 231508
          }
        },
        "a76dcb59cee14e3798e86d0423497f3e": {
          "model_module": "@jupyter-widgets/controls",
          "model_name": "HTMLModel",
          "model_module_version": "1.5.0",
          "state": {
            "_dom_classes": [],
            "_model_module": "@jupyter-widgets/controls",
            "_model_module_version": "1.5.0",
            "_model_name": "HTMLModel",
            "_view_count": null,
            "_view_module": "@jupyter-widgets/controls",
            "_view_module_version": "1.5.0",
            "_view_name": "HTMLView",
            "description": "",
            "description_tooltip": null,
            "layout": "IPY_MODEL_65ba8973810d4396857963da57734d66",
            "placeholder": "​",
            "style": "IPY_MODEL_a9a859bc690649ddab0a1f6239263dc2",
            "value": " 232k/232k [00:00&lt;00:00, 2.74MB/s]"
          }
        },
        "dcb72de7a705419c899a509a651402c8": {
          "model_module": "@jupyter-widgets/base",
          "model_name": "LayoutModel",
          "model_module_version": "1.2.0",
          "state": {
            "_model_module": "@jupyter-widgets/base",
            "_model_module_version": "1.2.0",
            "_model_name": "LayoutModel",
            "_view_count": null,
            "_view_module": "@jupyter-widgets/base",
            "_view_module_version": "1.2.0",
            "_view_name": "LayoutView",
            "align_content": null,
            "align_items": null,
            "align_self": null,
            "border": null,
            "bottom": null,
            "display": null,
            "flex": null,
            "flex_flow": null,
            "grid_area": null,
            "grid_auto_columns": null,
            "grid_auto_flow": null,
            "grid_auto_rows": null,
            "grid_column": null,
            "grid_gap": null,
            "grid_row": null,
            "grid_template_areas": null,
            "grid_template_columns": null,
            "grid_template_rows": null,
            "height": null,
            "justify_content": null,
            "justify_items": null,
            "left": null,
            "margin": null,
            "max_height": null,
            "max_width": null,
            "min_height": null,
            "min_width": null,
            "object_fit": null,
            "object_position": null,
            "order": null,
            "overflow": null,
            "overflow_x": null,
            "overflow_y": null,
            "padding": null,
            "right": null,
            "top": null,
            "visibility": null,
            "width": null
          }
        },
        "59a964669ad84e3d8ab95627aecab5d8": {
          "model_module": "@jupyter-widgets/base",
          "model_name": "LayoutModel",
          "model_module_version": "1.2.0",
          "state": {
            "_model_module": "@jupyter-widgets/base",
            "_model_module_version": "1.2.0",
            "_model_name": "LayoutModel",
            "_view_count": null,
            "_view_module": "@jupyter-widgets/base",
            "_view_module_version": "1.2.0",
            "_view_name": "LayoutView",
            "align_content": null,
            "align_items": null,
            "align_self": null,
            "border": null,
            "bottom": null,
            "display": null,
            "flex": null,
            "flex_flow": null,
            "grid_area": null,
            "grid_auto_columns": null,
            "grid_auto_flow": null,
            "grid_auto_rows": null,
            "grid_column": null,
            "grid_gap": null,
            "grid_row": null,
            "grid_template_areas": null,
            "grid_template_columns": null,
            "grid_template_rows": null,
            "height": null,
            "justify_content": null,
            "justify_items": null,
            "left": null,
            "margin": null,
            "max_height": null,
            "max_width": null,
            "min_height": null,
            "min_width": null,
            "object_fit": null,
            "object_position": null,
            "order": null,
            "overflow": null,
            "overflow_x": null,
            "overflow_y": null,
            "padding": null,
            "right": null,
            "top": null,
            "visibility": null,
            "width": null
          }
        },
        "f3caad6712c84404870a043f8b0cde84": {
          "model_module": "@jupyter-widgets/controls",
          "model_name": "DescriptionStyleModel",
          "model_module_version": "1.5.0",
          "state": {
            "_model_module": "@jupyter-widgets/controls",
            "_model_module_version": "1.5.0",
            "_model_name": "DescriptionStyleModel",
            "_view_count": null,
            "_view_module": "@jupyter-widgets/base",
            "_view_module_version": "1.2.0",
            "_view_name": "StyleView",
            "description_width": ""
          }
        },
        "5e3e8cb7061f4351abfcf0f1b198e0a9": {
          "model_module": "@jupyter-widgets/base",
          "model_name": "LayoutModel",
          "model_module_version": "1.2.0",
          "state": {
            "_model_module": "@jupyter-widgets/base",
            "_model_module_version": "1.2.0",
            "_model_name": "LayoutModel",
            "_view_count": null,
            "_view_module": "@jupyter-widgets/base",
            "_view_module_version": "1.2.0",
            "_view_name": "LayoutView",
            "align_content": null,
            "align_items": null,
            "align_self": null,
            "border": null,
            "bottom": null,
            "display": null,
            "flex": null,
            "flex_flow": null,
            "grid_area": null,
            "grid_auto_columns": null,
            "grid_auto_flow": null,
            "grid_auto_rows": null,
            "grid_column": null,
            "grid_gap": null,
            "grid_row": null,
            "grid_template_areas": null,
            "grid_template_columns": null,
            "grid_template_rows": null,
            "height": null,
            "justify_content": null,
            "justify_items": null,
            "left": null,
            "margin": null,
            "max_height": null,
            "max_width": null,
            "min_height": null,
            "min_width": null,
            "object_fit": null,
            "object_position": null,
            "order": null,
            "overflow": null,
            "overflow_x": null,
            "overflow_y": null,
            "padding": null,
            "right": null,
            "top": null,
            "visibility": null,
            "width": null
          }
        },
        "cee7aa33527f45f2963f11c155df1e87": {
          "model_module": "@jupyter-widgets/controls",
          "model_name": "ProgressStyleModel",
          "model_module_version": "1.5.0",
          "state": {
            "_model_module": "@jupyter-widgets/controls",
            "_model_module_version": "1.5.0",
            "_model_name": "ProgressStyleModel",
            "_view_count": null,
            "_view_module": "@jupyter-widgets/base",
            "_view_module_version": "1.2.0",
            "_view_name": "StyleView",
            "bar_color": null,
            "description_width": ""
          }
        },
        "65ba8973810d4396857963da57734d66": {
          "model_module": "@jupyter-widgets/base",
          "model_name": "LayoutModel",
          "model_module_version": "1.2.0",
          "state": {
            "_model_module": "@jupyter-widgets/base",
            "_model_module_version": "1.2.0",
            "_model_name": "LayoutModel",
            "_view_count": null,
            "_view_module": "@jupyter-widgets/base",
            "_view_module_version": "1.2.0",
            "_view_name": "LayoutView",
            "align_content": null,
            "align_items": null,
            "align_self": null,
            "border": null,
            "bottom": null,
            "display": null,
            "flex": null,
            "flex_flow": null,
            "grid_area": null,
            "grid_auto_columns": null,
            "grid_auto_flow": null,
            "grid_auto_rows": null,
            "grid_column": null,
            "grid_gap": null,
            "grid_row": null,
            "grid_template_areas": null,
            "grid_template_columns": null,
            "grid_template_rows": null,
            "height": null,
            "justify_content": null,
            "justify_items": null,
            "left": null,
            "margin": null,
            "max_height": null,
            "max_width": null,
            "min_height": null,
            "min_width": null,
            "object_fit": null,
            "object_position": null,
            "order": null,
            "overflow": null,
            "overflow_x": null,
            "overflow_y": null,
            "padding": null,
            "right": null,
            "top": null,
            "visibility": null,
            "width": null
          }
        },
        "a9a859bc690649ddab0a1f6239263dc2": {
          "model_module": "@jupyter-widgets/controls",
          "model_name": "DescriptionStyleModel",
          "model_module_version": "1.5.0",
          "state": {
            "_model_module": "@jupyter-widgets/controls",
            "_model_module_version": "1.5.0",
            "_model_name": "DescriptionStyleModel",
            "_view_count": null,
            "_view_module": "@jupyter-widgets/base",
            "_view_module_version": "1.2.0",
            "_view_name": "StyleView",
            "description_width": ""
          }
        },
        "fccbb5f5aa9a481da9518da045c61e5b": {
          "model_module": "@jupyter-widgets/controls",
          "model_name": "HBoxModel",
          "model_module_version": "1.5.0",
          "state": {
            "_dom_classes": [],
            "_model_module": "@jupyter-widgets/controls",
            "_model_module_version": "1.5.0",
            "_model_name": "HBoxModel",
            "_view_count": null,
            "_view_module": "@jupyter-widgets/controls",
            "_view_module_version": "1.5.0",
            "_view_name": "HBoxView",
            "box_style": "",
            "children": [
              "IPY_MODEL_1c5e41c2ad5346e1ba32536bc822cf16",
              "IPY_MODEL_d833ffcd4d30451ba37da9c4d5fe539d",
              "IPY_MODEL_243a83379d4f42f4993a7c3ff4f8b7e5"
            ],
            "layout": "IPY_MODEL_3f016fa9ace34fbdacbd19d76454704a"
          }
        },
        "1c5e41c2ad5346e1ba32536bc822cf16": {
          "model_module": "@jupyter-widgets/controls",
          "model_name": "HTMLModel",
          "model_module_version": "1.5.0",
          "state": {
            "_dom_classes": [],
            "_model_module": "@jupyter-widgets/controls",
            "_model_module_version": "1.5.0",
            "_model_name": "HTMLModel",
            "_view_count": null,
            "_view_module": "@jupyter-widgets/controls",
            "_view_module_version": "1.5.0",
            "_view_name": "HTMLView",
            "description": "",
            "description_tooltip": null,
            "layout": "IPY_MODEL_10850c4396fe41d681babe702034aa67",
            "placeholder": "​",
            "style": "IPY_MODEL_70da8caa39ab4a399223e3dc1d99fa48",
            "value": "tokenizer.json: 100%"
          }
        },
        "d833ffcd4d30451ba37da9c4d5fe539d": {
          "model_module": "@jupyter-widgets/controls",
          "model_name": "FloatProgressModel",
          "model_module_version": "1.5.0",
          "state": {
            "_dom_classes": [],
            "_model_module": "@jupyter-widgets/controls",
            "_model_module_version": "1.5.0",
            "_model_name": "FloatProgressModel",
            "_view_count": null,
            "_view_module": "@jupyter-widgets/controls",
            "_view_module_version": "1.5.0",
            "_view_name": "ProgressView",
            "bar_style": "success",
            "description": "",
            "description_tooltip": null,
            "layout": "IPY_MODEL_5d7cbe57e6f44e819cf77079864d4ef6",
            "max": 466062,
            "min": 0,
            "orientation": "horizontal",
            "style": "IPY_MODEL_c8d70f7e59634f8a953c35412a0a5685",
            "value": 466062
          }
        },
        "243a83379d4f42f4993a7c3ff4f8b7e5": {
          "model_module": "@jupyter-widgets/controls",
          "model_name": "HTMLModel",
          "model_module_version": "1.5.0",
          "state": {
            "_dom_classes": [],
            "_model_module": "@jupyter-widgets/controls",
            "_model_module_version": "1.5.0",
            "_model_name": "HTMLModel",
            "_view_count": null,
            "_view_module": "@jupyter-widgets/controls",
            "_view_module_version": "1.5.0",
            "_view_name": "HTMLView",
            "description": "",
            "description_tooltip": null,
            "layout": "IPY_MODEL_5e2b3dbf29164900bb306d85d7b9dfe2",
            "placeholder": "​",
            "style": "IPY_MODEL_df48628c9adb4064a86a99506516dd84",
            "value": " 466k/466k [00:00&lt;00:00, 10.5MB/s]"
          }
        },
        "3f016fa9ace34fbdacbd19d76454704a": {
          "model_module": "@jupyter-widgets/base",
          "model_name": "LayoutModel",
          "model_module_version": "1.2.0",
          "state": {
            "_model_module": "@jupyter-widgets/base",
            "_model_module_version": "1.2.0",
            "_model_name": "LayoutModel",
            "_view_count": null,
            "_view_module": "@jupyter-widgets/base",
            "_view_module_version": "1.2.0",
            "_view_name": "LayoutView",
            "align_content": null,
            "align_items": null,
            "align_self": null,
            "border": null,
            "bottom": null,
            "display": null,
            "flex": null,
            "flex_flow": null,
            "grid_area": null,
            "grid_auto_columns": null,
            "grid_auto_flow": null,
            "grid_auto_rows": null,
            "grid_column": null,
            "grid_gap": null,
            "grid_row": null,
            "grid_template_areas": null,
            "grid_template_columns": null,
            "grid_template_rows": null,
            "height": null,
            "justify_content": null,
            "justify_items": null,
            "left": null,
            "margin": null,
            "max_height": null,
            "max_width": null,
            "min_height": null,
            "min_width": null,
            "object_fit": null,
            "object_position": null,
            "order": null,
            "overflow": null,
            "overflow_x": null,
            "overflow_y": null,
            "padding": null,
            "right": null,
            "top": null,
            "visibility": null,
            "width": null
          }
        },
        "10850c4396fe41d681babe702034aa67": {
          "model_module": "@jupyter-widgets/base",
          "model_name": "LayoutModel",
          "model_module_version": "1.2.0",
          "state": {
            "_model_module": "@jupyter-widgets/base",
            "_model_module_version": "1.2.0",
            "_model_name": "LayoutModel",
            "_view_count": null,
            "_view_module": "@jupyter-widgets/base",
            "_view_module_version": "1.2.0",
            "_view_name": "LayoutView",
            "align_content": null,
            "align_items": null,
            "align_self": null,
            "border": null,
            "bottom": null,
            "display": null,
            "flex": null,
            "flex_flow": null,
            "grid_area": null,
            "grid_auto_columns": null,
            "grid_auto_flow": null,
            "grid_auto_rows": null,
            "grid_column": null,
            "grid_gap": null,
            "grid_row": null,
            "grid_template_areas": null,
            "grid_template_columns": null,
            "grid_template_rows": null,
            "height": null,
            "justify_content": null,
            "justify_items": null,
            "left": null,
            "margin": null,
            "max_height": null,
            "max_width": null,
            "min_height": null,
            "min_width": null,
            "object_fit": null,
            "object_position": null,
            "order": null,
            "overflow": null,
            "overflow_x": null,
            "overflow_y": null,
            "padding": null,
            "right": null,
            "top": null,
            "visibility": null,
            "width": null
          }
        },
        "70da8caa39ab4a399223e3dc1d99fa48": {
          "model_module": "@jupyter-widgets/controls",
          "model_name": "DescriptionStyleModel",
          "model_module_version": "1.5.0",
          "state": {
            "_model_module": "@jupyter-widgets/controls",
            "_model_module_version": "1.5.0",
            "_model_name": "DescriptionStyleModel",
            "_view_count": null,
            "_view_module": "@jupyter-widgets/base",
            "_view_module_version": "1.2.0",
            "_view_name": "StyleView",
            "description_width": ""
          }
        },
        "5d7cbe57e6f44e819cf77079864d4ef6": {
          "model_module": "@jupyter-widgets/base",
          "model_name": "LayoutModel",
          "model_module_version": "1.2.0",
          "state": {
            "_model_module": "@jupyter-widgets/base",
            "_model_module_version": "1.2.0",
            "_model_name": "LayoutModel",
            "_view_count": null,
            "_view_module": "@jupyter-widgets/base",
            "_view_module_version": "1.2.0",
            "_view_name": "LayoutView",
            "align_content": null,
            "align_items": null,
            "align_self": null,
            "border": null,
            "bottom": null,
            "display": null,
            "flex": null,
            "flex_flow": null,
            "grid_area": null,
            "grid_auto_columns": null,
            "grid_auto_flow": null,
            "grid_auto_rows": null,
            "grid_column": null,
            "grid_gap": null,
            "grid_row": null,
            "grid_template_areas": null,
            "grid_template_columns": null,
            "grid_template_rows": null,
            "height": null,
            "justify_content": null,
            "justify_items": null,
            "left": null,
            "margin": null,
            "max_height": null,
            "max_width": null,
            "min_height": null,
            "min_width": null,
            "object_fit": null,
            "object_position": null,
            "order": null,
            "overflow": null,
            "overflow_x": null,
            "overflow_y": null,
            "padding": null,
            "right": null,
            "top": null,
            "visibility": null,
            "width": null
          }
        },
        "c8d70f7e59634f8a953c35412a0a5685": {
          "model_module": "@jupyter-widgets/controls",
          "model_name": "ProgressStyleModel",
          "model_module_version": "1.5.0",
          "state": {
            "_model_module": "@jupyter-widgets/controls",
            "_model_module_version": "1.5.0",
            "_model_name": "ProgressStyleModel",
            "_view_count": null,
            "_view_module": "@jupyter-widgets/base",
            "_view_module_version": "1.2.0",
            "_view_name": "StyleView",
            "bar_color": null,
            "description_width": ""
          }
        },
        "5e2b3dbf29164900bb306d85d7b9dfe2": {
          "model_module": "@jupyter-widgets/base",
          "model_name": "LayoutModel",
          "model_module_version": "1.2.0",
          "state": {
            "_model_module": "@jupyter-widgets/base",
            "_model_module_version": "1.2.0",
            "_model_name": "LayoutModel",
            "_view_count": null,
            "_view_module": "@jupyter-widgets/base",
            "_view_module_version": "1.2.0",
            "_view_name": "LayoutView",
            "align_content": null,
            "align_items": null,
            "align_self": null,
            "border": null,
            "bottom": null,
            "display": null,
            "flex": null,
            "flex_flow": null,
            "grid_area": null,
            "grid_auto_columns": null,
            "grid_auto_flow": null,
            "grid_auto_rows": null,
            "grid_column": null,
            "grid_gap": null,
            "grid_row": null,
            "grid_template_areas": null,
            "grid_template_columns": null,
            "grid_template_rows": null,
            "height": null,
            "justify_content": null,
            "justify_items": null,
            "left": null,
            "margin": null,
            "max_height": null,
            "max_width": null,
            "min_height": null,
            "min_width": null,
            "object_fit": null,
            "object_position": null,
            "order": null,
            "overflow": null,
            "overflow_x": null,
            "overflow_y": null,
            "padding": null,
            "right": null,
            "top": null,
            "visibility": null,
            "width": null
          }
        },
        "df48628c9adb4064a86a99506516dd84": {
          "model_module": "@jupyter-widgets/controls",
          "model_name": "DescriptionStyleModel",
          "model_module_version": "1.5.0",
          "state": {
            "_model_module": "@jupyter-widgets/controls",
            "_model_module_version": "1.5.0",
            "_model_name": "DescriptionStyleModel",
            "_view_count": null,
            "_view_module": "@jupyter-widgets/base",
            "_view_module_version": "1.2.0",
            "_view_name": "StyleView",
            "description_width": ""
          }
        },
        "81252956afc24311852f7071894ee553": {
          "model_module": "@jupyter-widgets/controls",
          "model_name": "HBoxModel",
          "model_module_version": "1.5.0",
          "state": {
            "_dom_classes": [],
            "_model_module": "@jupyter-widgets/controls",
            "_model_module_version": "1.5.0",
            "_model_name": "HBoxModel",
            "_view_count": null,
            "_view_module": "@jupyter-widgets/controls",
            "_view_module_version": "1.5.0",
            "_view_name": "HBoxView",
            "box_style": "",
            "children": [
              "IPY_MODEL_31882312401b44c08e77434273d93cff",
              "IPY_MODEL_93787c8a1b884b459bfd2c586c78e1e9",
              "IPY_MODEL_7048686bc0af4702b20df2875782b0f3"
            ],
            "layout": "IPY_MODEL_1718eff792164fceada1a26fa780bf36"
          }
        },
        "31882312401b44c08e77434273d93cff": {
          "model_module": "@jupyter-widgets/controls",
          "model_name": "HTMLModel",
          "model_module_version": "1.5.0",
          "state": {
            "_dom_classes": [],
            "_model_module": "@jupyter-widgets/controls",
            "_model_module_version": "1.5.0",
            "_model_name": "HTMLModel",
            "_view_count": null,
            "_view_module": "@jupyter-widgets/controls",
            "_view_module_version": "1.5.0",
            "_view_name": "HTMLView",
            "description": "",
            "description_tooltip": null,
            "layout": "IPY_MODEL_c841a34ee04b41df9aca391f0e6e88e6",
            "placeholder": "​",
            "style": "IPY_MODEL_579efec7931341d08766f63187d1e04c",
            "value": "config.json: 100%"
          }
        },
        "93787c8a1b884b459bfd2c586c78e1e9": {
          "model_module": "@jupyter-widgets/controls",
          "model_name": "FloatProgressModel",
          "model_module_version": "1.5.0",
          "state": {
            "_dom_classes": [],
            "_model_module": "@jupyter-widgets/controls",
            "_model_module_version": "1.5.0",
            "_model_name": "FloatProgressModel",
            "_view_count": null,
            "_view_module": "@jupyter-widgets/controls",
            "_view_module_version": "1.5.0",
            "_view_name": "ProgressView",
            "bar_style": "success",
            "description": "",
            "description_tooltip": null,
            "layout": "IPY_MODEL_3b36d95bf17a4ba7a5bb2ddec565e319",
            "max": 483,
            "min": 0,
            "orientation": "horizontal",
            "style": "IPY_MODEL_3500dd7230d1435caa64a5c50efa808a",
            "value": 483
          }
        },
        "7048686bc0af4702b20df2875782b0f3": {
          "model_module": "@jupyter-widgets/controls",
          "model_name": "HTMLModel",
          "model_module_version": "1.5.0",
          "state": {
            "_dom_classes": [],
            "_model_module": "@jupyter-widgets/controls",
            "_model_module_version": "1.5.0",
            "_model_name": "HTMLModel",
            "_view_count": null,
            "_view_module": "@jupyter-widgets/controls",
            "_view_module_version": "1.5.0",
            "_view_name": "HTMLView",
            "description": "",
            "description_tooltip": null,
            "layout": "IPY_MODEL_4ed717388bbd4887896e7f5706df3c68",
            "placeholder": "​",
            "style": "IPY_MODEL_99fbd37561284038a970f4f56b18fae9",
            "value": " 483/483 [00:00&lt;00:00, 10.5kB/s]"
          }
        },
        "1718eff792164fceada1a26fa780bf36": {
          "model_module": "@jupyter-widgets/base",
          "model_name": "LayoutModel",
          "model_module_version": "1.2.0",
          "state": {
            "_model_module": "@jupyter-widgets/base",
            "_model_module_version": "1.2.0",
            "_model_name": "LayoutModel",
            "_view_count": null,
            "_view_module": "@jupyter-widgets/base",
            "_view_module_version": "1.2.0",
            "_view_name": "LayoutView",
            "align_content": null,
            "align_items": null,
            "align_self": null,
            "border": null,
            "bottom": null,
            "display": null,
            "flex": null,
            "flex_flow": null,
            "grid_area": null,
            "grid_auto_columns": null,
            "grid_auto_flow": null,
            "grid_auto_rows": null,
            "grid_column": null,
            "grid_gap": null,
            "grid_row": null,
            "grid_template_areas": null,
            "grid_template_columns": null,
            "grid_template_rows": null,
            "height": null,
            "justify_content": null,
            "justify_items": null,
            "left": null,
            "margin": null,
            "max_height": null,
            "max_width": null,
            "min_height": null,
            "min_width": null,
            "object_fit": null,
            "object_position": null,
            "order": null,
            "overflow": null,
            "overflow_x": null,
            "overflow_y": null,
            "padding": null,
            "right": null,
            "top": null,
            "visibility": null,
            "width": null
          }
        },
        "c841a34ee04b41df9aca391f0e6e88e6": {
          "model_module": "@jupyter-widgets/base",
          "model_name": "LayoutModel",
          "model_module_version": "1.2.0",
          "state": {
            "_model_module": "@jupyter-widgets/base",
            "_model_module_version": "1.2.0",
            "_model_name": "LayoutModel",
            "_view_count": null,
            "_view_module": "@jupyter-widgets/base",
            "_view_module_version": "1.2.0",
            "_view_name": "LayoutView",
            "align_content": null,
            "align_items": null,
            "align_self": null,
            "border": null,
            "bottom": null,
            "display": null,
            "flex": null,
            "flex_flow": null,
            "grid_area": null,
            "grid_auto_columns": null,
            "grid_auto_flow": null,
            "grid_auto_rows": null,
            "grid_column": null,
            "grid_gap": null,
            "grid_row": null,
            "grid_template_areas": null,
            "grid_template_columns": null,
            "grid_template_rows": null,
            "height": null,
            "justify_content": null,
            "justify_items": null,
            "left": null,
            "margin": null,
            "max_height": null,
            "max_width": null,
            "min_height": null,
            "min_width": null,
            "object_fit": null,
            "object_position": null,
            "order": null,
            "overflow": null,
            "overflow_x": null,
            "overflow_y": null,
            "padding": null,
            "right": null,
            "top": null,
            "visibility": null,
            "width": null
          }
        },
        "579efec7931341d08766f63187d1e04c": {
          "model_module": "@jupyter-widgets/controls",
          "model_name": "DescriptionStyleModel",
          "model_module_version": "1.5.0",
          "state": {
            "_model_module": "@jupyter-widgets/controls",
            "_model_module_version": "1.5.0",
            "_model_name": "DescriptionStyleModel",
            "_view_count": null,
            "_view_module": "@jupyter-widgets/base",
            "_view_module_version": "1.2.0",
            "_view_name": "StyleView",
            "description_width": ""
          }
        },
        "3b36d95bf17a4ba7a5bb2ddec565e319": {
          "model_module": "@jupyter-widgets/base",
          "model_name": "LayoutModel",
          "model_module_version": "1.2.0",
          "state": {
            "_model_module": "@jupyter-widgets/base",
            "_model_module_version": "1.2.0",
            "_model_name": "LayoutModel",
            "_view_count": null,
            "_view_module": "@jupyter-widgets/base",
            "_view_module_version": "1.2.0",
            "_view_name": "LayoutView",
            "align_content": null,
            "align_items": null,
            "align_self": null,
            "border": null,
            "bottom": null,
            "display": null,
            "flex": null,
            "flex_flow": null,
            "grid_area": null,
            "grid_auto_columns": null,
            "grid_auto_flow": null,
            "grid_auto_rows": null,
            "grid_column": null,
            "grid_gap": null,
            "grid_row": null,
            "grid_template_areas": null,
            "grid_template_columns": null,
            "grid_template_rows": null,
            "height": null,
            "justify_content": null,
            "justify_items": null,
            "left": null,
            "margin": null,
            "max_height": null,
            "max_width": null,
            "min_height": null,
            "min_width": null,
            "object_fit": null,
            "object_position": null,
            "order": null,
            "overflow": null,
            "overflow_x": null,
            "overflow_y": null,
            "padding": null,
            "right": null,
            "top": null,
            "visibility": null,
            "width": null
          }
        },
        "3500dd7230d1435caa64a5c50efa808a": {
          "model_module": "@jupyter-widgets/controls",
          "model_name": "ProgressStyleModel",
          "model_module_version": "1.5.0",
          "state": {
            "_model_module": "@jupyter-widgets/controls",
            "_model_module_version": "1.5.0",
            "_model_name": "ProgressStyleModel",
            "_view_count": null,
            "_view_module": "@jupyter-widgets/base",
            "_view_module_version": "1.2.0",
            "_view_name": "StyleView",
            "bar_color": null,
            "description_width": ""
          }
        },
        "4ed717388bbd4887896e7f5706df3c68": {
          "model_module": "@jupyter-widgets/base",
          "model_name": "LayoutModel",
          "model_module_version": "1.2.0",
          "state": {
            "_model_module": "@jupyter-widgets/base",
            "_model_module_version": "1.2.0",
            "_model_name": "LayoutModel",
            "_view_count": null,
            "_view_module": "@jupyter-widgets/base",
            "_view_module_version": "1.2.0",
            "_view_name": "LayoutView",
            "align_content": null,
            "align_items": null,
            "align_self": null,
            "border": null,
            "bottom": null,
            "display": null,
            "flex": null,
            "flex_flow": null,
            "grid_area": null,
            "grid_auto_columns": null,
            "grid_auto_flow": null,
            "grid_auto_rows": null,
            "grid_column": null,
            "grid_gap": null,
            "grid_row": null,
            "grid_template_areas": null,
            "grid_template_columns": null,
            "grid_template_rows": null,
            "height": null,
            "justify_content": null,
            "justify_items": null,
            "left": null,
            "margin": null,
            "max_height": null,
            "max_width": null,
            "min_height": null,
            "min_width": null,
            "object_fit": null,
            "object_position": null,
            "order": null,
            "overflow": null,
            "overflow_x": null,
            "overflow_y": null,
            "padding": null,
            "right": null,
            "top": null,
            "visibility": null,
            "width": null
          }
        },
        "99fbd37561284038a970f4f56b18fae9": {
          "model_module": "@jupyter-widgets/controls",
          "model_name": "DescriptionStyleModel",
          "model_module_version": "1.5.0",
          "state": {
            "_model_module": "@jupyter-widgets/controls",
            "_model_module_version": "1.5.0",
            "_model_name": "DescriptionStyleModel",
            "_view_count": null,
            "_view_module": "@jupyter-widgets/base",
            "_view_module_version": "1.2.0",
            "_view_name": "StyleView",
            "description_width": ""
          }
        },
        "f957fbc767b64cd893196d809f9b9f62": {
          "model_module": "@jupyter-widgets/controls",
          "model_name": "HBoxModel",
          "model_module_version": "1.5.0",
          "state": {
            "_dom_classes": [],
            "_model_module": "@jupyter-widgets/controls",
            "_model_module_version": "1.5.0",
            "_model_name": "HBoxModel",
            "_view_count": null,
            "_view_module": "@jupyter-widgets/controls",
            "_view_module_version": "1.5.0",
            "_view_name": "HBoxView",
            "box_style": "",
            "children": [
              "IPY_MODEL_0c331d598df2414ba36343c2d4165d98",
              "IPY_MODEL_30c6f866adbc41c5bcdeca7d4ee3d15e",
              "IPY_MODEL_bd260bfaf9be4624a393ad6399be0d1d"
            ],
            "layout": "IPY_MODEL_f66d81165ea844e49d916e262f418ea6"
          }
        },
        "0c331d598df2414ba36343c2d4165d98": {
          "model_module": "@jupyter-widgets/controls",
          "model_name": "HTMLModel",
          "model_module_version": "1.5.0",
          "state": {
            "_dom_classes": [],
            "_model_module": "@jupyter-widgets/controls",
            "_model_module_version": "1.5.0",
            "_model_name": "HTMLModel",
            "_view_count": null,
            "_view_module": "@jupyter-widgets/controls",
            "_view_module_version": "1.5.0",
            "_view_name": "HTMLView",
            "description": "",
            "description_tooltip": null,
            "layout": "IPY_MODEL_770e171be60d44b1a7012c1679f8e35a",
            "placeholder": "​",
            "style": "IPY_MODEL_d31550d98fb547779376f818dae128be",
            "value": "model.safetensors: 100%"
          }
        },
        "30c6f866adbc41c5bcdeca7d4ee3d15e": {
          "model_module": "@jupyter-widgets/controls",
          "model_name": "FloatProgressModel",
          "model_module_version": "1.5.0",
          "state": {
            "_dom_classes": [],
            "_model_module": "@jupyter-widgets/controls",
            "_model_module_version": "1.5.0",
            "_model_name": "FloatProgressModel",
            "_view_count": null,
            "_view_module": "@jupyter-widgets/controls",
            "_view_module_version": "1.5.0",
            "_view_name": "ProgressView",
            "bar_style": "success",
            "description": "",
            "description_tooltip": null,
            "layout": "IPY_MODEL_f55ad5e1a5a4469d92e5818ece160e50",
            "max": 267954768,
            "min": 0,
            "orientation": "horizontal",
            "style": "IPY_MODEL_83fc1a3575b04967a83b38b6e2e8e973",
            "value": 267954768
          }
        },
        "bd260bfaf9be4624a393ad6399be0d1d": {
          "model_module": "@jupyter-widgets/controls",
          "model_name": "HTMLModel",
          "model_module_version": "1.5.0",
          "state": {
            "_dom_classes": [],
            "_model_module": "@jupyter-widgets/controls",
            "_model_module_version": "1.5.0",
            "_model_name": "HTMLModel",
            "_view_count": null,
            "_view_module": "@jupyter-widgets/controls",
            "_view_module_version": "1.5.0",
            "_view_name": "HTMLView",
            "description": "",
            "description_tooltip": null,
            "layout": "IPY_MODEL_dbb6e30ab8be480c82898096fa1d8328",
            "placeholder": "​",
            "style": "IPY_MODEL_e88add33c9b047d5909378dc6024812f",
            "value": " 268M/268M [00:02&lt;00:00, 120MB/s]"
          }
        },
        "f66d81165ea844e49d916e262f418ea6": {
          "model_module": "@jupyter-widgets/base",
          "model_name": "LayoutModel",
          "model_module_version": "1.2.0",
          "state": {
            "_model_module": "@jupyter-widgets/base",
            "_model_module_version": "1.2.0",
            "_model_name": "LayoutModel",
            "_view_count": null,
            "_view_module": "@jupyter-widgets/base",
            "_view_module_version": "1.2.0",
            "_view_name": "LayoutView",
            "align_content": null,
            "align_items": null,
            "align_self": null,
            "border": null,
            "bottom": null,
            "display": null,
            "flex": null,
            "flex_flow": null,
            "grid_area": null,
            "grid_auto_columns": null,
            "grid_auto_flow": null,
            "grid_auto_rows": null,
            "grid_column": null,
            "grid_gap": null,
            "grid_row": null,
            "grid_template_areas": null,
            "grid_template_columns": null,
            "grid_template_rows": null,
            "height": null,
            "justify_content": null,
            "justify_items": null,
            "left": null,
            "margin": null,
            "max_height": null,
            "max_width": null,
            "min_height": null,
            "min_width": null,
            "object_fit": null,
            "object_position": null,
            "order": null,
            "overflow": null,
            "overflow_x": null,
            "overflow_y": null,
            "padding": null,
            "right": null,
            "top": null,
            "visibility": null,
            "width": null
          }
        },
        "770e171be60d44b1a7012c1679f8e35a": {
          "model_module": "@jupyter-widgets/base",
          "model_name": "LayoutModel",
          "model_module_version": "1.2.0",
          "state": {
            "_model_module": "@jupyter-widgets/base",
            "_model_module_version": "1.2.0",
            "_model_name": "LayoutModel",
            "_view_count": null,
            "_view_module": "@jupyter-widgets/base",
            "_view_module_version": "1.2.0",
            "_view_name": "LayoutView",
            "align_content": null,
            "align_items": null,
            "align_self": null,
            "border": null,
            "bottom": null,
            "display": null,
            "flex": null,
            "flex_flow": null,
            "grid_area": null,
            "grid_auto_columns": null,
            "grid_auto_flow": null,
            "grid_auto_rows": null,
            "grid_column": null,
            "grid_gap": null,
            "grid_row": null,
            "grid_template_areas": null,
            "grid_template_columns": null,
            "grid_template_rows": null,
            "height": null,
            "justify_content": null,
            "justify_items": null,
            "left": null,
            "margin": null,
            "max_height": null,
            "max_width": null,
            "min_height": null,
            "min_width": null,
            "object_fit": null,
            "object_position": null,
            "order": null,
            "overflow": null,
            "overflow_x": null,
            "overflow_y": null,
            "padding": null,
            "right": null,
            "top": null,
            "visibility": null,
            "width": null
          }
        },
        "d31550d98fb547779376f818dae128be": {
          "model_module": "@jupyter-widgets/controls",
          "model_name": "DescriptionStyleModel",
          "model_module_version": "1.5.0",
          "state": {
            "_model_module": "@jupyter-widgets/controls",
            "_model_module_version": "1.5.0",
            "_model_name": "DescriptionStyleModel",
            "_view_count": null,
            "_view_module": "@jupyter-widgets/base",
            "_view_module_version": "1.2.0",
            "_view_name": "StyleView",
            "description_width": ""
          }
        },
        "f55ad5e1a5a4469d92e5818ece160e50": {
          "model_module": "@jupyter-widgets/base",
          "model_name": "LayoutModel",
          "model_module_version": "1.2.0",
          "state": {
            "_model_module": "@jupyter-widgets/base",
            "_model_module_version": "1.2.0",
            "_model_name": "LayoutModel",
            "_view_count": null,
            "_view_module": "@jupyter-widgets/base",
            "_view_module_version": "1.2.0",
            "_view_name": "LayoutView",
            "align_content": null,
            "align_items": null,
            "align_self": null,
            "border": null,
            "bottom": null,
            "display": null,
            "flex": null,
            "flex_flow": null,
            "grid_area": null,
            "grid_auto_columns": null,
            "grid_auto_flow": null,
            "grid_auto_rows": null,
            "grid_column": null,
            "grid_gap": null,
            "grid_row": null,
            "grid_template_areas": null,
            "grid_template_columns": null,
            "grid_template_rows": null,
            "height": null,
            "justify_content": null,
            "justify_items": null,
            "left": null,
            "margin": null,
            "max_height": null,
            "max_width": null,
            "min_height": null,
            "min_width": null,
            "object_fit": null,
            "object_position": null,
            "order": null,
            "overflow": null,
            "overflow_x": null,
            "overflow_y": null,
            "padding": null,
            "right": null,
            "top": null,
            "visibility": null,
            "width": null
          }
        },
        "83fc1a3575b04967a83b38b6e2e8e973": {
          "model_module": "@jupyter-widgets/controls",
          "model_name": "ProgressStyleModel",
          "model_module_version": "1.5.0",
          "state": {
            "_model_module": "@jupyter-widgets/controls",
            "_model_module_version": "1.5.0",
            "_model_name": "ProgressStyleModel",
            "_view_count": null,
            "_view_module": "@jupyter-widgets/base",
            "_view_module_version": "1.2.0",
            "_view_name": "StyleView",
            "bar_color": null,
            "description_width": ""
          }
        },
        "dbb6e30ab8be480c82898096fa1d8328": {
          "model_module": "@jupyter-widgets/base",
          "model_name": "LayoutModel",
          "model_module_version": "1.2.0",
          "state": {
            "_model_module": "@jupyter-widgets/base",
            "_model_module_version": "1.2.0",
            "_model_name": "LayoutModel",
            "_view_count": null,
            "_view_module": "@jupyter-widgets/base",
            "_view_module_version": "1.2.0",
            "_view_name": "LayoutView",
            "align_content": null,
            "align_items": null,
            "align_self": null,
            "border": null,
            "bottom": null,
            "display": null,
            "flex": null,
            "flex_flow": null,
            "grid_area": null,
            "grid_auto_columns": null,
            "grid_auto_flow": null,
            "grid_auto_rows": null,
            "grid_column": null,
            "grid_gap": null,
            "grid_row": null,
            "grid_template_areas": null,
            "grid_template_columns": null,
            "grid_template_rows": null,
            "height": null,
            "justify_content": null,
            "justify_items": null,
            "left": null,
            "margin": null,
            "max_height": null,
            "max_width": null,
            "min_height": null,
            "min_width": null,
            "object_fit": null,
            "object_position": null,
            "order": null,
            "overflow": null,
            "overflow_x": null,
            "overflow_y": null,
            "padding": null,
            "right": null,
            "top": null,
            "visibility": null,
            "width": null
          }
        },
        "e88add33c9b047d5909378dc6024812f": {
          "model_module": "@jupyter-widgets/controls",
          "model_name": "DescriptionStyleModel",
          "model_module_version": "1.5.0",
          "state": {
            "_model_module": "@jupyter-widgets/controls",
            "_model_module_version": "1.5.0",
            "_model_name": "DescriptionStyleModel",
            "_view_count": null,
            "_view_module": "@jupyter-widgets/base",
            "_view_module_version": "1.2.0",
            "_view_name": "StyleView",
            "description_width": ""
          }
        },
        "ba10c593cdde4f8cb28792d71306eb1e": {
          "model_module": "@jupyter-widgets/controls",
          "model_name": "HBoxModel",
          "model_module_version": "1.5.0",
          "state": {
            "_dom_classes": [],
            "_model_module": "@jupyter-widgets/controls",
            "_model_module_version": "1.5.0",
            "_model_name": "HBoxModel",
            "_view_count": null,
            "_view_module": "@jupyter-widgets/controls",
            "_view_module_version": "1.5.0",
            "_view_name": "HBoxView",
            "box_style": "",
            "children": [
              "IPY_MODEL_d0b8c279157a4994942a61ffab9c2d95",
              "IPY_MODEL_486cfb8a3c8d41b283c92b7c39a5b011",
              "IPY_MODEL_a177721b4cd349a4b535065214dad771"
            ],
            "layout": "IPY_MODEL_2a2ec1673fff4367821b51a72c91044c"
          }
        },
        "d0b8c279157a4994942a61ffab9c2d95": {
          "model_module": "@jupyter-widgets/controls",
          "model_name": "HTMLModel",
          "model_module_version": "1.5.0",
          "state": {
            "_dom_classes": [],
            "_model_module": "@jupyter-widgets/controls",
            "_model_module_version": "1.5.0",
            "_model_name": "HTMLModel",
            "_view_count": null,
            "_view_module": "@jupyter-widgets/controls",
            "_view_module_version": "1.5.0",
            "_view_name": "HTMLView",
            "description": "",
            "description_tooltip": null,
            "layout": "IPY_MODEL_49eee2d55f8349cc98cb96e2b843ec15",
            "placeholder": "​",
            "style": "IPY_MODEL_91f76dec1f5e4d91b77af1b31be51549",
            "value": "config.json: 100%"
          }
        },
        "486cfb8a3c8d41b283c92b7c39a5b011": {
          "model_module": "@jupyter-widgets/controls",
          "model_name": "FloatProgressModel",
          "model_module_version": "1.5.0",
          "state": {
            "_dom_classes": [],
            "_model_module": "@jupyter-widgets/controls",
            "_model_module_version": "1.5.0",
            "_model_name": "FloatProgressModel",
            "_view_count": null,
            "_view_module": "@jupyter-widgets/controls",
            "_view_module_version": "1.5.0",
            "_view_name": "ProgressView",
            "bar_style": "success",
            "description": "",
            "description_tooltip": null,
            "layout": "IPY_MODEL_d7e102f7e54d45d1a59596fbe2b6c131",
            "max": 385,
            "min": 0,
            "orientation": "horizontal",
            "style": "IPY_MODEL_1dcd66f23e8c4382a1488450e9e39998",
            "value": 385
          }
        },
        "a177721b4cd349a4b535065214dad771": {
          "model_module": "@jupyter-widgets/controls",
          "model_name": "HTMLModel",
          "model_module_version": "1.5.0",
          "state": {
            "_dom_classes": [],
            "_model_module": "@jupyter-widgets/controls",
            "_model_module_version": "1.5.0",
            "_model_name": "HTMLModel",
            "_view_count": null,
            "_view_module": "@jupyter-widgets/controls",
            "_view_module_version": "1.5.0",
            "_view_name": "HTMLView",
            "description": "",
            "description_tooltip": null,
            "layout": "IPY_MODEL_917eebd8785d4ca08f02a0bee33bd0d5",
            "placeholder": "​",
            "style": "IPY_MODEL_1e31815aba4144049e63cdba01c00591",
            "value": " 385/385 [00:00&lt;00:00, 14.3kB/s]"
          }
        },
        "2a2ec1673fff4367821b51a72c91044c": {
          "model_module": "@jupyter-widgets/base",
          "model_name": "LayoutModel",
          "model_module_version": "1.2.0",
          "state": {
            "_model_module": "@jupyter-widgets/base",
            "_model_module_version": "1.2.0",
            "_model_name": "LayoutModel",
            "_view_count": null,
            "_view_module": "@jupyter-widgets/base",
            "_view_module_version": "1.2.0",
            "_view_name": "LayoutView",
            "align_content": null,
            "align_items": null,
            "align_self": null,
            "border": null,
            "bottom": null,
            "display": null,
            "flex": null,
            "flex_flow": null,
            "grid_area": null,
            "grid_auto_columns": null,
            "grid_auto_flow": null,
            "grid_auto_rows": null,
            "grid_column": null,
            "grid_gap": null,
            "grid_row": null,
            "grid_template_areas": null,
            "grid_template_columns": null,
            "grid_template_rows": null,
            "height": null,
            "justify_content": null,
            "justify_items": null,
            "left": null,
            "margin": null,
            "max_height": null,
            "max_width": null,
            "min_height": null,
            "min_width": null,
            "object_fit": null,
            "object_position": null,
            "order": null,
            "overflow": null,
            "overflow_x": null,
            "overflow_y": null,
            "padding": null,
            "right": null,
            "top": null,
            "visibility": null,
            "width": null
          }
        },
        "49eee2d55f8349cc98cb96e2b843ec15": {
          "model_module": "@jupyter-widgets/base",
          "model_name": "LayoutModel",
          "model_module_version": "1.2.0",
          "state": {
            "_model_module": "@jupyter-widgets/base",
            "_model_module_version": "1.2.0",
            "_model_name": "LayoutModel",
            "_view_count": null,
            "_view_module": "@jupyter-widgets/base",
            "_view_module_version": "1.2.0",
            "_view_name": "LayoutView",
            "align_content": null,
            "align_items": null,
            "align_self": null,
            "border": null,
            "bottom": null,
            "display": null,
            "flex": null,
            "flex_flow": null,
            "grid_area": null,
            "grid_auto_columns": null,
            "grid_auto_flow": null,
            "grid_auto_rows": null,
            "grid_column": null,
            "grid_gap": null,
            "grid_row": null,
            "grid_template_areas": null,
            "grid_template_columns": null,
            "grid_template_rows": null,
            "height": null,
            "justify_content": null,
            "justify_items": null,
            "left": null,
            "margin": null,
            "max_height": null,
            "max_width": null,
            "min_height": null,
            "min_width": null,
            "object_fit": null,
            "object_position": null,
            "order": null,
            "overflow": null,
            "overflow_x": null,
            "overflow_y": null,
            "padding": null,
            "right": null,
            "top": null,
            "visibility": null,
            "width": null
          }
        },
        "91f76dec1f5e4d91b77af1b31be51549": {
          "model_module": "@jupyter-widgets/controls",
          "model_name": "DescriptionStyleModel",
          "model_module_version": "1.5.0",
          "state": {
            "_model_module": "@jupyter-widgets/controls",
            "_model_module_version": "1.5.0",
            "_model_name": "DescriptionStyleModel",
            "_view_count": null,
            "_view_module": "@jupyter-widgets/base",
            "_view_module_version": "1.2.0",
            "_view_name": "StyleView",
            "description_width": ""
          }
        },
        "d7e102f7e54d45d1a59596fbe2b6c131": {
          "model_module": "@jupyter-widgets/base",
          "model_name": "LayoutModel",
          "model_module_version": "1.2.0",
          "state": {
            "_model_module": "@jupyter-widgets/base",
            "_model_module_version": "1.2.0",
            "_model_name": "LayoutModel",
            "_view_count": null,
            "_view_module": "@jupyter-widgets/base",
            "_view_module_version": "1.2.0",
            "_view_name": "LayoutView",
            "align_content": null,
            "align_items": null,
            "align_self": null,
            "border": null,
            "bottom": null,
            "display": null,
            "flex": null,
            "flex_flow": null,
            "grid_area": null,
            "grid_auto_columns": null,
            "grid_auto_flow": null,
            "grid_auto_rows": null,
            "grid_column": null,
            "grid_gap": null,
            "grid_row": null,
            "grid_template_areas": null,
            "grid_template_columns": null,
            "grid_template_rows": null,
            "height": null,
            "justify_content": null,
            "justify_items": null,
            "left": null,
            "margin": null,
            "max_height": null,
            "max_width": null,
            "min_height": null,
            "min_width": null,
            "object_fit": null,
            "object_position": null,
            "order": null,
            "overflow": null,
            "overflow_x": null,
            "overflow_y": null,
            "padding": null,
            "right": null,
            "top": null,
            "visibility": null,
            "width": null
          }
        },
        "1dcd66f23e8c4382a1488450e9e39998": {
          "model_module": "@jupyter-widgets/controls",
          "model_name": "ProgressStyleModel",
          "model_module_version": "1.5.0",
          "state": {
            "_model_module": "@jupyter-widgets/controls",
            "_model_module_version": "1.5.0",
            "_model_name": "ProgressStyleModel",
            "_view_count": null,
            "_view_module": "@jupyter-widgets/base",
            "_view_module_version": "1.2.0",
            "_view_name": "StyleView",
            "bar_color": null,
            "description_width": ""
          }
        },
        "917eebd8785d4ca08f02a0bee33bd0d5": {
          "model_module": "@jupyter-widgets/base",
          "model_name": "LayoutModel",
          "model_module_version": "1.2.0",
          "state": {
            "_model_module": "@jupyter-widgets/base",
            "_model_module_version": "1.2.0",
            "_model_name": "LayoutModel",
            "_view_count": null,
            "_view_module": "@jupyter-widgets/base",
            "_view_module_version": "1.2.0",
            "_view_name": "LayoutView",
            "align_content": null,
            "align_items": null,
            "align_self": null,
            "border": null,
            "bottom": null,
            "display": null,
            "flex": null,
            "flex_flow": null,
            "grid_area": null,
            "grid_auto_columns": null,
            "grid_auto_flow": null,
            "grid_auto_rows": null,
            "grid_column": null,
            "grid_gap": null,
            "grid_row": null,
            "grid_template_areas": null,
            "grid_template_columns": null,
            "grid_template_rows": null,
            "height": null,
            "justify_content": null,
            "justify_items": null,
            "left": null,
            "margin": null,
            "max_height": null,
            "max_width": null,
            "min_height": null,
            "min_width": null,
            "object_fit": null,
            "object_position": null,
            "order": null,
            "overflow": null,
            "overflow_x": null,
            "overflow_y": null,
            "padding": null,
            "right": null,
            "top": null,
            "visibility": null,
            "width": null
          }
        },
        "1e31815aba4144049e63cdba01c00591": {
          "model_module": "@jupyter-widgets/controls",
          "model_name": "DescriptionStyleModel",
          "model_module_version": "1.5.0",
          "state": {
            "_model_module": "@jupyter-widgets/controls",
            "_model_module_version": "1.5.0",
            "_model_name": "DescriptionStyleModel",
            "_view_count": null,
            "_view_module": "@jupyter-widgets/base",
            "_view_module_version": "1.2.0",
            "_view_name": "StyleView",
            "description_width": ""
          }
        },
        "2a5cba642f2e4c589de46138038dee03": {
          "model_module": "@jupyter-widgets/controls",
          "model_name": "HBoxModel",
          "model_module_version": "1.5.0",
          "state": {
            "_dom_classes": [],
            "_model_module": "@jupyter-widgets/controls",
            "_model_module_version": "1.5.0",
            "_model_name": "HBoxModel",
            "_view_count": null,
            "_view_module": "@jupyter-widgets/controls",
            "_view_module_version": "1.5.0",
            "_view_name": "HBoxView",
            "box_style": "",
            "children": [
              "IPY_MODEL_ab3c926e53fb426d9856fc059bc066fd",
              "IPY_MODEL_f69da7bdabea4feab5ac6890e1f464a6",
              "IPY_MODEL_8f02a7ca31fb43daa53d26ae6382a299"
            ],
            "layout": "IPY_MODEL_ebb2d32a4a1f403e87e4a6a9388cfdef"
          }
        },
        "ab3c926e53fb426d9856fc059bc066fd": {
          "model_module": "@jupyter-widgets/controls",
          "model_name": "HTMLModel",
          "model_module_version": "1.5.0",
          "state": {
            "_dom_classes": [],
            "_model_module": "@jupyter-widgets/controls",
            "_model_module_version": "1.5.0",
            "_model_name": "HTMLModel",
            "_view_count": null,
            "_view_module": "@jupyter-widgets/controls",
            "_view_module_version": "1.5.0",
            "_view_name": "HTMLView",
            "description": "",
            "description_tooltip": null,
            "layout": "IPY_MODEL_20b30c0918574c7889d7c3721cbdcffe",
            "placeholder": "​",
            "style": "IPY_MODEL_b8ccebdce71545f59d0bec32ab13ded3",
            "value": "vocab.txt: 100%"
          }
        },
        "f69da7bdabea4feab5ac6890e1f464a6": {
          "model_module": "@jupyter-widgets/controls",
          "model_name": "FloatProgressModel",
          "model_module_version": "1.5.0",
          "state": {
            "_dom_classes": [],
            "_model_module": "@jupyter-widgets/controls",
            "_model_module_version": "1.5.0",
            "_model_name": "FloatProgressModel",
            "_view_count": null,
            "_view_module": "@jupyter-widgets/controls",
            "_view_module_version": "1.5.0",
            "_view_name": "ProgressView",
            "bar_style": "success",
            "description": "",
            "description_tooltip": null,
            "layout": "IPY_MODEL_5c109afe46424dfb983754021210c03e",
            "max": 213450,
            "min": 0,
            "orientation": "horizontal",
            "style": "IPY_MODEL_5eba09ad07154c2197578ef721cb857f",
            "value": 213450
          }
        },
        "8f02a7ca31fb43daa53d26ae6382a299": {
          "model_module": "@jupyter-widgets/controls",
          "model_name": "HTMLModel",
          "model_module_version": "1.5.0",
          "state": {
            "_dom_classes": [],
            "_model_module": "@jupyter-widgets/controls",
            "_model_module_version": "1.5.0",
            "_model_name": "HTMLModel",
            "_view_count": null,
            "_view_module": "@jupyter-widgets/controls",
            "_view_module_version": "1.5.0",
            "_view_name": "HTMLView",
            "description": "",
            "description_tooltip": null,
            "layout": "IPY_MODEL_d0106858dd314167a39a110254e4c349",
            "placeholder": "​",
            "style": "IPY_MODEL_61e23f84eaf4464986f4b9e6446d77b1",
            "value": " 213k/213k [00:00&lt;00:00, 3.75MB/s]"
          }
        },
        "ebb2d32a4a1f403e87e4a6a9388cfdef": {
          "model_module": "@jupyter-widgets/base",
          "model_name": "LayoutModel",
          "model_module_version": "1.2.0",
          "state": {
            "_model_module": "@jupyter-widgets/base",
            "_model_module_version": "1.2.0",
            "_model_name": "LayoutModel",
            "_view_count": null,
            "_view_module": "@jupyter-widgets/base",
            "_view_module_version": "1.2.0",
            "_view_name": "LayoutView",
            "align_content": null,
            "align_items": null,
            "align_self": null,
            "border": null,
            "bottom": null,
            "display": null,
            "flex": null,
            "flex_flow": null,
            "grid_area": null,
            "grid_auto_columns": null,
            "grid_auto_flow": null,
            "grid_auto_rows": null,
            "grid_column": null,
            "grid_gap": null,
            "grid_row": null,
            "grid_template_areas": null,
            "grid_template_columns": null,
            "grid_template_rows": null,
            "height": null,
            "justify_content": null,
            "justify_items": null,
            "left": null,
            "margin": null,
            "max_height": null,
            "max_width": null,
            "min_height": null,
            "min_width": null,
            "object_fit": null,
            "object_position": null,
            "order": null,
            "overflow": null,
            "overflow_x": null,
            "overflow_y": null,
            "padding": null,
            "right": null,
            "top": null,
            "visibility": null,
            "width": null
          }
        },
        "20b30c0918574c7889d7c3721cbdcffe": {
          "model_module": "@jupyter-widgets/base",
          "model_name": "LayoutModel",
          "model_module_version": "1.2.0",
          "state": {
            "_model_module": "@jupyter-widgets/base",
            "_model_module_version": "1.2.0",
            "_model_name": "LayoutModel",
            "_view_count": null,
            "_view_module": "@jupyter-widgets/base",
            "_view_module_version": "1.2.0",
            "_view_name": "LayoutView",
            "align_content": null,
            "align_items": null,
            "align_self": null,
            "border": null,
            "bottom": null,
            "display": null,
            "flex": null,
            "flex_flow": null,
            "grid_area": null,
            "grid_auto_columns": null,
            "grid_auto_flow": null,
            "grid_auto_rows": null,
            "grid_column": null,
            "grid_gap": null,
            "grid_row": null,
            "grid_template_areas": null,
            "grid_template_columns": null,
            "grid_template_rows": null,
            "height": null,
            "justify_content": null,
            "justify_items": null,
            "left": null,
            "margin": null,
            "max_height": null,
            "max_width": null,
            "min_height": null,
            "min_width": null,
            "object_fit": null,
            "object_position": null,
            "order": null,
            "overflow": null,
            "overflow_x": null,
            "overflow_y": null,
            "padding": null,
            "right": null,
            "top": null,
            "visibility": null,
            "width": null
          }
        },
        "b8ccebdce71545f59d0bec32ab13ded3": {
          "model_module": "@jupyter-widgets/controls",
          "model_name": "DescriptionStyleModel",
          "model_module_version": "1.5.0",
          "state": {
            "_model_module": "@jupyter-widgets/controls",
            "_model_module_version": "1.5.0",
            "_model_name": "DescriptionStyleModel",
            "_view_count": null,
            "_view_module": "@jupyter-widgets/base",
            "_view_module_version": "1.2.0",
            "_view_name": "StyleView",
            "description_width": ""
          }
        },
        "5c109afe46424dfb983754021210c03e": {
          "model_module": "@jupyter-widgets/base",
          "model_name": "LayoutModel",
          "model_module_version": "1.2.0",
          "state": {
            "_model_module": "@jupyter-widgets/base",
            "_model_module_version": "1.2.0",
            "_model_name": "LayoutModel",
            "_view_count": null,
            "_view_module": "@jupyter-widgets/base",
            "_view_module_version": "1.2.0",
            "_view_name": "LayoutView",
            "align_content": null,
            "align_items": null,
            "align_self": null,
            "border": null,
            "bottom": null,
            "display": null,
            "flex": null,
            "flex_flow": null,
            "grid_area": null,
            "grid_auto_columns": null,
            "grid_auto_flow": null,
            "grid_auto_rows": null,
            "grid_column": null,
            "grid_gap": null,
            "grid_row": null,
            "grid_template_areas": null,
            "grid_template_columns": null,
            "grid_template_rows": null,
            "height": null,
            "justify_content": null,
            "justify_items": null,
            "left": null,
            "margin": null,
            "max_height": null,
            "max_width": null,
            "min_height": null,
            "min_width": null,
            "object_fit": null,
            "object_position": null,
            "order": null,
            "overflow": null,
            "overflow_x": null,
            "overflow_y": null,
            "padding": null,
            "right": null,
            "top": null,
            "visibility": null,
            "width": null
          }
        },
        "5eba09ad07154c2197578ef721cb857f": {
          "model_module": "@jupyter-widgets/controls",
          "model_name": "ProgressStyleModel",
          "model_module_version": "1.5.0",
          "state": {
            "_model_module": "@jupyter-widgets/controls",
            "_model_module_version": "1.5.0",
            "_model_name": "ProgressStyleModel",
            "_view_count": null,
            "_view_module": "@jupyter-widgets/base",
            "_view_module_version": "1.2.0",
            "_view_name": "StyleView",
            "bar_color": null,
            "description_width": ""
          }
        },
        "d0106858dd314167a39a110254e4c349": {
          "model_module": "@jupyter-widgets/base",
          "model_name": "LayoutModel",
          "model_module_version": "1.2.0",
          "state": {
            "_model_module": "@jupyter-widgets/base",
            "_model_module_version": "1.2.0",
            "_model_name": "LayoutModel",
            "_view_count": null,
            "_view_module": "@jupyter-widgets/base",
            "_view_module_version": "1.2.0",
            "_view_name": "LayoutView",
            "align_content": null,
            "align_items": null,
            "align_self": null,
            "border": null,
            "bottom": null,
            "display": null,
            "flex": null,
            "flex_flow": null,
            "grid_area": null,
            "grid_auto_columns": null,
            "grid_auto_flow": null,
            "grid_auto_rows": null,
            "grid_column": null,
            "grid_gap": null,
            "grid_row": null,
            "grid_template_areas": null,
            "grid_template_columns": null,
            "grid_template_rows": null,
            "height": null,
            "justify_content": null,
            "justify_items": null,
            "left": null,
            "margin": null,
            "max_height": null,
            "max_width": null,
            "min_height": null,
            "min_width": null,
            "object_fit": null,
            "object_position": null,
            "order": null,
            "overflow": null,
            "overflow_x": null,
            "overflow_y": null,
            "padding": null,
            "right": null,
            "top": null,
            "visibility": null,
            "width": null
          }
        },
        "61e23f84eaf4464986f4b9e6446d77b1": {
          "model_module": "@jupyter-widgets/controls",
          "model_name": "DescriptionStyleModel",
          "model_module_version": "1.5.0",
          "state": {
            "_model_module": "@jupyter-widgets/controls",
            "_model_module_version": "1.5.0",
            "_model_name": "DescriptionStyleModel",
            "_view_count": null,
            "_view_module": "@jupyter-widgets/base",
            "_view_module_version": "1.2.0",
            "_view_name": "StyleView",
            "description_width": ""
          }
        },
        "b68188301d91450ab76dae1ee6f87d29": {
          "model_module": "@jupyter-widgets/controls",
          "model_name": "HBoxModel",
          "model_module_version": "1.5.0",
          "state": {
            "_dom_classes": [],
            "_model_module": "@jupyter-widgets/controls",
            "_model_module_version": "1.5.0",
            "_model_name": "HBoxModel",
            "_view_count": null,
            "_view_module": "@jupyter-widgets/controls",
            "_view_module_version": "1.5.0",
            "_view_name": "HBoxView",
            "box_style": "",
            "children": [
              "IPY_MODEL_fbb3efd79d504f2db528503e45ada1fa",
              "IPY_MODEL_6da6fa50ad43416eb775a9dd0b6dc42a",
              "IPY_MODEL_ca68cadc24d84bee90ced51fa337f7f6"
            ],
            "layout": "IPY_MODEL_18f5677cece049fc92e1bf849b6984bf"
          }
        },
        "fbb3efd79d504f2db528503e45ada1fa": {
          "model_module": "@jupyter-widgets/controls",
          "model_name": "HTMLModel",
          "model_module_version": "1.5.0",
          "state": {
            "_dom_classes": [],
            "_model_module": "@jupyter-widgets/controls",
            "_model_module_version": "1.5.0",
            "_model_name": "HTMLModel",
            "_view_count": null,
            "_view_module": "@jupyter-widgets/controls",
            "_view_module_version": "1.5.0",
            "_view_name": "HTMLView",
            "description": "",
            "description_tooltip": null,
            "layout": "IPY_MODEL_8731a2de75fc4c23af7bec720e80cf24",
            "placeholder": "​",
            "style": "IPY_MODEL_14b045e4ceb64ad68118173e19ba4519",
            "value": "pytorch_model.bin: 100%"
          }
        },
        "6da6fa50ad43416eb775a9dd0b6dc42a": {
          "model_module": "@jupyter-widgets/controls",
          "model_name": "FloatProgressModel",
          "model_module_version": "1.5.0",
          "state": {
            "_dom_classes": [],
            "_model_module": "@jupyter-widgets/controls",
            "_model_module_version": "1.5.0",
            "_model_name": "FloatProgressModel",
            "_view_count": null,
            "_view_module": "@jupyter-widgets/controls",
            "_view_module_version": "1.5.0",
            "_view_name": "ProgressView",
            "bar_style": "success",
            "description": "",
            "description_tooltip": null,
            "layout": "IPY_MODEL_93b8fa793b714dcf9e29add3855207c8",
            "max": 435778770,
            "min": 0,
            "orientation": "horizontal",
            "style": "IPY_MODEL_30fc8dac247a4b54957d7736a1e88ae5",
            "value": 435778770
          }
        },
        "ca68cadc24d84bee90ced51fa337f7f6": {
          "model_module": "@jupyter-widgets/controls",
          "model_name": "HTMLModel",
          "model_module_version": "1.5.0",
          "state": {
            "_dom_classes": [],
            "_model_module": "@jupyter-widgets/controls",
            "_model_module_version": "1.5.0",
            "_model_name": "HTMLModel",
            "_view_count": null,
            "_view_module": "@jupyter-widgets/controls",
            "_view_module_version": "1.5.0",
            "_view_name": "HTMLView",
            "description": "",
            "description_tooltip": null,
            "layout": "IPY_MODEL_d27901c769f04483b13c31ec0df67a1d",
            "placeholder": "​",
            "style": "IPY_MODEL_c74030b7c85e4b759b789e67f9586e90",
            "value": " 436M/436M [00:03&lt;00:00, 142MB/s]"
          }
        },
        "18f5677cece049fc92e1bf849b6984bf": {
          "model_module": "@jupyter-widgets/base",
          "model_name": "LayoutModel",
          "model_module_version": "1.2.0",
          "state": {
            "_model_module": "@jupyter-widgets/base",
            "_model_module_version": "1.2.0",
            "_model_name": "LayoutModel",
            "_view_count": null,
            "_view_module": "@jupyter-widgets/base",
            "_view_module_version": "1.2.0",
            "_view_name": "LayoutView",
            "align_content": null,
            "align_items": null,
            "align_self": null,
            "border": null,
            "bottom": null,
            "display": null,
            "flex": null,
            "flex_flow": null,
            "grid_area": null,
            "grid_auto_columns": null,
            "grid_auto_flow": null,
            "grid_auto_rows": null,
            "grid_column": null,
            "grid_gap": null,
            "grid_row": null,
            "grid_template_areas": null,
            "grid_template_columns": null,
            "grid_template_rows": null,
            "height": null,
            "justify_content": null,
            "justify_items": null,
            "left": null,
            "margin": null,
            "max_height": null,
            "max_width": null,
            "min_height": null,
            "min_width": null,
            "object_fit": null,
            "object_position": null,
            "order": null,
            "overflow": null,
            "overflow_x": null,
            "overflow_y": null,
            "padding": null,
            "right": null,
            "top": null,
            "visibility": null,
            "width": null
          }
        },
        "8731a2de75fc4c23af7bec720e80cf24": {
          "model_module": "@jupyter-widgets/base",
          "model_name": "LayoutModel",
          "model_module_version": "1.2.0",
          "state": {
            "_model_module": "@jupyter-widgets/base",
            "_model_module_version": "1.2.0",
            "_model_name": "LayoutModel",
            "_view_count": null,
            "_view_module": "@jupyter-widgets/base",
            "_view_module_version": "1.2.0",
            "_view_name": "LayoutView",
            "align_content": null,
            "align_items": null,
            "align_self": null,
            "border": null,
            "bottom": null,
            "display": null,
            "flex": null,
            "flex_flow": null,
            "grid_area": null,
            "grid_auto_columns": null,
            "grid_auto_flow": null,
            "grid_auto_rows": null,
            "grid_column": null,
            "grid_gap": null,
            "grid_row": null,
            "grid_template_areas": null,
            "grid_template_columns": null,
            "grid_template_rows": null,
            "height": null,
            "justify_content": null,
            "justify_items": null,
            "left": null,
            "margin": null,
            "max_height": null,
            "max_width": null,
            "min_height": null,
            "min_width": null,
            "object_fit": null,
            "object_position": null,
            "order": null,
            "overflow": null,
            "overflow_x": null,
            "overflow_y": null,
            "padding": null,
            "right": null,
            "top": null,
            "visibility": null,
            "width": null
          }
        },
        "14b045e4ceb64ad68118173e19ba4519": {
          "model_module": "@jupyter-widgets/controls",
          "model_name": "DescriptionStyleModel",
          "model_module_version": "1.5.0",
          "state": {
            "_model_module": "@jupyter-widgets/controls",
            "_model_module_version": "1.5.0",
            "_model_name": "DescriptionStyleModel",
            "_view_count": null,
            "_view_module": "@jupyter-widgets/base",
            "_view_module_version": "1.2.0",
            "_view_name": "StyleView",
            "description_width": ""
          }
        },
        "93b8fa793b714dcf9e29add3855207c8": {
          "model_module": "@jupyter-widgets/base",
          "model_name": "LayoutModel",
          "model_module_version": "1.2.0",
          "state": {
            "_model_module": "@jupyter-widgets/base",
            "_model_module_version": "1.2.0",
            "_model_name": "LayoutModel",
            "_view_count": null,
            "_view_module": "@jupyter-widgets/base",
            "_view_module_version": "1.2.0",
            "_view_name": "LayoutView",
            "align_content": null,
            "align_items": null,
            "align_self": null,
            "border": null,
            "bottom": null,
            "display": null,
            "flex": null,
            "flex_flow": null,
            "grid_area": null,
            "grid_auto_columns": null,
            "grid_auto_flow": null,
            "grid_auto_rows": null,
            "grid_column": null,
            "grid_gap": null,
            "grid_row": null,
            "grid_template_areas": null,
            "grid_template_columns": null,
            "grid_template_rows": null,
            "height": null,
            "justify_content": null,
            "justify_items": null,
            "left": null,
            "margin": null,
            "max_height": null,
            "max_width": null,
            "min_height": null,
            "min_width": null,
            "object_fit": null,
            "object_position": null,
            "order": null,
            "overflow": null,
            "overflow_x": null,
            "overflow_y": null,
            "padding": null,
            "right": null,
            "top": null,
            "visibility": null,
            "width": null
          }
        },
        "30fc8dac247a4b54957d7736a1e88ae5": {
          "model_module": "@jupyter-widgets/controls",
          "model_name": "ProgressStyleModel",
          "model_module_version": "1.5.0",
          "state": {
            "_model_module": "@jupyter-widgets/controls",
            "_model_module_version": "1.5.0",
            "_model_name": "ProgressStyleModel",
            "_view_count": null,
            "_view_module": "@jupyter-widgets/base",
            "_view_module_version": "1.2.0",
            "_view_name": "StyleView",
            "bar_color": null,
            "description_width": ""
          }
        },
        "d27901c769f04483b13c31ec0df67a1d": {
          "model_module": "@jupyter-widgets/base",
          "model_name": "LayoutModel",
          "model_module_version": "1.2.0",
          "state": {
            "_model_module": "@jupyter-widgets/base",
            "_model_module_version": "1.2.0",
            "_model_name": "LayoutModel",
            "_view_count": null,
            "_view_module": "@jupyter-widgets/base",
            "_view_module_version": "1.2.0",
            "_view_name": "LayoutView",
            "align_content": null,
            "align_items": null,
            "align_self": null,
            "border": null,
            "bottom": null,
            "display": null,
            "flex": null,
            "flex_flow": null,
            "grid_area": null,
            "grid_auto_columns": null,
            "grid_auto_flow": null,
            "grid_auto_rows": null,
            "grid_column": null,
            "grid_gap": null,
            "grid_row": null,
            "grid_template_areas": null,
            "grid_template_columns": null,
            "grid_template_rows": null,
            "height": null,
            "justify_content": null,
            "justify_items": null,
            "left": null,
            "margin": null,
            "max_height": null,
            "max_width": null,
            "min_height": null,
            "min_width": null,
            "object_fit": null,
            "object_position": null,
            "order": null,
            "overflow": null,
            "overflow_x": null,
            "overflow_y": null,
            "padding": null,
            "right": null,
            "top": null,
            "visibility": null,
            "width": null
          }
        },
        "c74030b7c85e4b759b789e67f9586e90": {
          "model_module": "@jupyter-widgets/controls",
          "model_name": "DescriptionStyleModel",
          "model_module_version": "1.5.0",
          "state": {
            "_model_module": "@jupyter-widgets/controls",
            "_model_module_version": "1.5.0",
            "_model_name": "DescriptionStyleModel",
            "_view_count": null,
            "_view_module": "@jupyter-widgets/base",
            "_view_module_version": "1.2.0",
            "_view_name": "StyleView",
            "description_width": ""
          }
        },
        "57aa44adbbd342bfb56f953dd0b628a2": {
          "model_module": "@jupyter-widgets/controls",
          "model_name": "HBoxModel",
          "model_module_version": "1.5.0",
          "state": {
            "_dom_classes": [],
            "_model_module": "@jupyter-widgets/controls",
            "_model_module_version": "1.5.0",
            "_model_name": "HBoxModel",
            "_view_count": null,
            "_view_module": "@jupyter-widgets/controls",
            "_view_module_version": "1.5.0",
            "_view_name": "HBoxView",
            "box_style": "",
            "children": [
              "IPY_MODEL_2d928c5de9374fcabd9a9a56cebc0a12",
              "IPY_MODEL_0f46f0a0df314c408cb371f78f0ebf3c",
              "IPY_MODEL_21846804e1d54b18aa2970235ef93b7c"
            ],
            "layout": "IPY_MODEL_cb2df4dbb2b142baae89466c8c6fe12f"
          }
        },
        "2d928c5de9374fcabd9a9a56cebc0a12": {
          "model_module": "@jupyter-widgets/controls",
          "model_name": "HTMLModel",
          "model_module_version": "1.5.0",
          "state": {
            "_dom_classes": [],
            "_model_module": "@jupyter-widgets/controls",
            "_model_module_version": "1.5.0",
            "_model_name": "HTMLModel",
            "_view_count": null,
            "_view_module": "@jupyter-widgets/controls",
            "_view_module_version": "1.5.0",
            "_view_name": "HTMLView",
            "description": "",
            "description_tooltip": null,
            "layout": "IPY_MODEL_7c2b70f7643f4e90893cf39a5abcffbe",
            "placeholder": "​",
            "style": "IPY_MODEL_8fb83349719a453fa950b21b986ce52e",
            "value": "tokenizer_config.json: 100%"
          }
        },
        "0f46f0a0df314c408cb371f78f0ebf3c": {
          "model_module": "@jupyter-widgets/controls",
          "model_name": "FloatProgressModel",
          "model_module_version": "1.5.0",
          "state": {
            "_dom_classes": [],
            "_model_module": "@jupyter-widgets/controls",
            "_model_module_version": "1.5.0",
            "_model_name": "FloatProgressModel",
            "_view_count": null,
            "_view_module": "@jupyter-widgets/controls",
            "_view_module_version": "1.5.0",
            "_view_name": "ProgressView",
            "bar_style": "success",
            "description": "",
            "description_tooltip": null,
            "layout": "IPY_MODEL_6d4b5b448bdc40aa80d1ba2db736813a",
            "max": 62,
            "min": 0,
            "orientation": "horizontal",
            "style": "IPY_MODEL_0fe9bdb5fc454a77a16b5cb51cfab277",
            "value": 62
          }
        },
        "21846804e1d54b18aa2970235ef93b7c": {
          "model_module": "@jupyter-widgets/controls",
          "model_name": "HTMLModel",
          "model_module_version": "1.5.0",
          "state": {
            "_dom_classes": [],
            "_model_module": "@jupyter-widgets/controls",
            "_model_module_version": "1.5.0",
            "_model_name": "HTMLModel",
            "_view_count": null,
            "_view_module": "@jupyter-widgets/controls",
            "_view_module_version": "1.5.0",
            "_view_name": "HTMLView",
            "description": "",
            "description_tooltip": null,
            "layout": "IPY_MODEL_0899dac1f06e4396a4b012d8abbbd039",
            "placeholder": "​",
            "style": "IPY_MODEL_668b41165f294ab981802e70b552cb68",
            "value": " 62.0/62.0 [00:00&lt;00:00, 2.55kB/s]"
          }
        },
        "cb2df4dbb2b142baae89466c8c6fe12f": {
          "model_module": "@jupyter-widgets/base",
          "model_name": "LayoutModel",
          "model_module_version": "1.2.0",
          "state": {
            "_model_module": "@jupyter-widgets/base",
            "_model_module_version": "1.2.0",
            "_model_name": "LayoutModel",
            "_view_count": null,
            "_view_module": "@jupyter-widgets/base",
            "_view_module_version": "1.2.0",
            "_view_name": "LayoutView",
            "align_content": null,
            "align_items": null,
            "align_self": null,
            "border": null,
            "bottom": null,
            "display": null,
            "flex": null,
            "flex_flow": null,
            "grid_area": null,
            "grid_auto_columns": null,
            "grid_auto_flow": null,
            "grid_auto_rows": null,
            "grid_column": null,
            "grid_gap": null,
            "grid_row": null,
            "grid_template_areas": null,
            "grid_template_columns": null,
            "grid_template_rows": null,
            "height": null,
            "justify_content": null,
            "justify_items": null,
            "left": null,
            "margin": null,
            "max_height": null,
            "max_width": null,
            "min_height": null,
            "min_width": null,
            "object_fit": null,
            "object_position": null,
            "order": null,
            "overflow": null,
            "overflow_x": null,
            "overflow_y": null,
            "padding": null,
            "right": null,
            "top": null,
            "visibility": null,
            "width": null
          }
        },
        "7c2b70f7643f4e90893cf39a5abcffbe": {
          "model_module": "@jupyter-widgets/base",
          "model_name": "LayoutModel",
          "model_module_version": "1.2.0",
          "state": {
            "_model_module": "@jupyter-widgets/base",
            "_model_module_version": "1.2.0",
            "_model_name": "LayoutModel",
            "_view_count": null,
            "_view_module": "@jupyter-widgets/base",
            "_view_module_version": "1.2.0",
            "_view_name": "LayoutView",
            "align_content": null,
            "align_items": null,
            "align_self": null,
            "border": null,
            "bottom": null,
            "display": null,
            "flex": null,
            "flex_flow": null,
            "grid_area": null,
            "grid_auto_columns": null,
            "grid_auto_flow": null,
            "grid_auto_rows": null,
            "grid_column": null,
            "grid_gap": null,
            "grid_row": null,
            "grid_template_areas": null,
            "grid_template_columns": null,
            "grid_template_rows": null,
            "height": null,
            "justify_content": null,
            "justify_items": null,
            "left": null,
            "margin": null,
            "max_height": null,
            "max_width": null,
            "min_height": null,
            "min_width": null,
            "object_fit": null,
            "object_position": null,
            "order": null,
            "overflow": null,
            "overflow_x": null,
            "overflow_y": null,
            "padding": null,
            "right": null,
            "top": null,
            "visibility": null,
            "width": null
          }
        },
        "8fb83349719a453fa950b21b986ce52e": {
          "model_module": "@jupyter-widgets/controls",
          "model_name": "DescriptionStyleModel",
          "model_module_version": "1.5.0",
          "state": {
            "_model_module": "@jupyter-widgets/controls",
            "_model_module_version": "1.5.0",
            "_model_name": "DescriptionStyleModel",
            "_view_count": null,
            "_view_module": "@jupyter-widgets/base",
            "_view_module_version": "1.2.0",
            "_view_name": "StyleView",
            "description_width": ""
          }
        },
        "6d4b5b448bdc40aa80d1ba2db736813a": {
          "model_module": "@jupyter-widgets/base",
          "model_name": "LayoutModel",
          "model_module_version": "1.2.0",
          "state": {
            "_model_module": "@jupyter-widgets/base",
            "_model_module_version": "1.2.0",
            "_model_name": "LayoutModel",
            "_view_count": null,
            "_view_module": "@jupyter-widgets/base",
            "_view_module_version": "1.2.0",
            "_view_name": "LayoutView",
            "align_content": null,
            "align_items": null,
            "align_self": null,
            "border": null,
            "bottom": null,
            "display": null,
            "flex": null,
            "flex_flow": null,
            "grid_area": null,
            "grid_auto_columns": null,
            "grid_auto_flow": null,
            "grid_auto_rows": null,
            "grid_column": null,
            "grid_gap": null,
            "grid_row": null,
            "grid_template_areas": null,
            "grid_template_columns": null,
            "grid_template_rows": null,
            "height": null,
            "justify_content": null,
            "justify_items": null,
            "left": null,
            "margin": null,
            "max_height": null,
            "max_width": null,
            "min_height": null,
            "min_width": null,
            "object_fit": null,
            "object_position": null,
            "order": null,
            "overflow": null,
            "overflow_x": null,
            "overflow_y": null,
            "padding": null,
            "right": null,
            "top": null,
            "visibility": null,
            "width": null
          }
        },
        "0fe9bdb5fc454a77a16b5cb51cfab277": {
          "model_module": "@jupyter-widgets/controls",
          "model_name": "ProgressStyleModel",
          "model_module_version": "1.5.0",
          "state": {
            "_model_module": "@jupyter-widgets/controls",
            "_model_module_version": "1.5.0",
            "_model_name": "ProgressStyleModel",
            "_view_count": null,
            "_view_module": "@jupyter-widgets/base",
            "_view_module_version": "1.2.0",
            "_view_name": "StyleView",
            "bar_color": null,
            "description_width": ""
          }
        },
        "0899dac1f06e4396a4b012d8abbbd039": {
          "model_module": "@jupyter-widgets/base",
          "model_name": "LayoutModel",
          "model_module_version": "1.2.0",
          "state": {
            "_model_module": "@jupyter-widgets/base",
            "_model_module_version": "1.2.0",
            "_model_name": "LayoutModel",
            "_view_count": null,
            "_view_module": "@jupyter-widgets/base",
            "_view_module_version": "1.2.0",
            "_view_name": "LayoutView",
            "align_content": null,
            "align_items": null,
            "align_self": null,
            "border": null,
            "bottom": null,
            "display": null,
            "flex": null,
            "flex_flow": null,
            "grid_area": null,
            "grid_auto_columns": null,
            "grid_auto_flow": null,
            "grid_auto_rows": null,
            "grid_column": null,
            "grid_gap": null,
            "grid_row": null,
            "grid_template_areas": null,
            "grid_template_columns": null,
            "grid_template_rows": null,
            "height": null,
            "justify_content": null,
            "justify_items": null,
            "left": null,
            "margin": null,
            "max_height": null,
            "max_width": null,
            "min_height": null,
            "min_width": null,
            "object_fit": null,
            "object_position": null,
            "order": null,
            "overflow": null,
            "overflow_x": null,
            "overflow_y": null,
            "padding": null,
            "right": null,
            "top": null,
            "visibility": null,
            "width": null
          }
        },
        "668b41165f294ab981802e70b552cb68": {
          "model_module": "@jupyter-widgets/controls",
          "model_name": "DescriptionStyleModel",
          "model_module_version": "1.5.0",
          "state": {
            "_model_module": "@jupyter-widgets/controls",
            "_model_module_version": "1.5.0",
            "_model_name": "DescriptionStyleModel",
            "_view_count": null,
            "_view_module": "@jupyter-widgets/base",
            "_view_module_version": "1.2.0",
            "_view_name": "StyleView",
            "description_width": ""
          }
        },
        "72c1f9c2c6f2450092d7771a2ff448e3": {
          "model_module": "@jupyter-widgets/controls",
          "model_name": "HBoxModel",
          "model_module_version": "1.5.0",
          "state": {
            "_dom_classes": [],
            "_model_module": "@jupyter-widgets/controls",
            "_model_module_version": "1.5.0",
            "_model_name": "HBoxModel",
            "_view_count": null,
            "_view_module": "@jupyter-widgets/controls",
            "_view_module_version": "1.5.0",
            "_view_name": "HBoxView",
            "box_style": "",
            "children": [
              "IPY_MODEL_d3912abc658b4db590a048e0984428fa",
              "IPY_MODEL_2eef3caef00c4bcc8dbda190cf55eaf8",
              "IPY_MODEL_3e255b186761460c9785dad43bca8877"
            ],
            "layout": "IPY_MODEL_afec7b0e6c554591a4f60acd42f1f66f"
          }
        },
        "d3912abc658b4db590a048e0984428fa": {
          "model_module": "@jupyter-widgets/controls",
          "model_name": "HTMLModel",
          "model_module_version": "1.5.0",
          "state": {
            "_dom_classes": [],
            "_model_module": "@jupyter-widgets/controls",
            "_model_module_version": "1.5.0",
            "_model_name": "HTMLModel",
            "_view_count": null,
            "_view_module": "@jupyter-widgets/controls",
            "_view_module_version": "1.5.0",
            "_view_name": "HTMLView",
            "description": "",
            "description_tooltip": null,
            "layout": "IPY_MODEL_e966062fab284e1cb43d995550de0583",
            "placeholder": "​",
            "style": "IPY_MODEL_a604246838c143a5a59ff8d3025e94b6",
            "value": "config.json: 100%"
          }
        },
        "2eef3caef00c4bcc8dbda190cf55eaf8": {
          "model_module": "@jupyter-widgets/controls",
          "model_name": "FloatProgressModel",
          "model_module_version": "1.5.0",
          "state": {
            "_dom_classes": [],
            "_model_module": "@jupyter-widgets/controls",
            "_model_module_version": "1.5.0",
            "_model_name": "FloatProgressModel",
            "_view_count": null,
            "_view_module": "@jupyter-widgets/controls",
            "_view_module_version": "1.5.0",
            "_view_name": "ProgressView",
            "bar_style": "success",
            "description": "",
            "description_tooltip": null,
            "layout": "IPY_MODEL_befd8640fe014a0f89fb5a09384eff41",
            "max": 466,
            "min": 0,
            "orientation": "horizontal",
            "style": "IPY_MODEL_1d34e992c0ab472493e2692757bc883e",
            "value": 466
          }
        },
        "3e255b186761460c9785dad43bca8877": {
          "model_module": "@jupyter-widgets/controls",
          "model_name": "HTMLModel",
          "model_module_version": "1.5.0",
          "state": {
            "_dom_classes": [],
            "_model_module": "@jupyter-widgets/controls",
            "_model_module_version": "1.5.0",
            "_model_name": "HTMLModel",
            "_view_count": null,
            "_view_module": "@jupyter-widgets/controls",
            "_view_module_version": "1.5.0",
            "_view_name": "HTMLView",
            "description": "",
            "description_tooltip": null,
            "layout": "IPY_MODEL_4169b331721c41a580571730f686b39c",
            "placeholder": "​",
            "style": "IPY_MODEL_dca03e81452c4dfe89c155c2e6e5e5bd",
            "value": " 466/466 [00:00&lt;00:00, 15.8kB/s]"
          }
        },
        "afec7b0e6c554591a4f60acd42f1f66f": {
          "model_module": "@jupyter-widgets/base",
          "model_name": "LayoutModel",
          "model_module_version": "1.2.0",
          "state": {
            "_model_module": "@jupyter-widgets/base",
            "_model_module_version": "1.2.0",
            "_model_name": "LayoutModel",
            "_view_count": null,
            "_view_module": "@jupyter-widgets/base",
            "_view_module_version": "1.2.0",
            "_view_name": "LayoutView",
            "align_content": null,
            "align_items": null,
            "align_self": null,
            "border": null,
            "bottom": null,
            "display": null,
            "flex": null,
            "flex_flow": null,
            "grid_area": null,
            "grid_auto_columns": null,
            "grid_auto_flow": null,
            "grid_auto_rows": null,
            "grid_column": null,
            "grid_gap": null,
            "grid_row": null,
            "grid_template_areas": null,
            "grid_template_columns": null,
            "grid_template_rows": null,
            "height": null,
            "justify_content": null,
            "justify_items": null,
            "left": null,
            "margin": null,
            "max_height": null,
            "max_width": null,
            "min_height": null,
            "min_width": null,
            "object_fit": null,
            "object_position": null,
            "order": null,
            "overflow": null,
            "overflow_x": null,
            "overflow_y": null,
            "padding": null,
            "right": null,
            "top": null,
            "visibility": null,
            "width": null
          }
        },
        "e966062fab284e1cb43d995550de0583": {
          "model_module": "@jupyter-widgets/base",
          "model_name": "LayoutModel",
          "model_module_version": "1.2.0",
          "state": {
            "_model_module": "@jupyter-widgets/base",
            "_model_module_version": "1.2.0",
            "_model_name": "LayoutModel",
            "_view_count": null,
            "_view_module": "@jupyter-widgets/base",
            "_view_module_version": "1.2.0",
            "_view_name": "LayoutView",
            "align_content": null,
            "align_items": null,
            "align_self": null,
            "border": null,
            "bottom": null,
            "display": null,
            "flex": null,
            "flex_flow": null,
            "grid_area": null,
            "grid_auto_columns": null,
            "grid_auto_flow": null,
            "grid_auto_rows": null,
            "grid_column": null,
            "grid_gap": null,
            "grid_row": null,
            "grid_template_areas": null,
            "grid_template_columns": null,
            "grid_template_rows": null,
            "height": null,
            "justify_content": null,
            "justify_items": null,
            "left": null,
            "margin": null,
            "max_height": null,
            "max_width": null,
            "min_height": null,
            "min_width": null,
            "object_fit": null,
            "object_position": null,
            "order": null,
            "overflow": null,
            "overflow_x": null,
            "overflow_y": null,
            "padding": null,
            "right": null,
            "top": null,
            "visibility": null,
            "width": null
          }
        },
        "a604246838c143a5a59ff8d3025e94b6": {
          "model_module": "@jupyter-widgets/controls",
          "model_name": "DescriptionStyleModel",
          "model_module_version": "1.5.0",
          "state": {
            "_model_module": "@jupyter-widgets/controls",
            "_model_module_version": "1.5.0",
            "_model_name": "DescriptionStyleModel",
            "_view_count": null,
            "_view_module": "@jupyter-widgets/base",
            "_view_module_version": "1.2.0",
            "_view_name": "StyleView",
            "description_width": ""
          }
        },
        "befd8640fe014a0f89fb5a09384eff41": {
          "model_module": "@jupyter-widgets/base",
          "model_name": "LayoutModel",
          "model_module_version": "1.2.0",
          "state": {
            "_model_module": "@jupyter-widgets/base",
            "_model_module_version": "1.2.0",
            "_model_name": "LayoutModel",
            "_view_count": null,
            "_view_module": "@jupyter-widgets/base",
            "_view_module_version": "1.2.0",
            "_view_name": "LayoutView",
            "align_content": null,
            "align_items": null,
            "align_self": null,
            "border": null,
            "bottom": null,
            "display": null,
            "flex": null,
            "flex_flow": null,
            "grid_area": null,
            "grid_auto_columns": null,
            "grid_auto_flow": null,
            "grid_auto_rows": null,
            "grid_column": null,
            "grid_gap": null,
            "grid_row": null,
            "grid_template_areas": null,
            "grid_template_columns": null,
            "grid_template_rows": null,
            "height": null,
            "justify_content": null,
            "justify_items": null,
            "left": null,
            "margin": null,
            "max_height": null,
            "max_width": null,
            "min_height": null,
            "min_width": null,
            "object_fit": null,
            "object_position": null,
            "order": null,
            "overflow": null,
            "overflow_x": null,
            "overflow_y": null,
            "padding": null,
            "right": null,
            "top": null,
            "visibility": null,
            "width": null
          }
        },
        "1d34e992c0ab472493e2692757bc883e": {
          "model_module": "@jupyter-widgets/controls",
          "model_name": "ProgressStyleModel",
          "model_module_version": "1.5.0",
          "state": {
            "_model_module": "@jupyter-widgets/controls",
            "_model_module_version": "1.5.0",
            "_model_name": "ProgressStyleModel",
            "_view_count": null,
            "_view_module": "@jupyter-widgets/base",
            "_view_module_version": "1.2.0",
            "_view_name": "StyleView",
            "bar_color": null,
            "description_width": ""
          }
        },
        "4169b331721c41a580571730f686b39c": {
          "model_module": "@jupyter-widgets/base",
          "model_name": "LayoutModel",
          "model_module_version": "1.2.0",
          "state": {
            "_model_module": "@jupyter-widgets/base",
            "_model_module_version": "1.2.0",
            "_model_name": "LayoutModel",
            "_view_count": null,
            "_view_module": "@jupyter-widgets/base",
            "_view_module_version": "1.2.0",
            "_view_name": "LayoutView",
            "align_content": null,
            "align_items": null,
            "align_self": null,
            "border": null,
            "bottom": null,
            "display": null,
            "flex": null,
            "flex_flow": null,
            "grid_area": null,
            "grid_auto_columns": null,
            "grid_auto_flow": null,
            "grid_auto_rows": null,
            "grid_column": null,
            "grid_gap": null,
            "grid_row": null,
            "grid_template_areas": null,
            "grid_template_columns": null,
            "grid_template_rows": null,
            "height": null,
            "justify_content": null,
            "justify_items": null,
            "left": null,
            "margin": null,
            "max_height": null,
            "max_width": null,
            "min_height": null,
            "min_width": null,
            "object_fit": null,
            "object_position": null,
            "order": null,
            "overflow": null,
            "overflow_x": null,
            "overflow_y": null,
            "padding": null,
            "right": null,
            "top": null,
            "visibility": null,
            "width": null
          }
        },
        "dca03e81452c4dfe89c155c2e6e5e5bd": {
          "model_module": "@jupyter-widgets/controls",
          "model_name": "DescriptionStyleModel",
          "model_module_version": "1.5.0",
          "state": {
            "_model_module": "@jupyter-widgets/controls",
            "_model_module_version": "1.5.0",
            "_model_name": "DescriptionStyleModel",
            "_view_count": null,
            "_view_module": "@jupyter-widgets/base",
            "_view_module_version": "1.2.0",
            "_view_name": "StyleView",
            "description_width": ""
          }
        },
        "96a54de901954a8da8d1a6182826ebb3": {
          "model_module": "@jupyter-widgets/controls",
          "model_name": "HBoxModel",
          "model_module_version": "1.5.0",
          "state": {
            "_dom_classes": [],
            "_model_module": "@jupyter-widgets/controls",
            "_model_module_version": "1.5.0",
            "_model_name": "HBoxModel",
            "_view_count": null,
            "_view_module": "@jupyter-widgets/controls",
            "_view_module_version": "1.5.0",
            "_view_name": "HBoxView",
            "box_style": "",
            "children": [
              "IPY_MODEL_6b4bc7a7aee341da982c2d022f298ec0",
              "IPY_MODEL_cd4183de7d264ddfb73ccffa7bffc252",
              "IPY_MODEL_cf0593203fca4291a9e21944d57fb527"
            ],
            "layout": "IPY_MODEL_141a912cdc094b9b854f87348ff9d1ec"
          }
        },
        "6b4bc7a7aee341da982c2d022f298ec0": {
          "model_module": "@jupyter-widgets/controls",
          "model_name": "HTMLModel",
          "model_module_version": "1.5.0",
          "state": {
            "_dom_classes": [],
            "_model_module": "@jupyter-widgets/controls",
            "_model_module_version": "1.5.0",
            "_model_name": "HTMLModel",
            "_view_count": null,
            "_view_module": "@jupyter-widgets/controls",
            "_view_module_version": "1.5.0",
            "_view_name": "HTMLView",
            "description": "",
            "description_tooltip": null,
            "layout": "IPY_MODEL_f0b0311af94e4f2fa0fb03e00b7da373",
            "placeholder": "​",
            "style": "IPY_MODEL_9e95bef8b5ab412eb704d57f89c29fd0",
            "value": "vocab.txt: 100%"
          }
        },
        "cd4183de7d264ddfb73ccffa7bffc252": {
          "model_module": "@jupyter-widgets/controls",
          "model_name": "FloatProgressModel",
          "model_module_version": "1.5.0",
          "state": {
            "_dom_classes": [],
            "_model_module": "@jupyter-widgets/controls",
            "_model_module_version": "1.5.0",
            "_model_name": "FloatProgressModel",
            "_view_count": null,
            "_view_module": "@jupyter-widgets/controls",
            "_view_module_version": "1.5.0",
            "_view_name": "ProgressView",
            "bar_style": "success",
            "description": "",
            "description_tooltip": null,
            "layout": "IPY_MODEL_5beea750971541c4aa1c1e584738efe2",
            "max": 995526,
            "min": 0,
            "orientation": "horizontal",
            "style": "IPY_MODEL_7975091d7aa34b78928711e4314cfdfc",
            "value": 995526
          }
        },
        "cf0593203fca4291a9e21944d57fb527": {
          "model_module": "@jupyter-widgets/controls",
          "model_name": "HTMLModel",
          "model_module_version": "1.5.0",
          "state": {
            "_dom_classes": [],
            "_model_module": "@jupyter-widgets/controls",
            "_model_module_version": "1.5.0",
            "_model_name": "HTMLModel",
            "_view_count": null,
            "_view_module": "@jupyter-widgets/controls",
            "_view_module_version": "1.5.0",
            "_view_name": "HTMLView",
            "description": "",
            "description_tooltip": null,
            "layout": "IPY_MODEL_000acf7375964a82bccda5d1165b2b87",
            "placeholder": "​",
            "style": "IPY_MODEL_35c340f31c46493f95ccdc6191ac92bb",
            "value": " 996k/996k [00:00&lt;00:00, 7.70MB/s]"
          }
        },
        "141a912cdc094b9b854f87348ff9d1ec": {
          "model_module": "@jupyter-widgets/base",
          "model_name": "LayoutModel",
          "model_module_version": "1.2.0",
          "state": {
            "_model_module": "@jupyter-widgets/base",
            "_model_module_version": "1.2.0",
            "_model_name": "LayoutModel",
            "_view_count": null,
            "_view_module": "@jupyter-widgets/base",
            "_view_module_version": "1.2.0",
            "_view_name": "LayoutView",
            "align_content": null,
            "align_items": null,
            "align_self": null,
            "border": null,
            "bottom": null,
            "display": null,
            "flex": null,
            "flex_flow": null,
            "grid_area": null,
            "grid_auto_columns": null,
            "grid_auto_flow": null,
            "grid_auto_rows": null,
            "grid_column": null,
            "grid_gap": null,
            "grid_row": null,
            "grid_template_areas": null,
            "grid_template_columns": null,
            "grid_template_rows": null,
            "height": null,
            "justify_content": null,
            "justify_items": null,
            "left": null,
            "margin": null,
            "max_height": null,
            "max_width": null,
            "min_height": null,
            "min_width": null,
            "object_fit": null,
            "object_position": null,
            "order": null,
            "overflow": null,
            "overflow_x": null,
            "overflow_y": null,
            "padding": null,
            "right": null,
            "top": null,
            "visibility": null,
            "width": null
          }
        },
        "f0b0311af94e4f2fa0fb03e00b7da373": {
          "model_module": "@jupyter-widgets/base",
          "model_name": "LayoutModel",
          "model_module_version": "1.2.0",
          "state": {
            "_model_module": "@jupyter-widgets/base",
            "_model_module_version": "1.2.0",
            "_model_name": "LayoutModel",
            "_view_count": null,
            "_view_module": "@jupyter-widgets/base",
            "_view_module_version": "1.2.0",
            "_view_name": "LayoutView",
            "align_content": null,
            "align_items": null,
            "align_self": null,
            "border": null,
            "bottom": null,
            "display": null,
            "flex": null,
            "flex_flow": null,
            "grid_area": null,
            "grid_auto_columns": null,
            "grid_auto_flow": null,
            "grid_auto_rows": null,
            "grid_column": null,
            "grid_gap": null,
            "grid_row": null,
            "grid_template_areas": null,
            "grid_template_columns": null,
            "grid_template_rows": null,
            "height": null,
            "justify_content": null,
            "justify_items": null,
            "left": null,
            "margin": null,
            "max_height": null,
            "max_width": null,
            "min_height": null,
            "min_width": null,
            "object_fit": null,
            "object_position": null,
            "order": null,
            "overflow": null,
            "overflow_x": null,
            "overflow_y": null,
            "padding": null,
            "right": null,
            "top": null,
            "visibility": null,
            "width": null
          }
        },
        "9e95bef8b5ab412eb704d57f89c29fd0": {
          "model_module": "@jupyter-widgets/controls",
          "model_name": "DescriptionStyleModel",
          "model_module_version": "1.5.0",
          "state": {
            "_model_module": "@jupyter-widgets/controls",
            "_model_module_version": "1.5.0",
            "_model_name": "DescriptionStyleModel",
            "_view_count": null,
            "_view_module": "@jupyter-widgets/base",
            "_view_module_version": "1.2.0",
            "_view_name": "StyleView",
            "description_width": ""
          }
        },
        "5beea750971541c4aa1c1e584738efe2": {
          "model_module": "@jupyter-widgets/base",
          "model_name": "LayoutModel",
          "model_module_version": "1.2.0",
          "state": {
            "_model_module": "@jupyter-widgets/base",
            "_model_module_version": "1.2.0",
            "_model_name": "LayoutModel",
            "_view_count": null,
            "_view_module": "@jupyter-widgets/base",
            "_view_module_version": "1.2.0",
            "_view_name": "LayoutView",
            "align_content": null,
            "align_items": null,
            "align_self": null,
            "border": null,
            "bottom": null,
            "display": null,
            "flex": null,
            "flex_flow": null,
            "grid_area": null,
            "grid_auto_columns": null,
            "grid_auto_flow": null,
            "grid_auto_rows": null,
            "grid_column": null,
            "grid_gap": null,
            "grid_row": null,
            "grid_template_areas": null,
            "grid_template_columns": null,
            "grid_template_rows": null,
            "height": null,
            "justify_content": null,
            "justify_items": null,
            "left": null,
            "margin": null,
            "max_height": null,
            "max_width": null,
            "min_height": null,
            "min_width": null,
            "object_fit": null,
            "object_position": null,
            "order": null,
            "overflow": null,
            "overflow_x": null,
            "overflow_y": null,
            "padding": null,
            "right": null,
            "top": null,
            "visibility": null,
            "width": null
          }
        },
        "7975091d7aa34b78928711e4314cfdfc": {
          "model_module": "@jupyter-widgets/controls",
          "model_name": "ProgressStyleModel",
          "model_module_version": "1.5.0",
          "state": {
            "_model_module": "@jupyter-widgets/controls",
            "_model_module_version": "1.5.0",
            "_model_name": "ProgressStyleModel",
            "_view_count": null,
            "_view_module": "@jupyter-widgets/base",
            "_view_module_version": "1.2.0",
            "_view_name": "StyleView",
            "bar_color": null,
            "description_width": ""
          }
        },
        "000acf7375964a82bccda5d1165b2b87": {
          "model_module": "@jupyter-widgets/base",
          "model_name": "LayoutModel",
          "model_module_version": "1.2.0",
          "state": {
            "_model_module": "@jupyter-widgets/base",
            "_model_module_version": "1.2.0",
            "_model_name": "LayoutModel",
            "_view_count": null,
            "_view_module": "@jupyter-widgets/base",
            "_view_module_version": "1.2.0",
            "_view_name": "LayoutView",
            "align_content": null,
            "align_items": null,
            "align_self": null,
            "border": null,
            "bottom": null,
            "display": null,
            "flex": null,
            "flex_flow": null,
            "grid_area": null,
            "grid_auto_columns": null,
            "grid_auto_flow": null,
            "grid_auto_rows": null,
            "grid_column": null,
            "grid_gap": null,
            "grid_row": null,
            "grid_template_areas": null,
            "grid_template_columns": null,
            "grid_template_rows": null,
            "height": null,
            "justify_content": null,
            "justify_items": null,
            "left": null,
            "margin": null,
            "max_height": null,
            "max_width": null,
            "min_height": null,
            "min_width": null,
            "object_fit": null,
            "object_position": null,
            "order": null,
            "overflow": null,
            "overflow_x": null,
            "overflow_y": null,
            "padding": null,
            "right": null,
            "top": null,
            "visibility": null,
            "width": null
          }
        },
        "35c340f31c46493f95ccdc6191ac92bb": {
          "model_module": "@jupyter-widgets/controls",
          "model_name": "DescriptionStyleModel",
          "model_module_version": "1.5.0",
          "state": {
            "_model_module": "@jupyter-widgets/controls",
            "_model_module_version": "1.5.0",
            "_model_name": "DescriptionStyleModel",
            "_view_count": null,
            "_view_module": "@jupyter-widgets/base",
            "_view_module_version": "1.2.0",
            "_view_name": "StyleView",
            "description_width": ""
          }
        },
        "c7465c40468848bc9f75c3bf6f3cbaf8": {
          "model_module": "@jupyter-widgets/controls",
          "model_name": "HBoxModel",
          "model_module_version": "1.5.0",
          "state": {
            "_dom_classes": [],
            "_model_module": "@jupyter-widgets/controls",
            "_model_module_version": "1.5.0",
            "_model_name": "HBoxModel",
            "_view_count": null,
            "_view_module": "@jupyter-widgets/controls",
            "_view_module_version": "1.5.0",
            "_view_name": "HBoxView",
            "box_style": "",
            "children": [
              "IPY_MODEL_e55d77e86e7544d39abb68897a6ed7a6",
              "IPY_MODEL_16fd36078f344156a81d48e2e80f4be9",
              "IPY_MODEL_529d701b40c3418194e9301bd8d71045"
            ],
            "layout": "IPY_MODEL_7f86ba3b9baa428c83407f1f459950e4"
          }
        },
        "e55d77e86e7544d39abb68897a6ed7a6": {
          "model_module": "@jupyter-widgets/controls",
          "model_name": "HTMLModel",
          "model_module_version": "1.5.0",
          "state": {
            "_dom_classes": [],
            "_model_module": "@jupyter-widgets/controls",
            "_model_module_version": "1.5.0",
            "_model_name": "HTMLModel",
            "_view_count": null,
            "_view_module": "@jupyter-widgets/controls",
            "_view_module_version": "1.5.0",
            "_view_name": "HTMLView",
            "description": "",
            "description_tooltip": null,
            "layout": "IPY_MODEL_5810faa6a37542038d3bbffb71cb8509",
            "placeholder": "​",
            "style": "IPY_MODEL_1b35f38a20b140de8a206d04bce99793",
            "value": "special_tokens_map.json: 100%"
          }
        },
        "16fd36078f344156a81d48e2e80f4be9": {
          "model_module": "@jupyter-widgets/controls",
          "model_name": "FloatProgressModel",
          "model_module_version": "1.5.0",
          "state": {
            "_dom_classes": [],
            "_model_module": "@jupyter-widgets/controls",
            "_model_module_version": "1.5.0",
            "_model_name": "FloatProgressModel",
            "_view_count": null,
            "_view_module": "@jupyter-widgets/controls",
            "_view_module_version": "1.5.0",
            "_view_name": "ProgressView",
            "bar_style": "success",
            "description": "",
            "description_tooltip": null,
            "layout": "IPY_MODEL_3ce5666f69674292931f57d8aa77bee0",
            "max": 112,
            "min": 0,
            "orientation": "horizontal",
            "style": "IPY_MODEL_49b947afa60045f78be36c66df73f78f",
            "value": 112
          }
        },
        "529d701b40c3418194e9301bd8d71045": {
          "model_module": "@jupyter-widgets/controls",
          "model_name": "HTMLModel",
          "model_module_version": "1.5.0",
          "state": {
            "_dom_classes": [],
            "_model_module": "@jupyter-widgets/controls",
            "_model_module_version": "1.5.0",
            "_model_name": "HTMLModel",
            "_view_count": null,
            "_view_module": "@jupyter-widgets/controls",
            "_view_module_version": "1.5.0",
            "_view_name": "HTMLView",
            "description": "",
            "description_tooltip": null,
            "layout": "IPY_MODEL_e514ca17d810445c86e5a1b2b948a503",
            "placeholder": "​",
            "style": "IPY_MODEL_efd6587beecc4370be64b3638c8bb7f3",
            "value": " 112/112 [00:00&lt;00:00, 6.40kB/s]"
          }
        },
        "7f86ba3b9baa428c83407f1f459950e4": {
          "model_module": "@jupyter-widgets/base",
          "model_name": "LayoutModel",
          "model_module_version": "1.2.0",
          "state": {
            "_model_module": "@jupyter-widgets/base",
            "_model_module_version": "1.2.0",
            "_model_name": "LayoutModel",
            "_view_count": null,
            "_view_module": "@jupyter-widgets/base",
            "_view_module_version": "1.2.0",
            "_view_name": "LayoutView",
            "align_content": null,
            "align_items": null,
            "align_self": null,
            "border": null,
            "bottom": null,
            "display": null,
            "flex": null,
            "flex_flow": null,
            "grid_area": null,
            "grid_auto_columns": null,
            "grid_auto_flow": null,
            "grid_auto_rows": null,
            "grid_column": null,
            "grid_gap": null,
            "grid_row": null,
            "grid_template_areas": null,
            "grid_template_columns": null,
            "grid_template_rows": null,
            "height": null,
            "justify_content": null,
            "justify_items": null,
            "left": null,
            "margin": null,
            "max_height": null,
            "max_width": null,
            "min_height": null,
            "min_width": null,
            "object_fit": null,
            "object_position": null,
            "order": null,
            "overflow": null,
            "overflow_x": null,
            "overflow_y": null,
            "padding": null,
            "right": null,
            "top": null,
            "visibility": null,
            "width": null
          }
        },
        "5810faa6a37542038d3bbffb71cb8509": {
          "model_module": "@jupyter-widgets/base",
          "model_name": "LayoutModel",
          "model_module_version": "1.2.0",
          "state": {
            "_model_module": "@jupyter-widgets/base",
            "_model_module_version": "1.2.0",
            "_model_name": "LayoutModel",
            "_view_count": null,
            "_view_module": "@jupyter-widgets/base",
            "_view_module_version": "1.2.0",
            "_view_name": "LayoutView",
            "align_content": null,
            "align_items": null,
            "align_self": null,
            "border": null,
            "bottom": null,
            "display": null,
            "flex": null,
            "flex_flow": null,
            "grid_area": null,
            "grid_auto_columns": null,
            "grid_auto_flow": null,
            "grid_auto_rows": null,
            "grid_column": null,
            "grid_gap": null,
            "grid_row": null,
            "grid_template_areas": null,
            "grid_template_columns": null,
            "grid_template_rows": null,
            "height": null,
            "justify_content": null,
            "justify_items": null,
            "left": null,
            "margin": null,
            "max_height": null,
            "max_width": null,
            "min_height": null,
            "min_width": null,
            "object_fit": null,
            "object_position": null,
            "order": null,
            "overflow": null,
            "overflow_x": null,
            "overflow_y": null,
            "padding": null,
            "right": null,
            "top": null,
            "visibility": null,
            "width": null
          }
        },
        "1b35f38a20b140de8a206d04bce99793": {
          "model_module": "@jupyter-widgets/controls",
          "model_name": "DescriptionStyleModel",
          "model_module_version": "1.5.0",
          "state": {
            "_model_module": "@jupyter-widgets/controls",
            "_model_module_version": "1.5.0",
            "_model_name": "DescriptionStyleModel",
            "_view_count": null,
            "_view_module": "@jupyter-widgets/base",
            "_view_module_version": "1.2.0",
            "_view_name": "StyleView",
            "description_width": ""
          }
        },
        "3ce5666f69674292931f57d8aa77bee0": {
          "model_module": "@jupyter-widgets/base",
          "model_name": "LayoutModel",
          "model_module_version": "1.2.0",
          "state": {
            "_model_module": "@jupyter-widgets/base",
            "_model_module_version": "1.2.0",
            "_model_name": "LayoutModel",
            "_view_count": null,
            "_view_module": "@jupyter-widgets/base",
            "_view_module_version": "1.2.0",
            "_view_name": "LayoutView",
            "align_content": null,
            "align_items": null,
            "align_self": null,
            "border": null,
            "bottom": null,
            "display": null,
            "flex": null,
            "flex_flow": null,
            "grid_area": null,
            "grid_auto_columns": null,
            "grid_auto_flow": null,
            "grid_auto_rows": null,
            "grid_column": null,
            "grid_gap": null,
            "grid_row": null,
            "grid_template_areas": null,
            "grid_template_columns": null,
            "grid_template_rows": null,
            "height": null,
            "justify_content": null,
            "justify_items": null,
            "left": null,
            "margin": null,
            "max_height": null,
            "max_width": null,
            "min_height": null,
            "min_width": null,
            "object_fit": null,
            "object_position": null,
            "order": null,
            "overflow": null,
            "overflow_x": null,
            "overflow_y": null,
            "padding": null,
            "right": null,
            "top": null,
            "visibility": null,
            "width": null
          }
        },
        "49b947afa60045f78be36c66df73f78f": {
          "model_module": "@jupyter-widgets/controls",
          "model_name": "ProgressStyleModel",
          "model_module_version": "1.5.0",
          "state": {
            "_model_module": "@jupyter-widgets/controls",
            "_model_module_version": "1.5.0",
            "_model_name": "ProgressStyleModel",
            "_view_count": null,
            "_view_module": "@jupyter-widgets/base",
            "_view_module_version": "1.2.0",
            "_view_name": "StyleView",
            "bar_color": null,
            "description_width": ""
          }
        },
        "e514ca17d810445c86e5a1b2b948a503": {
          "model_module": "@jupyter-widgets/base",
          "model_name": "LayoutModel",
          "model_module_version": "1.2.0",
          "state": {
            "_model_module": "@jupyter-widgets/base",
            "_model_module_version": "1.2.0",
            "_model_name": "LayoutModel",
            "_view_count": null,
            "_view_module": "@jupyter-widgets/base",
            "_view_module_version": "1.2.0",
            "_view_name": "LayoutView",
            "align_content": null,
            "align_items": null,
            "align_self": null,
            "border": null,
            "bottom": null,
            "display": null,
            "flex": null,
            "flex_flow": null,
            "grid_area": null,
            "grid_auto_columns": null,
            "grid_auto_flow": null,
            "grid_auto_rows": null,
            "grid_column": null,
            "grid_gap": null,
            "grid_row": null,
            "grid_template_areas": null,
            "grid_template_columns": null,
            "grid_template_rows": null,
            "height": null,
            "justify_content": null,
            "justify_items": null,
            "left": null,
            "margin": null,
            "max_height": null,
            "max_width": null,
            "min_height": null,
            "min_width": null,
            "object_fit": null,
            "object_position": null,
            "order": null,
            "overflow": null,
            "overflow_x": null,
            "overflow_y": null,
            "padding": null,
            "right": null,
            "top": null,
            "visibility": null,
            "width": null
          }
        },
        "efd6587beecc4370be64b3638c8bb7f3": {
          "model_module": "@jupyter-widgets/controls",
          "model_name": "DescriptionStyleModel",
          "model_module_version": "1.5.0",
          "state": {
            "_model_module": "@jupyter-widgets/controls",
            "_model_module_version": "1.5.0",
            "_model_name": "DescriptionStyleModel",
            "_view_count": null,
            "_view_module": "@jupyter-widgets/base",
            "_view_module_version": "1.2.0",
            "_view_name": "StyleView",
            "description_width": ""
          }
        },
        "0f7d38c09b33416d930044a681bcefa5": {
          "model_module": "@jupyter-widgets/controls",
          "model_name": "HBoxModel",
          "model_module_version": "1.5.0",
          "state": {
            "_dom_classes": [],
            "_model_module": "@jupyter-widgets/controls",
            "_model_module_version": "1.5.0",
            "_model_name": "HBoxModel",
            "_view_count": null,
            "_view_module": "@jupyter-widgets/controls",
            "_view_module_version": "1.5.0",
            "_view_name": "HBoxView",
            "box_style": "",
            "children": [
              "IPY_MODEL_91e038857aa04609bbf8baebbed7709d",
              "IPY_MODEL_bf018f41a84b4125a2311496ea099f98",
              "IPY_MODEL_94e81e3c929242cfbbf80df87770b765"
            ],
            "layout": "IPY_MODEL_e4fd4cd8a0e440be8cd9005e24d8779b"
          }
        },
        "91e038857aa04609bbf8baebbed7709d": {
          "model_module": "@jupyter-widgets/controls",
          "model_name": "HTMLModel",
          "model_module_version": "1.5.0",
          "state": {
            "_dom_classes": [],
            "_model_module": "@jupyter-widgets/controls",
            "_model_module_version": "1.5.0",
            "_model_name": "HTMLModel",
            "_view_count": null,
            "_view_module": "@jupyter-widgets/controls",
            "_view_module_version": "1.5.0",
            "_view_name": "HTMLView",
            "description": "",
            "description_tooltip": null,
            "layout": "IPY_MODEL_11e7beb5d1f64d0481338193c0c28c79",
            "placeholder": "​",
            "style": "IPY_MODEL_e62034c064ec440a9ef7b68097e49f86",
            "value": "pytorch_model.bin: 100%"
          }
        },
        "bf018f41a84b4125a2311496ea099f98": {
          "model_module": "@jupyter-widgets/controls",
          "model_name": "FloatProgressModel",
          "model_module_version": "1.5.0",
          "state": {
            "_dom_classes": [],
            "_model_module": "@jupyter-widgets/controls",
            "_model_module_version": "1.5.0",
            "_model_name": "FloatProgressModel",
            "_view_count": null,
            "_view_module": "@jupyter-widgets/controls",
            "_view_module_version": "1.5.0",
            "_view_name": "ProgressView",
            "bar_style": "success",
            "description": "",
            "description_tooltip": null,
            "layout": "IPY_MODEL_8e964f3a01e545bc943cb6175bbacd10",
            "max": 541826656,
            "min": 0,
            "orientation": "horizontal",
            "style": "IPY_MODEL_90e7023e915248adb1deecb22a11d52a",
            "value": 541826656
          }
        },
        "94e81e3c929242cfbbf80df87770b765": {
          "model_module": "@jupyter-widgets/controls",
          "model_name": "HTMLModel",
          "model_module_version": "1.5.0",
          "state": {
            "_dom_classes": [],
            "_model_module": "@jupyter-widgets/controls",
            "_model_module_version": "1.5.0",
            "_model_name": "HTMLModel",
            "_view_count": null,
            "_view_module": "@jupyter-widgets/controls",
            "_view_module_version": "1.5.0",
            "_view_name": "HTMLView",
            "description": "",
            "description_tooltip": null,
            "layout": "IPY_MODEL_ab472b06304645cf9a42893221e6c260",
            "placeholder": "​",
            "style": "IPY_MODEL_4a3a80e2d0274469a56d82772e160446",
            "value": " 542M/542M [00:09&lt;00:00, 63.8MB/s]"
          }
        },
        "e4fd4cd8a0e440be8cd9005e24d8779b": {
          "model_module": "@jupyter-widgets/base",
          "model_name": "LayoutModel",
          "model_module_version": "1.2.0",
          "state": {
            "_model_module": "@jupyter-widgets/base",
            "_model_module_version": "1.2.0",
            "_model_name": "LayoutModel",
            "_view_count": null,
            "_view_module": "@jupyter-widgets/base",
            "_view_module_version": "1.2.0",
            "_view_name": "LayoutView",
            "align_content": null,
            "align_items": null,
            "align_self": null,
            "border": null,
            "bottom": null,
            "display": null,
            "flex": null,
            "flex_flow": null,
            "grid_area": null,
            "grid_auto_columns": null,
            "grid_auto_flow": null,
            "grid_auto_rows": null,
            "grid_column": null,
            "grid_gap": null,
            "grid_row": null,
            "grid_template_areas": null,
            "grid_template_columns": null,
            "grid_template_rows": null,
            "height": null,
            "justify_content": null,
            "justify_items": null,
            "left": null,
            "margin": null,
            "max_height": null,
            "max_width": null,
            "min_height": null,
            "min_width": null,
            "object_fit": null,
            "object_position": null,
            "order": null,
            "overflow": null,
            "overflow_x": null,
            "overflow_y": null,
            "padding": null,
            "right": null,
            "top": null,
            "visibility": null,
            "width": null
          }
        },
        "11e7beb5d1f64d0481338193c0c28c79": {
          "model_module": "@jupyter-widgets/base",
          "model_name": "LayoutModel",
          "model_module_version": "1.2.0",
          "state": {
            "_model_module": "@jupyter-widgets/base",
            "_model_module_version": "1.2.0",
            "_model_name": "LayoutModel",
            "_view_count": null,
            "_view_module": "@jupyter-widgets/base",
            "_view_module_version": "1.2.0",
            "_view_name": "LayoutView",
            "align_content": null,
            "align_items": null,
            "align_self": null,
            "border": null,
            "bottom": null,
            "display": null,
            "flex": null,
            "flex_flow": null,
            "grid_area": null,
            "grid_auto_columns": null,
            "grid_auto_flow": null,
            "grid_auto_rows": null,
            "grid_column": null,
            "grid_gap": null,
            "grid_row": null,
            "grid_template_areas": null,
            "grid_template_columns": null,
            "grid_template_rows": null,
            "height": null,
            "justify_content": null,
            "justify_items": null,
            "left": null,
            "margin": null,
            "max_height": null,
            "max_width": null,
            "min_height": null,
            "min_width": null,
            "object_fit": null,
            "object_position": null,
            "order": null,
            "overflow": null,
            "overflow_x": null,
            "overflow_y": null,
            "padding": null,
            "right": null,
            "top": null,
            "visibility": null,
            "width": null
          }
        },
        "e62034c064ec440a9ef7b68097e49f86": {
          "model_module": "@jupyter-widgets/controls",
          "model_name": "DescriptionStyleModel",
          "model_module_version": "1.5.0",
          "state": {
            "_model_module": "@jupyter-widgets/controls",
            "_model_module_version": "1.5.0",
            "_model_name": "DescriptionStyleModel",
            "_view_count": null,
            "_view_module": "@jupyter-widgets/base",
            "_view_module_version": "1.2.0",
            "_view_name": "StyleView",
            "description_width": ""
          }
        },
        "8e964f3a01e545bc943cb6175bbacd10": {
          "model_module": "@jupyter-widgets/base",
          "model_name": "LayoutModel",
          "model_module_version": "1.2.0",
          "state": {
            "_model_module": "@jupyter-widgets/base",
            "_model_module_version": "1.2.0",
            "_model_name": "LayoutModel",
            "_view_count": null,
            "_view_module": "@jupyter-widgets/base",
            "_view_module_version": "1.2.0",
            "_view_name": "LayoutView",
            "align_content": null,
            "align_items": null,
            "align_self": null,
            "border": null,
            "bottom": null,
            "display": null,
            "flex": null,
            "flex_flow": null,
            "grid_area": null,
            "grid_auto_columns": null,
            "grid_auto_flow": null,
            "grid_auto_rows": null,
            "grid_column": null,
            "grid_gap": null,
            "grid_row": null,
            "grid_template_areas": null,
            "grid_template_columns": null,
            "grid_template_rows": null,
            "height": null,
            "justify_content": null,
            "justify_items": null,
            "left": null,
            "margin": null,
            "max_height": null,
            "max_width": null,
            "min_height": null,
            "min_width": null,
            "object_fit": null,
            "object_position": null,
            "order": null,
            "overflow": null,
            "overflow_x": null,
            "overflow_y": null,
            "padding": null,
            "right": null,
            "top": null,
            "visibility": null,
            "width": null
          }
        },
        "90e7023e915248adb1deecb22a11d52a": {
          "model_module": "@jupyter-widgets/controls",
          "model_name": "ProgressStyleModel",
          "model_module_version": "1.5.0",
          "state": {
            "_model_module": "@jupyter-widgets/controls",
            "_model_module_version": "1.5.0",
            "_model_name": "ProgressStyleModel",
            "_view_count": null,
            "_view_module": "@jupyter-widgets/base",
            "_view_module_version": "1.2.0",
            "_view_name": "StyleView",
            "bar_color": null,
            "description_width": ""
          }
        },
        "ab472b06304645cf9a42893221e6c260": {
          "model_module": "@jupyter-widgets/base",
          "model_name": "LayoutModel",
          "model_module_version": "1.2.0",
          "state": {
            "_model_module": "@jupyter-widgets/base",
            "_model_module_version": "1.2.0",
            "_model_name": "LayoutModel",
            "_view_count": null,
            "_view_module": "@jupyter-widgets/base",
            "_view_module_version": "1.2.0",
            "_view_name": "LayoutView",
            "align_content": null,
            "align_items": null,
            "align_self": null,
            "border": null,
            "bottom": null,
            "display": null,
            "flex": null,
            "flex_flow": null,
            "grid_area": null,
            "grid_auto_columns": null,
            "grid_auto_flow": null,
            "grid_auto_rows": null,
            "grid_column": null,
            "grid_gap": null,
            "grid_row": null,
            "grid_template_areas": null,
            "grid_template_columns": null,
            "grid_template_rows": null,
            "height": null,
            "justify_content": null,
            "justify_items": null,
            "left": null,
            "margin": null,
            "max_height": null,
            "max_width": null,
            "min_height": null,
            "min_width": null,
            "object_fit": null,
            "object_position": null,
            "order": null,
            "overflow": null,
            "overflow_x": null,
            "overflow_y": null,
            "padding": null,
            "right": null,
            "top": null,
            "visibility": null,
            "width": null
          }
        },
        "4a3a80e2d0274469a56d82772e160446": {
          "model_module": "@jupyter-widgets/controls",
          "model_name": "DescriptionStyleModel",
          "model_module_version": "1.5.0",
          "state": {
            "_model_module": "@jupyter-widgets/controls",
            "_model_module_version": "1.5.0",
            "_model_name": "DescriptionStyleModel",
            "_view_count": null,
            "_view_module": "@jupyter-widgets/base",
            "_view_module_version": "1.2.0",
            "_view_name": "StyleView",
            "description_width": ""
          }
        }
      }
    }
  },
  "cells": [
    {
      "cell_type": "markdown",
      "metadata": {
        "id": "view-in-github",
        "colab_type": "text"
      },
      "source": [
        "<a href=\"https://colab.research.google.com/github/revatishelat/DST_A2/blob/main/report/04_BERT.ipynb\" target=\"_parent\"><img src=\"https://colab.research.google.com/assets/colab-badge.svg\" alt=\"Open In Colab\"/></a>"
      ]
    },
    {
      "cell_type": "markdown",
      "source": [
        "# Imports and load data"
      ],
      "metadata": {
        "id": "VOeJPhLlzEFY"
      }
    },
    {
      "cell_type": "code",
      "source": [
        "!pip3 install --quiet tensorflow-text"
      ],
      "metadata": {
        "colab": {
          "base_uri": "https://localhost:8080/"
        },
        "id": "Qiw3BvtMJKwW",
        "outputId": "0e0badd5-2982-4dec-a99a-2b15ea3de79e"
      },
      "execution_count": null,
      "outputs": [
        {
          "output_type": "stream",
          "name": "stdout",
          "text": [
            "\u001b[2K     \u001b[90m━━━━━━━━━━━━━━━━━━━━━━━━━━━━━━━━━━━━━━━━\u001b[0m \u001b[32m5.2/5.2 MB\u001b[0m \u001b[31m13.7 MB/s\u001b[0m eta \u001b[36m0:00:00\u001b[0m\n",
            "\u001b[?25h"
          ]
        }
      ]
    },
    {
      "cell_type": "code",
      "source": [
        "import pandas as pd\n",
        "import numpy as np\n",
        "import sklearn\n",
        "from sklearn.decomposition import PCA\n",
        "from sklearn.manifold import TSNE\n",
        "from sklearn.preprocessing import MinMaxScaler\n",
        "from sklearn.ensemble import RandomForestClassifier\n",
        "from sklearn.metrics import accuracy_score, confusion_matrix\n",
        "import matplotlib.pyplot as plt\n",
        "import transformers as ppb\n",
        "import torch\n",
        "import torch.nn as nn\n",
        "import torch.optim as optim\n",
        "import tensorflow as tf\n",
        "import tensorflow_hub as hub\n",
        "import tensorflow_text as text"
      ],
      "metadata": {
        "id": "Wv2YmusNx5ai"
      },
      "execution_count": null,
      "outputs": []
    },
    {
      "cell_type": "code",
      "source": [
        "df_train = pd.read_csv('https://raw.githubusercontent.com/sebischair/Medical-Abstracts-TC-Corpus/main/medical_tc_train.csv')"
      ],
      "metadata": {
        "id": "F_0QBdOYzKNw"
      },
      "execution_count": null,
      "outputs": []
    },
    {
      "cell_type": "code",
      "source": [
        "df_test = pd.read_csv('https://raw.githubusercontent.com/sebischair/Medical-Abstracts-TC-Corpus/main/medical_tc_test.csv')"
      ],
      "metadata": {
        "id": "w9ycN1g9zXen"
      },
      "execution_count": null,
      "outputs": []
    },
    {
      "cell_type": "code",
      "source": [
        "def performance(conf_mat):\n",
        "  TP = 0\n",
        "  labels = ['NEOPLASMS', 'DIGESTIVE SYSTEM DISEASES', 'NERVOUS SYSTEM DISEASES', 'CARDIOVASCULAR DISEASES', 'GENERAL PATHOLOGICAL CONDITIONS']\n",
        "  for i in range(conf_mat.shape[0]):\n",
        "    Class = labels[i]\n",
        "    tp = conf_mat[i, i]\n",
        "    fp = np.sum(conf_mat[:, i]) - tp\n",
        "    fn = np.sum(conf_mat[i, :]) - tp\n",
        "    tn = np.sum(conf_mat) - (tp + fp + fn)\n",
        "    precision = tp / (tp + fp) if (tp + fp) != 0 else 0\n",
        "    recall = tp / (tp + fn) if (tp + fn) != 0 else 0\n",
        "    TP += tp\n",
        "    print(Class.upper())\n",
        "    print(f\"Precision: {precision:.2f}, Recall: {recall:.2f}\")\n",
        "  accuracy_tot = TP / np.sum(conf_mat)\n",
        "  print(f\"Total Accuracy: {accuracy_tot:.3f}\")"
      ],
      "metadata": {
        "id": "TzTpfGsDEgwD"
      },
      "execution_count": null,
      "outputs": []
    },
    {
      "cell_type": "markdown",
      "source": [
        "# Overview of BERT"
      ],
      "metadata": {
        "id": "cOiUAXSim7Uf"
      }
    },
    {
      "cell_type": "markdown",
      "source": [
        "BERT (Bidirectional Encoder Representations from Transformers) is a language representation model introduced in 2018 in the paper [BERT: Pre-training of Deep Bidirectional Transformers for Language Understanding](https://arxiv.org/abs/1810.04805) by Devlin et al. from Google Research.\n",
        "\n",
        "Before BERT, language processing models would traditionally process text in one direction, either left-to-right or right-to-left, one word at a time. BERT employs a bidirectional approach, considering both the left and right context of each word to understand their wider context within the input sequence.\n",
        "\n",
        "BERT completely disrupted the field, beating previous state-of-the-art models, and is now widely used in natural language processing. Although the original paper introduced two versions (a smaller 'Base' model and a larger 'Large' model), there are now many different variations and adaptions in use.\n",
        "\n",
        "## Model architecture and training\n",
        "\n",
        "Before being passed to the actual BERT model, input sequences are tokenised by converting each word or piece of a word into an integer code.\n",
        "\n",
        "The first part of BERT represents these input tokens as vectors through a combination of embeddings.\n",
        "\n",
        "The second part contains the powerful transformer architecture, which consists of a stack of multi-head self-attention blocks that weigh the importance of words within the sequence.\n",
        "\n",
        "The original BERT model was trained on two tasks. The first is 'language modelling', in which specific words are masked and the model is trained to predict them. The second is 'next sentence prediction', in which the model is given two sentences and needs to predict whether they appeared concurrently. To perform these tasks, BERT uses the final output from the transformer stack and some specially designed un-embedding module.\n",
        "\n",
        "Because of this, after BERT is trained, this final output from the transformer stack can be a useful latent representation of the original input sequence.\n",
        "\n",
        "Our hope and strategy is this: we will use a pre-trained BERT model to embed the medical abstracts from our dataset by taking their output from the transformer stack. This effectively converts each medical abstract to some, hopefully useful, vector representation, and the task is then to classify these.\n",
        "\n",
        "## Our approaches\n",
        "\n",
        "In our research, we found many versions of BERT; some are more lightweight versions of the original, while others have been trained to have expertise in specific subject areas. We will implement and/or investigate lightweight models as well as models fine-tuned to text from the medical and biological domains."
      ],
      "metadata": {
        "id": "pk2yTok4oxMd"
      }
    },
    {
      "cell_type": "markdown",
      "source": [
        "# DistilBERT"
      ],
      "metadata": {
        "id": "_fYYmYfgw_oI"
      }
    },
    {
      "cell_type": "markdown",
      "source": [
        "DistilBERT (proposed in 2019 in [this blog post](https://medium.com/huggingface/distilbert-8cf3380435b5) and [this paper](https://arxiv.org/abs/1910.01108) by Sanh et al.) is effectively a smaller and more computationally efficient version of BERT, created via 'model distillation' of BERT.\n",
        "\n",
        "Given our limited computing resources and time available, it seemed like a good first choice for trying a BERT model.\n",
        "\n",
        "We follow [this tutorial](https://colab.research.google.com/github/jalammar/jalammar.github.io/blob/master/notebooks/bert/A_Visual_Notebook_to_Using_BERT_for_the_First_Time.ipynb) to load a pre-trained DistilBERT model and attempt to embed the medical abstracts."
      ],
      "metadata": {
        "id": "LJhHXl6pxPBc"
      }
    },
    {
      "cell_type": "markdown",
      "source": [
        "## Embedding with pre-trained model"
      ],
      "metadata": {
        "id": "8YkCRB1s7zZA"
      }
    },
    {
      "cell_type": "markdown",
      "source": [
        "We first load the pre-trained model."
      ],
      "metadata": {
        "id": "GwJQsM4uyC4v"
      }
    },
    {
      "cell_type": "code",
      "execution_count": null,
      "metadata": {
        "colab": {
          "base_uri": "https://localhost:8080/",
          "height": 177,
          "referenced_widgets": [
            "cee6abc20c814f4cb040256d9a55f0b5",
            "33220075e662489ca7ed6bfbb6940f48",
            "9c2cb586ae0b4bb7a82695f24ffdaabf",
            "6cb6d0d052f8440ba6df6d7b98f14730",
            "63656242aeef4c8695314b1601d04382",
            "5a48e1816418477aa87451f38be41f1c",
            "537baf794c344759b5a26ab240cf52a2",
            "a10a07def2c94eacac55f282d2c4c83f",
            "45c1e783ed104607830c8c2db438f0ba",
            "531318c289604845889333b8467df1fd",
            "9f7e22a8c2b54ee99989ab5d91ebe1d0",
            "693e53d135b24d9cb287be8f5bf1aadd",
            "68eed6828d5946839596b654cd8dbc1a",
            "9a93eb20daf44c4c9582581d5bc46fd5",
            "a76dcb59cee14e3798e86d0423497f3e",
            "dcb72de7a705419c899a509a651402c8",
            "59a964669ad84e3d8ab95627aecab5d8",
            "f3caad6712c84404870a043f8b0cde84",
            "5e3e8cb7061f4351abfcf0f1b198e0a9",
            "cee7aa33527f45f2963f11c155df1e87",
            "65ba8973810d4396857963da57734d66",
            "a9a859bc690649ddab0a1f6239263dc2",
            "fccbb5f5aa9a481da9518da045c61e5b",
            "1c5e41c2ad5346e1ba32536bc822cf16",
            "d833ffcd4d30451ba37da9c4d5fe539d",
            "243a83379d4f42f4993a7c3ff4f8b7e5",
            "3f016fa9ace34fbdacbd19d76454704a",
            "10850c4396fe41d681babe702034aa67",
            "70da8caa39ab4a399223e3dc1d99fa48",
            "5d7cbe57e6f44e819cf77079864d4ef6",
            "c8d70f7e59634f8a953c35412a0a5685",
            "5e2b3dbf29164900bb306d85d7b9dfe2",
            "df48628c9adb4064a86a99506516dd84",
            "81252956afc24311852f7071894ee553",
            "31882312401b44c08e77434273d93cff",
            "93787c8a1b884b459bfd2c586c78e1e9",
            "7048686bc0af4702b20df2875782b0f3",
            "1718eff792164fceada1a26fa780bf36",
            "c841a34ee04b41df9aca391f0e6e88e6",
            "579efec7931341d08766f63187d1e04c",
            "3b36d95bf17a4ba7a5bb2ddec565e319",
            "3500dd7230d1435caa64a5c50efa808a",
            "4ed717388bbd4887896e7f5706df3c68",
            "99fbd37561284038a970f4f56b18fae9",
            "f957fbc767b64cd893196d809f9b9f62",
            "0c331d598df2414ba36343c2d4165d98",
            "30c6f866adbc41c5bcdeca7d4ee3d15e",
            "bd260bfaf9be4624a393ad6399be0d1d",
            "f66d81165ea844e49d916e262f418ea6",
            "770e171be60d44b1a7012c1679f8e35a",
            "d31550d98fb547779376f818dae128be",
            "f55ad5e1a5a4469d92e5818ece160e50",
            "83fc1a3575b04967a83b38b6e2e8e973",
            "dbb6e30ab8be480c82898096fa1d8328",
            "e88add33c9b047d5909378dc6024812f"
          ]
        },
        "id": "nrKAtDK5m5iN",
        "outputId": "62d80047-e91c-4764-b4b5-40525a1e3e13"
      },
      "outputs": [
        {
          "output_type": "display_data",
          "data": {
            "text/plain": [
              "tokenizer_config.json:   0%|          | 0.00/28.0 [00:00<?, ?B/s]"
            ],
            "application/vnd.jupyter.widget-view+json": {
              "version_major": 2,
              "version_minor": 0,
              "model_id": "cee6abc20c814f4cb040256d9a55f0b5"
            }
          },
          "metadata": {}
        },
        {
          "output_type": "display_data",
          "data": {
            "text/plain": [
              "vocab.txt:   0%|          | 0.00/232k [00:00<?, ?B/s]"
            ],
            "application/vnd.jupyter.widget-view+json": {
              "version_major": 2,
              "version_minor": 0,
              "model_id": "693e53d135b24d9cb287be8f5bf1aadd"
            }
          },
          "metadata": {}
        },
        {
          "output_type": "display_data",
          "data": {
            "text/plain": [
              "tokenizer.json:   0%|          | 0.00/466k [00:00<?, ?B/s]"
            ],
            "application/vnd.jupyter.widget-view+json": {
              "version_major": 2,
              "version_minor": 0,
              "model_id": "fccbb5f5aa9a481da9518da045c61e5b"
            }
          },
          "metadata": {}
        },
        {
          "output_type": "display_data",
          "data": {
            "text/plain": [
              "config.json:   0%|          | 0.00/483 [00:00<?, ?B/s]"
            ],
            "application/vnd.jupyter.widget-view+json": {
              "version_major": 2,
              "version_minor": 0,
              "model_id": "81252956afc24311852f7071894ee553"
            }
          },
          "metadata": {}
        },
        {
          "output_type": "display_data",
          "data": {
            "text/plain": [
              "model.safetensors:   0%|          | 0.00/268M [00:00<?, ?B/s]"
            ],
            "application/vnd.jupyter.widget-view+json": {
              "version_major": 2,
              "version_minor": 0,
              "model_id": "f957fbc767b64cd893196d809f9b9f62"
            }
          },
          "metadata": {}
        }
      ],
      "source": [
        "# For DistilBERT:\n",
        "model_class, tokenizer_class, pretrained_weights = (ppb.DistilBertModel, ppb.DistilBertTokenizer, 'distilbert-base-uncased')\n",
        "\n",
        "# Load pretrained model/tokenizer\n",
        "tokenizer = tokenizer_class.from_pretrained(pretrained_weights)\n",
        "model = model_class.from_pretrained(pretrained_weights)"
      ]
    },
    {
      "cell_type": "markdown",
      "source": [
        "Note that the model comes with its own tokenizer which does its own text preprocessing. We will use this rather than our own preprocessing function, especially since BERT is trained to understand the wider context of a whole input sequence, so we do not want to alter the input sequence before BERT sees it."
      ],
      "metadata": {
        "id": "OFU5E9PPyOQt"
      }
    },
    {
      "cell_type": "markdown",
      "source": [
        "DistilBERT has a maximum length for the input sequences it can process, which our medical abstracts exceeded. To combat this, we define a function to truncate the input sequence to a fixed number of words, and apply this to our (training) data."
      ],
      "metadata": {
        "id": "uRwYv3U6yohU"
      }
    },
    {
      "cell_type": "code",
      "source": [
        "def truncate_to_n_words(input_string, n):\n",
        "    words = input_string.split()[:n]\n",
        "    truncated_string = ' '.join(words)\n",
        "    return truncated_string"
      ],
      "metadata": {
        "id": "T34AJ5mNyLkB"
      },
      "execution_count": null,
      "outputs": []
    },
    {
      "cell_type": "code",
      "source": [
        "X_train_truncated = df_train['medical_abstract'].apply(lambda x: truncate_to_n_words(x, 100))"
      ],
      "metadata": {
        "id": "e9W8TNSVzBZh"
      },
      "execution_count": null,
      "outputs": []
    },
    {
      "cell_type": "markdown",
      "source": [
        "We then use the tokenizer to process the truncated data. (This takes around a minute on Google Colab.)"
      ],
      "metadata": {
        "id": "sWIJ8rhzzji3"
      }
    },
    {
      "cell_type": "code",
      "source": [
        "tokenized = X_train_truncated.apply((lambda x: tokenizer.encode(x, add_special_tokens=True)))"
      ],
      "metadata": {
        "id": "n6QnCTZjzgxD"
      },
      "execution_count": null,
      "outputs": []
    },
    {
      "cell_type": "markdown",
      "source": [
        "We then get the maximum length of the input sequences and pad the other input sequences so that we can pass in an array of fixed size to the model."
      ],
      "metadata": {
        "id": "pxvZnPX6zq5G"
      }
    },
    {
      "cell_type": "code",
      "source": [
        "max_len = 0\n",
        "for i in tokenized.values:\n",
        "    if len(i) > max_len:\n",
        "        max_len = len(i)\n",
        "\n",
        "padded = np.array([i + [0]*(max_len-len(i)) for i in tokenized.values])"
      ],
      "metadata": {
        "id": "gCycv3p1z8QB"
      },
      "execution_count": null,
      "outputs": []
    },
    {
      "cell_type": "code",
      "source": [
        "np.array(padded).shape"
      ],
      "metadata": {
        "colab": {
          "base_uri": "https://localhost:8080/"
        },
        "id": "EWaxlOWIz856",
        "outputId": "6e880b59-2faa-4815-962a-200438ccff89"
      },
      "execution_count": null,
      "outputs": [
        {
          "output_type": "execute_result",
          "data": {
            "text/plain": [
              "(11550, 282)"
            ]
          },
          "metadata": {},
          "execution_count": 9
        }
      ]
    },
    {
      "cell_type": "markdown",
      "source": [
        "However, we generate an attention mask to tell the model where the padding is so it can ignore it."
      ],
      "metadata": {
        "id": "wvy0Wo8nz_yp"
      }
    },
    {
      "cell_type": "code",
      "source": [
        "attention_mask = np.where(padded != 0, 1, 0)\n",
        "attention_mask.shape"
      ],
      "metadata": {
        "colab": {
          "base_uri": "https://localhost:8080/"
        },
        "id": "blplT73Uz-ED",
        "outputId": "89d89ebe-44f5-4b5a-8032-d7ed628f20c5"
      },
      "execution_count": null,
      "outputs": [
        {
          "output_type": "execute_result",
          "data": {
            "text/plain": [
              "(11550, 282)"
            ]
          },
          "metadata": {},
          "execution_count": 10
        }
      ]
    },
    {
      "cell_type": "markdown",
      "source": [
        "We then define a function that takes in the `padded` and `attention_mask` arrays, runs them through the model, and takes the last hidden state as our embedding.\n",
        "\n",
        "Technically, it does this by looking at the specific embedding of the special [CLS] (classify) token that is appended to the input sequence, although we will not go into details here."
      ],
      "metadata": {
        "id": "3vCXNpGL0I7Y"
      }
    },
    {
      "cell_type": "code",
      "source": [
        "def embed_with_BERT(padded, attention_mask):\n",
        "\n",
        "  input_ids = torch.tensor(padded)\n",
        "  attention_mask_tensor = torch.tensor(attention_mask)\n",
        "\n",
        "  with torch.no_grad():\n",
        "      last_hidden_states = model(input_ids, attention_mask=attention_mask_tensor)\n",
        "\n",
        "  return last_hidden_states[0][:,0,:].numpy()"
      ],
      "metadata": {
        "id": "MOrNhoKx0E9r"
      },
      "execution_count": null,
      "outputs": []
    },
    {
      "cell_type": "markdown",
      "source": [
        "Trying to call this function on the entire processed training dataset causes the code to crash. This is because it runs out of RAM, simply because of the many layers of the BERT model and the large number of data examples we are passing to it."
      ],
      "metadata": {
        "id": "JuzxzLZc0o7Q"
      }
    },
    {
      "cell_type": "markdown",
      "source": [
        "So instead, we embed the data in batches, as in the code below. WARNING: this takes a long time, as each batch takes a few minutes and there are several of them."
      ],
      "metadata": {
        "id": "CJufPSrb1HXR"
      }
    },
    {
      "cell_type": "code",
      "source": [
        "step = 350 # Batch size\n",
        "\n",
        "# Uncomment to embed data in batches\n",
        "# for i in range(0, 11550, step):\n",
        "#   print(f'Embedding for rows {i} to {i+step}')\n",
        "#   features_temp = embed_with_BERT(padded[i:i+step], attention_mask[i:i+step])\n",
        "#   if i == 0:\n",
        "#     features = features_temp\n",
        "#   else:\n",
        "#     features = np.vstack((features, features_temp))"
      ],
      "metadata": {
        "id": "dbrOq2ny0WF2"
      },
      "execution_count": null,
      "outputs": []
    },
    {
      "cell_type": "markdown",
      "source": [
        "Note in reality that we employed a slightly different code implementation to the above. After processing each batch, we saved the output features as a separate array. We then stitch these all together after processing. An example of this implementation is given in an Appendix.\n",
        "\n",
        "For now, we can just load the embeddings of the training and test data directly, since we saved them. (Ethan - I have done this by saving them to my Google Drive and mounting this notebook in Google Colab to my Drive. You can also download these embeddings from the GitHub repo.)"
      ],
      "metadata": {
        "id": "GaoYcqhB1dVJ"
      }
    },
    {
      "cell_type": "code",
      "source": [
        "features_train = np.load('/content/drive/MyDrive/University/Bristol/Year 4/clean_embeddings/features_train.npy')"
      ],
      "metadata": {
        "id": "Yz82myxr17jf"
      },
      "execution_count": null,
      "outputs": []
    },
    {
      "cell_type": "code",
      "source": [
        "features_train.shape"
      ],
      "metadata": {
        "colab": {
          "base_uri": "https://localhost:8080/"
        },
        "id": "NiY2G1FC6vSH",
        "outputId": "20f99090-4b27-4c4c-a7f4-450cb1de5e88"
      },
      "execution_count": null,
      "outputs": [
        {
          "output_type": "execute_result",
          "data": {
            "text/plain": [
              "(11550, 768)"
            ]
          },
          "metadata": {},
          "execution_count": 38
        }
      ]
    },
    {
      "cell_type": "code",
      "source": [
        "features_test = np.load('/content/drive/MyDrive/University/Bristol/Year 4/clean_embeddings/features_test.npy')"
      ],
      "metadata": {
        "id": "zGTp8Q0x7R5s"
      },
      "execution_count": null,
      "outputs": []
    },
    {
      "cell_type": "code",
      "source": [
        "features_test.shape"
      ],
      "metadata": {
        "colab": {
          "base_uri": "https://localhost:8080/"
        },
        "id": "BoppbTxn7Tmo",
        "outputId": "fb8aec8f-7fed-4a60-87bf-c24d325fa818"
      },
      "execution_count": null,
      "outputs": [
        {
          "output_type": "execute_result",
          "data": {
            "text/plain": [
              "(2888, 768)"
            ]
          },
          "metadata": {},
          "execution_count": 40
        }
      ]
    },
    {
      "cell_type": "markdown",
      "source": [
        "## Classifying"
      ],
      "metadata": {
        "id": "wndD4L_B74Co"
      }
    },
    {
      "cell_type": "markdown",
      "source": [
        "Before we classify, let us examine the embedded data, via a PCA and a t-SNE dimensionality reduction.\n",
        "\n",
        "We do this just for the first 250 training examples for efficiency and visual clarity."
      ],
      "metadata": {
        "id": "EBKoZ1wi76L7"
      }
    },
    {
      "cell_type": "code",
      "source": [
        "# Perform PCA\n",
        "pca = PCA(n_components=2)\n",
        "principal_components = pca.fit_transform(features_train[:250])\n",
        "\n",
        "labels = df_train['condition_label'][:250]\n",
        "\n",
        "label_colors = {1: 'red', 2: 'blue', 3: 'green', 4: 'purple', 5: 'orange'}\n",
        "\n",
        "plt.figure(figsize=(8, 6))\n",
        "\n",
        "for label in np.unique(labels):\n",
        "    indices = np.where(labels == label)\n",
        "    plt.scatter(principal_components[indices, 0], principal_components[indices, 1],\n",
        "                label=f'Label {label}', color=label_colors[label], alpha=0.7)\n",
        "\n",
        "plt.title('PCA of the training data with labels')\n",
        "plt.xlabel('Principal Component 1')\n",
        "plt.ylabel('Principal Component 2')\n",
        "plt.legend()\n",
        "plt.show()"
      ],
      "metadata": {
        "colab": {
          "base_uri": "https://localhost:8080/",
          "height": 564
        },
        "id": "MSJO8Wwc75jU",
        "outputId": "fc0d1e14-a88e-4126-be97-dbc7bdc0371b"
      },
      "execution_count": null,
      "outputs": [
        {
          "output_type": "display_data",
          "data": {
            "text/plain": [
              "<Figure size 800x600 with 1 Axes>"
            ],
            "image/png": "[encoded data removed]"
          },
          "metadata": {}
        }
      ]
    },
    {
      "cell_type": "code",
      "source": [
        "features_train[:350].shape"
      ],
      "metadata": {
        "colab": {
          "base_uri": "https://localhost:8080/"
        },
        "id": "G8bUKVgV_B3h",
        "outputId": "0f0f27fb-b202-4b1b-8614-9b4cf9880c3c"
      },
      "execution_count": null,
      "outputs": [
        {
          "output_type": "execute_result",
          "data": {
            "text/plain": [
              "(350, 768)"
            ]
          },
          "metadata": {},
          "execution_count": 48
        }
      ]
    },
    {
      "cell_type": "code",
      "source": [
        "data = features_train.copy()[:250]\n",
        "labels = df_train['condition_label'][:250]\n",
        "\n",
        "# Perform t-SNE\n",
        "tsne = TSNE(n_components=2, random_state=42)\n",
        "embedded_data = tsne.fit_transform(data)\n",
        "\n",
        "# Plot the t-SNE visualization with color-coded labels\n",
        "plt.figure(figsize=(8, 6))\n",
        "\n",
        "for label in np.unique(labels):\n",
        "    indices = np.where(labels == label)\n",
        "    plt.scatter(embedded_data[indices, 0], embedded_data[indices, 1],\n",
        "                label=f'Label {label}', color=label_colors[label], alpha=0.7)\n",
        "\n",
        "plt.title('t-SNE Visualization of training data with labels')\n",
        "plt.xlabel('t-SNE Dimension 1')\n",
        "plt.ylabel('t-SNE Dimension 2')\n",
        "plt.legend()\n",
        "plt.show()"
      ],
      "metadata": {
        "colab": {
          "base_uri": "https://localhost:8080/",
          "height": 564
        },
        "id": "XdgqFDeY8NnL",
        "outputId": "8169c921-524b-4eb9-e33e-4234861316b1"
      },
      "execution_count": null,
      "outputs": [
        {
          "output_type": "display_data",
          "data": {
            "text/plain": [
              "<Figure size 800x600 with 1 Axes>"
            ],
            "image/png": "[encoded data removed]"
          },
          "metadata": {}
        }
      ]
    },
    {
      "cell_type": "markdown",
      "source": [
        "There is no discernible pattern here for distinguishing the classes from each other, which is slightly troubling. We had hoped that the BERT embedding would group similar medical abstracts together.\n",
        "\n",
        "However, we are only looking at a 2D representation of the embeddings, when in actuality it is 768-dimensional, so there is hope that in this high-dimensional space the data is separable."
      ],
      "metadata": {
        "id": "UrcWhTiq-VA0"
      }
    },
    {
      "cell_type": "markdown",
      "source": [
        "We will now attempt to classify the medical abstracts from their BERT embeddings. We define a simple neural network to do this."
      ],
      "metadata": {
        "id": "KHPcTqFXA5w4"
      }
    },
    {
      "cell_type": "code",
      "source": [
        "class SimpleNN(nn.Module):\n",
        "    def __init__(self, input_dim, output_dim):\n",
        "        super(SimpleNN, self).__init__()\n",
        "        self.fc1 = nn.Linear(input_dim, 256)\n",
        "        self.relu1 = nn.ReLU()\n",
        "        self.dropout1 = nn.Dropout(0.5)\n",
        "        self.fc2 = nn.Linear(256, 128)\n",
        "        self.relu2 = nn.ReLU()\n",
        "        self.dropout2 = nn.Dropout(0.5)\n",
        "        self.fc3 = nn.Linear(128, output_dim)\n",
        "        self.softmax = nn.Softmax(dim=1)\n",
        "\n",
        "    def forward(self, x):\n",
        "        x = self.fc1(x)\n",
        "        x = self.relu1(x)\n",
        "        x = self.dropout1(x)\n",
        "        x = self.fc2(x)\n",
        "        x = self.relu2(x)\n",
        "        x = self.dropout2(x)\n",
        "        x = self.fc3(x)\n",
        "        x = self.softmax(x)\n",
        "        return x"
      ],
      "metadata": {
        "id": "R98B5VCOAmea"
      },
      "execution_count": null,
      "outputs": []
    },
    {
      "cell_type": "markdown",
      "source": [
        "We did not do a thorough hyperparameter tuning here, but played around with a few values of learning rate and epochs to see what could work. This is since we are more interested in the proof-of-concept as to whether we can get any reasonable results using BERT and a classification head."
      ],
      "metadata": {
        "id": "DZe9bahaCXPO"
      }
    },
    {
      "cell_type": "code",
      "source": [
        "# Set input and output dimensions\n",
        "input_dim = 768\n",
        "output_dim = 5\n",
        "\n",
        "# Create an instance of the model\n",
        "model = SimpleNN(input_dim, output_dim)\n",
        "\n",
        "# Define the loss function and optimizer\n",
        "criterion = nn.CrossEntropyLoss()\n",
        "optimizer = optim.Adam(model.parameters(), lr=0.0001)"
      ],
      "metadata": {
        "id": "V8VuF26TBOyY"
      },
      "execution_count": null,
      "outputs": []
    },
    {
      "cell_type": "code",
      "source": [
        "# We played around with scaling the data to be normalised but it did not affect things greatly\n",
        "\n",
        "# scaler = MinMaxScaler()\n",
        "# features_train = scaler.fit_transform(features_train)\n",
        "# features_test = scaler.fit_transform(features_test)"
      ],
      "metadata": {
        "id": "uHCwgnzLDcUG"
      },
      "execution_count": null,
      "outputs": []
    },
    {
      "cell_type": "markdown",
      "source": [
        "We then train in batches for 100 epochs."
      ],
      "metadata": {
        "id": "S1kyhappCIay"
      }
    },
    {
      "cell_type": "code",
      "source": [
        "# Example data (replace with your actual dataset)\n",
        "num_samples = 11550\n",
        "input_data = torch.from_numpy(features_train)\n",
        "labels = torch.from_numpy(df_train['condition_label'].to_numpy().copy())\n",
        "labels-=1\n",
        "\n",
        "# Training loop\n",
        "num_epochs = 100\n",
        "batch_size = 350\n",
        "\n",
        "for epoch in range(num_epochs):\n",
        "    for i in range(0, num_samples, batch_size):\n",
        "        # Prepare batch\n",
        "        batch_inputs = input_data[i:i+batch_size]\n",
        "        batch_labels = labels[i:i+batch_size]\n",
        "\n",
        "        # Forward pass\n",
        "        outputs = model(batch_inputs)\n",
        "        loss = criterion(outputs, batch_labels)\n",
        "\n",
        "        # Backward pass and optimization\n",
        "        optimizer.zero_grad()\n",
        "        loss.backward()\n",
        "        optimizer.step()\n",
        "\n",
        "    # Print the loss after each epoch\n",
        "    print(f'Epoch [{epoch+1}/{num_epochs}], Loss: {loss.item():.4f}')"
      ],
      "metadata": {
        "colab": {
          "base_uri": "https://localhost:8080/"
        },
        "id": "Jwbq5FSJBPEm",
        "outputId": "920b2172-d1c9-44ec-f30d-c13ecd0660d3"
      },
      "execution_count": null,
      "outputs": [
        {
          "output_type": "stream",
          "name": "stdout",
          "text": [
            "Epoch [1/50], Loss: 1.3895\n",
            "Epoch [2/50], Loss: 1.3816\n",
            "Epoch [3/50], Loss: 1.3905\n",
            "Epoch [4/50], Loss: 1.3969\n",
            "Epoch [5/50], Loss: 1.3882\n",
            "Epoch [6/50], Loss: 1.3853\n",
            "Epoch [7/50], Loss: 1.3782\n",
            "Epoch [8/50], Loss: 1.3835\n",
            "Epoch [9/50], Loss: 1.3892\n",
            "Epoch [10/50], Loss: 1.3891\n",
            "Epoch [11/50], Loss: 1.3811\n",
            "Epoch [12/50], Loss: 1.3832\n",
            "Epoch [13/50], Loss: 1.3818\n",
            "Epoch [14/50], Loss: 1.3862\n",
            "Epoch [15/50], Loss: 1.3794\n",
            "Epoch [16/50], Loss: 1.3820\n",
            "Epoch [17/50], Loss: 1.3737\n",
            "Epoch [18/50], Loss: 1.3838\n",
            "Epoch [19/50], Loss: 1.3819\n",
            "Epoch [20/50], Loss: 1.3706\n",
            "Epoch [21/50], Loss: 1.3722\n",
            "Epoch [22/50], Loss: 1.3817\n",
            "Epoch [23/50], Loss: 1.3779\n",
            "Epoch [24/50], Loss: 1.3830\n",
            "Epoch [25/50], Loss: 1.3764\n",
            "Epoch [26/50], Loss: 1.3757\n",
            "Epoch [27/50], Loss: 1.3850\n",
            "Epoch [28/50], Loss: 1.3779\n",
            "Epoch [29/50], Loss: 1.3754\n",
            "Epoch [30/50], Loss: 1.3723\n",
            "Epoch [31/50], Loss: 1.3733\n",
            "Epoch [32/50], Loss: 1.3693\n",
            "Epoch [33/50], Loss: 1.3729\n",
            "Epoch [34/50], Loss: 1.3812\n",
            "Epoch [35/50], Loss: 1.3742\n",
            "Epoch [36/50], Loss: 1.3741\n",
            "Epoch [37/50], Loss: 1.3695\n",
            "Epoch [38/50], Loss: 1.3690\n",
            "Epoch [39/50], Loss: 1.3666\n",
            "Epoch [40/50], Loss: 1.3741\n",
            "Epoch [41/50], Loss: 1.3658\n",
            "Epoch [42/50], Loss: 1.3717\n",
            "Epoch [43/50], Loss: 1.3766\n",
            "Epoch [44/50], Loss: 1.3700\n",
            "Epoch [45/50], Loss: 1.3665\n",
            "Epoch [46/50], Loss: 1.3636\n",
            "Epoch [47/50], Loss: 1.3739\n",
            "Epoch [48/50], Loss: 1.3638\n",
            "Epoch [49/50], Loss: 1.3648\n",
            "Epoch [50/50], Loss: 1.3689\n"
          ]
        }
      ]
    },
    {
      "cell_type": "code",
      "source": [
        "test_input = torch.from_numpy(features_test)\n",
        "predicted_probs = model(test_input)\n",
        "predicted_classes = torch.argmax(predicted_probs, dim=1)"
      ],
      "metadata": {
        "id": "Zv98Y1WXB9YF"
      },
      "execution_count": null,
      "outputs": []
    },
    {
      "cell_type": "code",
      "source": [
        "# Convert PyTorch tensors to NumPy arrays\n",
        "labels_np = df_test['condition_label'].to_numpy().copy()\n",
        "labels_np -= 1\n",
        "predicted_classes_np = predicted_classes.numpy()\n",
        "\n",
        "# Evaluate the performance\n",
        "accuracy = accuracy_score(labels_np, predicted_classes_np)\n",
        "conf_matrix = confusion_matrix(labels_np, predicted_classes_np)\n",
        "\n",
        "print(\"Accuracy:\", accuracy)\n",
        "print(\"Confusion Matrix:\")\n",
        "print(conf_matrix)"
      ],
      "metadata": {
        "colab": {
          "base_uri": "https://localhost:8080/"
        },
        "id": "8PA5Oe-DCggS",
        "outputId": "bd2b1767-c452-4016-af52-bfcf10f10d2a"
      },
      "execution_count": null,
      "outputs": [
        {
          "output_type": "stream",
          "name": "stdout",
          "text": [
            "Accuracy: 0.49965373961218834\n",
            "Confusion Matrix:\n",
            "[[483   0   0  21 129]\n",
            " [ 45   0   0  51 203]\n",
            " [ 42   0   0  63 280]\n",
            " [ 23   0   0 389 198]\n",
            " [153   0   0 237 571]]\n"
          ]
        }
      ]
    },
    {
      "cell_type": "code",
      "source": [
        "performance(conf_matrix)"
      ],
      "metadata": {
        "colab": {
          "base_uri": "https://localhost:8080/"
        },
        "id": "z1AAWbepCn6I",
        "outputId": "1097fa67-e965-4b70-b79b-cf784cc273d6"
      },
      "execution_count": null,
      "outputs": [
        {
          "output_type": "stream",
          "name": "stdout",
          "text": [
            "NEOPLASMS\n",
            "Precision: 0.65, Recall: 0.76\n",
            "DIGESTIVE SYSTEM DISEASES\n",
            "Precision: 0.00, Recall: 0.00\n",
            "NERVOUS SYSTEM DISEASES\n",
            "Precision: 0.00, Recall: 0.00\n",
            "CARDIOVASCULAR DISEASES\n",
            "Precision: 0.51, Recall: 0.64\n",
            "GENERAL PATHOLOGICAL CONDITIONS\n",
            "Precision: 0.41, Recall: 0.59\n",
            "Total Accuracy: 0.500\n"
          ]
        }
      ]
    },
    {
      "cell_type": "markdown",
      "source": [
        "This performance does not seem great, and the model did not predict any of the data as class 2 or 3. This is likely due to these being the two smallest classes. Since the data is not easily classifiable into the 5 classes, the model prioritises the largest classes since these contribute most to the loss.\n",
        "\n",
        "Per [this example](https://towardsdatascience.com/feature-extraction-with-bert-for-text-classification-533dde44dc2f), let us also try a random forest classifier."
      ],
      "metadata": {
        "id": "lURZCGVaHrPG"
      }
    },
    {
      "cell_type": "code",
      "source": [
        "X_train = features_train\n",
        "y_train = df_train['condition_label']\n",
        "\n",
        "X_test = features_test\n",
        "y_test = df_test['condition_label']\n",
        "\n",
        "\n",
        "# Create and train the random forest classifier\n",
        "rf_classifier = RandomForestClassifier(n_estimators=100, random_state=42)\n",
        "rf_classifier.fit(X_train, y_train)\n",
        "\n",
        "# Make predictions on the test set\n",
        "y_pred = rf_classifier.predict(X_test)\n",
        "\n",
        "# Evaluate the performance\n",
        "accuracy = accuracy_score(y_test, y_pred)\n",
        "conf_matrix = confusion_matrix(y_test, y_pred)\n",
        "\n",
        "print(\"Accuracy:\", accuracy)\n",
        "print(\"Confusion Matrix:\")\n",
        "print(conf_matrix)"
      ],
      "metadata": {
        "colab": {
          "base_uri": "https://localhost:8080/"
        },
        "id": "lq-nWphiE5wo",
        "outputId": "b39fe6db-de05-4269-c7f0-4c31c329060e"
      },
      "execution_count": null,
      "outputs": [
        {
          "output_type": "stream",
          "name": "stdout",
          "text": [
            "Accuracy: 0.3275623268698061\n",
            "Confusion Matrix:\n",
            "[[322  27  28  30 226]\n",
            " [ 58   1   3  29 208]\n",
            " [ 36   8  53  44 244]\n",
            " [ 38   4  20 201 347]\n",
            " [175 102  91 224 369]]\n"
          ]
        }
      ]
    },
    {
      "cell_type": "code",
      "source": [
        "performance(conf_matrix)"
      ],
      "metadata": {
        "colab": {
          "base_uri": "https://localhost:8080/"
        },
        "id": "nF5LzYLqIfTB",
        "outputId": "b32a9dbd-70c6-4e38-cf30-9a082f07486e"
      },
      "execution_count": null,
      "outputs": [
        {
          "output_type": "stream",
          "name": "stdout",
          "text": [
            "NEOPLASMS\n",
            "Precision: 0.51, Recall: 0.51\n",
            "DIGESTIVE SYSTEM DISEASES\n",
            "Precision: 0.01, Recall: 0.00\n",
            "NERVOUS SYSTEM DISEASES\n",
            "Precision: 0.27, Recall: 0.14\n",
            "CARDIOVASCULAR DISEASES\n",
            "Precision: 0.38, Recall: 0.33\n",
            "GENERAL PATHOLOGICAL CONDITIONS\n",
            "Precision: 0.26, Recall: 0.38\n",
            "Total Accuracy: 0.328\n"
          ]
        }
      ]
    },
    {
      "cell_type": "markdown",
      "source": [
        "This results in even worse accuracy overall, although slightly higher precision for classes 2 and 3 since these are now being predicted."
      ],
      "metadata": {
        "id": "15vSQNn4texi"
      }
    },
    {
      "cell_type": "markdown",
      "source": [
        "# BERT expert fine-tuned on PubMed"
      ],
      "metadata": {
        "id": "JBsEx_GpIx_9"
      }
    },
    {
      "cell_type": "markdown",
      "source": [
        "In 2020, Google released several BERT 'expert' models trained on diverse datasets and specific downstream tasks. One in particular (found on [Kaggle](https://www.kaggle.com/models/google/experts-bert/frameworks/tensorFlow2/variations/pubmed) and [GitHub](https://github.com/tensorflow/tfhub.dev/blob/master/assets/docs/google/collections/experts/bert/1.md)) was trained in a self-supervised manner on the [MEDLINE/PubMed](https://www.nlm.nih.gov/databases/download/pubmed_medline.html) corpus, a large database of citations and abstracts of biomedical literature.\n",
        "\n",
        "Given that our task is concerned with medical text, this also seems like a natural choice of BERT model to try."
      ],
      "metadata": {
        "id": "UH4QhdF4JUa-"
      }
    },
    {
      "cell_type": "markdown",
      "source": [
        "## Embedding with pre-trained model"
      ],
      "metadata": {
        "id": "ZE4CRCeYvNic"
      }
    },
    {
      "cell_type": "markdown",
      "source": [
        "We load the BERT encoder and preprocessing models."
      ],
      "metadata": {
        "id": "N_HnIU7DvRQy"
      }
    },
    {
      "cell_type": "code",
      "source": [
        "preprocess = hub.load('https://kaggle.com/models/tensorflow/bert/frameworks/TensorFlow2/variations/en-uncased-preprocess/versions/3')\n",
        "bert = hub.load('https://www.kaggle.com/models/google/experts-bert/frameworks/TensorFlow2/variations/pubmed/versions/2')"
      ],
      "metadata": {
        "id": "cPWICSiIJVay"
      },
      "execution_count": null,
      "outputs": []
    },
    {
      "cell_type": "markdown",
      "source": [
        "We define a function that takes `bert_inputs`, the preprocessed data, and returns the embedding of the classifier token as the embedding of the whole sequence."
      ],
      "metadata": {
        "id": "tBe9qfxiJbiE"
      }
    },
    {
      "cell_type": "code",
      "source": [
        "def embed_with_expert_BERT(bert_inputs):\n",
        "  bert_outputs = bert(bert_inputs, training=False)\n",
        "  sequence_output = bert_outputs['sequence_output']\n",
        "  clf_output = sequence_output[:, 0, :]\n",
        "  return clf_output"
      ],
      "metadata": {
        "id": "5N_EyOoLJbHy"
      },
      "execution_count": null,
      "outputs": []
    },
    {
      "cell_type": "markdown",
      "source": [
        "Note that, unlike DistilBERT, we did not have to truncate the input sequences (although this is likely happening behind the scenes)."
      ],
      "metadata": {
        "id": "DaUogsMIMWnc"
      }
    },
    {
      "cell_type": "markdown",
      "source": [
        "As before, we get the embeddings by running data through model in batches and saving output by hard-coding."
      ],
      "metadata": {
        "id": "xT0W_zWoJ3B_"
      }
    },
    {
      "cell_type": "code",
      "source": [
        "abstracts_train_list = list(df_train.medical_abstract)"
      ],
      "metadata": {
        "id": "PBbcF-5QJqtx"
      },
      "execution_count": null,
      "outputs": []
    },
    {
      "cell_type": "code",
      "source": [
        "step = 350\n",
        "\n",
        "# Uncomment to get embeddings\n",
        "# for i in range(0, 11550, step):\n",
        "#   print(f'Embedding for rows {i} to {i+step}')\n",
        "#   bert_inputs = preprocess(abstracts_train_list[i:i+step])\n",
        "#   features_temp = embed_with_expert_BERT(bert_inputs)\n",
        "#   np.save(f'/content/drive/MyDrive/University/Bristol/Year 4/pubmed_bert_expert/training_embed_{i+step}.npy', features_temp)"
      ],
      "metadata": {
        "id": "rWquPlh4JtFj"
      },
      "execution_count": null,
      "outputs": []
    },
    {
      "cell_type": "markdown",
      "source": [
        "We can then load these directly."
      ],
      "metadata": {
        "id": "NJrcVnHAvaTt"
      }
    },
    {
      "cell_type": "code",
      "source": [
        "features_train = np.load('/content/drive/MyDrive/University/Bristol/Year 4/pubmed_bert_expert/FULL/training_embed_FULL.npy')"
      ],
      "metadata": {
        "id": "dixOtRFjJydc"
      },
      "execution_count": null,
      "outputs": []
    },
    {
      "cell_type": "code",
      "source": [
        "features_test = np.load('/content/drive/MyDrive/University/Bristol/Year 4/pubmed_bert_expert/FULL/test_embed_FULL.npy')"
      ],
      "metadata": {
        "id": "LOfMrqXmKCjL"
      },
      "execution_count": null,
      "outputs": []
    },
    {
      "cell_type": "markdown",
      "source": [
        "## Classifying"
      ],
      "metadata": {
        "id": "IOyHqjIGvcLo"
      }
    },
    {
      "cell_type": "markdown",
      "source": [
        "Again let us perform PCA and t-SNE dimensionality reductions to explore any potential patterns."
      ],
      "metadata": {
        "id": "nre9lhwevddE"
      }
    },
    {
      "cell_type": "code",
      "source": [
        "# Perform PCA\n",
        "pca = PCA(n_components=2)\n",
        "principal_components = pca.fit_transform(features_train[:250])\n",
        "\n",
        "labels = df_train['condition_label'][:250]\n",
        "\n",
        "label_colors = {1: 'red', 2: 'blue', 3: 'green', 4: 'purple', 5: 'orange'}\n",
        "\n",
        "plt.figure(figsize=(8, 6))\n",
        "\n",
        "for label in np.unique(labels):\n",
        "    indices = np.where(labels == label)\n",
        "    plt.scatter(principal_components[indices, 0], principal_components[indices, 1],\n",
        "                label=f'Label {label}', color=label_colors[label], alpha=0.7)\n",
        "\n",
        "plt.title('PCA of the training data with labels')\n",
        "plt.xlabel('Principal Component 1')\n",
        "plt.ylabel('Principal Component 2')\n",
        "plt.legend()\n",
        "plt.show()"
      ],
      "metadata": {
        "colab": {
          "base_uri": "https://localhost:8080/",
          "height": 564
        },
        "id": "Pj5tCowdKD5J",
        "outputId": "c36cea3e-6df8-441f-8762-c32f55925d73"
      },
      "execution_count": null,
      "outputs": [
        {
          "output_type": "display_data",
          "data": {
            "text/plain": [
              "<Figure size 800x600 with 1 Axes>"
            ],
            "image/png": "[encoded data removed]"
          },
          "metadata": {}
        }
      ]
    },
    {
      "cell_type": "code",
      "source": [
        "data = features_train.copy()[:250]\n",
        "labels = df_train['condition_label'][:250]\n",
        "\n",
        "# Perform t-SNE\n",
        "tsne = TSNE(n_components=2, random_state=42)\n",
        "embedded_data = tsne.fit_transform(data)\n",
        "\n",
        "# Plot the t-SNE visualization with color-coded labels\n",
        "plt.figure(figsize=(8, 6))\n",
        "\n",
        "for label in np.unique(labels):\n",
        "    indices = np.where(labels == label)\n",
        "    plt.scatter(embedded_data[indices, 0], embedded_data[indices, 1],\n",
        "                label=f'Label {label}', color=label_colors[label], alpha=0.7)\n",
        "\n",
        "plt.title('t-SNE Visualization of training data with labels')\n",
        "plt.xlabel('t-SNE Dimension 1')\n",
        "plt.ylabel('t-SNE Dimension 2')\n",
        "plt.legend()\n",
        "plt.show()"
      ],
      "metadata": {
        "colab": {
          "base_uri": "https://localhost:8080/",
          "height": 564
        },
        "id": "29V99oLmKKAd",
        "outputId": "8ea9e5cb-a8b9-43f3-a452-7ca185a0e011"
      },
      "execution_count": null,
      "outputs": [
        {
          "output_type": "display_data",
          "data": {
            "text/plain": [
              "<Figure size 800x600 with 1 Axes>"
            ],
            "image/png": "[encoded data removed]"
          },
          "metadata": {}
        }
      ]
    },
    {
      "cell_type": "markdown",
      "source": [
        "Clearly the whole data has been embedded in a certain geometric way. In the PCA the data falls broadly on a parablic curve and for the t-SNE similarly for a straight line with positive gradient.\n",
        "\n",
        "However, still no distinctive patterns emerge between the different classes, which may indicate the data is not easily separable."
      ],
      "metadata": {
        "id": "0K5ZNyvcvi8W"
      }
    },
    {
      "cell_type": "markdown",
      "source": [
        "Again we try a NN classification head."
      ],
      "metadata": {
        "id": "DbpsjmJYLAAB"
      }
    },
    {
      "cell_type": "code",
      "source": [
        "# Set input and output dimensions\n",
        "input_dim = 768\n",
        "output_dim = 5\n",
        "\n",
        "# Create an instance of the model\n",
        "model = SimpleNN(input_dim, output_dim)\n",
        "\n",
        "# Define the loss function and optimizer\n",
        "criterion = nn.CrossEntropyLoss()\n",
        "optimizer = optim.Adam(model.parameters(), lr=0.001, amsgrad=True)"
      ],
      "metadata": {
        "id": "kX49GQ3dKNtm"
      },
      "execution_count": null,
      "outputs": []
    },
    {
      "cell_type": "markdown",
      "source": [
        "We can start by training for 50 epochs."
      ],
      "metadata": {
        "id": "S0TngQNDv7sL"
      }
    },
    {
      "cell_type": "code",
      "source": [
        "# Example data (replace with your actual dataset)\n",
        "num_samples = 11550\n",
        "input_data = torch.from_numpy(features_train)\n",
        "labels = torch.from_numpy(df_train['condition_label'].to_numpy().copy())\n",
        "labels-=1\n",
        "\n",
        "# Training loop\n",
        "num_epochs = 50\n",
        "batch_size = 350\n",
        "\n",
        "for epoch in range(num_epochs):\n",
        "    for i in range(0, num_samples, batch_size):\n",
        "        # Prepare batch\n",
        "        batch_inputs = input_data[i:i+batch_size]\n",
        "        batch_labels = labels[i:i+batch_size]\n",
        "\n",
        "        # Forward pass\n",
        "        outputs = model(batch_inputs)\n",
        "        loss = criterion(outputs, batch_labels)\n",
        "\n",
        "        # Backward pass and optimization\n",
        "        optimizer.zero_grad()\n",
        "        loss.backward()\n",
        "        optimizer.step()\n",
        "\n",
        "    # Print the loss after each epoch\n",
        "    print(f'Epoch [{epoch+1}/{num_epochs}], Loss: {loss.item():.4f}')"
      ],
      "metadata": {
        "id": "WC0HWSd8PSHP"
      },
      "execution_count": null,
      "outputs": []
    },
    {
      "cell_type": "markdown",
      "source": [
        "Now we predict on the test data and analyse the performance."
      ],
      "metadata": {
        "id": "FuU2dCbuwJEP"
      }
    },
    {
      "cell_type": "code",
      "source": [
        "test_input = torch.from_numpy(features_test)\n",
        "predicted_probs = model(test_input)\n",
        "predicted_classes = torch.argmax(predicted_probs, dim=1)"
      ],
      "metadata": {
        "id": "q3mnCVxrwHh2"
      },
      "execution_count": null,
      "outputs": []
    },
    {
      "cell_type": "code",
      "source": [
        "# Convert PyTorch tensors to NumPy arrays\n",
        "labels_np = df_test['condition_label'].to_numpy().copy()\n",
        "labels_np -= 1\n",
        "predicted_classes_np = predicted_classes.numpy()\n",
        "\n",
        "# Evaluate the performance\n",
        "accuracy = accuracy_score(labels_np, predicted_classes_np)\n",
        "conf_matrix = confusion_matrix(labels_np, predicted_classes_np)\n",
        "\n",
        "print(\"Accuracy:\", accuracy)\n",
        "print(\"Confusion Matrix:\")\n",
        "print(conf_matrix)"
      ],
      "metadata": {
        "id": "ed4uDjdswNqA"
      },
      "execution_count": null,
      "outputs": []
    },
    {
      "cell_type": "code",
      "source": [
        "performance(conf_matrix)"
      ],
      "metadata": {
        "id": "CWqkSHGQwShz"
      },
      "execution_count": null,
      "outputs": []
    },
    {
      "cell_type": "markdown",
      "source": [
        "The next code cell is optional, but we found that by training for many more epochs, we can push model to predict class 3 as well."
      ],
      "metadata": {
        "id": "s3qSaRJSLEva"
      }
    },
    {
      "cell_type": "code",
      "source": [
        "# Example data (replace with your actual dataset)\n",
        "num_samples = 11550\n",
        "input_data = torch.from_numpy(features_train)\n",
        "labels = torch.from_numpy(df_train['condition_label'].to_numpy().copy())\n",
        "labels-=1\n",
        "\n",
        "# Training loop\n",
        "num_epochs = 450\n",
        "batch_size = 350\n",
        "\n",
        "for epoch in range(num_epochs):\n",
        "    for i in range(0, num_samples, batch_size):\n",
        "        # Prepare batch\n",
        "        batch_inputs = input_data[i:i+batch_size]\n",
        "        batch_labels = labels[i:i+batch_size]\n",
        "\n",
        "        # Forward pass\n",
        "        outputs = model(batch_inputs)\n",
        "        loss = criterion(outputs, batch_labels)\n",
        "\n",
        "        # Backward pass and optimization\n",
        "        optimizer.zero_grad()\n",
        "        loss.backward()\n",
        "        optimizer.step()\n",
        "\n",
        "    # Print the loss after each epoch\n",
        "    print(f'Epoch [{epoch+1}/{num_epochs}], Loss: {loss.item():.4f}')"
      ],
      "metadata": {
        "colab": {
          "base_uri": "https://localhost:8080/",
          "height": 1000
        },
        "id": "hlzw_W9lKevA",
        "outputId": "5b25c036-2708-4ff6-ba56-9a125fbc0098"
      },
      "execution_count": null,
      "outputs": [
        {
          "output_type": "stream",
          "name": "stdout",
          "text": [
            "Epoch [1/1000], Loss: 1.5296\n",
            "Epoch [2/1000], Loss: 1.4845\n",
            "Epoch [3/1000], Loss: 1.4307\n",
            "Epoch [4/1000], Loss: 1.4183\n",
            "Epoch [5/1000], Loss: 1.3838\n",
            "Epoch [6/1000], Loss: 1.3978\n",
            "Epoch [7/1000], Loss: 1.4026\n",
            "Epoch [8/1000], Loss: 1.3904\n",
            "Epoch [9/1000], Loss: 1.3742\n",
            "Epoch [10/1000], Loss: 1.3774\n",
            "Epoch [11/1000], Loss: 1.3656\n",
            "Epoch [12/1000], Loss: 1.3767\n",
            "Epoch [13/1000], Loss: 1.3933\n",
            "Epoch [14/1000], Loss: 1.3733\n",
            "Epoch [15/1000], Loss: 1.3775\n",
            "Epoch [16/1000], Loss: 1.3722\n",
            "Epoch [17/1000], Loss: 1.3765\n",
            "Epoch [18/1000], Loss: 1.3663\n",
            "Epoch [19/1000], Loss: 1.3637\n",
            "Epoch [20/1000], Loss: 1.3629\n",
            "Epoch [21/1000], Loss: 1.3564\n",
            "Epoch [22/1000], Loss: 1.3686\n",
            "Epoch [23/1000], Loss: 1.3673\n",
            "Epoch [24/1000], Loss: 1.3578\n",
            "Epoch [25/1000], Loss: 1.3627\n",
            "Epoch [26/1000], Loss: 1.3570\n",
            "Epoch [27/1000], Loss: 1.3536\n",
            "Epoch [28/1000], Loss: 1.3771\n",
            "Epoch [29/1000], Loss: 1.3787\n",
            "Epoch [30/1000], Loss: 1.3698\n",
            "Epoch [31/1000], Loss: 1.3540\n",
            "Epoch [32/1000], Loss: 1.3735\n",
            "Epoch [33/1000], Loss: 1.3510\n",
            "Epoch [34/1000], Loss: 1.3480\n",
            "Epoch [35/1000], Loss: 1.3578\n",
            "Epoch [36/1000], Loss: 1.3469\n",
            "Epoch [37/1000], Loss: 1.3619\n",
            "Epoch [38/1000], Loss: 1.3483\n",
            "Epoch [39/1000], Loss: 1.3674\n",
            "Epoch [40/1000], Loss: 1.3592\n",
            "Epoch [41/1000], Loss: 1.3609\n",
            "Epoch [42/1000], Loss: 1.3510\n",
            "Epoch [43/1000], Loss: 1.3592\n",
            "Epoch [44/1000], Loss: 1.3600\n",
            "Epoch [45/1000], Loss: 1.3584\n",
            "Epoch [46/1000], Loss: 1.3531\n",
            "Epoch [47/1000], Loss: 1.3411\n",
            "Epoch [48/1000], Loss: 1.3512\n",
            "Epoch [49/1000], Loss: 1.3392\n",
            "Epoch [50/1000], Loss: 1.3535\n",
            "Epoch [51/1000], Loss: 1.3493\n",
            "Epoch [52/1000], Loss: 1.3458\n",
            "Epoch [53/1000], Loss: 1.3347\n",
            "Epoch [54/1000], Loss: 1.3663\n",
            "Epoch [55/1000], Loss: 1.3516\n",
            "Epoch [56/1000], Loss: 1.3482\n",
            "Epoch [57/1000], Loss: 1.3468\n",
            "Epoch [58/1000], Loss: 1.3576\n",
            "Epoch [59/1000], Loss: 1.3346\n",
            "Epoch [60/1000], Loss: 1.3684\n",
            "Epoch [61/1000], Loss: 1.3476\n",
            "Epoch [62/1000], Loss: 1.3516\n",
            "Epoch [63/1000], Loss: 1.3475\n",
            "Epoch [64/1000], Loss: 1.3652\n",
            "Epoch [65/1000], Loss: 1.3349\n",
            "Epoch [66/1000], Loss: 1.3425\n",
            "Epoch [67/1000], Loss: 1.3597\n",
            "Epoch [68/1000], Loss: 1.3745\n",
            "Epoch [69/1000], Loss: 1.3517\n",
            "Epoch [70/1000], Loss: 1.3658\n",
            "Epoch [71/1000], Loss: 1.3476\n",
            "Epoch [72/1000], Loss: 1.3668\n",
            "Epoch [73/1000], Loss: 1.3732\n",
            "Epoch [74/1000], Loss: 1.3533\n",
            "Epoch [75/1000], Loss: 1.3590\n",
            "Epoch [76/1000], Loss: 1.3642\n",
            "Epoch [77/1000], Loss: 1.3530\n",
            "Epoch [78/1000], Loss: 1.3576\n",
            "Epoch [79/1000], Loss: 1.3579\n",
            "Epoch [80/1000], Loss: 1.3809\n",
            "Epoch [81/1000], Loss: 1.3411\n",
            "Epoch [82/1000], Loss: 1.3443\n",
            "Epoch [83/1000], Loss: 1.3360\n",
            "Epoch [84/1000], Loss: 1.3616\n",
            "Epoch [85/1000], Loss: 1.3749\n",
            "Epoch [86/1000], Loss: 1.3895\n",
            "Epoch [87/1000], Loss: 1.3394\n",
            "Epoch [88/1000], Loss: 1.3658\n",
            "Epoch [89/1000], Loss: 1.3430\n",
            "Epoch [90/1000], Loss: 1.3416\n",
            "Epoch [91/1000], Loss: 1.3555\n",
            "Epoch [92/1000], Loss: 1.3516\n",
            "Epoch [93/1000], Loss: 1.3402\n",
            "Epoch [94/1000], Loss: 1.3574\n",
            "Epoch [95/1000], Loss: 1.3523\n",
            "Epoch [96/1000], Loss: 1.3719\n",
            "Epoch [97/1000], Loss: 1.3515\n",
            "Epoch [98/1000], Loss: 1.3347\n",
            "Epoch [99/1000], Loss: 1.3611\n",
            "Epoch [100/1000], Loss: 1.3557\n",
            "Epoch [101/1000], Loss: 1.3443\n",
            "Epoch [102/1000], Loss: 1.3400\n",
            "Epoch [103/1000], Loss: 1.3517\n",
            "Epoch [104/1000], Loss: 1.3370\n",
            "Epoch [105/1000], Loss: 1.3485\n",
            "Epoch [106/1000], Loss: 1.3603\n",
            "Epoch [107/1000], Loss: 1.3414\n",
            "Epoch [108/1000], Loss: 1.4014\n",
            "Epoch [109/1000], Loss: 1.3624\n",
            "Epoch [110/1000], Loss: 1.3397\n",
            "Epoch [111/1000], Loss: 1.3345\n",
            "Epoch [112/1000], Loss: 1.3318\n",
            "Epoch [113/1000], Loss: 1.3358\n",
            "Epoch [114/1000], Loss: 1.3431\n",
            "Epoch [115/1000], Loss: 1.3634\n",
            "Epoch [116/1000], Loss: 1.3388\n",
            "Epoch [117/1000], Loss: 1.3476\n",
            "Epoch [118/1000], Loss: 1.3477\n",
            "Epoch [119/1000], Loss: 1.3500\n",
            "Epoch [120/1000], Loss: 1.3325\n",
            "Epoch [121/1000], Loss: 1.3413\n",
            "Epoch [122/1000], Loss: 1.3623\n",
            "Epoch [123/1000], Loss: 1.3453\n",
            "Epoch [124/1000], Loss: 1.3331\n",
            "Epoch [125/1000], Loss: 1.3393\n",
            "Epoch [126/1000], Loss: 1.3617\n",
            "Epoch [127/1000], Loss: 1.3639\n",
            "Epoch [128/1000], Loss: 1.3472\n",
            "Epoch [129/1000], Loss: 1.3418\n",
            "Epoch [130/1000], Loss: 1.3418\n",
            "Epoch [131/1000], Loss: 1.3674\n",
            "Epoch [132/1000], Loss: 1.3505\n",
            "Epoch [133/1000], Loss: 1.3335\n",
            "Epoch [134/1000], Loss: 1.3574\n",
            "Epoch [135/1000], Loss: 1.3404\n",
            "Epoch [136/1000], Loss: 1.3412\n",
            "Epoch [137/1000], Loss: 1.3576\n",
            "Epoch [138/1000], Loss: 1.3428\n",
            "Epoch [139/1000], Loss: 1.3583\n",
            "Epoch [140/1000], Loss: 1.3548\n",
            "Epoch [141/1000], Loss: 1.3422\n",
            "Epoch [142/1000], Loss: 1.3429\n",
            "Epoch [143/1000], Loss: 1.3537\n",
            "Epoch [144/1000], Loss: 1.3423\n",
            "Epoch [145/1000], Loss: 1.3527\n",
            "Epoch [146/1000], Loss: 1.3354\n",
            "Epoch [147/1000], Loss: 1.3385\n",
            "Epoch [148/1000], Loss: 1.3529\n",
            "Epoch [149/1000], Loss: 1.3586\n",
            "Epoch [150/1000], Loss: 1.3219\n",
            "Epoch [151/1000], Loss: 1.3471\n",
            "Epoch [152/1000], Loss: 1.3369\n",
            "Epoch [153/1000], Loss: 1.3520\n",
            "Epoch [154/1000], Loss: 1.3612\n",
            "Epoch [155/1000], Loss: 1.3408\n",
            "Epoch [156/1000], Loss: 1.3588\n",
            "Epoch [157/1000], Loss: 1.3419\n",
            "Epoch [158/1000], Loss: 1.3365\n",
            "Epoch [159/1000], Loss: 1.3548\n",
            "Epoch [160/1000], Loss: 1.3489\n",
            "Epoch [161/1000], Loss: 1.3429\n",
            "Epoch [162/1000], Loss: 1.3321\n",
            "Epoch [163/1000], Loss: 1.3283\n",
            "Epoch [164/1000], Loss: 1.3395\n",
            "Epoch [165/1000], Loss: 1.3475\n",
            "Epoch [166/1000], Loss: 1.3591\n",
            "Epoch [167/1000], Loss: 1.3543\n",
            "Epoch [168/1000], Loss: 1.3503\n",
            "Epoch [169/1000], Loss: 1.3377\n",
            "Epoch [170/1000], Loss: 1.3245\n",
            "Epoch [171/1000], Loss: 1.3372\n",
            "Epoch [172/1000], Loss: 1.3449\n",
            "Epoch [173/1000], Loss: 1.3485\n",
            "Epoch [174/1000], Loss: 1.3293\n",
            "Epoch [175/1000], Loss: 1.3187\n",
            "Epoch [176/1000], Loss: 1.3390\n",
            "Epoch [177/1000], Loss: 1.3267\n",
            "Epoch [178/1000], Loss: 1.3378\n",
            "Epoch [179/1000], Loss: 1.3271\n",
            "Epoch [180/1000], Loss: 1.3285\n",
            "Epoch [181/1000], Loss: 1.3483\n",
            "Epoch [182/1000], Loss: 1.3534\n",
            "Epoch [183/1000], Loss: 1.3323\n",
            "Epoch [184/1000], Loss: 1.3293\n",
            "Epoch [185/1000], Loss: 1.3169\n",
            "Epoch [186/1000], Loss: 1.3285\n",
            "Epoch [187/1000], Loss: 1.3460\n",
            "Epoch [188/1000], Loss: 1.3254\n",
            "Epoch [189/1000], Loss: 1.3303\n",
            "Epoch [190/1000], Loss: 1.3382\n",
            "Epoch [191/1000], Loss: 1.3375\n",
            "Epoch [192/1000], Loss: 1.3397\n",
            "Epoch [193/1000], Loss: 1.3314\n",
            "Epoch [194/1000], Loss: 1.3232\n",
            "Epoch [195/1000], Loss: 1.3378\n",
            "Epoch [196/1000], Loss: 1.3199\n",
            "Epoch [197/1000], Loss: 1.3200\n",
            "Epoch [198/1000], Loss: 1.3386\n",
            "Epoch [199/1000], Loss: 1.3461\n",
            "Epoch [200/1000], Loss: 1.3278\n",
            "Epoch [201/1000], Loss: 1.3416\n",
            "Epoch [202/1000], Loss: 1.3331\n",
            "Epoch [203/1000], Loss: 1.3392\n",
            "Epoch [204/1000], Loss: 1.3216\n",
            "Epoch [205/1000], Loss: 1.3249\n",
            "Epoch [206/1000], Loss: 1.3297\n",
            "Epoch [207/1000], Loss: 1.3184\n",
            "Epoch [208/1000], Loss: 1.3315\n",
            "Epoch [209/1000], Loss: 1.3261\n",
            "Epoch [210/1000], Loss: 1.3250\n",
            "Epoch [211/1000], Loss: 1.3113\n",
            "Epoch [212/1000], Loss: 1.3129\n",
            "Epoch [213/1000], Loss: 1.3135\n",
            "Epoch [214/1000], Loss: 1.3197\n",
            "Epoch [215/1000], Loss: 1.3235\n",
            "Epoch [216/1000], Loss: 1.3352\n",
            "Epoch [217/1000], Loss: 1.3241\n",
            "Epoch [218/1000], Loss: 1.3360\n",
            "Epoch [219/1000], Loss: 1.3234\n",
            "Epoch [220/1000], Loss: 1.3229\n",
            "Epoch [221/1000], Loss: 1.3192\n",
            "Epoch [222/1000], Loss: 1.3373\n",
            "Epoch [223/1000], Loss: 1.3204\n",
            "Epoch [224/1000], Loss: 1.3238\n",
            "Epoch [225/1000], Loss: 1.3291\n",
            "Epoch [226/1000], Loss: 1.3177\n",
            "Epoch [227/1000], Loss: 1.3359\n",
            "Epoch [228/1000], Loss: 1.3388\n",
            "Epoch [229/1000], Loss: 1.3192\n",
            "Epoch [230/1000], Loss: 1.3332\n",
            "Epoch [231/1000], Loss: 1.3107\n",
            "Epoch [232/1000], Loss: 1.3222\n",
            "Epoch [233/1000], Loss: 1.3291\n",
            "Epoch [234/1000], Loss: 1.3407\n",
            "Epoch [235/1000], Loss: 1.3148\n",
            "Epoch [236/1000], Loss: 1.3311\n",
            "Epoch [237/1000], Loss: 1.3335\n",
            "Epoch [238/1000], Loss: 1.3367\n",
            "Epoch [239/1000], Loss: 1.3215\n",
            "Epoch [240/1000], Loss: 1.3297\n",
            "Epoch [241/1000], Loss: 1.3358\n",
            "Epoch [242/1000], Loss: 1.3182\n",
            "Epoch [243/1000], Loss: 1.3400\n",
            "Epoch [244/1000], Loss: 1.3224\n",
            "Epoch [245/1000], Loss: 1.3076\n",
            "Epoch [246/1000], Loss: 1.3128\n",
            "Epoch [247/1000], Loss: 1.3320\n",
            "Epoch [248/1000], Loss: 1.3303\n",
            "Epoch [249/1000], Loss: 1.3397\n",
            "Epoch [250/1000], Loss: 1.3167\n",
            "Epoch [251/1000], Loss: 1.3129\n",
            "Epoch [252/1000], Loss: 1.3469\n",
            "Epoch [253/1000], Loss: 1.3213\n",
            "Epoch [254/1000], Loss: 1.3069\n",
            "Epoch [255/1000], Loss: 1.3263\n",
            "Epoch [256/1000], Loss: 1.3315\n",
            "Epoch [257/1000], Loss: 1.3326\n",
            "Epoch [258/1000], Loss: 1.3135\n",
            "Epoch [259/1000], Loss: 1.3148\n",
            "Epoch [260/1000], Loss: 1.3213\n",
            "Epoch [261/1000], Loss: 1.3194\n",
            "Epoch [262/1000], Loss: 1.3293\n",
            "Epoch [263/1000], Loss: 1.3276\n",
            "Epoch [264/1000], Loss: 1.3175\n",
            "Epoch [265/1000], Loss: 1.3206\n",
            "Epoch [266/1000], Loss: 1.3393\n",
            "Epoch [267/1000], Loss: 1.3178\n",
            "Epoch [268/1000], Loss: 1.3174\n",
            "Epoch [269/1000], Loss: 1.3054\n",
            "Epoch [270/1000], Loss: 1.3049\n",
            "Epoch [271/1000], Loss: 1.3190\n",
            "Epoch [272/1000], Loss: 1.3237\n",
            "Epoch [273/1000], Loss: 1.3259\n",
            "Epoch [274/1000], Loss: 1.3240\n",
            "Epoch [275/1000], Loss: 1.3335\n",
            "Epoch [276/1000], Loss: 1.3079\n",
            "Epoch [277/1000], Loss: 1.3202\n",
            "Epoch [278/1000], Loss: 1.3295\n",
            "Epoch [279/1000], Loss: 1.3309\n",
            "Epoch [280/1000], Loss: 1.3354\n",
            "Epoch [281/1000], Loss: 1.3191\n",
            "Epoch [282/1000], Loss: 1.3340\n",
            "Epoch [283/1000], Loss: 1.3318\n",
            "Epoch [284/1000], Loss: 1.3103\n",
            "Epoch [285/1000], Loss: 1.3179\n",
            "Epoch [286/1000], Loss: 1.3517\n",
            "Epoch [287/1000], Loss: 1.3209\n",
            "Epoch [288/1000], Loss: 1.3160\n",
            "Epoch [289/1000], Loss: 1.3207\n",
            "Epoch [290/1000], Loss: 1.3123\n",
            "Epoch [291/1000], Loss: 1.3556\n",
            "Epoch [292/1000], Loss: 1.3231\n",
            "Epoch [293/1000], Loss: 1.3247\n",
            "Epoch [294/1000], Loss: 1.3148\n",
            "Epoch [295/1000], Loss: 1.3351\n",
            "Epoch [296/1000], Loss: 1.3302\n",
            "Epoch [297/1000], Loss: 1.3411\n",
            "Epoch [298/1000], Loss: 1.3339\n",
            "Epoch [299/1000], Loss: 1.3326\n",
            "Epoch [300/1000], Loss: 1.3393\n",
            "Epoch [301/1000], Loss: 1.3240\n",
            "Epoch [302/1000], Loss: 1.3324\n",
            "Epoch [303/1000], Loss: 1.3195\n",
            "Epoch [304/1000], Loss: 1.3333\n",
            "Epoch [305/1000], Loss: 1.3089\n",
            "Epoch [306/1000], Loss: 1.3198\n",
            "Epoch [307/1000], Loss: 1.3117\n",
            "Epoch [308/1000], Loss: 1.3198\n",
            "Epoch [309/1000], Loss: 1.3192\n",
            "Epoch [310/1000], Loss: 1.3121\n",
            "Epoch [311/1000], Loss: 1.3203\n",
            "Epoch [312/1000], Loss: 1.3121\n",
            "Epoch [313/1000], Loss: 1.3314\n",
            "Epoch [314/1000], Loss: 1.3460\n",
            "Epoch [315/1000], Loss: 1.3277\n",
            "Epoch [316/1000], Loss: 1.3282\n",
            "Epoch [317/1000], Loss: 1.3152\n",
            "Epoch [318/1000], Loss: 1.3243\n",
            "Epoch [319/1000], Loss: 1.3171\n",
            "Epoch [320/1000], Loss: 1.3272\n",
            "Epoch [321/1000], Loss: 1.3109\n",
            "Epoch [322/1000], Loss: 1.3146\n",
            "Epoch [323/1000], Loss: 1.3202\n",
            "Epoch [324/1000], Loss: 1.3266\n",
            "Epoch [325/1000], Loss: 1.3195\n",
            "Epoch [326/1000], Loss: 1.3163\n",
            "Epoch [327/1000], Loss: 1.3059\n",
            "Epoch [328/1000], Loss: 1.3136\n",
            "Epoch [329/1000], Loss: 1.3229\n",
            "Epoch [330/1000], Loss: 1.3120\n",
            "Epoch [331/1000], Loss: 1.3038\n",
            "Epoch [332/1000], Loss: 1.3081\n",
            "Epoch [333/1000], Loss: 1.3148\n",
            "Epoch [334/1000], Loss: 1.3154\n",
            "Epoch [335/1000], Loss: 1.3205\n",
            "Epoch [336/1000], Loss: 1.3225\n",
            "Epoch [337/1000], Loss: 1.3203\n",
            "Epoch [338/1000], Loss: 1.3204\n",
            "Epoch [339/1000], Loss: 1.3114\n",
            "Epoch [340/1000], Loss: 1.3033\n",
            "Epoch [341/1000], Loss: 1.3131\n",
            "Epoch [342/1000], Loss: 1.3301\n",
            "Epoch [343/1000], Loss: 1.3207\n",
            "Epoch [344/1000], Loss: 1.3129\n",
            "Epoch [345/1000], Loss: 1.3129\n",
            "Epoch [346/1000], Loss: 1.3099\n",
            "Epoch [347/1000], Loss: 1.3106\n",
            "Epoch [348/1000], Loss: 1.3229\n",
            "Epoch [349/1000], Loss: 1.3091\n",
            "Epoch [350/1000], Loss: 1.3272\n",
            "Epoch [351/1000], Loss: 1.3042\n",
            "Epoch [352/1000], Loss: 1.3239\n",
            "Epoch [353/1000], Loss: 1.3138\n",
            "Epoch [354/1000], Loss: 1.3111\n",
            "Epoch [355/1000], Loss: 1.3060\n",
            "Epoch [356/1000], Loss: 1.3221\n",
            "Epoch [357/1000], Loss: 1.3139\n",
            "Epoch [358/1000], Loss: 1.3084\n",
            "Epoch [359/1000], Loss: 1.3123\n",
            "Epoch [360/1000], Loss: 1.3213\n",
            "Epoch [361/1000], Loss: 1.3184\n",
            "Epoch [362/1000], Loss: 1.3163\n",
            "Epoch [363/1000], Loss: 1.3390\n",
            "Epoch [364/1000], Loss: 1.3005\n",
            "Epoch [365/1000], Loss: 1.3196\n",
            "Epoch [366/1000], Loss: 1.3175\n",
            "Epoch [367/1000], Loss: 1.3101\n",
            "Epoch [368/1000], Loss: 1.3131\n",
            "Epoch [369/1000], Loss: 1.3099\n",
            "Epoch [370/1000], Loss: 1.3252\n",
            "Epoch [371/1000], Loss: 1.3278\n",
            "Epoch [372/1000], Loss: 1.3188\n",
            "Epoch [373/1000], Loss: 1.3428\n",
            "Epoch [374/1000], Loss: 1.3150\n",
            "Epoch [375/1000], Loss: 1.3188\n",
            "Epoch [376/1000], Loss: 1.3086\n",
            "Epoch [377/1000], Loss: 1.3217\n",
            "Epoch [378/1000], Loss: 1.3258\n",
            "Epoch [379/1000], Loss: 1.3213\n",
            "Epoch [380/1000], Loss: 1.2978\n",
            "Epoch [381/1000], Loss: 1.3331\n",
            "Epoch [382/1000], Loss: 1.3212\n",
            "Epoch [383/1000], Loss: 1.3050\n",
            "Epoch [384/1000], Loss: 1.3032\n",
            "Epoch [385/1000], Loss: 1.3109\n",
            "Epoch [386/1000], Loss: 1.3103\n",
            "Epoch [387/1000], Loss: 1.3161\n",
            "Epoch [388/1000], Loss: 1.3130\n",
            "Epoch [389/1000], Loss: 1.3051\n",
            "Epoch [390/1000], Loss: 1.2955\n",
            "Epoch [391/1000], Loss: 1.3162\n",
            "Epoch [392/1000], Loss: 1.3100\n",
            "Epoch [393/1000], Loss: 1.3178\n",
            "Epoch [394/1000], Loss: 1.3086\n",
            "Epoch [395/1000], Loss: 1.3213\n",
            "Epoch [396/1000], Loss: 1.3015\n",
            "Epoch [397/1000], Loss: 1.3093\n",
            "Epoch [398/1000], Loss: 1.3100\n",
            "Epoch [399/1000], Loss: 1.3017\n",
            "Epoch [400/1000], Loss: 1.3041\n",
            "Epoch [401/1000], Loss: 1.3289\n",
            "Epoch [402/1000], Loss: 1.3100\n",
            "Epoch [403/1000], Loss: 1.3022\n",
            "Epoch [404/1000], Loss: 1.3296\n",
            "Epoch [405/1000], Loss: 1.3100\n",
            "Epoch [406/1000], Loss: 1.2981\n",
            "Epoch [407/1000], Loss: 1.3042\n",
            "Epoch [408/1000], Loss: 1.3118\n",
            "Epoch [409/1000], Loss: 1.3133\n",
            "Epoch [410/1000], Loss: 1.2999\n",
            "Epoch [411/1000], Loss: 1.3099\n",
            "Epoch [412/1000], Loss: 1.3041\n",
            "Epoch [413/1000], Loss: 1.3159\n",
            "Epoch [414/1000], Loss: 1.3126\n",
            "Epoch [415/1000], Loss: 1.3024\n",
            "Epoch [416/1000], Loss: 1.3072\n",
            "Epoch [417/1000], Loss: 1.3125\n",
            "Epoch [418/1000], Loss: 1.3120\n",
            "Epoch [419/1000], Loss: 1.3254\n",
            "Epoch [420/1000], Loss: 1.3027\n",
            "Epoch [421/1000], Loss: 1.3091\n",
            "Epoch [422/1000], Loss: 1.2972\n",
            "Epoch [423/1000], Loss: 1.2921\n",
            "Epoch [424/1000], Loss: 1.2967\n",
            "Epoch [425/1000], Loss: 1.2943\n",
            "Epoch [426/1000], Loss: 1.3188\n",
            "Epoch [427/1000], Loss: 1.2897\n",
            "Epoch [428/1000], Loss: 1.3100\n",
            "Epoch [429/1000], Loss: 1.3140\n",
            "Epoch [430/1000], Loss: 1.3121\n",
            "Epoch [431/1000], Loss: 1.3058\n",
            "Epoch [432/1000], Loss: 1.2912\n",
            "Epoch [433/1000], Loss: 1.2836\n",
            "Epoch [434/1000], Loss: 1.3115\n",
            "Epoch [435/1000], Loss: 1.3094\n",
            "Epoch [436/1000], Loss: 1.3025\n",
            "Epoch [437/1000], Loss: 1.2928\n",
            "Epoch [438/1000], Loss: 1.3010\n",
            "Epoch [439/1000], Loss: 1.2962\n",
            "Epoch [440/1000], Loss: 1.2913\n",
            "Epoch [441/1000], Loss: 1.3169\n",
            "Epoch [442/1000], Loss: 1.3044\n",
            "Epoch [443/1000], Loss: 1.2982\n",
            "Epoch [444/1000], Loss: 1.2742\n",
            "Epoch [445/1000], Loss: 1.2809\n",
            "Epoch [446/1000], Loss: 1.2831\n",
            "Epoch [447/1000], Loss: 1.2731\n",
            "Epoch [448/1000], Loss: 1.2913\n",
            "Epoch [449/1000], Loss: 1.2929\n",
            "Epoch [450/1000], Loss: 1.2879\n",
            "Epoch [451/1000], Loss: 1.2829\n",
            "Epoch [452/1000], Loss: 1.2792\n",
            "Epoch [453/1000], Loss: 1.2826\n",
            "Epoch [454/1000], Loss: 1.2984\n",
            "Epoch [455/1000], Loss: 1.3033\n",
            "Epoch [456/1000], Loss: 1.2862\n",
            "Epoch [457/1000], Loss: 1.3019\n",
            "Epoch [458/1000], Loss: 1.3029\n",
            "Epoch [459/1000], Loss: 1.2913\n",
            "Epoch [460/1000], Loss: 1.2946\n",
            "Epoch [461/1000], Loss: 1.3046\n",
            "Epoch [462/1000], Loss: 1.3006\n",
            "Epoch [463/1000], Loss: 1.2917\n",
            "Epoch [464/1000], Loss: 1.2964\n",
            "Epoch [465/1000], Loss: 1.2889\n",
            "Epoch [466/1000], Loss: 1.2753\n",
            "Epoch [467/1000], Loss: 1.2796\n",
            "Epoch [468/1000], Loss: 1.2916\n",
            "Epoch [469/1000], Loss: 1.2822\n",
            "Epoch [470/1000], Loss: 1.3127\n",
            "Epoch [471/1000], Loss: 1.3013\n",
            "Epoch [472/1000], Loss: 1.2854\n",
            "Epoch [473/1000], Loss: 1.2889\n",
            "Epoch [474/1000], Loss: 1.2873\n",
            "Epoch [475/1000], Loss: 1.2791\n",
            "Epoch [476/1000], Loss: 1.2829\n",
            "Epoch [477/1000], Loss: 1.2908\n",
            "Epoch [478/1000], Loss: 1.2648\n",
            "Epoch [479/1000], Loss: 1.3007\n",
            "Epoch [480/1000], Loss: 1.2898\n",
            "Epoch [481/1000], Loss: 1.2901\n",
            "Epoch [482/1000], Loss: 1.2884\n",
            "Epoch [483/1000], Loss: 1.2942\n",
            "Epoch [484/1000], Loss: 1.2891\n",
            "Epoch [485/1000], Loss: 1.2877\n",
            "Epoch [486/1000], Loss: 1.2766\n",
            "Epoch [487/1000], Loss: 1.2908\n",
            "Epoch [488/1000], Loss: 1.2856\n",
            "Epoch [489/1000], Loss: 1.3007\n",
            "Epoch [490/1000], Loss: 1.2763\n",
            "Epoch [491/1000], Loss: 1.2626\n",
            "Epoch [492/1000], Loss: 1.2761\n",
            "Epoch [493/1000], Loss: 1.2671\n",
            "Epoch [494/1000], Loss: 1.2814\n",
            "Epoch [495/1000], Loss: 1.2722\n",
            "Epoch [496/1000], Loss: 1.3073\n",
            "Epoch [497/1000], Loss: 1.2817\n",
            "Epoch [498/1000], Loss: 1.2955\n",
            "Epoch [499/1000], Loss: 1.2771\n",
            "Epoch [500/1000], Loss: 1.2856\n",
            "Epoch [501/1000], Loss: 1.2540\n",
            "Epoch [502/1000], Loss: 1.2824\n"
          ]
        },
        {
          "output_type": "error",
          "ename": "KeyboardInterrupt",
          "evalue": "ignored",
          "traceback": [
            "\u001b[0;31m---------------------------------------------------------------------------\u001b[0m",
            "\u001b[0;31mKeyboardInterrupt\u001b[0m                         Traceback (most recent call last)",
            "\u001b[0;32m<ipython-input-124-4ac55b42ff09>\u001b[0m in \u001b[0;36m<cell line: 11>\u001b[0;34m()\u001b[0m\n\u001b[1;32m     16\u001b[0m \u001b[0;34m\u001b[0m\u001b[0m\n\u001b[1;32m     17\u001b[0m         \u001b[0;31m# Forward pass\u001b[0m\u001b[0;34m\u001b[0m\u001b[0;34m\u001b[0m\u001b[0m\n\u001b[0;32m---> 18\u001b[0;31m         \u001b[0moutputs\u001b[0m \u001b[0;34m=\u001b[0m \u001b[0mmodel\u001b[0m\u001b[0;34m(\u001b[0m\u001b[0mbatch_inputs\u001b[0m\u001b[0;34m)\u001b[0m\u001b[0;34m\u001b[0m\u001b[0;34m\u001b[0m\u001b[0m\n\u001b[0m\u001b[1;32m     19\u001b[0m         \u001b[0mloss\u001b[0m \u001b[0;34m=\u001b[0m \u001b[0mcriterion\u001b[0m\u001b[0;34m(\u001b[0m\u001b[0moutputs\u001b[0m\u001b[0;34m,\u001b[0m \u001b[0mbatch_labels\u001b[0m\u001b[0;34m)\u001b[0m\u001b[0;34m\u001b[0m\u001b[0;34m\u001b[0m\u001b[0m\n\u001b[1;32m     20\u001b[0m \u001b[0;34m\u001b[0m\u001b[0m\n",
            "\u001b[0;32m/usr/local/lib/python3.10/dist-packages/torch/nn/modules/module.py\u001b[0m in \u001b[0;36m_wrapped_call_impl\u001b[0;34m(self, *args, **kwargs)\u001b[0m\n\u001b[1;32m   1516\u001b[0m             \u001b[0;32mreturn\u001b[0m \u001b[0mself\u001b[0m\u001b[0;34m.\u001b[0m\u001b[0m_compiled_call_impl\u001b[0m\u001b[0;34m(\u001b[0m\u001b[0;34m*\u001b[0m\u001b[0margs\u001b[0m\u001b[0;34m,\u001b[0m \u001b[0;34m**\u001b[0m\u001b[0mkwargs\u001b[0m\u001b[0;34m)\u001b[0m  \u001b[0;31m# type: ignore[misc]\u001b[0m\u001b[0;34m\u001b[0m\u001b[0;34m\u001b[0m\u001b[0m\n\u001b[1;32m   1517\u001b[0m         \u001b[0;32melse\u001b[0m\u001b[0;34m:\u001b[0m\u001b[0;34m\u001b[0m\u001b[0;34m\u001b[0m\u001b[0m\n\u001b[0;32m-> 1518\u001b[0;31m             \u001b[0;32mreturn\u001b[0m \u001b[0mself\u001b[0m\u001b[0;34m.\u001b[0m\u001b[0m_call_impl\u001b[0m\u001b[0;34m(\u001b[0m\u001b[0;34m*\u001b[0m\u001b[0margs\u001b[0m\u001b[0;34m,\u001b[0m \u001b[0;34m**\u001b[0m\u001b[0mkwargs\u001b[0m\u001b[0;34m)\u001b[0m\u001b[0;34m\u001b[0m\u001b[0;34m\u001b[0m\u001b[0m\n\u001b[0m\u001b[1;32m   1519\u001b[0m \u001b[0;34m\u001b[0m\u001b[0m\n\u001b[1;32m   1520\u001b[0m     \u001b[0;32mdef\u001b[0m \u001b[0m_call_impl\u001b[0m\u001b[0;34m(\u001b[0m\u001b[0mself\u001b[0m\u001b[0;34m,\u001b[0m \u001b[0;34m*\u001b[0m\u001b[0margs\u001b[0m\u001b[0;34m,\u001b[0m \u001b[0;34m**\u001b[0m\u001b[0mkwargs\u001b[0m\u001b[0;34m)\u001b[0m\u001b[0;34m:\u001b[0m\u001b[0;34m\u001b[0m\u001b[0;34m\u001b[0m\u001b[0m\n",
            "\u001b[0;32m/usr/local/lib/python3.10/dist-packages/torch/nn/modules/module.py\u001b[0m in \u001b[0;36m_call_impl\u001b[0;34m(self, *args, **kwargs)\u001b[0m\n\u001b[1;32m   1525\u001b[0m                 \u001b[0;32mor\u001b[0m \u001b[0m_global_backward_pre_hooks\u001b[0m \u001b[0;32mor\u001b[0m \u001b[0m_global_backward_hooks\u001b[0m\u001b[0;34m\u001b[0m\u001b[0;34m\u001b[0m\u001b[0m\n\u001b[1;32m   1526\u001b[0m                 or _global_forward_hooks or _global_forward_pre_hooks):\n\u001b[0;32m-> 1527\u001b[0;31m             \u001b[0;32mreturn\u001b[0m \u001b[0mforward_call\u001b[0m\u001b[0;34m(\u001b[0m\u001b[0;34m*\u001b[0m\u001b[0margs\u001b[0m\u001b[0;34m,\u001b[0m \u001b[0;34m**\u001b[0m\u001b[0mkwargs\u001b[0m\u001b[0;34m)\u001b[0m\u001b[0;34m\u001b[0m\u001b[0;34m\u001b[0m\u001b[0m\n\u001b[0m\u001b[1;32m   1528\u001b[0m \u001b[0;34m\u001b[0m\u001b[0m\n\u001b[1;32m   1529\u001b[0m         \u001b[0;32mtry\u001b[0m\u001b[0;34m:\u001b[0m\u001b[0;34m\u001b[0m\u001b[0;34m\u001b[0m\u001b[0m\n",
            "\u001b[0;32m<ipython-input-68-b4fbba80ee2a>\u001b[0m in \u001b[0;36mforward\u001b[0;34m(self, x)\u001b[0m\n\u001b[1;32m     12\u001b[0m \u001b[0;34m\u001b[0m\u001b[0m\n\u001b[1;32m     13\u001b[0m     \u001b[0;32mdef\u001b[0m \u001b[0mforward\u001b[0m\u001b[0;34m(\u001b[0m\u001b[0mself\u001b[0m\u001b[0;34m,\u001b[0m \u001b[0mx\u001b[0m\u001b[0;34m)\u001b[0m\u001b[0;34m:\u001b[0m\u001b[0;34m\u001b[0m\u001b[0;34m\u001b[0m\u001b[0m\n\u001b[0;32m---> 14\u001b[0;31m         \u001b[0mx\u001b[0m \u001b[0;34m=\u001b[0m \u001b[0mself\u001b[0m\u001b[0;34m.\u001b[0m\u001b[0mfc1\u001b[0m\u001b[0;34m(\u001b[0m\u001b[0mx\u001b[0m\u001b[0;34m)\u001b[0m\u001b[0;34m\u001b[0m\u001b[0;34m\u001b[0m\u001b[0m\n\u001b[0m\u001b[1;32m     15\u001b[0m         \u001b[0mx\u001b[0m \u001b[0;34m=\u001b[0m \u001b[0mself\u001b[0m\u001b[0;34m.\u001b[0m\u001b[0mrelu1\u001b[0m\u001b[0;34m(\u001b[0m\u001b[0mx\u001b[0m\u001b[0;34m)\u001b[0m\u001b[0;34m\u001b[0m\u001b[0;34m\u001b[0m\u001b[0m\n\u001b[1;32m     16\u001b[0m         \u001b[0mx\u001b[0m \u001b[0;34m=\u001b[0m \u001b[0mself\u001b[0m\u001b[0;34m.\u001b[0m\u001b[0mdropout1\u001b[0m\u001b[0;34m(\u001b[0m\u001b[0mx\u001b[0m\u001b[0;34m)\u001b[0m\u001b[0;34m\u001b[0m\u001b[0;34m\u001b[0m\u001b[0m\n",
            "\u001b[0;32m/usr/local/lib/python3.10/dist-packages/torch/nn/modules/module.py\u001b[0m in \u001b[0;36m_wrapped_call_impl\u001b[0;34m(self, *args, **kwargs)\u001b[0m\n\u001b[1;32m   1516\u001b[0m             \u001b[0;32mreturn\u001b[0m \u001b[0mself\u001b[0m\u001b[0;34m.\u001b[0m\u001b[0m_compiled_call_impl\u001b[0m\u001b[0;34m(\u001b[0m\u001b[0;34m*\u001b[0m\u001b[0margs\u001b[0m\u001b[0;34m,\u001b[0m \u001b[0;34m**\u001b[0m\u001b[0mkwargs\u001b[0m\u001b[0;34m)\u001b[0m  \u001b[0;31m# type: ignore[misc]\u001b[0m\u001b[0;34m\u001b[0m\u001b[0;34m\u001b[0m\u001b[0m\n\u001b[1;32m   1517\u001b[0m         \u001b[0;32melse\u001b[0m\u001b[0;34m:\u001b[0m\u001b[0;34m\u001b[0m\u001b[0;34m\u001b[0m\u001b[0m\n\u001b[0;32m-> 1518\u001b[0;31m             \u001b[0;32mreturn\u001b[0m \u001b[0mself\u001b[0m\u001b[0;34m.\u001b[0m\u001b[0m_call_impl\u001b[0m\u001b[0;34m(\u001b[0m\u001b[0;34m*\u001b[0m\u001b[0margs\u001b[0m\u001b[0;34m,\u001b[0m \u001b[0;34m**\u001b[0m\u001b[0mkwargs\u001b[0m\u001b[0;34m)\u001b[0m\u001b[0;34m\u001b[0m\u001b[0;34m\u001b[0m\u001b[0m\n\u001b[0m\u001b[1;32m   1519\u001b[0m \u001b[0;34m\u001b[0m\u001b[0m\n\u001b[1;32m   1520\u001b[0m     \u001b[0;32mdef\u001b[0m \u001b[0m_call_impl\u001b[0m\u001b[0;34m(\u001b[0m\u001b[0mself\u001b[0m\u001b[0;34m,\u001b[0m \u001b[0;34m*\u001b[0m\u001b[0margs\u001b[0m\u001b[0;34m,\u001b[0m \u001b[0;34m**\u001b[0m\u001b[0mkwargs\u001b[0m\u001b[0;34m)\u001b[0m\u001b[0;34m:\u001b[0m\u001b[0;34m\u001b[0m\u001b[0;34m\u001b[0m\u001b[0m\n",
            "\u001b[0;32m/usr/local/lib/python3.10/dist-packages/torch/nn/modules/module.py\u001b[0m in \u001b[0;36m_call_impl\u001b[0;34m(self, *args, **kwargs)\u001b[0m\n\u001b[1;32m   1525\u001b[0m                 \u001b[0;32mor\u001b[0m \u001b[0m_global_backward_pre_hooks\u001b[0m \u001b[0;32mor\u001b[0m \u001b[0m_global_backward_hooks\u001b[0m\u001b[0;34m\u001b[0m\u001b[0;34m\u001b[0m\u001b[0m\n\u001b[1;32m   1526\u001b[0m                 or _global_forward_hooks or _global_forward_pre_hooks):\n\u001b[0;32m-> 1527\u001b[0;31m             \u001b[0;32mreturn\u001b[0m \u001b[0mforward_call\u001b[0m\u001b[0;34m(\u001b[0m\u001b[0;34m*\u001b[0m\u001b[0margs\u001b[0m\u001b[0;34m,\u001b[0m \u001b[0;34m**\u001b[0m\u001b[0mkwargs\u001b[0m\u001b[0;34m)\u001b[0m\u001b[0;34m\u001b[0m\u001b[0;34m\u001b[0m\u001b[0m\n\u001b[0m\u001b[1;32m   1528\u001b[0m \u001b[0;34m\u001b[0m\u001b[0m\n\u001b[1;32m   1529\u001b[0m         \u001b[0;32mtry\u001b[0m\u001b[0;34m:\u001b[0m\u001b[0;34m\u001b[0m\u001b[0;34m\u001b[0m\u001b[0m\n",
            "\u001b[0;32m/usr/local/lib/python3.10/dist-packages/torch/nn/modules/linear.py\u001b[0m in \u001b[0;36mforward\u001b[0;34m(self, input)\u001b[0m\n\u001b[1;32m    112\u001b[0m \u001b[0;34m\u001b[0m\u001b[0m\n\u001b[1;32m    113\u001b[0m     \u001b[0;32mdef\u001b[0m \u001b[0mforward\u001b[0m\u001b[0;34m(\u001b[0m\u001b[0mself\u001b[0m\u001b[0;34m,\u001b[0m \u001b[0minput\u001b[0m\u001b[0;34m:\u001b[0m \u001b[0mTensor\u001b[0m\u001b[0;34m)\u001b[0m \u001b[0;34m->\u001b[0m \u001b[0mTensor\u001b[0m\u001b[0;34m:\u001b[0m\u001b[0;34m\u001b[0m\u001b[0;34m\u001b[0m\u001b[0m\n\u001b[0;32m--> 114\u001b[0;31m         \u001b[0;32mreturn\u001b[0m \u001b[0mF\u001b[0m\u001b[0;34m.\u001b[0m\u001b[0mlinear\u001b[0m\u001b[0;34m(\u001b[0m\u001b[0minput\u001b[0m\u001b[0;34m,\u001b[0m \u001b[0mself\u001b[0m\u001b[0;34m.\u001b[0m\u001b[0mweight\u001b[0m\u001b[0;34m,\u001b[0m \u001b[0mself\u001b[0m\u001b[0;34m.\u001b[0m\u001b[0mbias\u001b[0m\u001b[0;34m)\u001b[0m\u001b[0;34m\u001b[0m\u001b[0;34m\u001b[0m\u001b[0m\n\u001b[0m\u001b[1;32m    115\u001b[0m \u001b[0;34m\u001b[0m\u001b[0m\n\u001b[1;32m    116\u001b[0m     \u001b[0;32mdef\u001b[0m \u001b[0mextra_repr\u001b[0m\u001b[0;34m(\u001b[0m\u001b[0mself\u001b[0m\u001b[0;34m)\u001b[0m \u001b[0;34m->\u001b[0m \u001b[0mstr\u001b[0m\u001b[0;34m:\u001b[0m\u001b[0;34m\u001b[0m\u001b[0;34m\u001b[0m\u001b[0m\n",
            "\u001b[0;31mKeyboardInterrupt\u001b[0m: "
          ]
        }
      ]
    },
    {
      "cell_type": "code",
      "source": [
        "test_input = torch.from_numpy(features_test)\n",
        "predicted_probs = model(test_input)\n",
        "predicted_classes = torch.argmax(predicted_probs, dim=1)"
      ],
      "metadata": {
        "id": "nG4_V1qmKiTN"
      },
      "execution_count": null,
      "outputs": []
    },
    {
      "cell_type": "code",
      "source": [
        "# Convert PyTorch tensors to NumPy arrays\n",
        "labels_np = df_test['condition_label'].to_numpy().copy()\n",
        "labels_np -= 1\n",
        "predicted_classes_np = predicted_classes.numpy()\n",
        "\n",
        "# Evaluate the performance\n",
        "accuracy = accuracy_score(labels_np, predicted_classes_np)\n",
        "conf_matrix = confusion_matrix(labels_np, predicted_classes_np)\n",
        "\n",
        "print(\"Accuracy:\", accuracy)\n",
        "print(\"Confusion Matrix:\")\n",
        "print(conf_matrix)"
      ],
      "metadata": {
        "colab": {
          "base_uri": "https://localhost:8080/"
        },
        "id": "fU_LLseZKxlm",
        "outputId": "9f676670-d1e6-4a5a-830c-4a176bacf9d4"
      },
      "execution_count": null,
      "outputs": [
        {
          "output_type": "stream",
          "name": "stdout",
          "text": [
            "Accuracy: 0.5200831024930748\n",
            "Confusion Matrix:\n",
            "[[482   0  18  12 121]\n",
            " [ 46   0   9  26 218]\n",
            " [ 39   0 131  40 175]\n",
            " [ 22   0  17 404 167]\n",
            " [168   0  96 212 485]]\n"
          ]
        }
      ]
    },
    {
      "cell_type": "code",
      "source": [
        "performance(conf_matrix)"
      ],
      "metadata": {
        "colab": {
          "base_uri": "https://localhost:8080/"
        },
        "id": "_Dderk8DK0r7",
        "outputId": "1bb1e303-77c4-4f05-d395-b7ffe6de9c57"
      },
      "execution_count": null,
      "outputs": [
        {
          "output_type": "stream",
          "name": "stdout",
          "text": [
            "NEOPLASMS\n",
            "Precision: 0.64, Recall: 0.76\n",
            "DIGESTIVE SYSTEM DISEASES\n",
            "Precision: 0.00, Recall: 0.00\n",
            "NERVOUS SYSTEM DISEASES\n",
            "Precision: 0.48, Recall: 0.34\n",
            "CARDIOVASCULAR DISEASES\n",
            "Precision: 0.58, Recall: 0.66\n",
            "GENERAL PATHOLOGICAL CONDITIONS\n",
            "Precision: 0.42, Recall: 0.50\n",
            "Total Accuracy: 0.520\n"
          ]
        }
      ]
    },
    {
      "cell_type": "markdown",
      "source": [
        "In our run of the training, we get slightly higher overall accuracy than DistilBERT after training for a large number of epochs and now decent prediction for class 3. However, class 2 still remains unpredicted as the smallest class.\n",
        "\n",
        "But this increase in performance from an extended training of the neural network is encouraging, suggesting that the BERT embeddings do contain useful information about the input sequences and perhaps with even more sophisticated neural network models (perhaps deep neural networks), performance could be further improved."
      ],
      "metadata": {
        "id": "MloYiP0awZ_I"
      }
    },
    {
      "cell_type": "markdown",
      "source": [
        "We try random forest again too."
      ],
      "metadata": {
        "id": "JNTB_kgvLVDu"
      }
    },
    {
      "cell_type": "code",
      "source": [
        "X_train = features_train\n",
        "y_train = df_train['condition_label']\n",
        "\n",
        "X_test = features_test\n",
        "y_test = df_test['condition_label']\n",
        "\n",
        "\n",
        "# Create and train the random forest classifier\n",
        "rf_classifier = RandomForestClassifier(n_estimators=100, random_state=42)\n",
        "rf_classifier.fit(X_train, y_train)\n",
        "\n",
        "# Make predictions on the test set\n",
        "y_pred = rf_classifier.predict(X_test)\n",
        "\n",
        "# Evaluate the performance\n",
        "accuracy = accuracy_score(y_test, y_pred)\n",
        "conf_matrix = confusion_matrix(y_test, y_pred)\n",
        "\n",
        "print(\"Accuracy:\", accuracy)\n",
        "print(\"Confusion Matrix:\")\n",
        "print(conf_matrix)"
      ],
      "metadata": {
        "colab": {
          "base_uri": "https://localhost:8080/"
        },
        "id": "E9nsHociK-iz",
        "outputId": "3bf0dae8-7e0e-4e6b-fb50-6021bf17840b"
      },
      "execution_count": null,
      "outputs": [
        {
          "output_type": "stream",
          "name": "stdout",
          "text": [
            "Accuracy: 0.31648199445983377\n",
            "Confusion Matrix:\n",
            "[[246  30  30  27 300]\n",
            " [ 47   0   3  26 223]\n",
            " [ 42   7   6  38 292]\n",
            " [ 25   3  17 223 342]\n",
            " [154 100  76 192 439]]\n"
          ]
        }
      ]
    },
    {
      "cell_type": "code",
      "source": [
        "performance(conf_matrix)"
      ],
      "metadata": {
        "colab": {
          "base_uri": "https://localhost:8080/"
        },
        "id": "4CtgmWkWLW3E",
        "outputId": "3c315bc8-b730-47ea-bbbc-85e7aac5f1ce"
      },
      "execution_count": null,
      "outputs": [
        {
          "output_type": "stream",
          "name": "stdout",
          "text": [
            "NEOPLASMS\n",
            "Precision: 0.48, Recall: 0.39\n",
            "DIGESTIVE SYSTEM DISEASES\n",
            "Precision: 0.00, Recall: 0.00\n",
            "NERVOUS SYSTEM DISEASES\n",
            "Precision: 0.05, Recall: 0.02\n",
            "CARDIOVASCULAR DISEASES\n",
            "Precision: 0.44, Recall: 0.37\n",
            "GENERAL PATHOLOGICAL CONDITIONS\n",
            "Precision: 0.28, Recall: 0.46\n",
            "Total Accuracy: 0.316\n"
          ]
        }
      ]
    },
    {
      "cell_type": "markdown",
      "source": [
        "The overall accuracy here is worse than with a classification head and performance in class 3 is also worse.\n",
        "\n",
        "This suggests that using neural networks as a classification head on top of BERT models is the best choice."
      ],
      "metadata": {
        "id": "zomfXyCGw8Qe"
      }
    },
    {
      "cell_type": "markdown",
      "source": [
        "# Bio_ClinicalBERT\n",
        "\n",
        "https://huggingface.co/emilyalsentzer/Bio_ClinicalBERT\n",
        "\n",
        "https://arxiv.org/pdf/1904.03323.pdf"
      ],
      "metadata": {
        "id": "14E0mUKULd0Y"
      }
    },
    {
      "cell_type": "markdown",
      "source": [
        "The [Publicly Available Clinical BERT Embeddings](https://arxiv.org/pdf/1904.03323.pdf) by Alsentzer et al. in 2019 presented several BERT models for clinical use. They were initialised with BERT-Base or BioBERT and trained on data from [MIMIC](https://www.nature.com/articles/sdata201635), a large database of information relating to patients admitted to critical care units.\n",
        "\n",
        "Again given the medical nature of our problem, this seems like a good choice. We use the Bio_ClinicalBERT model found on HuggingFace [here](https://huggingface.co/emilyalsentzer/Bio_ClinicalBERT). It seemed like this was a much larger model than the previous two (given the embedding time), so we just embed a fraction of the training data as proof-of-concept and analyse this."
      ],
      "metadata": {
        "id": "-lj7x8NnxWjf"
      }
    },
    {
      "cell_type": "markdown",
      "source": [
        "We load the tokenizer and model."
      ],
      "metadata": {
        "id": "ErfBBJiJyTK_"
      }
    },
    {
      "cell_type": "code",
      "source": [
        "from transformers import AutoTokenizer, AutoModel\n",
        "tokenizer = AutoTokenizer.from_pretrained(\"emilyalsentzer/Bio_ClinicalBERT\")\n",
        "model = AutoModel.from_pretrained(\"emilyalsentzer/Bio_ClinicalBERT\")"
      ],
      "metadata": {
        "colab": {
          "base_uri": "https://localhost:8080/",
          "height": 113,
          "referenced_widgets": [
            "ba10c593cdde4f8cb28792d71306eb1e",
            "d0b8c279157a4994942a61ffab9c2d95",
            "486cfb8a3c8d41b283c92b7c39a5b011",
            "a177721b4cd349a4b535065214dad771",
            "2a2ec1673fff4367821b51a72c91044c",
            "49eee2d55f8349cc98cb96e2b843ec15",
            "91f76dec1f5e4d91b77af1b31be51549",
            "d7e102f7e54d45d1a59596fbe2b6c131",
            "1dcd66f23e8c4382a1488450e9e39998",
            "917eebd8785d4ca08f02a0bee33bd0d5",
            "1e31815aba4144049e63cdba01c00591",
            "2a5cba642f2e4c589de46138038dee03",
            "ab3c926e53fb426d9856fc059bc066fd",
            "f69da7bdabea4feab5ac6890e1f464a6",
            "8f02a7ca31fb43daa53d26ae6382a299",
            "ebb2d32a4a1f403e87e4a6a9388cfdef",
            "20b30c0918574c7889d7c3721cbdcffe",
            "b8ccebdce71545f59d0bec32ab13ded3",
            "5c109afe46424dfb983754021210c03e",
            "5eba09ad07154c2197578ef721cb857f",
            "d0106858dd314167a39a110254e4c349",
            "61e23f84eaf4464986f4b9e6446d77b1",
            "b68188301d91450ab76dae1ee6f87d29",
            "fbb3efd79d504f2db528503e45ada1fa",
            "6da6fa50ad43416eb775a9dd0b6dc42a",
            "ca68cadc24d84bee90ced51fa337f7f6",
            "18f5677cece049fc92e1bf849b6984bf",
            "8731a2de75fc4c23af7bec720e80cf24",
            "14b045e4ceb64ad68118173e19ba4519",
            "93b8fa793b714dcf9e29add3855207c8",
            "30fc8dac247a4b54957d7736a1e88ae5",
            "d27901c769f04483b13c31ec0df67a1d",
            "c74030b7c85e4b759b789e67f9586e90"
          ]
        },
        "id": "lrNa8OJwMIR0",
        "outputId": "a1bd63e7-53ff-4390-e783-a031a96631ec"
      },
      "execution_count": null,
      "outputs": [
        {
          "output_type": "display_data",
          "data": {
            "text/plain": [
              "config.json:   0%|          | 0.00/385 [00:00<?, ?B/s]"
            ],
            "application/vnd.jupyter.widget-view+json": {
              "version_major": 2,
              "version_minor": 0,
              "model_id": "ba10c593cdde4f8cb28792d71306eb1e"
            }
          },
          "metadata": {}
        },
        {
          "output_type": "display_data",
          "data": {
            "text/plain": [
              "vocab.txt:   0%|          | 0.00/213k [00:00<?, ?B/s]"
            ],
            "application/vnd.jupyter.widget-view+json": {
              "version_major": 2,
              "version_minor": 0,
              "model_id": "2a5cba642f2e4c589de46138038dee03"
            }
          },
          "metadata": {}
        },
        {
          "output_type": "display_data",
          "data": {
            "text/plain": [
              "pytorch_model.bin:   0%|          | 0.00/436M [00:00<?, ?B/s]"
            ],
            "application/vnd.jupyter.widget-view+json": {
              "version_major": 2,
              "version_minor": 0,
              "model_id": "b68188301d91450ab76dae1ee6f87d29"
            }
          },
          "metadata": {}
        }
      ]
    },
    {
      "cell_type": "markdown",
      "source": [
        "We process the data similarly to how we did for DistilBERT, noting that again we have to truncate the medical abstracts."
      ],
      "metadata": {
        "id": "mO2zBo0IyYX9"
      }
    },
    {
      "cell_type": "code",
      "source": [
        "tokenized = df_train.medical_abstract.apply((lambda x: tokenizer.encode(truncate_to_n_words(x, 200), add_special_tokens=True)))\n",
        "\n",
        "max_len = 0\n",
        "for i in tokenized.values:\n",
        "    if len(i) > max_len:\n",
        "        max_len = len(i)\n",
        "\n",
        "padded = np.array([i + [0]*(max_len-len(i)) for i in tokenized.values])\n",
        "\n",
        "attention_mask = np.where(padded != 0, 1, 0)"
      ],
      "metadata": {
        "id": "ycDEGeM8MpG-"
      },
      "execution_count": null,
      "outputs": []
    },
    {
      "cell_type": "markdown",
      "source": [
        "We then define an embedding function."
      ],
      "metadata": {
        "id": "zcN8MJKoyeUD"
      }
    },
    {
      "cell_type": "code",
      "source": [
        "def embed_with_BERT(padded, attention_mask):\n",
        "\n",
        "  input_ids = torch.tensor(padded)\n",
        "  attention_mask_tensor = torch.tensor(attention_mask)\n",
        "\n",
        "  with torch.no_grad():\n",
        "      last_hidden_states = model(input_ids, attention_mask=attention_mask_tensor)\n",
        "\n",
        "  return last_hidden_states[0][:,0,:].numpy()"
      ],
      "metadata": {
        "id": "tPvyVRkHM3LS"
      },
      "execution_count": null,
      "outputs": []
    },
    {
      "cell_type": "markdown",
      "source": [
        "We embed the first 50 data examples. (Below takes 4 mins.)"
      ],
      "metadata": {
        "id": "K1WoGQAvN3Ot"
      }
    },
    {
      "cell_type": "code",
      "source": [
        "i=0\n",
        "step=50\n",
        "features_temp = embed_with_BERT(padded[i:i+step], attention_mask[i:i+step])"
      ],
      "metadata": {
        "id": "Pzu1gafZM5-s"
      },
      "execution_count": null,
      "outputs": []
    },
    {
      "cell_type": "markdown",
      "source": [
        "We found that increasing the batch size to 350 in the above caused the model to run out of RAM. This suggests it is a larger model than those previously analysed."
      ],
      "metadata": {
        "id": "_wAYEP9_yyBY"
      }
    },
    {
      "cell_type": "markdown",
      "source": [
        "We then perform a PCA and t-SNE."
      ],
      "metadata": {
        "id": "rU2NI7wky09I"
      }
    },
    {
      "cell_type": "code",
      "source": [
        "# Perform PCA\n",
        "pca = PCA(n_components=2)\n",
        "principal_components = pca.fit_transform(features_temp)\n",
        "\n",
        "labels = df_train['condition_label'][:50]\n",
        "\n",
        "label_colors = {1: 'red', 2: 'blue', 3: 'green', 4: 'purple', 5: 'orange'}\n",
        "\n",
        "plt.figure(figsize=(8, 6))\n",
        "\n",
        "for label in np.unique(labels):\n",
        "    indices = np.where(labels == label)\n",
        "    plt.scatter(principal_components[indices, 0], principal_components[indices, 1],\n",
        "                label=f'Label {label}', color=label_colors[label], alpha=0.7)\n",
        "\n",
        "plt.title('PCA of the training data with labels')\n",
        "plt.xlabel('Principal Component 1')\n",
        "plt.ylabel('Principal Component 2')\n",
        "plt.legend()\n",
        "plt.show()"
      ],
      "metadata": {
        "colab": {
          "base_uri": "https://localhost:8080/",
          "height": 564
        },
        "id": "aNDenV8MNCnT",
        "outputId": "2a005cac-6a08-4cfa-c573-ec6788f7baee"
      },
      "execution_count": null,
      "outputs": [
        {
          "output_type": "display_data",
          "data": {
            "text/plain": [
              "<Figure size 800x600 with 1 Axes>"
            ],
            "image/png": "[encoded data removed]"
          },
          "metadata": {}
        }
      ]
    },
    {
      "cell_type": "code",
      "source": [
        "data = features_temp.copy()[:50]\n",
        "labels = df_train['condition_label'][:50]\n",
        "\n",
        "# Perform t-SNE\n",
        "tsne = TSNE(n_components=2, random_state=42)\n",
        "embedded_data = tsne.fit_transform(data)\n",
        "\n",
        "# Plot the t-SNE visualization with color-coded labels\n",
        "plt.figure(figsize=(8, 6))\n",
        "\n",
        "for label in np.unique(labels):\n",
        "    indices = np.where(labels == label)\n",
        "    plt.scatter(embedded_data[indices, 0], embedded_data[indices, 1],\n",
        "                label=f'Label {label}', color=label_colors[label], alpha=0.7)\n",
        "\n",
        "plt.title('t-SNE Visualization of training data with labels')\n",
        "plt.xlabel('t-SNE Dimension 1')\n",
        "plt.ylabel('t-SNE Dimension 2')\n",
        "plt.legend()\n",
        "plt.show()"
      ],
      "metadata": {
        "colab": {
          "base_uri": "https://localhost:8080/",
          "height": 564
        },
        "id": "kjNxKmA7NJUP",
        "outputId": "d1d95bcd-69aa-44b7-85a7-3375aa1424d6"
      },
      "execution_count": null,
      "outputs": [
        {
          "output_type": "display_data",
          "data": {
            "text/plain": [
              "<Figure size 800x600 with 1 Axes>"
            ],
            "image/png": "[encoded data removed]"
          },
          "metadata": {}
        }
      ]
    },
    {
      "cell_type": "markdown",
      "source": [
        "As before, there are no discernible patterns, suggesting that this BERT may not increase classification performance compared to the previous two options."
      ],
      "metadata": {
        "id": "RyzxsJHry4vR"
      }
    },
    {
      "cell_type": "markdown",
      "source": [
        "# ClinicalBERT"
      ],
      "metadata": {
        "id": "y-gV9Y69NV41"
      }
    },
    {
      "cell_type": "markdown",
      "source": [
        "Finally, we examine the ClinicalBERT model (found on HuggingFace [here](https://huggingface.co/medicalai/ClinicalBERT) and from Wang et al. in [this article](https://www.nature.com/articles/s41591-023-02552-9) in 2023). This was initialised from BERT and then trained on a large multicenter dataset with a large corpus of 1.2B words of diverse diseases, created by the authors.\n",
        "\n",
        "Like Bio_ClinicalBERT, this appears to be a much larger model, so we will just embed and analyse a fraction of the data."
      ],
      "metadata": {
        "id": "Adb-Im3tNaWx"
      }
    },
    {
      "cell_type": "markdown",
      "source": [
        "We load the tokenizer and model."
      ],
      "metadata": {
        "id": "T1TQJW1IzqJC"
      }
    },
    {
      "cell_type": "code",
      "source": [
        "tokenizer = AutoTokenizer.from_pretrained(\"medicalai/ClinicalBERT\")\n",
        "model = AutoModel.from_pretrained(\"medicalai/ClinicalBERT\")"
      ],
      "metadata": {
        "colab": {
          "base_uri": "https://localhost:8080/",
          "height": 177,
          "referenced_widgets": [
            "57aa44adbbd342bfb56f953dd0b628a2",
            "2d928c5de9374fcabd9a9a56cebc0a12",
            "0f46f0a0df314c408cb371f78f0ebf3c",
            "21846804e1d54b18aa2970235ef93b7c",
            "cb2df4dbb2b142baae89466c8c6fe12f",
            "7c2b70f7643f4e90893cf39a5abcffbe",
            "8fb83349719a453fa950b21b986ce52e",
            "6d4b5b448bdc40aa80d1ba2db736813a",
            "0fe9bdb5fc454a77a16b5cb51cfab277",
            "0899dac1f06e4396a4b012d8abbbd039",
            "668b41165f294ab981802e70b552cb68",
            "72c1f9c2c6f2450092d7771a2ff448e3",
            "d3912abc658b4db590a048e0984428fa",
            "2eef3caef00c4bcc8dbda190cf55eaf8",
            "3e255b186761460c9785dad43bca8877",
            "afec7b0e6c554591a4f60acd42f1f66f",
            "e966062fab284e1cb43d995550de0583",
            "a604246838c143a5a59ff8d3025e94b6",
            "befd8640fe014a0f89fb5a09384eff41",
            "1d34e992c0ab472493e2692757bc883e",
            "4169b331721c41a580571730f686b39c",
            "dca03e81452c4dfe89c155c2e6e5e5bd",
            "96a54de901954a8da8d1a6182826ebb3",
            "6b4bc7a7aee341da982c2d022f298ec0",
            "cd4183de7d264ddfb73ccffa7bffc252",
            "cf0593203fca4291a9e21944d57fb527",
            "141a912cdc094b9b854f87348ff9d1ec",
            "f0b0311af94e4f2fa0fb03e00b7da373",
            "9e95bef8b5ab412eb704d57f89c29fd0",
            "5beea750971541c4aa1c1e584738efe2",
            "7975091d7aa34b78928711e4314cfdfc",
            "000acf7375964a82bccda5d1165b2b87",
            "35c340f31c46493f95ccdc6191ac92bb",
            "c7465c40468848bc9f75c3bf6f3cbaf8",
            "e55d77e86e7544d39abb68897a6ed7a6",
            "16fd36078f344156a81d48e2e80f4be9",
            "529d701b40c3418194e9301bd8d71045",
            "7f86ba3b9baa428c83407f1f459950e4",
            "5810faa6a37542038d3bbffb71cb8509",
            "1b35f38a20b140de8a206d04bce99793",
            "3ce5666f69674292931f57d8aa77bee0",
            "49b947afa60045f78be36c66df73f78f",
            "e514ca17d810445c86e5a1b2b948a503",
            "efd6587beecc4370be64b3638c8bb7f3",
            "0f7d38c09b33416d930044a681bcefa5",
            "91e038857aa04609bbf8baebbed7709d",
            "bf018f41a84b4125a2311496ea099f98",
            "94e81e3c929242cfbbf80df87770b765",
            "e4fd4cd8a0e440be8cd9005e24d8779b",
            "11e7beb5d1f64d0481338193c0c28c79",
            "e62034c064ec440a9ef7b68097e49f86",
            "8e964f3a01e545bc943cb6175bbacd10",
            "90e7023e915248adb1deecb22a11d52a",
            "ab472b06304645cf9a42893221e6c260",
            "4a3a80e2d0274469a56d82772e160446"
          ]
        },
        "id": "5m5QPFxINXj1",
        "outputId": "e2426c9f-ee51-4526-feed-2329e7f505b7"
      },
      "execution_count": null,
      "outputs": [
        {
          "output_type": "display_data",
          "data": {
            "text/plain": [
              "tokenizer_config.json:   0%|          | 0.00/62.0 [00:00<?, ?B/s]"
            ],
            "application/vnd.jupyter.widget-view+json": {
              "version_major": 2,
              "version_minor": 0,
              "model_id": "57aa44adbbd342bfb56f953dd0b628a2"
            }
          },
          "metadata": {}
        },
        {
          "output_type": "display_data",
          "data": {
            "text/plain": [
              "config.json:   0%|          | 0.00/466 [00:00<?, ?B/s]"
            ],
            "application/vnd.jupyter.widget-view+json": {
              "version_major": 2,
              "version_minor": 0,
              "model_id": "72c1f9c2c6f2450092d7771a2ff448e3"
            }
          },
          "metadata": {}
        },
        {
          "output_type": "display_data",
          "data": {
            "text/plain": [
              "vocab.txt:   0%|          | 0.00/996k [00:00<?, ?B/s]"
            ],
            "application/vnd.jupyter.widget-view+json": {
              "version_major": 2,
              "version_minor": 0,
              "model_id": "96a54de901954a8da8d1a6182826ebb3"
            }
          },
          "metadata": {}
        },
        {
          "output_type": "display_data",
          "data": {
            "text/plain": [
              "special_tokens_map.json:   0%|          | 0.00/112 [00:00<?, ?B/s]"
            ],
            "application/vnd.jupyter.widget-view+json": {
              "version_major": 2,
              "version_minor": 0,
              "model_id": "c7465c40468848bc9f75c3bf6f3cbaf8"
            }
          },
          "metadata": {}
        },
        {
          "output_type": "display_data",
          "data": {
            "text/plain": [
              "pytorch_model.bin:   0%|          | 0.00/542M [00:00<?, ?B/s]"
            ],
            "application/vnd.jupyter.widget-view+json": {
              "version_major": 2,
              "version_minor": 0,
              "model_id": "0f7d38c09b33416d930044a681bcefa5"
            }
          },
          "metadata": {}
        }
      ]
    },
    {
      "cell_type": "markdown",
      "source": [
        "We truncate and process the data for embedding as before."
      ],
      "metadata": {
        "id": "jCRJQdDHzrpb"
      }
    },
    {
      "cell_type": "code",
      "source": [
        "tokenized = df_train.medical_abstract.apply((lambda x: tokenizer.encode(truncate_to_n_words(x, 200), add_special_tokens=True)))\n",
        "\n",
        "max_len = 0\n",
        "for i in tokenized.values:\n",
        "    if len(i) > max_len:\n",
        "        max_len = len(i)\n",
        "\n",
        "padded = np.array([i + [0]*(max_len-len(i)) for i in tokenized.values])\n",
        "\n",
        "attention_mask = np.where(padded != 0, 1, 0)"
      ],
      "metadata": {
        "id": "snK3R-r2OGHg"
      },
      "execution_count": null,
      "outputs": []
    },
    {
      "cell_type": "markdown",
      "source": [
        "We define our embedding function."
      ],
      "metadata": {
        "id": "rMBxvCqEzuHZ"
      }
    },
    {
      "cell_type": "code",
      "source": [
        "def embed_with_BERT(padded, attention_mask):\n",
        "\n",
        "  input_ids = torch.tensor(padded)\n",
        "  attention_mask_tensor = torch.tensor(attention_mask)\n",
        "\n",
        "  with torch.no_grad():\n",
        "      last_hidden_states = model(input_ids, attention_mask=attention_mask_tensor)\n",
        "\n",
        "  return last_hidden_states[0][:,0,:].numpy()"
      ],
      "metadata": {
        "id": "nMQYrLBUNizj"
      },
      "execution_count": null,
      "outputs": []
    },
    {
      "cell_type": "markdown",
      "source": [
        "We embed the first 50 data examples. (Below takes 1 min.)"
      ],
      "metadata": {
        "id": "0v3L5bIdOfu1"
      }
    },
    {
      "cell_type": "code",
      "source": [
        "i=0\n",
        "step=50\n",
        "features_temp = embed_with_BERT(padded[i:i+step], attention_mask[i:i+step])"
      ],
      "metadata": {
        "id": "0lA7VyCNNj9T"
      },
      "execution_count": null,
      "outputs": []
    },
    {
      "cell_type": "markdown",
      "source": [
        "Again, we found that increasing batch size to 350 in the above caused a RAM overflow issue, indicating the larger the size of this model."
      ],
      "metadata": {
        "id": "Mfm3c0zAz4bO"
      }
    },
    {
      "cell_type": "markdown",
      "source": [
        "We perform a PCA and t-SNE."
      ],
      "metadata": {
        "id": "d-YClf4az9sK"
      }
    },
    {
      "cell_type": "code",
      "source": [
        "# Perform PCA\n",
        "pca = PCA(n_components=2)\n",
        "principal_components = pca.fit_transform(features_temp)\n",
        "\n",
        "labels = df_train['condition_label'][:50]\n",
        "\n",
        "label_colors = {1: 'red', 2: 'blue', 3: 'green', 4: 'purple', 5: 'orange'}\n",
        "\n",
        "plt.figure(figsize=(8, 6))\n",
        "\n",
        "for label in np.unique(labels):\n",
        "    indices = np.where(labels == label)\n",
        "    plt.scatter(principal_components[indices, 0], principal_components[indices, 1],\n",
        "                label=f'Label {label}', color=label_colors[label], alpha=0.7)\n",
        "\n",
        "plt.title('PCA of the training data with labels')\n",
        "plt.xlabel('Principal Component 1')\n",
        "plt.ylabel('Principal Component 2')\n",
        "plt.legend()\n",
        "plt.show()"
      ],
      "metadata": {
        "colab": {
          "base_uri": "https://localhost:8080/",
          "height": 564
        },
        "id": "pr-5n4cpNopp",
        "outputId": "2199d2cb-88ab-48e6-d720-fa69b6254503"
      },
      "execution_count": null,
      "outputs": [
        {
          "output_type": "display_data",
          "data": {
            "text/plain": [
              "<Figure size 800x600 with 1 Axes>"
            ],
            "image/png": "[encoded data removed]"
          },
          "metadata": {}
        }
      ]
    },
    {
      "cell_type": "code",
      "source": [
        "data = features_temp.copy()[:50]\n",
        "labels = df_train['condition_label'][:50]\n",
        "\n",
        "# Perform t-SNE\n",
        "tsne = TSNE(n_components=2, random_state=42)\n",
        "embedded_data = tsne.fit_transform(data)\n",
        "\n",
        "# Plot the t-SNE visualization with color-coded labels\n",
        "plt.figure(figsize=(8, 6))\n",
        "\n",
        "for label in np.unique(labels):\n",
        "    indices = np.where(labels == label)\n",
        "    plt.scatter(embedded_data[indices, 0], embedded_data[indices, 1],\n",
        "                label=f'Label {label}', color=label_colors[label], alpha=0.7)\n",
        "\n",
        "plt.title('t-SNE Visualization of training data with labels')\n",
        "plt.xlabel('t-SNE Dimension 1')\n",
        "plt.ylabel('t-SNE Dimension 2')\n",
        "plt.legend()\n",
        "plt.show()"
      ],
      "metadata": {
        "colab": {
          "base_uri": "https://localhost:8080/",
          "height": 564
        },
        "id": "p651n2d9NqNZ",
        "outputId": "d8e3d755-8ab0-41e1-f451-038964b8530a"
      },
      "execution_count": null,
      "outputs": [
        {
          "output_type": "display_data",
          "data": {
            "text/plain": [
              "<Figure size 800x600 with 1 Axes>"
            ],
            "image/png": "[encoded data removed]"
          },
          "metadata": {}
        }
      ]
    },
    {
      "cell_type": "markdown",
      "source": [
        "As before, there are no discernible patterns here, suggesting this model would not do any better at classifying the abstracts than the others."
      ],
      "metadata": {
        "id": "5xrJGEQN0Ba9"
      }
    },
    {
      "cell_type": "markdown",
      "source": [
        "# Dummy classifier"
      ],
      "metadata": {
        "id": "i4p5LV16OuYv"
      }
    },
    {
      "cell_type": "markdown",
      "source": [
        "As a final check, we define a 'dummy' classifier that assigns to each abstract one of the five classes, chosen uniformly at random."
      ],
      "metadata": {
        "id": "TOMzs7k90IM4"
      }
    },
    {
      "cell_type": "code",
      "source": [
        "def dummy_classifier(predicted_probs):\n",
        "  x = predicted_probs.shape[0]\n",
        "  predicted_classes = np.zeros(x)\n",
        "  for i in range(x):\n",
        "    u = np.random.uniform()\n",
        "    if u < 0.2:\n",
        "      predicted_classes[i] = 0\n",
        "    elif u < 0.4:\n",
        "      predicted_classes[i] = 1\n",
        "    elif u < 0.6:\n",
        "      predicted_classes[i] = 2\n",
        "    elif u < 0.8:\n",
        "      predicted_classes[i] = 3\n",
        "    else:\n",
        "      predicted_classes[i] = 4\n",
        "  return predicted_classes"
      ],
      "metadata": {
        "id": "gdcMB_geOxPl"
      },
      "execution_count": null,
      "outputs": []
    },
    {
      "cell_type": "markdown",
      "source": [
        "We use this to 'predict' the test data and report the performance."
      ],
      "metadata": {
        "id": "qw29ARe-0Qv1"
      }
    },
    {
      "cell_type": "code",
      "source": [
        "predicted_classes = dummy_classifier(predicted_probs)"
      ],
      "metadata": {
        "id": "PlDvQFFPOzb4"
      },
      "execution_count": null,
      "outputs": []
    },
    {
      "cell_type": "code",
      "source": [
        "# Convert PyTorch tensors to NumPy arrays\n",
        "labels_np = df_test['condition_label'].to_numpy().copy()\n",
        "labels_np -= 1\n",
        "predicted_classes_np = predicted_classes\n",
        "\n",
        "# Evaluate the performance\n",
        "accuracy = accuracy_score(labels_np, predicted_classes_np)\n",
        "conf_matrix = confusion_matrix(labels_np, predicted_classes_np)\n",
        "\n",
        "print(\"Accuracy:\", accuracy)\n",
        "print(\"Confusion Matrix:\")\n",
        "print(conf_matrix)"
      ],
      "metadata": {
        "colab": {
          "base_uri": "https://localhost:8080/"
        },
        "id": "tX0W59hcO29E",
        "outputId": "009a5d46-4309-4559-e634-a63edbd2b527"
      },
      "execution_count": null,
      "outputs": [
        {
          "output_type": "stream",
          "name": "stdout",
          "text": [
            "Accuracy: 0.19598337950138503\n",
            "Confusion Matrix:\n",
            "[[ 99 121 129 161 123]\n",
            " [ 61  63  66  51  58]\n",
            " [ 71  83  66  95  70]\n",
            " [126 116 117 130 121]\n",
            " [190 192 183 188 208]]\n"
          ]
        }
      ]
    },
    {
      "cell_type": "code",
      "source": [
        "performance(conf_matrix)"
      ],
      "metadata": {
        "colab": {
          "base_uri": "https://localhost:8080/"
        },
        "id": "parByMogO4eE",
        "outputId": "7cd94cee-96eb-48e9-a7ba-b3fc91f19053"
      },
      "execution_count": null,
      "outputs": [
        {
          "output_type": "stream",
          "name": "stdout",
          "text": [
            "NEOPLASMS\n",
            "Precision: 0.18, Recall: 0.16\n",
            "DIGESTIVE SYSTEM DISEASES\n",
            "Precision: 0.11, Recall: 0.21\n",
            "NERVOUS SYSTEM DISEASES\n",
            "Precision: 0.12, Recall: 0.17\n",
            "CARDIOVASCULAR DISEASES\n",
            "Precision: 0.21, Recall: 0.21\n",
            "GENERAL PATHOLOGICAL CONDITIONS\n",
            "Precision: 0.36, Recall: 0.22\n",
            "Total Accuracy: 0.196\n"
          ]
        }
      ]
    },
    {
      "cell_type": "markdown",
      "source": [
        "Perhaps as expected, we see very bad results here, with a total accuracy of around 20%.\n",
        "\n",
        "However, this is encouraging for our BERT model! Although BERT did not have hugely high accuracy, it was better than this dummy classifier. This indicates that it is still more informed than classifying the medical abstracts completely randomly, suggesting that there is at least some useful information in the latent representations outputted by BERT models."
      ],
      "metadata": {
        "id": "Tv68Ebl8O80l"
      }
    }
  ]
}