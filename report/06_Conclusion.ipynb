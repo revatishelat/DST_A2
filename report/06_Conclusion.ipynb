{
  "nbformat": 4,
  "nbformat_minor": 0,
  "metadata": {
    "colab": {
      "provenance": [],
      "toc_visible": true
    },
    "kernelspec": {
      "name": "python3",
      "display_name": "Python 3"
    },
    "language_info": {
      "name": "python"
    }
  },
  "cells": [
    {
      "cell_type": "markdown",
      "metadata": {
        "id": "view-in-github"
      },
      "source": [
        "<a href=\"https://colab.research.google.com/github/revatishelat/DST_A2/blob/main/report/05_Conclusion.ipynb\" target=\"_parent\"><img src=\"https://colab.research.google.com/assets/colab-badge.svg\" alt=\"Open In Colab\"/></a>"
      ]
    },
    {
      "cell_type": "markdown",
      "source": [
        "# Techniques"
      ],
      "metadata": {
        "id": "4t9NoAeoPyO8"
      }
    },
    {
      "cell_type": "markdown",
      "source": [
        "GENERAL DISCUSSION HERE"
      ],
      "metadata": {
        "id": "K9X-EId1P5Aw"
      }
    },
    {
      "cell_type": "markdown",
      "source": [
        "## Bag of Words"
      ],
      "metadata": {
        "id": "XrSQ6FAPP7KR"
      }
    },
    {
      "cell_type": "markdown",
      "source": [
        "Once tuned, with the general class removed, both embedders produce good performance with good efficiency considering the dataset is large and messy. Interestingly the simpler embedder, count vectorizer, results in better performance, this could be due to very specific medical terms occuring in a document but not throughout the class it belongs to. The inverse-document-frequency factor would then weight these highly and create noise in the data if the terms are not found across the whole class. Overall, the limiting factor in the models efficiency was the preprocessing, this step can be easily parralelised, by preprocessing multiple documents from the corpus at once, therefore these models are scaleable to larger datasets."
      ],
      "metadata": {
        "id": "DSERRKLvxkxc"
      }
    },
    {
      "cell_type": "markdown",
      "source": [
        "## Word2Vec"
      ],
      "metadata": {
        "id": "BgCOgJesP-F3"
      }
    },
    {
      "cell_type": "markdown",
      "source": [
        "## BERT"
      ],
      "metadata": {
        "id": "QzeET26ZQBdj"
      }
    },
    {
      "cell_type": "markdown",
      "source": [
        "# Data"
      ],
      "metadata": {
        "id": "17lfIxlPQFdT"
      }
    },
    {
      "cell_type": "markdown",
      "source": [
        "The main issue with the data was the 'general conditions' class. Since this class covers a broader range of topics than the others, abstracts within this class will be less correlated than absracts belonging to a more specific class, making classification much more difficult. Furthermore, this class dominates the dataset, and so the models we investigated were simply unable to perform well, much more robust and computationally intensive techniques would be required to gain acceptable results. Once this class was removed, we were left with a much more manageable task and our models were able to find patterns in the dataset and produce satisfactory results."
      ],
      "metadata": {
        "id": "CN_L-WDnQMGE"
      }
    },
    {
      "cell_type": "markdown",
      "source": [
        "# Implementation"
      ],
      "metadata": {
        "id": "8rEVnDQFQWYF"
      }
    },
    {
      "cell_type": "markdown",
      "source": [
        "Talk about use of GPU for large data, how we would scale methods for larger harder data tasks"
      ],
      "metadata": {
        "id": "K_0bt_-WQc1z"
      }
    },
    {
      "cell_type": "markdown",
      "source": [
        "# Impact and future directions"
      ],
      "metadata": {
        "id": "sFQ3ysW6QjnL"
      }
    },
    {
      "cell_type": "markdown",
      "source": [
        "In summary, why is it useful to have models that classify medical text? Think about AI assistants to clinicians, allowing them to get information fast and make critical decisions.\n",
        "\n",
        "What future directions would we explore if more time and/or resources?"
      ],
      "metadata": {
        "id": "NM5kTs2JQ1EK"
      }
    }
  ]
}