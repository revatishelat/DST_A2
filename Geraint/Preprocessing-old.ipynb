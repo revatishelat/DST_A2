{
 "cells": [
  {
   "cell_type": "code",
   "execution_count": 63,
   "id": "33c9fc7f",
   "metadata": {
    "scrolled": true
   },
   "outputs": [
    {
     "name": "stdout",
     "output_type": "stream",
     "text": [
      "Requirement already satisfied: pandas in /opt/conda/lib/python3.9/site-packages (2.1.3)\n",
      "Requirement already satisfied: numpy<2,>=1.22.4 in /opt/conda/lib/python3.9/site-packages (from pandas) (1.25.2)\n",
      "Requirement already satisfied: python-dateutil>=2.8.2 in /opt/conda/lib/python3.9/site-packages (from pandas) (2.8.2)\n",
      "Requirement already satisfied: tzdata>=2022.1 in /opt/conda/lib/python3.9/site-packages (from pandas) (2023.3)\n",
      "Requirement already satisfied: pytz>=2020.1 in /opt/conda/lib/python3.9/site-packages (from pandas) (2022.1)\n",
      "Requirement already satisfied: six>=1.5 in /opt/conda/lib/python3.9/site-packages (from python-dateutil>=2.8.2->pandas) (1.16.0)\n",
      "Requirement already satisfied: nltk in /opt/conda/lib/python3.9/site-packages (3.8.1)\n",
      "Requirement already satisfied: click in /opt/conda/lib/python3.9/site-packages (from nltk) (8.1.7)\n",
      "Requirement already satisfied: regex>=2021.8.3 in /opt/conda/lib/python3.9/site-packages (from nltk) (2023.10.3)\n",
      "Requirement already satisfied: tqdm in /opt/conda/lib/python3.9/site-packages (from nltk) (4.64.0)\n",
      "Requirement already satisfied: joblib in /opt/conda/lib/python3.9/site-packages (from nltk) (1.3.2)\n"
     ]
    }
   ],
   "source": [
    "!pip install pandas\n",
    "!pip install nltk"
   ]
  },
  {
   "cell_type": "code",
   "execution_count": 64,
   "id": "f4fc8ff3",
   "metadata": {},
   "outputs": [
    {
     "name": "stderr",
     "output_type": "stream",
     "text": [
      "[nltk_data] Downloading package wordnet to /home/jovyan/nltk_data...\n",
      "[nltk_data]   Package wordnet is already up-to-date!\n",
      "[nltk_data] Downloading package punkt to /home/jovyan/nltk_data...\n",
      "[nltk_data]   Package punkt is already up-to-date!\n",
      "[nltk_data] Downloading package stopwords to /home/jovyan/nltk_data...\n",
      "[nltk_data]   Package stopwords is already up-to-date!\n"
     ]
    }
   ],
   "source": [
    "import pandas as pd\n",
    "import nltk\n",
    "nltk.download('wordnet')\n",
    "nltk.download('punkt')\n",
    "nltk.download('stopwords')\n",
    "from nltk.stem import WordNetLemmatizer"
   ]
  },
  {
   "cell_type": "code",
   "execution_count": 65,
   "id": "ae5a381c",
   "metadata": {},
   "outputs": [],
   "source": [
    "df_labels = pd.read_csv('medical_tc_labels.csv')\n",
    "df_train = pd.read_csv('medical_tc_train.csv')\n",
    "df_test = pd.read_csv('medical_tc_train.csv')"
   ]
  },
  {
   "cell_type": "code",
   "execution_count": 66,
   "id": "b430de0a",
   "metadata": {},
   "outputs": [],
   "source": [
    "df_train['medical_abstract'] = df_train['medical_abstract'].str.lower()\n",
    "df_test['medical_abstract'] = df_test['medical_abstract'].str.lower()"
   ]
  },
  {
   "cell_type": "code",
   "execution_count": 67,
   "id": "2baf8fc7",
   "metadata": {},
   "outputs": [
    {
     "name": "stdout",
     "output_type": "stream",
     "text": [
      "['tissue', 'changes', 'around', 'loose', 'prostheses', '.', 'a', 'canine', 'model', 'to', 'investigate', 'the', 'effects', 'of', 'an', 'antiinflammatory', 'agent', '.', 'the', 'aseptically', 'loosened', 'prosthesis', 'provided', 'a', 'means', 'for', 'investigating', 'the', 'in', 'vivo', 'and', 'in', 'vitro', 'activity', 'of', 'the', 'cells', 'associated', 'with', 'the', 'loosening', 'process', 'in', 'seven', 'dogs', '.', 'the', 'cells', 'were', 'isolated', 'and', 'maintained', 'in', 'culture', 'for', 'sufficient', 'periods', 'of', 'time', 'so', 'that', 'their', 'biologic', 'activity', 'could', 'be', 'studied', 'as', 'well', 'as', 'the', 'effect', 'of', 'different', 'agents', 'added', 'to', 'the', 'cells', 'in', 'vivo', 'or', 'in', 'vitro', '.', 'the', 'biologic', 'response', 'as', 'determined', 'by', 'interleukin-1', 'and', 'prostaglandin', 'e2', 'activity', 'paralleled', 'the', 'roentgenographic', 'appearance', 'of', 'loosening', 'and', 'the', 'technetium', 'images', 'and', 'observations', 'made', 'at', 'the', 'time', 'of', 'revision', 'surgery', '.', 'the', 'correlation', 'between', 'clinical', ',', 'roentgenographic', ',', 'histologic', ',', 'and', 'biochemical', 'loosening', 'indicates', 'that', 'the', 'canine', 'model', 'is', 'suitable', 'for', 'investigating', 'the', 'mechanisms', 'of', 'prosthetic', 'failure', '.', 'a', 'canine', 'model', 'permits', 'the', 'study', 'of', 'possible', 'nonsurgical', 'therapeutic', 'interventions', 'with', 'the', 'ultimate', 'hope', 'of', 'stopping', 'or', 'slowing', 'the', 'loosening', 'process', '.']\n"
     ]
    }
   ],
   "source": [
    "doc_sample = df_train['medical_abstract'][0]\n",
    "doc_sample_tok = nltk.word_tokenize(doc_sample)\n",
    "print(doc_sample_tok)"
   ]
  },
  {
   "cell_type": "code",
   "execution_count": 68,
   "id": "1110b921",
   "metadata": {},
   "outputs": [
    {
     "name": "stdout",
     "output_type": "stream",
     "text": [
      "['tissue', 'changes', 'around', 'loose', 'prostheses', 'canine', 'model', 'investigate', 'the', 'effects', 'antiinflammatory', 'agent', 'the', 'aseptically', 'loosened', 'prosthesis', 'provided', 'means', 'for', 'investigating', 'the', 'vivo', 'and', 'vitro', 'activity', 'the', 'cells', 'associated', 'with', 'the', 'loosening', 'process', 'seven', 'dogs', 'the', 'cells', 'were', 'isolated', 'and', 'maintained', 'culture', 'for', 'sufficient', 'periods', 'time', 'that', 'their', 'biologic', 'activity', 'could', 'studied', 'well', 'the', 'effect', 'different', 'agents', 'added', 'the', 'cells', 'vivo', 'vitro', 'the', 'biologic', 'response', 'determined', 'interleukin-1', 'and', 'prostaglandin', 'activity', 'paralleled', 'the', 'roentgenographic', 'appearance', 'loosening', 'and', 'the', 'technetium', 'images', 'and', 'observations', 'made', 'the', 'time', 'revision', 'surgery', 'the', 'correlation', 'between', 'clinical', 'roentgenographic', 'histologic', 'and', 'biochemical', 'loosening', 'indicates', 'that', 'the', 'canine', 'model', 'suitable', 'for', 'investigating', 'the', 'mechanisms', 'prosthetic', 'failure', 'canine', 'model', 'permits', 'the', 'study', 'possible', 'nonsurgical', 'therapeutic', 'interventions', 'with', 'the', 'ultimate', 'hope', 'stopping', 'slowing', 'the', 'loosening', 'process']\n"
     ]
    }
   ],
   "source": [
    "doc_sample_proc = [tok for tok in doc_sample_tok if len(tok) > 2]\n",
    "print(doc_sample_proc)"
   ]
  },
  {
   "cell_type": "code",
   "execution_count": 70,
   "id": "d19d8101",
   "metadata": {},
   "outputs": [
    {
     "name": "stdout",
     "output_type": "stream",
     "text": [
      "['tissue', 'changes', 'around', 'loose', 'prostheses', 'canine', 'model', 'investigate', 'effects', 'antiinflammatory', 'agent', 'aseptically', 'loosened', 'prosthesis', 'provided', 'means', 'investigating', 'vivo', 'vitro', 'activity', 'cells', 'associated', 'loosening', 'process', 'seven', 'dogs', 'cells', 'isolated', 'maintained', 'culture', 'sufficient', 'periods', 'time', 'biologic', 'activity', 'could', 'studied', 'well', 'effect', 'different', 'agents', 'added', 'cells', 'vivo', 'vitro', 'biologic', 'response', 'determined', 'interleukin-1', 'prostaglandin', 'activity', 'paralleled', 'roentgenographic', 'appearance', 'loosening', 'technetium', 'images', 'observations', 'made', 'time', 'revision', 'surgery', 'correlation', 'clinical', 'roentgenographic', 'histologic', 'biochemical', 'loosening', 'indicates', 'canine', 'model', 'suitable', 'investigating', 'mechanisms', 'prosthetic', 'failure', 'canine', 'model', 'permits', 'study', 'possible', 'nonsurgical', 'therapeutic', 'interventions', 'ultimate', 'hope', 'stopping', 'slowing', 'loosening', 'process']\n"
     ]
    }
   ],
   "source": [
    "doc_sample_proc = [tok for tok in doc_sample_proc if tok not in en_stop]\n",
    "print(doc_sample_proc)"
   ]
  },
  {
   "cell_type": "code",
   "execution_count": 71,
   "id": "e334ad57",
   "metadata": {},
   "outputs": [
    {
     "name": "stdout",
     "output_type": "stream",
     "text": [
      "['tissue', 'change', 'around', 'loose', 'prosthesis', 'canine', 'model', 'investigate', 'effect', 'antiinflammatory', 'agent', 'aseptically', 'loosened', 'prosthesis', 'provided', 'mean', 'investigating', 'vivo', 'vitro', 'activity', 'cell', 'associated', 'loosening', 'process', 'seven', 'dog', 'cell', 'isolated', 'maintained', 'culture', 'sufficient', 'period', 'time', 'biologic', 'activity', 'could', 'studied', 'well', 'effect', 'different', 'agent', 'added', 'cell', 'vivo', 'vitro', 'biologic', 'response', 'determined', 'interleukin-1', 'prostaglandin', 'activity', 'paralleled', 'roentgenographic', 'appearance', 'loosening', 'technetium', 'image', 'observation', 'made', 'time', 'revision', 'surgery', 'correlation', 'clinical', 'roentgenographic', 'histologic', 'biochemical', 'loosening', 'indicates', 'canine', 'model', 'suitable', 'investigating', 'mechanism', 'prosthetic', 'failure', 'canine', 'model', 'permit', 'study', 'possible', 'nonsurgical', 'therapeutic', 'intervention', 'ultimate', 'hope', 'stopping', 'slowing', 'loosening', 'process']\n"
     ]
    }
   ],
   "source": [
    "lemmatizer = WordNetLemmatizer()\n",
    "doc_sample_lem = [lemmatizer.lemmatize(tok) for tok in doc_sample_proc]\n",
    "print(doc_sample_lem)"
   ]
  },
  {
   "cell_type": "code",
   "execution_count": 75,
   "id": "6914d0a4",
   "metadata": {},
   "outputs": [],
   "source": [
    "#Need to check for special characters too\n",
    "import re"
   ]
  },
  {
   "cell_type": "code",
   "execution_count": 76,
   "id": "63752b6d",
   "metadata": {},
   "outputs": [
    {
     "name": "stdout",
     "output_type": "stream",
     "text": [
      "noninvasive diagnosis of right-sided extracardiac conduit obstruction by combined magnetic resonance imaging and continuous-wave doppler echocardiography. right-sided extracardiac conduits are frequently complicated by obstruction over time. we compared the utility of two-dimensional and doppler echocardiography and magnetic resonance imaging in the diagnosis of postoperative right-sided obstruction with cardiac catheterization and angiography in 10 patients with xenograft or homograft conduits. correlation (r = 0.95) between continuous-wave doppler estimates and catheter pullback pressure gradients across the conduits was excellent. echocardiography could only visualize five of 10 conduits in their entirety. magnetic resonance imaging visualized all conduits and showed statistically significant (kappa = 0.58) agreement with angiography in the localization and estimation of severity of a variety of right-sided obstructions in these patients. however, flow voids created by the metallic ring around xenograft valves led to a false negative diagnosis of valvular stenosis in four patients when magnetic resonance imaging was used alone. doppler studies correctly indicated obstruction in these patients. the combination of magnetic resonance imaging studies and continuous-wave doppler echocardiography can be useful to noninvasively evaluate right-sided obstruction in postoperative patients with right-sided extracardiac conduits. \n"
     ]
    }
   ],
   "source": [
    "docy = df_train['medical_abstract'][9]\n",
    "print(docy)"
   ]
  },
  {
   "cell_type": "code",
   "execution_count": 77,
   "id": "c51c9cca",
   "metadata": {
    "scrolled": false
   },
   "outputs": [
    {
     "name": "stdout",
     "output_type": "stream",
     "text": [
      "noninvasive diagnosis of right sided extracardiac conduit obstruction by combined magnetic resonance imaging and continuous wave doppler echocardiography right sided extracardiac conduits are frequently complicated by obstruction over time we compared the utility of two dimensional and doppler echocardiography and magnetic resonance imaging in the diagnosis of postoperative right sided obstruction with cardiac catheterization and angiography in patients with xenograft or homograft conduits correlation r between continuous wave doppler estimates and catheter pullback pressure gradients across the conduits was excellent echocardiography could only visualize five of conduits in their entirety magnetic resonance imaging visualized all conduits and showed statistically significant kappa agreement with angiography in the localization and estimation of severity of a variety of right sided obstructions in these patients however flow voids created by the metallic ring around xenograft valves led to a false negative diagnosis of valvular stenosis in four patients when magnetic resonance imaging was used alone doppler studies correctly indicated obstruction in these patients the combination of magnetic resonance imaging studies and continuous wave doppler echocardiography can be useful to noninvasively evaluate right sided obstruction in postoperative patients with right sided extracardiac conduits. \n"
     ]
    }
   ],
   "source": [
    "docy_clean = re.sub(r'\\b[^a-zA-Z]+\\b', ' ', docy)\n",
    "print(docy_clean)"
   ]
  },
  {
   "cell_type": "code",
   "execution_count": 80,
   "id": "e090bd09",
   "metadata": {},
   "outputs": [
    {
     "name": "stdout",
     "output_type": "stream",
     "text": [
      "tissue changes around loose prostheses. a canine model to investigate the effects of an antiinflammatory agent. the aseptically loosened prosthesis provided a means for investigating the in vivo and in vitro activity of the cells associated with the loosening process in seven dogs. the cells were isolated and maintained in culture for sufficient periods of time so that their biologic activity could be studied as well as the effect of different agents added to the cells in vivo or in vitro. the biologic response as determined by interleukin-1 and prostaglandin e2 activity paralleled the roentgenographic appearance of loosening and the technetium images and observations made at the time of revision surgery. the correlation between clinical, roentgenographic, histologic, and biochemical loosening indicates that the canine model is suitable for investigating the mechanisms of prosthetic failure. a canine model permits the study of possible nonsurgical therapeutic interventions with the ultimate hope of stopping or slowing the loosening process. \n"
     ]
    }
   ],
   "source": [
    "for doc in df_train['medical_abstract']:\n",
    "    print(doc)\n",
    "    break"
   ]
  },
  {
   "cell_type": "code",
   "execution_count": 82,
   "id": "2a04ddd2",
   "metadata": {},
   "outputs": [],
   "source": [
    "def preprocess(data):\n",
    "    data_proc = []\n",
    "    for doc in data['medical_abstract']:\n",
    "        #lowercases document\n",
    "        doc = doc.lower()\n",
    "        #removes any non-letter characters\n",
    "        doc = re.sub(r'\\b[^a-zA-Z]+\\b', ' ', doc)\n",
    "        #tokenize\n",
    "        toks = nltk.word_tokenize(doc)\n",
    "        #remove tokens of lenth <= 1 (can be varied)\n",
    "        toks = [tok for tok in toks if len(tok) > 1]\n",
    "        #remove stopwords\n",
    "        toks = [tok for tok in toks if tok not in en_stop]\n",
    "        #lemmatize\n",
    "        toks = [WordNetLemmatizer().lemmatize(tok) for tok in toks]\n",
    "        data_proc.append(toks)\n",
    "    return data_proc\n",
    "en_stop = set(nltk.corpus.stopwords.words('english'))"
   ]
  },
  {
   "cell_type": "code",
   "execution_count": 84,
   "id": "9c1a9746",
   "metadata": {},
   "outputs": [],
   "source": [
    "df_train_proc = preprocess(df_train)"
   ]
  },
  {
   "cell_type": "code",
   "execution_count": 85,
   "id": "94524ea3",
   "metadata": {},
   "outputs": [
    {
     "name": "stdout",
     "output_type": "stream",
     "text": [
      "sodium sensitive and sodium retaining hypertension. the differences between sodium sensitive and sodium retaining hypertension were theoretically considered using a water tank model of body fluid volume-blood pressure regulation. if an outlet valve is attached to a tank with a base area corresponding to the reciprocal of total peripheral resistance (tpr) and water is poured into this tank at a rate corresponding to the amount of na+ intake, then equilibrium should be achieved at a certain water level, volume and output from the outlet, which represent mean arterial pressure (map), cardiac output (co) and urinary na+ excretion. the height of the outlet from the tank bottom and the size cross-sectional area, of the outlet correspond to the x-intercept and slope of the renal function (pressure-natriuresis) curve, respectively. in both nonsodium sensitive hypertension, due to the shift of the curve toward a higher blood pressure level (elevated height of the outlet) without change in the slope (size of the outlet), and sodium sensitive hypertension, due to the depressed slope of the curve (reduced outlet size), not only map (water level) but also co (water volume) are increased, resulting in sodium retaining hypertension, if tpr (reciprocal of base area) remained unchanged, while co is relatively unchanged, resulting in nonsodium retaining hypertension, if tpr is elevated. thus, the map and its sensitivity to sodium intake is determined by the renal function curve. since body fluid volume is determined by both the renal function curve and tpr, however, changes in tpr during the development of hypertension is a major factor in determining whether or not the body fluid volume has to change only a small amount or a large amount. therefore, the sodium sensitivity of blood pressure and sodium retention must be considered separately. \n"
     ]
    }
   ],
   "source": [
    "docx = df_train['medical_abstract'][10]\n",
    "print(docx)"
   ]
  },
  {
   "cell_type": "code",
   "execution_count": 87,
   "id": "f7b6dcac",
   "metadata": {},
   "outputs": [
    {
     "name": "stdout",
     "output_type": "stream",
     "text": [
      "['sodium', 'sensitive', 'sodium', 'retaining', 'hypertension', 'difference', 'sodium', 'sensitive', 'sodium', 'retaining', 'hypertension', 'theoretically', 'considered', 'using', 'water', 'tank', 'model', 'body', 'fluid', 'volume', 'blood', 'pressure', 'regulation', 'outlet', 'valve', 'attached', 'tank', 'base', 'area', 'corresponding', 'reciprocal', 'total', 'peripheral', 'resistance', 'tpr', 'water', 'poured', 'tank', 'rate', 'corresponding', 'amount', 'na', 'intake', 'equilibrium', 'achieved', 'certain', 'water', 'level', 'volume', 'output', 'outlet', 'represent', 'mean', 'arterial', 'pressure', 'map', 'cardiac', 'output', 'co', 'urinary', 'na', 'excretion', 'height', 'outlet', 'tank', 'bottom', 'size', 'cross', 'sectional', 'area', 'outlet', 'correspond', 'intercept', 'slope', 'renal', 'function', 'pressure', 'natriuresis', 'curve', 'respectively', 'nonsodium', 'sensitive', 'hypertension', 'due', 'shift', 'curve', 'toward', 'higher', 'blood', 'pressure', 'level', 'elevated', 'height', 'outlet', 'without', 'change', 'slope', 'size', 'outlet', 'sodium', 'sensitive', 'hypertension', 'due', 'depressed', 'slope', 'curve', 'reduced', 'outlet', 'size', 'map', 'water', 'level', 'also', 'co', 'water', 'volume', 'increased', 'resulting', 'sodium', 'retaining', 'hypertension', 'tpr', 'reciprocal', 'base', 'area', 'remained', 'unchanged', 'co', 'relatively', 'unchanged', 'resulting', 'nonsodium', 'retaining', 'hypertension', 'tpr', 'elevated', 'thus', 'map', 'sensitivity', 'sodium', 'intake', 'determined', 'renal', 'function', 'curve', 'since', 'body', 'fluid', 'volume', 'determined', 'renal', 'function', 'curve', 'tpr', 'however', 'change', 'tpr', 'development', 'hypertension', 'major', 'factor', 'determining', 'whether', 'body', 'fluid', 'volume', 'change', 'small', 'amount', 'large', 'amount', 'therefore', 'sodium', 'sensitivity', 'blood', 'pressure', 'sodium', 'retention', 'must', 'considered', 'separately']\n"
     ]
    }
   ],
   "source": [
    "docx_proc = df_train_proc[10]\n",
    "print(docx_proc)"
   ]
  }
 ],
 "metadata": {
  "kernelspec": {
   "display_name": "Python 3 (ipykernel)",
   "language": "python",
   "name": "python3"
  },
  "language_info": {
   "codemirror_mode": {
    "name": "ipython",
    "version": 3
   },
   "file_extension": ".py",
   "mimetype": "text/x-python",
   "name": "python",
   "nbconvert_exporter": "python",
   "pygments_lexer": "ipython3",
   "version": "3.9.12"
  }
 },
 "nbformat": 4,
 "nbformat_minor": 5
}
