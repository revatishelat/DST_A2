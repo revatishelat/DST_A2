{
  "nbformat": 4,
  "nbformat_minor": 0,
  "metadata": {
    "colab": {
      "provenance": [],
      "collapsed_sections": [
        "id5U2syr8X5X",
        "RcXw1dx08mg4"
      ]
    },
    "kernelspec": {
      "name": "python3",
      "display_name": "Python 3"
    },
    "language_info": {
      "name": "python"
    }
  },
  "cells": [
    {
      "cell_type": "markdown",
      "source": [
        "## imports/functions/reading in"
      ],
      "metadata": {
        "id": "BYAFHIa178FY"
      }
    },
    {
      "cell_type": "code",
      "source": [
        "import numpy as np\n",
        "import sklearn\n",
        "import pandas as pd\n",
        "import nltk\n",
        "import re\n",
        "from nltk.stem import WordNetLemmatizer\n",
        "from sklearn.feature_extraction.text import CountVectorizer, TfidfVectorizer\n",
        "from collections import defaultdict\n",
        "from sklearn.metrics import confusion_matrix\n",
        "from sklearn.model_selection import train_test_split\n",
        "from sklearn.naive_bayes import MultinomialNB\n",
        "from sklearn.metrics import accuracy_score, classification_report\n",
        "from sklearn.linear_model import LogisticRegression\n",
        "nltk.download('wordnet')\n",
        "nltk.download('punkt')\n",
        "nltk.download('stopwords')\n",
        "en_stop = set(nltk.corpus.stopwords.words('english'))"
      ],
      "metadata": {
        "colab": {
          "base_uri": "https://localhost:8080/"
        },
        "id": "CkJE1V0f70h3",
        "outputId": "dcf4590d-20f7-47e2-baa1-bab32cac19bb"
      },
      "execution_count": 1,
      "outputs": [
        {
          "output_type": "stream",
          "name": "stderr",
          "text": [
            "[nltk_data] Downloading package wordnet to /root/nltk_data...\n",
            "[nltk_data] Downloading package punkt to /root/nltk_data...\n",
            "[nltk_data]   Unzipping tokenizers/punkt.zip.\n",
            "[nltk_data] Downloading package stopwords to /root/nltk_data...\n",
            "[nltk_data]   Unzipping corpora/stopwords.zip.\n"
          ]
        }
      ]
    },
    {
      "cell_type": "code",
      "source": [
        "def preprocess(doc):\n",
        "        #lowercases document\n",
        "        doc = doc.lower()\n",
        "        #removes any non-letter characters\n",
        "        #tokenize\n",
        "        toks = nltk.word_tokenize(doc)\n",
        "        #remove tokens of lenth <= n (can be varied)\n",
        "        toks = [tok for tok in toks if len(tok) > 1]\n",
        "        #remove tokens that dont exclusively contain letters\n",
        "        toks = [tok for tok in toks if re.match('^[a-zA-Z]+$', tok)]\n",
        "        #remove stopwords\n",
        "        toks = [tok for tok in toks if tok not in en_stop]\n",
        "        #lemmatize\n",
        "        toks = [WordNetLemmatizer().lemmatize(tok) for tok in toks]\n",
        "        return toks\n",
        "\n",
        "def preprocess4(doc):\n",
        "        #lowercases document\n",
        "        doc = doc.lower()\n",
        "        #removes any non-letter characters\n",
        "        #tokenize\n",
        "        toks = nltk.word_tokenize(doc)\n",
        "        #remove tokens of lenth <= n (can be varied)\n",
        "        toks = [tok for tok in toks if len(tok) > 4]\n",
        "        #remove tokens that dont exclusively contain letters\n",
        "        toks = [tok for tok in toks if re.match('^[a-zA-Z]+$', tok)]\n",
        "        #remove stopwords\n",
        "        toks = [tok for tok in toks if tok not in en_stop]\n",
        "        #lemmatize\n",
        "        toks = [WordNetLemmatizer().lemmatize(tok) for tok in toks]\n",
        "        return toks\n",
        "\n",
        "def performance(conf_mat):\n",
        "  TP = 0\n",
        "  for i in range(conf_mat.shape[0]):\n",
        "    Class = df_labels['condition_name'][i]\n",
        "    tp = conf_mat[i, i]\n",
        "    fp = np.sum(conf_mat[:, i]) - tp\n",
        "    fn = np.sum(conf_mat[i, :]) - tp\n",
        "    tn = np.sum(conf_mat) - (tp + fp + fn)\n",
        "    accuracy = (tp + tn) / (tp + tn + fp + fn)\n",
        "    precision = tp / (tp + fp) if (tp + fp) != 0 else 0\n",
        "    recall = tp / (tp + fn) if (tp + fn) != 0 else 0\n",
        "    TP += tp\n",
        "    print(Class.upper())\n",
        "    print(f\"Accuracy: {accuracy:.2f}, Precision: {precision:.2f}, Recall: {recall:.2f}\")\n",
        "  accuracy_tot = TP / np.sum(conf_mat)\n",
        "  print(f\"Total Accuracy: {accuracy_tot:.2f}\")\n",
        "  return"
      ],
      "metadata": {
        "id": "7MkT14aEvLv1"
      },
      "execution_count": 96,
      "outputs": []
    },
    {
      "cell_type": "code",
      "source": [
        "df_train = pd.read_csv('medical_tc_train.csv')\n",
        "df_test = pd.read_csv('medical_tc_test.csv')\n",
        "df_labels = pd.read_csv('medical_tc_labels.csv')"
      ],
      "metadata": {
        "id": "4HZPIJd4vPtc"
      },
      "execution_count": 4,
      "outputs": []
    },
    {
      "cell_type": "code",
      "source": [
        "print(df_train.shape)\n",
        "print(df_test.shape)"
      ],
      "metadata": {
        "colab": {
          "base_uri": "https://localhost:8080/"
        },
        "id": "TRuJOmrs7cJ4",
        "outputId": "2e33b5d5-bef1-44c5-e1de-8e35443b98c1"
      },
      "execution_count": 5,
      "outputs": [
        {
          "output_type": "stream",
          "name": "stdout",
          "text": [
            "(11550, 2)\n",
            "(2888, 2)\n"
          ]
        }
      ]
    },
    {
      "cell_type": "code",
      "source": [
        "df = pd.concat([df_train,df_test],axis = 0)\n",
        "df.reset_index(drop=True, inplace=True)"
      ],
      "metadata": {
        "id": "UKv1qHLT4_2Q"
      },
      "execution_count": 6,
      "outputs": []
    },
    {
      "cell_type": "markdown",
      "source": [
        "## Term frequency with Naive Bayes"
      ],
      "metadata": {
        "id": "id5U2syr8X5X"
      }
    },
    {
      "cell_type": "code",
      "source": [
        "corp_train = df_train['medical_abstract']\n",
        "corp_test = df_test['medical_abstract']"
      ],
      "metadata": {
        "id": "IhCV4EEa5ACf"
      },
      "execution_count": 27,
      "outputs": []
    },
    {
      "cell_type": "code",
      "source": [
        "count = CountVectorizer(preprocessor=preprocess, tokenizer=tok)\n",
        "\n",
        "count_mat_train = count.fit_transform(corp_train)\n",
        "print(count_mat_train.shape)"
      ],
      "metadata": {
        "colab": {
          "base_uri": "https://localhost:8080/"
        },
        "id": "Fjt53VMj6Kta",
        "outputId": "11ee4696-847c-464d-c23b-9e3f6c31a89f"
      },
      "execution_count": 84,
      "outputs": [
        {
          "output_type": "stream",
          "name": "stdout",
          "text": [
            "(11550, 28079)\n"
          ]
        }
      ]
    },
    {
      "cell_type": "code",
      "source": [
        "vocabulary = count.vocabulary_\n",
        "print(len(vocabulary))"
      ],
      "metadata": {
        "colab": {
          "base_uri": "https://localhost:8080/"
        },
        "id": "rM_VYSlnijzK",
        "outputId": "8f6d9b64-6985-45f9-a333-e525304486cd"
      },
      "execution_count": 79,
      "outputs": [
        {
          "output_type": "stream",
          "name": "stdout",
          "text": [
            "24875\n"
          ]
        }
      ]
    },
    {
      "cell_type": "code",
      "source": [
        "count_mat_test = count.transform(corp_test)\n",
        "print(count_mat_test.shape)"
      ],
      "metadata": {
        "colab": {
          "base_uri": "https://localhost:8080/"
        },
        "id": "GtHxDxbi7MJH",
        "outputId": "0874979e-1e2f-426e-a65b-9788a30dd3b3"
      },
      "execution_count": 36,
      "outputs": [
        {
          "output_type": "stream",
          "name": "stdout",
          "text": [
            "(2888, 28079)\n"
          ]
        }
      ]
    },
    {
      "cell_type": "code",
      "source": [
        "labels_train = df_train['condition_label']\n",
        "labels_test = df_test['condition_label']"
      ],
      "metadata": {
        "id": "YKBxjovf7l7J"
      },
      "execution_count": 37,
      "outputs": []
    },
    {
      "cell_type": "code",
      "source": [
        "classifier = MultinomialNB()"
      ],
      "metadata": {
        "id": "X7MbhOWWwR4N"
      },
      "execution_count": 38,
      "outputs": []
    },
    {
      "cell_type": "code",
      "source": [
        "classifier.fit(count_mat_train, labels_train)"
      ],
      "metadata": {
        "colab": {
          "base_uri": "https://localhost:8080/",
          "height": 75
        },
        "id": "-dGbedVf0fCP",
        "outputId": "dc83803a-e932-4c53-d1ed-9eb94a1d109a"
      },
      "execution_count": 39,
      "outputs": [
        {
          "output_type": "execute_result",
          "data": {
            "text/plain": [
              "MultinomialNB()"
            ],
            "text/html": [
              "<style>#sk-container-id-1 {color: black;background-color: white;}#sk-container-id-1 pre{padding: 0;}#sk-container-id-1 div.sk-toggleable {background-color: white;}#sk-container-id-1 label.sk-toggleable__label {cursor: pointer;display: block;width: 100%;margin-bottom: 0;padding: 0.3em;box-sizing: border-box;text-align: center;}#sk-container-id-1 label.sk-toggleable__label-arrow:before {content: \"▸\";float: left;margin-right: 0.25em;color: #696969;}#sk-container-id-1 label.sk-toggleable__label-arrow:hover:before {color: black;}#sk-container-id-1 div.sk-estimator:hover label.sk-toggleable__label-arrow:before {color: black;}#sk-container-id-1 div.sk-toggleable__content {max-height: 0;max-width: 0;overflow: hidden;text-align: left;background-color: #f0f8ff;}#sk-container-id-1 div.sk-toggleable__content pre {margin: 0.2em;color: black;border-radius: 0.25em;background-color: #f0f8ff;}#sk-container-id-1 input.sk-toggleable__control:checked~div.sk-toggleable__content {max-height: 200px;max-width: 100%;overflow: auto;}#sk-container-id-1 input.sk-toggleable__control:checked~label.sk-toggleable__label-arrow:before {content: \"▾\";}#sk-container-id-1 div.sk-estimator input.sk-toggleable__control:checked~label.sk-toggleable__label {background-color: #d4ebff;}#sk-container-id-1 div.sk-label input.sk-toggleable__control:checked~label.sk-toggleable__label {background-color: #d4ebff;}#sk-container-id-1 input.sk-hidden--visually {border: 0;clip: rect(1px 1px 1px 1px);clip: rect(1px, 1px, 1px, 1px);height: 1px;margin: -1px;overflow: hidden;padding: 0;position: absolute;width: 1px;}#sk-container-id-1 div.sk-estimator {font-family: monospace;background-color: #f0f8ff;border: 1px dotted black;border-radius: 0.25em;box-sizing: border-box;margin-bottom: 0.5em;}#sk-container-id-1 div.sk-estimator:hover {background-color: #d4ebff;}#sk-container-id-1 div.sk-parallel-item::after {content: \"\";width: 100%;border-bottom: 1px solid gray;flex-grow: 1;}#sk-container-id-1 div.sk-label:hover label.sk-toggleable__label {background-color: #d4ebff;}#sk-container-id-1 div.sk-serial::before {content: \"\";position: absolute;border-left: 1px solid gray;box-sizing: border-box;top: 0;bottom: 0;left: 50%;z-index: 0;}#sk-container-id-1 div.sk-serial {display: flex;flex-direction: column;align-items: center;background-color: white;padding-right: 0.2em;padding-left: 0.2em;position: relative;}#sk-container-id-1 div.sk-item {position: relative;z-index: 1;}#sk-container-id-1 div.sk-parallel {display: flex;align-items: stretch;justify-content: center;background-color: white;position: relative;}#sk-container-id-1 div.sk-item::before, #sk-container-id-1 div.sk-parallel-item::before {content: \"\";position: absolute;border-left: 1px solid gray;box-sizing: border-box;top: 0;bottom: 0;left: 50%;z-index: -1;}#sk-container-id-1 div.sk-parallel-item {display: flex;flex-direction: column;z-index: 1;position: relative;background-color: white;}#sk-container-id-1 div.sk-parallel-item:first-child::after {align-self: flex-end;width: 50%;}#sk-container-id-1 div.sk-parallel-item:last-child::after {align-self: flex-start;width: 50%;}#sk-container-id-1 div.sk-parallel-item:only-child::after {width: 0;}#sk-container-id-1 div.sk-dashed-wrapped {border: 1px dashed gray;margin: 0 0.4em 0.5em 0.4em;box-sizing: border-box;padding-bottom: 0.4em;background-color: white;}#sk-container-id-1 div.sk-label label {font-family: monospace;font-weight: bold;display: inline-block;line-height: 1.2em;}#sk-container-id-1 div.sk-label-container {text-align: center;}#sk-container-id-1 div.sk-container {/* jupyter's `normalize.less` sets `[hidden] { display: none; }` but bootstrap.min.css set `[hidden] { display: none !important; }` so we also need the `!important` here to be able to override the default hidden behavior on the sphinx rendered scikit-learn.org. See: https://github.com/scikit-learn/scikit-learn/issues/21755 */display: inline-block !important;position: relative;}#sk-container-id-1 div.sk-text-repr-fallback {display: none;}</style><div id=\"sk-container-id-1\" class=\"sk-top-container\"><div class=\"sk-text-repr-fallback\"><pre>MultinomialNB()</pre><b>In a Jupyter environment, please rerun this cell to show the HTML representation or trust the notebook. <br />On GitHub, the HTML representation is unable to render, please try loading this page with nbviewer.org.</b></div><div class=\"sk-container\" hidden><div class=\"sk-item\"><div class=\"sk-estimator sk-toggleable\"><input class=\"sk-toggleable__control sk-hidden--visually\" id=\"sk-estimator-id-1\" type=\"checkbox\" checked><label for=\"sk-estimator-id-1\" class=\"sk-toggleable__label sk-toggleable__label-arrow\">MultinomialNB</label><div class=\"sk-toggleable__content\"><pre>MultinomialNB()</pre></div></div></div></div></div>"
            ]
          },
          "metadata": {},
          "execution_count": 39
        }
      ]
    },
    {
      "cell_type": "code",
      "source": [
        "labels_pred = classifier.predict(count_mat_test)"
      ],
      "metadata": {
        "id": "vtVEMF6x8g_a"
      },
      "execution_count": 40,
      "outputs": []
    },
    {
      "cell_type": "code",
      "source": [
        "conf_mat = confusion_matrix(labels_test, labels_pred)\n",
        "print(conf_mat)"
      ],
      "metadata": {
        "id": "_yXBQBHS8hL5",
        "colab": {
          "base_uri": "https://localhost:8080/"
        },
        "outputId": "b4c01ce0-93e8-4431-eaa0-41b011f215fe"
      },
      "execution_count": 41,
      "outputs": [
        {
          "output_type": "stream",
          "name": "stdout",
          "text": [
            "[[490  40  35  14  54]\n",
            " [ 37 188   6  10  58]\n",
            " [ 28   8 240  32  77]\n",
            " [ 10  12  33 466  89]\n",
            " [171 141 131 207 311]]\n"
          ]
        }
      ]
    },
    {
      "cell_type": "code",
      "source": [
        "performance(conf_mat)"
      ],
      "metadata": {
        "colab": {
          "base_uri": "https://localhost:8080/"
        },
        "id": "F7ytu8hs7GQo",
        "outputId": "cd4ad46f-5f84-40aa-a062-a07b16450895"
      },
      "execution_count": 48,
      "outputs": [
        {
          "output_type": "stream",
          "name": "stdout",
          "text": [
            "NEOPLASMS\n",
            "Accuracy: 0.87, Precision: 0.67, Recall: 0.77\n",
            "DIGESTIVE SYSTEM DISEASES\n",
            "Accuracy: 0.89, Precision: 0.48, Recall: 0.63\n",
            "NERVOUS SYSTEM DISEASES\n",
            "Accuracy: 0.88, Precision: 0.54, Recall: 0.62\n",
            "CARDIOVASCULAR DISEASES\n",
            "Accuracy: 0.86, Precision: 0.64, Recall: 0.76\n",
            "GENERAL PATHOLOGICAL CONDITIONS\n",
            "Accuracy: 0.68, Precision: 0.53, Recall: 0.32\n",
            "Total Accuracy: 0.59\n"
          ]
        }
      ]
    },
    {
      "cell_type": "markdown",
      "source": [
        "seems to be a decent classifier for the classes 1-4 but 5 causing some trouble"
      ],
      "metadata": {
        "id": "FFXtXg3A9btX"
      }
    },
    {
      "cell_type": "code",
      "source": [
        "print(df_labels)"
      ],
      "metadata": {
        "colab": {
          "base_uri": "https://localhost:8080/"
        },
        "id": "65fl0XO4AdhM",
        "outputId": "78c0b14d-7299-4f78-946a-d0b95bf3cf06"
      },
      "execution_count": null,
      "outputs": [
        {
          "output_type": "stream",
          "name": "stdout",
          "text": [
            "   condition_label                   condition_name\n",
            "0                1                        neoplasms\n",
            "1                2        digestive system diseases\n",
            "2                3          nervous system diseases\n",
            "3                4          cardiovascular diseases\n",
            "4                5  general pathological conditions\n"
          ]
        }
      ]
    },
    {
      "cell_type": "markdown",
      "source": [
        "to be expected since general pathological conditions is a more general class of abstracts"
      ],
      "metadata": {
        "id": "mU275Mbv243c"
      }
    },
    {
      "cell_type": "markdown",
      "source": [
        "## Term frequency with length 4 or less tokens removed"
      ],
      "metadata": {
        "id": "RcXw1dx08mg4"
      }
    },
    {
      "cell_type": "code",
      "source": [
        "count4 = CountVectorizer(preprocessor=preprocess4, tokenizer=tok)\n",
        "\n",
        "bow_mat_train4 = count4.fit_transform(corp_train)\n",
        "print(bow_mat_train4.shape)"
      ],
      "metadata": {
        "colab": {
          "base_uri": "https://localhost:8080/"
        },
        "id": "yhtrr_L32AlM",
        "outputId": "149d263f-0a56-4b98-ada2-2c4a07ec5317"
      },
      "execution_count": 97,
      "outputs": [
        {
          "output_type": "stream",
          "name": "stderr",
          "text": [
            "/usr/local/lib/python3.10/dist-packages/sklearn/feature_extraction/text.py:528: UserWarning: The parameter 'token_pattern' will not be used since 'tokenizer' is not None'\n",
            "  warnings.warn(\n"
          ]
        },
        {
          "output_type": "stream",
          "name": "stdout",
          "text": [
            "(11550, 18880)\n"
          ]
        }
      ]
    },
    {
      "cell_type": "code",
      "source": [
        "bow_mat_test4 = count4.transform(corp_test)\n",
        "print(bow_mat_test4.shape)"
      ],
      "metadata": {
        "colab": {
          "base_uri": "https://localhost:8080/"
        },
        "id": "oCCCpW4_kl__",
        "outputId": "4b6845c6-c3f4-4f42-fa6e-7f2e3d73e8fd"
      },
      "execution_count": 101,
      "outputs": [
        {
          "output_type": "stream",
          "name": "stdout",
          "text": [
            "(2888, 18880)\n"
          ]
        }
      ]
    },
    {
      "cell_type": "code",
      "source": [
        "classifier1 = MultinomialNB()"
      ],
      "metadata": {
        "id": "tmlIIdHPkmCW"
      },
      "execution_count": 102,
      "outputs": []
    },
    {
      "cell_type": "code",
      "source": [
        "classifier1.fit(bow_mat_train4, labels_train)"
      ],
      "metadata": {
        "colab": {
          "base_uri": "https://localhost:8080/",
          "height": 75
        },
        "id": "O0dYYdB5kmEe",
        "outputId": "7b3e6cff-83b6-4eab-dbf5-b6ace68e4a97"
      },
      "execution_count": 103,
      "outputs": [
        {
          "output_type": "execute_result",
          "data": {
            "text/plain": [
              "MultinomialNB()"
            ],
            "text/html": [
              "<style>#sk-container-id-5 {color: black;background-color: white;}#sk-container-id-5 pre{padding: 0;}#sk-container-id-5 div.sk-toggleable {background-color: white;}#sk-container-id-5 label.sk-toggleable__label {cursor: pointer;display: block;width: 100%;margin-bottom: 0;padding: 0.3em;box-sizing: border-box;text-align: center;}#sk-container-id-5 label.sk-toggleable__label-arrow:before {content: \"▸\";float: left;margin-right: 0.25em;color: #696969;}#sk-container-id-5 label.sk-toggleable__label-arrow:hover:before {color: black;}#sk-container-id-5 div.sk-estimator:hover label.sk-toggleable__label-arrow:before {color: black;}#sk-container-id-5 div.sk-toggleable__content {max-height: 0;max-width: 0;overflow: hidden;text-align: left;background-color: #f0f8ff;}#sk-container-id-5 div.sk-toggleable__content pre {margin: 0.2em;color: black;border-radius: 0.25em;background-color: #f0f8ff;}#sk-container-id-5 input.sk-toggleable__control:checked~div.sk-toggleable__content {max-height: 200px;max-width: 100%;overflow: auto;}#sk-container-id-5 input.sk-toggleable__control:checked~label.sk-toggleable__label-arrow:before {content: \"▾\";}#sk-container-id-5 div.sk-estimator input.sk-toggleable__control:checked~label.sk-toggleable__label {background-color: #d4ebff;}#sk-container-id-5 div.sk-label input.sk-toggleable__control:checked~label.sk-toggleable__label {background-color: #d4ebff;}#sk-container-id-5 input.sk-hidden--visually {border: 0;clip: rect(1px 1px 1px 1px);clip: rect(1px, 1px, 1px, 1px);height: 1px;margin: -1px;overflow: hidden;padding: 0;position: absolute;width: 1px;}#sk-container-id-5 div.sk-estimator {font-family: monospace;background-color: #f0f8ff;border: 1px dotted black;border-radius: 0.25em;box-sizing: border-box;margin-bottom: 0.5em;}#sk-container-id-5 div.sk-estimator:hover {background-color: #d4ebff;}#sk-container-id-5 div.sk-parallel-item::after {content: \"\";width: 100%;border-bottom: 1px solid gray;flex-grow: 1;}#sk-container-id-5 div.sk-label:hover label.sk-toggleable__label {background-color: #d4ebff;}#sk-container-id-5 div.sk-serial::before {content: \"\";position: absolute;border-left: 1px solid gray;box-sizing: border-box;top: 0;bottom: 0;left: 50%;z-index: 0;}#sk-container-id-5 div.sk-serial {display: flex;flex-direction: column;align-items: center;background-color: white;padding-right: 0.2em;padding-left: 0.2em;position: relative;}#sk-container-id-5 div.sk-item {position: relative;z-index: 1;}#sk-container-id-5 div.sk-parallel {display: flex;align-items: stretch;justify-content: center;background-color: white;position: relative;}#sk-container-id-5 div.sk-item::before, #sk-container-id-5 div.sk-parallel-item::before {content: \"\";position: absolute;border-left: 1px solid gray;box-sizing: border-box;top: 0;bottom: 0;left: 50%;z-index: -1;}#sk-container-id-5 div.sk-parallel-item {display: flex;flex-direction: column;z-index: 1;position: relative;background-color: white;}#sk-container-id-5 div.sk-parallel-item:first-child::after {align-self: flex-end;width: 50%;}#sk-container-id-5 div.sk-parallel-item:last-child::after {align-self: flex-start;width: 50%;}#sk-container-id-5 div.sk-parallel-item:only-child::after {width: 0;}#sk-container-id-5 div.sk-dashed-wrapped {border: 1px dashed gray;margin: 0 0.4em 0.5em 0.4em;box-sizing: border-box;padding-bottom: 0.4em;background-color: white;}#sk-container-id-5 div.sk-label label {font-family: monospace;font-weight: bold;display: inline-block;line-height: 1.2em;}#sk-container-id-5 div.sk-label-container {text-align: center;}#sk-container-id-5 div.sk-container {/* jupyter's `normalize.less` sets `[hidden] { display: none; }` but bootstrap.min.css set `[hidden] { display: none !important; }` so we also need the `!important` here to be able to override the default hidden behavior on the sphinx rendered scikit-learn.org. See: https://github.com/scikit-learn/scikit-learn/issues/21755 */display: inline-block !important;position: relative;}#sk-container-id-5 div.sk-text-repr-fallback {display: none;}</style><div id=\"sk-container-id-5\" class=\"sk-top-container\"><div class=\"sk-text-repr-fallback\"><pre>MultinomialNB()</pre><b>In a Jupyter environment, please rerun this cell to show the HTML representation or trust the notebook. <br />On GitHub, the HTML representation is unable to render, please try loading this page with nbviewer.org.</b></div><div class=\"sk-container\" hidden><div class=\"sk-item\"><div class=\"sk-estimator sk-toggleable\"><input class=\"sk-toggleable__control sk-hidden--visually\" id=\"sk-estimator-id-5\" type=\"checkbox\" checked><label for=\"sk-estimator-id-5\" class=\"sk-toggleable__label sk-toggleable__label-arrow\">MultinomialNB</label><div class=\"sk-toggleable__content\"><pre>MultinomialNB()</pre></div></div></div></div></div>"
            ]
          },
          "metadata": {},
          "execution_count": 103
        }
      ]
    },
    {
      "cell_type": "code",
      "source": [
        "labels_pred4 = classifier1.predict(bow_mat_test4)"
      ],
      "metadata": {
        "id": "GI28z0zOkmI_"
      },
      "execution_count": 104,
      "outputs": []
    },
    {
      "cell_type": "code",
      "source": [
        "conf_mat4 = confusion_matrix(labels_test, labels_pred4)\n",
        "print(conf_mat4)"
      ],
      "metadata": {
        "colab": {
          "base_uri": "https://localhost:8080/"
        },
        "id": "j_5hf8yHkmLP",
        "outputId": "99659c55-4e91-4b9d-f44a-f0b8d3a1eb70"
      },
      "execution_count": 105,
      "outputs": [
        {
          "output_type": "stream",
          "name": "stdout",
          "text": [
            "[[483  38  37  17  58]\n",
            " [ 40 178   7  11  63]\n",
            " [ 29  14 236  32  74]\n",
            " [ 14   7  34 451 104]\n",
            " [168 136 131 195 331]]\n"
          ]
        }
      ]
    },
    {
      "cell_type": "code",
      "source": [
        "performance(conf_mat4)"
      ],
      "metadata": {
        "colab": {
          "base_uri": "https://localhost:8080/"
        },
        "id": "eZ2vX-M1kmO2",
        "outputId": "9a1f8cd4-27d9-41c2-d724-f45e4d073d94"
      },
      "execution_count": 106,
      "outputs": [
        {
          "output_type": "stream",
          "name": "stdout",
          "text": [
            "NEOPLASMS\n",
            "Accuracy: 0.86, Precision: 0.66, Recall: 0.76\n",
            "DIGESTIVE SYSTEM DISEASES\n",
            "Accuracy: 0.89, Precision: 0.48, Recall: 0.60\n",
            "NERVOUS SYSTEM DISEASES\n",
            "Accuracy: 0.88, Precision: 0.53, Recall: 0.61\n",
            "CARDIOVASCULAR DISEASES\n",
            "Accuracy: 0.86, Precision: 0.64, Recall: 0.74\n",
            "GENERAL PATHOLOGICAL CONDITIONS\n",
            "Accuracy: 0.68, Precision: 0.53, Recall: 0.34\n",
            "Total Accuracy: 0.58\n"
          ]
        }
      ]
    },
    {
      "cell_type": "markdown",
      "source": [
        "We see a tiny increase in performance, yet no increase in efficiency since the classifier is so fast"
      ],
      "metadata": {
        "id": "9lPKicA5qy8M"
      }
    },
    {
      "cell_type": "markdown",
      "source": [
        "## Term Frequency-Inverse Document Frequency"
      ],
      "metadata": {
        "id": "PcFpj4kP_WtK"
      }
    },
    {
      "cell_type": "code",
      "source": [
        "tfidf = TfidfVectorizer(preprocessor=preprocess4, tokenizer=tok)\n",
        "tfidf_mat_train = tfidf.fit_transform(corp_train)"
      ],
      "metadata": {
        "id": "kFH63y37Cb8q",
        "colab": {
          "base_uri": "https://localhost:8080/"
        },
        "outputId": "de9ecb23-d64c-440e-bd15-58eff3a82bfc"
      },
      "execution_count": 113,
      "outputs": [
        {
          "output_type": "stream",
          "name": "stderr",
          "text": [
            "/usr/local/lib/python3.10/dist-packages/sklearn/feature_extraction/text.py:528: UserWarning: The parameter 'token_pattern' will not be used since 'tokenizer' is not None'\n",
            "  warnings.warn(\n"
          ]
        }
      ]
    },
    {
      "cell_type": "code",
      "source": [
        "tfidf_mat_test = tfidf.transform(corp_test)\n",
        "print(tfidf_mat_test.shape)"
      ],
      "metadata": {
        "colab": {
          "base_uri": "https://localhost:8080/"
        },
        "id": "3OhD8_tlsTgO",
        "outputId": "d4c8e9a1-3115-4d9d-f6ce-133b893bf38d"
      },
      "execution_count": 119,
      "outputs": [
        {
          "output_type": "stream",
          "name": "stdout",
          "text": [
            "(2888, 18880)\n"
          ]
        }
      ]
    },
    {
      "cell_type": "code",
      "source": [
        "classifier2 = MultinomialNB()"
      ],
      "metadata": {
        "id": "bi5AAa0E-7Qs"
      },
      "execution_count": 117,
      "outputs": []
    },
    {
      "cell_type": "code",
      "source": [
        "classifier2.fit(tfidf_mat_train, labels_train)"
      ],
      "metadata": {
        "colab": {
          "base_uri": "https://localhost:8080/",
          "height": 75
        },
        "id": "7jHPhan7--3t",
        "outputId": "2cd1faa2-3a73-4013-adcc-8038e932afe2"
      },
      "execution_count": 118,
      "outputs": [
        {
          "output_type": "execute_result",
          "data": {
            "text/plain": [
              "MultinomialNB()"
            ],
            "text/html": [
              "<style>#sk-container-id-7 {color: black;background-color: white;}#sk-container-id-7 pre{padding: 0;}#sk-container-id-7 div.sk-toggleable {background-color: white;}#sk-container-id-7 label.sk-toggleable__label {cursor: pointer;display: block;width: 100%;margin-bottom: 0;padding: 0.3em;box-sizing: border-box;text-align: center;}#sk-container-id-7 label.sk-toggleable__label-arrow:before {content: \"▸\";float: left;margin-right: 0.25em;color: #696969;}#sk-container-id-7 label.sk-toggleable__label-arrow:hover:before {color: black;}#sk-container-id-7 div.sk-estimator:hover label.sk-toggleable__label-arrow:before {color: black;}#sk-container-id-7 div.sk-toggleable__content {max-height: 0;max-width: 0;overflow: hidden;text-align: left;background-color: #f0f8ff;}#sk-container-id-7 div.sk-toggleable__content pre {margin: 0.2em;color: black;border-radius: 0.25em;background-color: #f0f8ff;}#sk-container-id-7 input.sk-toggleable__control:checked~div.sk-toggleable__content {max-height: 200px;max-width: 100%;overflow: auto;}#sk-container-id-7 input.sk-toggleable__control:checked~label.sk-toggleable__label-arrow:before {content: \"▾\";}#sk-container-id-7 div.sk-estimator input.sk-toggleable__control:checked~label.sk-toggleable__label {background-color: #d4ebff;}#sk-container-id-7 div.sk-label input.sk-toggleable__control:checked~label.sk-toggleable__label {background-color: #d4ebff;}#sk-container-id-7 input.sk-hidden--visually {border: 0;clip: rect(1px 1px 1px 1px);clip: rect(1px, 1px, 1px, 1px);height: 1px;margin: -1px;overflow: hidden;padding: 0;position: absolute;width: 1px;}#sk-container-id-7 div.sk-estimator {font-family: monospace;background-color: #f0f8ff;border: 1px dotted black;border-radius: 0.25em;box-sizing: border-box;margin-bottom: 0.5em;}#sk-container-id-7 div.sk-estimator:hover {background-color: #d4ebff;}#sk-container-id-7 div.sk-parallel-item::after {content: \"\";width: 100%;border-bottom: 1px solid gray;flex-grow: 1;}#sk-container-id-7 div.sk-label:hover label.sk-toggleable__label {background-color: #d4ebff;}#sk-container-id-7 div.sk-serial::before {content: \"\";position: absolute;border-left: 1px solid gray;box-sizing: border-box;top: 0;bottom: 0;left: 50%;z-index: 0;}#sk-container-id-7 div.sk-serial {display: flex;flex-direction: column;align-items: center;background-color: white;padding-right: 0.2em;padding-left: 0.2em;position: relative;}#sk-container-id-7 div.sk-item {position: relative;z-index: 1;}#sk-container-id-7 div.sk-parallel {display: flex;align-items: stretch;justify-content: center;background-color: white;position: relative;}#sk-container-id-7 div.sk-item::before, #sk-container-id-7 div.sk-parallel-item::before {content: \"\";position: absolute;border-left: 1px solid gray;box-sizing: border-box;top: 0;bottom: 0;left: 50%;z-index: -1;}#sk-container-id-7 div.sk-parallel-item {display: flex;flex-direction: column;z-index: 1;position: relative;background-color: white;}#sk-container-id-7 div.sk-parallel-item:first-child::after {align-self: flex-end;width: 50%;}#sk-container-id-7 div.sk-parallel-item:last-child::after {align-self: flex-start;width: 50%;}#sk-container-id-7 div.sk-parallel-item:only-child::after {width: 0;}#sk-container-id-7 div.sk-dashed-wrapped {border: 1px dashed gray;margin: 0 0.4em 0.5em 0.4em;box-sizing: border-box;padding-bottom: 0.4em;background-color: white;}#sk-container-id-7 div.sk-label label {font-family: monospace;font-weight: bold;display: inline-block;line-height: 1.2em;}#sk-container-id-7 div.sk-label-container {text-align: center;}#sk-container-id-7 div.sk-container {/* jupyter's `normalize.less` sets `[hidden] { display: none; }` but bootstrap.min.css set `[hidden] { display: none !important; }` so we also need the `!important` here to be able to override the default hidden behavior on the sphinx rendered scikit-learn.org. See: https://github.com/scikit-learn/scikit-learn/issues/21755 */display: inline-block !important;position: relative;}#sk-container-id-7 div.sk-text-repr-fallback {display: none;}</style><div id=\"sk-container-id-7\" class=\"sk-top-container\"><div class=\"sk-text-repr-fallback\"><pre>MultinomialNB()</pre><b>In a Jupyter environment, please rerun this cell to show the HTML representation or trust the notebook. <br />On GitHub, the HTML representation is unable to render, please try loading this page with nbviewer.org.</b></div><div class=\"sk-container\" hidden><div class=\"sk-item\"><div class=\"sk-estimator sk-toggleable\"><input class=\"sk-toggleable__control sk-hidden--visually\" id=\"sk-estimator-id-7\" type=\"checkbox\" checked><label for=\"sk-estimator-id-7\" class=\"sk-toggleable__label sk-toggleable__label-arrow\">MultinomialNB</label><div class=\"sk-toggleable__content\"><pre>MultinomialNB()</pre></div></div></div></div></div>"
            ]
          },
          "metadata": {},
          "execution_count": 118
        }
      ]
    },
    {
      "cell_type": "code",
      "source": [
        "labels_pred = classifier2.predict(tfidf_mat_test)"
      ],
      "metadata": {
        "id": "kT-3LSDz_EVs"
      },
      "execution_count": 121,
      "outputs": []
    },
    {
      "cell_type": "code",
      "source": [
        "conf_mat = confusion_matrix(labels_test, labels_pred)\n",
        "print(conf_mat)"
      ],
      "metadata": {
        "colab": {
          "base_uri": "https://localhost:8080/"
        },
        "id": "jZ_UA1HS_S8X",
        "outputId": "13c98cdc-bfef-45f5-fafa-c8d9ccf446c7"
      },
      "execution_count": 122,
      "outputs": [
        {
          "output_type": "stream",
          "name": "stdout",
          "text": [
            "[[405   0   3  12 213]\n",
            " [ 31   5   1  10 252]\n",
            " [ 22   0  21  23 319]\n",
            " [  6   0   1 362 241]\n",
            " [116   0   5 139 701]]\n"
          ]
        }
      ]
    },
    {
      "cell_type": "code",
      "source": [
        "accuracy = accuracy_score(labels_test, labels_pred)\n",
        "print(accuracy)"
      ],
      "metadata": {
        "colab": {
          "base_uri": "https://localhost:8080/"
        },
        "id": "LwiacmDKAFCC",
        "outputId": "3e0d761d-d70f-403d-d84a-27ac033ca9be"
      },
      "execution_count": 123,
      "outputs": [
        {
          "output_type": "stream",
          "name": "stdout",
          "text": [
            "0.5173130193905817\n"
          ]
        }
      ]
    },
    {
      "cell_type": "code",
      "source": [
        "performance(conf_mat)"
      ],
      "metadata": {
        "colab": {
          "base_uri": "https://localhost:8080/"
        },
        "id": "krreQzLHDDZP",
        "outputId": "3d0b0be9-899d-4dee-fa4f-ebb847b5c433"
      },
      "execution_count": 124,
      "outputs": [
        {
          "output_type": "stream",
          "name": "stdout",
          "text": [
            "NEOPLASMS\n",
            "Accuracy: 0.86, Precision: 0.70, Recall: 0.64\n",
            "DIGESTIVE SYSTEM DISEASES\n",
            "Accuracy: 0.90, Precision: 1.00, Recall: 0.02\n",
            "NERVOUS SYSTEM DISEASES\n",
            "Accuracy: 0.87, Precision: 0.68, Recall: 0.05\n",
            "CARDIOVASCULAR DISEASES\n",
            "Accuracy: 0.85, Precision: 0.66, Recall: 0.59\n",
            "GENERAL PATHOLOGICAL CONDITIONS\n",
            "Accuracy: 0.56, Precision: 0.41, Recall: 0.73\n",
            "Total Accuracy: 0.52\n"
          ]
        }
      ]
    },
    {
      "cell_type": "markdown",
      "source": [
        "seem to be underprediciting underrepresented classes need to fix this"
      ],
      "metadata": {
        "id": "BKnGnRrpTcVn"
      }
    },
    {
      "cell_type": "markdown",
      "source": [
        "## to do"
      ],
      "metadata": {
        "id": "Am6kHZoNvhur"
      }
    },
    {
      "cell_type": "markdown",
      "source": [
        "filter extremes from dictionary, fix classifier in tfidf, look at removing general category"
      ],
      "metadata": {
        "id": "H24lF2mdvrSE"
      }
    }
  ]
}