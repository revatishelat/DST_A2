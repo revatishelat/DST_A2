{
 "cells": [
  {
   "cell_type": "code",
   "execution_count": 17,
   "id": "33c9fc7f",
   "metadata": {
    "scrolled": true
   },
   "outputs": [
    {
     "name": "stdout",
     "output_type": "stream",
     "text": [
      "Requirement already satisfied: pandas in /opt/conda/lib/python3.9/site-packages (2.1.3)\n",
      "Requirement already satisfied: pytz>=2020.1 in /opt/conda/lib/python3.9/site-packages (from pandas) (2022.1)\n",
      "Requirement already satisfied: tzdata>=2022.1 in /opt/conda/lib/python3.9/site-packages (from pandas) (2023.3)\n",
      "Requirement already satisfied: python-dateutil>=2.8.2 in /opt/conda/lib/python3.9/site-packages (from pandas) (2.8.2)\n",
      "Requirement already satisfied: numpy<2,>=1.22.4 in /opt/conda/lib/python3.9/site-packages (from pandas) (1.25.2)\n",
      "Requirement already satisfied: six>=1.5 in /opt/conda/lib/python3.9/site-packages (from python-dateutil>=2.8.2->pandas) (1.16.0)\n",
      "Requirement already satisfied: nltk in /opt/conda/lib/python3.9/site-packages (3.8.1)\n",
      "Requirement already satisfied: tqdm in /opt/conda/lib/python3.9/site-packages (from nltk) (4.64.0)\n",
      "Requirement already satisfied: regex>=2021.8.3 in /opt/conda/lib/python3.9/site-packages (from nltk) (2023.10.3)\n",
      "Requirement already satisfied: joblib in /opt/conda/lib/python3.9/site-packages (from nltk) (1.3.2)\n",
      "Requirement already satisfied: click in /opt/conda/lib/python3.9/site-packages (from nltk) (8.1.7)\n"
     ]
    }
   ],
   "source": [
    "!pip install pandas\n",
    "!pip install nltk"
   ]
  },
  {
   "cell_type": "code",
   "execution_count": 18,
   "id": "f4fc8ff3",
   "metadata": {},
   "outputs": [
    {
     "name": "stderr",
     "output_type": "stream",
     "text": [
      "[nltk_data] Downloading package wordnet to /home/jovyan/nltk_data...\n",
      "[nltk_data]   Package wordnet is already up-to-date!\n",
      "[nltk_data] Downloading package punkt to /home/jovyan/nltk_data...\n",
      "[nltk_data]   Package punkt is already up-to-date!\n",
      "[nltk_data] Downloading package stopwords to /home/jovyan/nltk_data...\n",
      "[nltk_data]   Package stopwords is already up-to-date!\n"
     ]
    }
   ],
   "source": [
    "import pandas as pd\n",
    "import nltk\n",
    "nltk.download('wordnet')\n",
    "nltk.download('punkt')\n",
    "nltk.download('stopwords')\n",
    "from nltk.stem import WordNetLemmatizer"
   ]
  },
  {
   "cell_type": "code",
   "execution_count": 19,
   "id": "ae5a381c",
   "metadata": {},
   "outputs": [],
   "source": [
    "df_labels = pd.read_csv('medical_tc_labels.csv')\n",
    "df_train = pd.read_csv('medical_tc_train.csv')\n",
    "df_test = pd.read_csv('medical_tc_train.csv')"
   ]
  },
  {
   "cell_type": "code",
   "execution_count": 30,
   "id": "b430de0a",
   "metadata": {},
   "outputs": [],
   "source": [
    "df_train['medical_abstract'] = df_train['medical_abstract'].str.lower()\n",
    "df_test['medical_abstract'] = df_test['medical_abstract'].str.lower()"
   ]
  },
  {
   "cell_type": "code",
   "execution_count": 31,
   "id": "2baf8fc7",
   "metadata": {},
   "outputs": [
    {
     "name": "stdout",
     "output_type": "stream",
     "text": [
      "['tissue', 'changes', 'around', 'loose', 'prostheses', '.', 'a', 'canine', 'model', 'to', 'investigate', 'the', 'effects', 'of', 'an', 'antiinflammatory', 'agent', '.', 'the', 'aseptically', 'loosened', 'prosthesis', 'provided', 'a', 'means', 'for', 'investigating', 'the', 'in', 'vivo', 'and', 'in', 'vitro', 'activity', 'of', 'the', 'cells', 'associated', 'with', 'the', 'loosening', 'process', 'in', 'seven', 'dogs', '.', 'the', 'cells', 'were', 'isolated', 'and', 'maintained', 'in', 'culture', 'for', 'sufficient', 'periods', 'of', 'time', 'so', 'that', 'their', 'biologic', 'activity', 'could', 'be', 'studied', 'as', 'well', 'as', 'the', 'effect', 'of', 'different', 'agents', 'added', 'to', 'the', 'cells', 'in', 'vivo', 'or', 'in', 'vitro', '.', 'the', 'biologic', 'response', 'as', 'determined', 'by', 'interleukin-1', 'and', 'prostaglandin', 'e2', 'activity', 'paralleled', 'the', 'roentgenographic', 'appearance', 'of', 'loosening', 'and', 'the', 'technetium', 'images', 'and', 'observations', 'made', 'at', 'the', 'time', 'of', 'revision', 'surgery', '.', 'the', 'correlation', 'between', 'clinical', ',', 'roentgenographic', ',', 'histologic', ',', 'and', 'biochemical', 'loosening', 'indicates', 'that', 'the', 'canine', 'model', 'is', 'suitable', 'for', 'investigating', 'the', 'mechanisms', 'of', 'prosthetic', 'failure', '.', 'a', 'canine', 'model', 'permits', 'the', 'study', 'of', 'possible', 'nonsurgical', 'therapeutic', 'interventions', 'with', 'the', 'ultimate', 'hope', 'of', 'stopping', 'or', 'slowing', 'the', 'loosening', 'process', '.']\n"
     ]
    }
   ],
   "source": [
    "doc_sample = df_train['medical_abstract'][0]\n",
    "doc_sample_tok = nltk.word_tokenize(doc_sample)\n",
    "print(doc_sample_tok)"
   ]
  },
  {
   "cell_type": "code",
   "execution_count": 39,
   "id": "1110b921",
   "metadata": {},
   "outputs": [
    {
     "name": "stdout",
     "output_type": "stream",
     "text": [
      "['tissue', 'changes', 'around', 'loose', 'prostheses', 'canine', 'model', 'investigate', 'effects', 'antiinflammatory', 'agent', 'aseptically', 'loosened', 'prosthesis', 'provided', 'means', 'investigating', 'vivo', 'vitro', 'activity', 'cells', 'associated', 'loosening', 'process', 'seven', 'dogs', 'cells', 'isolated', 'maintained', 'culture', 'sufficient', 'periods', 'time', 'biologic', 'activity', 'could', 'studied', 'well', 'effect', 'different', 'agents', 'added', 'cells', 'vivo', 'vitro', 'biologic', 'response', 'determined', 'interleukin-1', 'prostaglandin', 'e2', 'activity', 'paralleled', 'roentgenographic', 'appearance', 'loosening', 'technetium', 'images', 'observations', 'made', 'time', 'revision', 'surgery', 'correlation', 'clinical', 'roentgenographic', 'histologic', 'biochemical', 'loosening', 'indicates', 'canine', 'model', 'suitable', 'investigating', 'mechanisms', 'prosthetic', 'failure', 'canine', 'model', 'permits', 'study', 'possible', 'nonsurgical', 'therapeutic', 'interventions', 'ultimate', 'hope', 'stopping', 'slowing', 'loosening', 'process']\n"
     ]
    }
   ],
   "source": [
    "doc_sample_proc = [tok for tok in doc_sample_proc if len(tok) > 1]\n",
    "print(doc_sample_proc)"
   ]
  },
  {
   "cell_type": "code",
   "execution_count": 35,
   "id": "66cb850b",
   "metadata": {},
   "outputs": [],
   "source": [
    "en_stop = set(nltk.corpus.stopwords.words('english'))"
   ]
  },
  {
   "cell_type": "code",
   "execution_count": 40,
   "id": "d19d8101",
   "metadata": {},
   "outputs": [
    {
     "name": "stdout",
     "output_type": "stream",
     "text": [
      "['tissue', 'changes', 'around', 'loose', 'prostheses', 'canine', 'model', 'investigate', 'effects', 'antiinflammatory', 'agent', 'aseptically', 'loosened', 'prosthesis', 'provided', 'means', 'investigating', 'vivo', 'vitro', 'activity', 'cells', 'associated', 'loosening', 'process', 'seven', 'dogs', 'cells', 'isolated', 'maintained', 'culture', 'sufficient', 'periods', 'time', 'biologic', 'activity', 'could', 'studied', 'well', 'effect', 'different', 'agents', 'added', 'cells', 'vivo', 'vitro', 'biologic', 'response', 'determined', 'interleukin-1', 'prostaglandin', 'e2', 'activity', 'paralleled', 'roentgenographic', 'appearance', 'loosening', 'technetium', 'images', 'observations', 'made', 'time', 'revision', 'surgery', 'correlation', 'clinical', 'roentgenographic', 'histologic', 'biochemical', 'loosening', 'indicates', 'canine', 'model', 'suitable', 'investigating', 'mechanisms', 'prosthetic', 'failure', 'canine', 'model', 'permits', 'study', 'possible', 'nonsurgical', 'therapeutic', 'interventions', 'ultimate', 'hope', 'stopping', 'slowing', 'loosening', 'process']\n"
     ]
    }
   ],
   "source": [
    "doc_sample_proc = [tok for tok in doc_sample_proc if tok not in en_stop]\n",
    "print(doc_sample_proc)"
   ]
  },
  {
   "cell_type": "code",
   "execution_count": 41,
   "id": "e334ad57",
   "metadata": {},
   "outputs": [
    {
     "name": "stdout",
     "output_type": "stream",
     "text": [
      "['tissue', 'change', 'around', 'loose', 'prosthesis', 'canine', 'model', 'investigate', 'effect', 'antiinflammatory', 'agent', 'aseptically', 'loosened', 'prosthesis', 'provided', 'mean', 'investigating', 'vivo', 'vitro', 'activity', 'cell', 'associated', 'loosening', 'process', 'seven', 'dog', 'cell', 'isolated', 'maintained', 'culture', 'sufficient', 'period', 'time', 'biologic', 'activity', 'could', 'studied', 'well', 'effect', 'different', 'agent', 'added', 'cell', 'vivo', 'vitro', 'biologic', 'response', 'determined', 'interleukin-1', 'prostaglandin', 'e2', 'activity', 'paralleled', 'roentgenographic', 'appearance', 'loosening', 'technetium', 'image', 'observation', 'made', 'time', 'revision', 'surgery', 'correlation', 'clinical', 'roentgenographic', 'histologic', 'biochemical', 'loosening', 'indicates', 'canine', 'model', 'suitable', 'investigating', 'mechanism', 'prosthetic', 'failure', 'canine', 'model', 'permit', 'study', 'possible', 'nonsurgical', 'therapeutic', 'intervention', 'ultimate', 'hope', 'stopping', 'slowing', 'loosening', 'process']\n"
     ]
    }
   ],
   "source": [
    "lemmatizer = WordNetLemmatizer()\n",
    "doc_sample_lem = [lemmatizer.lemmatize(tok) for tok in doc_sample_proc]\n",
    "print(doc_sample_lem)"
   ]
  },
  {
   "cell_type": "code",
   "execution_count": null,
   "id": "b410e7d7",
   "metadata": {},
   "outputs": [],
   "source": [
    "Could still remove capitals"
   ]
  }
 ],
 "metadata": {
  "kernelspec": {
   "display_name": "Python 3 (ipykernel)",
   "language": "python",
   "name": "python3"
  },
  "language_info": {
   "codemirror_mode": {
    "name": "ipython",
    "version": 3
   },
   "file_extension": ".py",
   "mimetype": "text/x-python",
   "name": "python",
   "nbconvert_exporter": "python",
   "pygments_lexer": "ipython3",
   "version": "3.9.12"
  }
 },
 "nbformat": 4,
 "nbformat_minor": 5
}
